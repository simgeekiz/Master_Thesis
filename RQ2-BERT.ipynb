{
 "cells": [
  {
   "cell_type": "code",
   "execution_count": 1,
   "metadata": {},
   "outputs": [],
   "source": [
    "%load_ext autoreload\n",
    "%autoreload 2"
   ]
  },
  {
   "cell_type": "code",
   "execution_count": 2,
   "metadata": {},
   "outputs": [],
   "source": [
    "import os\n",
    "import numpy as np"
   ]
  },
  {
   "cell_type": "code",
   "execution_count": 3,
   "metadata": {},
   "outputs": [],
   "source": [
    "import tensorflow as tf\n",
    "import tensorflow_hub as hub"
   ]
  },
  {
   "cell_type": "code",
   "execution_count": 4,
   "metadata": {},
   "outputs": [],
   "source": [
    "from tensorflow.keras.models import Model, load_model\n",
    "from tensorflow.keras.layers import Input, Dense, Lambda, Activation, Conv1D, \\\n",
    "                                    MaxPooling1D, Flatten, Reshape, Bidirectional, \\\n",
    "                                    BatchNormalization, Dropout, add, LSTM, \\\n",
    "                                    TimeDistributed\n",
    "from tensorflow.keras.optimizers import RMSprop, Adam, Adamax, SGD\n",
    "from tensorflow.keras.regularizers import l2"
   ]
  },
  {
   "cell_type": "code",
   "execution_count": 5,
   "metadata": {},
   "outputs": [],
   "source": [
    "from src.keras_bert import convert_single_example, \\\n",
    "                           create_tokenizer_from_hub_module, \\\n",
    "                           InputExample, \\\n",
    "                           initialize_vars, \\\n",
    "                           BertLayer"
   ]
  },
  {
   "cell_type": "code",
   "execution_count": 6,
   "metadata": {},
   "outputs": [],
   "source": [
    "from sklearn.metrics import classification_report\n",
    "from sklearn.metrics import f1_score as scikit_f1_score"
   ]
  },
  {
   "cell_type": "code",
   "execution_count": 7,
   "metadata": {},
   "outputs": [],
   "source": [
    "# Initialize session\n",
    "sess = tf.compat.v1.Session()"
   ]
  },
  {
   "cell_type": "code",
   "execution_count": 8,
   "metadata": {},
   "outputs": [
    {
     "name": "stdout",
     "output_type": "stream",
     "text": [
      "GPU enabled\n"
     ]
    }
   ],
   "source": [
    "with tf.device(\"gpu:0\"):\n",
    "    print(\"GPU enabled\")"
   ]
  },
  {
   "cell_type": "markdown",
   "metadata": {},
   "source": [
    "#### Custom Functions"
   ]
  },
  {
   "cell_type": "code",
   "execution_count": 9,
   "metadata": {},
   "outputs": [
    {
     "name": "stderr",
     "output_type": "stream",
     "text": [
      "Using TensorFlow backend.\n"
     ]
    }
   ],
   "source": [
    "from src.callbacks import PlotCurvesTF as PlotCurves\n",
    "from src.eval_metrics_seq import f1_macro, f1_micro \n",
    "from src.load_data import load_data"
   ]
  },
  {
   "cell_type": "markdown",
   "metadata": {},
   "source": [
    "### Load Data"
   ]
  },
  {
   "cell_type": "code",
   "execution_count": 10,
   "metadata": {},
   "outputs": [],
   "source": [
    "train_data, valid_data, test_data, metadata = load_data()"
   ]
  },
  {
   "cell_type": "markdown",
   "metadata": {},
   "source": [
    "### Load BERT"
   ]
  },
  {
   "cell_type": "code",
   "execution_count": 11,
   "metadata": {},
   "outputs": [],
   "source": [
    "BERT_PATH = \"https://tfhub.dev/google/bert_uncased_L-12_H-768_A-12/1\""
   ]
  },
  {
   "cell_type": "code",
   "execution_count": 12,
   "metadata": {},
   "outputs": [],
   "source": [
    "bert = hub.Module(BERT_PATH, trainable=False)"
   ]
  },
  {
   "cell_type": "markdown",
   "metadata": {},
   "source": [
    "### Prepare data"
   ]
  },
  {
   "cell_type": "code",
   "execution_count": 13,
   "metadata": {},
   "outputs": [],
   "source": [
    "n_tags = 2\n",
    "batch_size = 2\n",
    "max_len = 60\n",
    "max_seq_length = 512\n",
    "if max_seq_length > 512:\n",
    "    print('!!!!!!! WARNING: BERT does not accept length > 512')\n",
    "    max_seq_length = 512"
   ]
  },
  {
   "cell_type": "code",
   "execution_count": 14,
   "metadata": {},
   "outputs": [],
   "source": [
    "def get_padding_sentence(max_seq_length, padding_text='ENDPAD'):\n",
    "    \n",
    "    tokenizer = create_tokenizer_from_hub_module(BERT_PATH)\n",
    "\n",
    "    example_sent = InputExample(guid=None, text_a=\" \".join(padding_text), text_b=None, label=0)\n",
    "\n",
    "    (input_ids, input_mask, segment_ids, label) = \\\n",
    "            convert_single_example(tokenizer, example_sent, max_seq_length=max_seq_length)\n",
    "    \n",
    "    return {\"input_ids\":input_ids, \"input_mask\":input_mask, \"segment_ids\":segment_ids}"
   ]
  },
  {
   "cell_type": "code",
   "execution_count": 15,
   "metadata": {},
   "outputs": [],
   "source": [
    "def get_input(data_, max_len, max_seq_length, padding_sent, limit=None):\n",
    "    \n",
    "    # limit data if not an even number when batch_size=2\n",
    "    if not limit:\n",
    "        limit = len(data_) if len(data_)%2 == 0 else len(data_)-1\n",
    "\n",
    "    data_ = data_[:limit]\n",
    "    \n",
    "    tokenizer = create_tokenizer_from_hub_module(BERT_PATH)\n",
    "\n",
    "    X = []\n",
    "    y = []\n",
    "    for article in data_:\n",
    "        input_ids_seq = []\n",
    "        input_mask_seq = []\n",
    "        segment_ids_seq = []\n",
    "        y_seq = []\n",
    "        for i in range(max_len):\n",
    "            if i < len(article['sentences']):\n",
    "                X_sent = \" \".join(article['sentences'][i]['sentence']\n",
    "                                  .replace('\\n', ' ').strip().split()[0:max_seq_length])\n",
    "                \n",
    "                y_sent = article['sentences'][i]['label']\n",
    "                \n",
    "                example_sent = InputExample(guid=None, text_a=\" \".join(X_sent), text_b=None, label=y_sent)\n",
    "\n",
    "                (input_ids, input_mask, segment_ids, label) = \\\n",
    "                        convert_single_example(tokenizer, example_sent, max_seq_length=max_seq_length)\n",
    "\n",
    "            else:    \n",
    "                input_ids = padding_sent['input_ids']\n",
    "                input_mask = padding_sent['input_mask']\n",
    "                segment_ids = padding_sent['segment_ids']\n",
    "                label = 0\n",
    "\n",
    "            input_ids_seq.append(input_ids)\n",
    "            input_mask_seq.append(input_mask)\n",
    "            segment_ids_seq.append(segment_ids)\n",
    "            y_seq.append([label])\n",
    "        \n",
    "        X_seq = (np.array(input_ids_seq),\n",
    "                 np.array(input_mask_seq),\n",
    "                 np.array(segment_ids_seq))\n",
    "\n",
    "        X.append(X_seq)\n",
    "        y.append(y_seq)\n",
    "            \n",
    "    return np.array(X), np.array(y)"
   ]
  },
  {
   "cell_type": "code",
   "execution_count": null,
   "metadata": {},
   "outputs": [],
   "source": [
    "padding_sent = get_padding_sentence(max_seq_length, padding_text='ENDPAD')"
   ]
  },
  {
   "cell_type": "code",
   "execution_count": 17,
   "metadata": {},
   "outputs": [],
   "source": [
    "X_tra, y_tra = get_input(train_data, max_len, max_seq_length, padding_sent, limit=None)\n",
    "X_val, y_val = get_input(valid_data, max_len, max_seq_length, padding_sent, limit=None)"
   ]
  },
  {
   "cell_type": "code",
   "execution_count": 18,
   "metadata": {},
   "outputs": [
    {
     "data": {
      "text/plain": [
       "((250, 3, 60, 512), (32, 3, 60, 512))"
      ]
     },
     "execution_count": 18,
     "metadata": {},
     "output_type": "execute_result"
    }
   ],
   "source": [
    "X_tra.shape, X_val.shape#, X_test.shape"
   ]
  },
  {
   "cell_type": "code",
   "execution_count": 19,
   "metadata": {},
   "outputs": [
    {
     "data": {
      "text/plain": [
       "((250, 60, 1), (32, 60, 1))"
      ]
     },
     "execution_count": 19,
     "metadata": {},
     "output_type": "execute_result"
    }
   ],
   "source": [
    "y_tra.shape, y_val.shape#, y_test.shape"
   ]
  },
  {
   "cell_type": "code",
   "execution_count": 20,
   "metadata": {},
   "outputs": [
    {
     "data": {
      "text/plain": [
       "True"
      ]
     },
     "execution_count": 20,
     "metadata": {},
     "output_type": "execute_result"
    }
   ],
   "source": [
    "padding_sent['input_ids'] == list(X_tra[0][0][-1])"
   ]
  },
  {
   "cell_type": "markdown",
   "metadata": {},
   "source": [
    "## Build Model"
   ]
  },
  {
   "cell_type": "code",
   "execution_count": 33,
   "metadata": {},
   "outputs": [],
   "source": [
    "def BERTEmbeddingStack(x):\n",
    "    embeds = []\n",
    "    for art in tf.unstack(tf.reshape(x, (batch_size, 3, 60, 512))):\n",
    "        art = tf.cast(art, dtype=\"int32\")\n",
    "        bert_inputs = dict(\n",
    "            input_ids=art[0], \n",
    "            input_mask=art[1], \n",
    "            segment_ids=art[2]\n",
    "        )\n",
    "        embeds.append(bert(bert_inputs, signature=\"tokens\", as_dict=True)[\"pooled_output\"])\n",
    "    print(tf.stack(embeds, 0))\n",
    "    return tf.stack(embeds, 0)"
   ]
  },
  {
   "cell_type": "code",
   "execution_count": 34,
   "metadata": {},
   "outputs": [],
   "source": [
    "def build_model_2(max_len):\n",
    "    \n",
    "    input_text = Input(shape=(3, max_len, max_seq_length))\n",
    "    \n",
    "    bert_output = Lambda(BERTEmbeddingStack, output_shape=(None, None, max_len, 768))(input_text)\n",
    "    \n",
    "    x = Bidirectional(LSTM(units=256, return_sequences=True))(bert_output)\n",
    "    x = Dropout(0.2)(x)\n",
    "                      \n",
    "    pred = TimeDistributed(Dense(1, activation=\"sigmoid\"))(x)\n",
    "\n",
    "    return Model(inputs=[input_text], outputs=pred)"
   ]
  },
  {
   "cell_type": "code",
   "execution_count": 35,
   "metadata": {},
   "outputs": [],
   "source": [
    "learningrate = 2e-5\n",
    "optimizer = Adam(lr=learningrate)\n",
    "optimizer_str = 'adam'\n",
    "loss = 'binary_crossentropy'\n",
    "metrics = ['acc', f1_macro, f1_micro]"
   ]
  },
  {
   "cell_type": "code",
   "execution_count": 36,
   "metadata": {
    "scrolled": true
   },
   "outputs": [
    {
     "name": "stderr",
     "output_type": "stream",
     "text": [
      "WARNING: Logging before flag parsing goes to stderr.\n",
      "W1013 01:13:20.298929 140259289120896 deprecation.py:506] From /home/aorus/workspaces/simge/Master_Thesis/.env/lib/python3.6/site-packages/tensorflow/python/ops/init_ops.py:1251: calling VarianceScaling.__init__ (from tensorflow.python.ops.init_ops) with dtype is deprecated and will be removed in a future version.\n",
      "Instructions for updating:\n",
      "Call initializer instance with the dtype argument instead of passing it to the constructor\n",
      "W1013 01:13:20.301933 140259289120896 deprecation.py:506] From /home/aorus/workspaces/simge/Master_Thesis/.env/lib/python3.6/site-packages/tensorflow/python/ops/init_ops.py:97: calling GlorotUniform.__init__ (from tensorflow.python.ops.init_ops) with dtype is deprecated and will be removed in a future version.\n",
      "Instructions for updating:\n",
      "Call initializer instance with the dtype argument instead of passing it to the constructor\n",
      "W1013 01:13:20.302424 140259289120896 deprecation.py:506] From /home/aorus/workspaces/simge/Master_Thesis/.env/lib/python3.6/site-packages/tensorflow/python/ops/init_ops.py:97: calling Orthogonal.__init__ (from tensorflow.python.ops.init_ops) with dtype is deprecated and will be removed in a future version.\n",
      "Instructions for updating:\n",
      "Call initializer instance with the dtype argument instead of passing it to the constructor\n",
      "W1013 01:13:20.302878 140259289120896 deprecation.py:506] From /home/aorus/workspaces/simge/Master_Thesis/.env/lib/python3.6/site-packages/tensorflow/python/ops/init_ops.py:97: calling Zeros.__init__ (from tensorflow.python.ops.init_ops) with dtype is deprecated and will be removed in a future version.\n",
      "Instructions for updating:\n",
      "Call initializer instance with the dtype argument instead of passing it to the constructor\n"
     ]
    },
    {
     "name": "stdout",
     "output_type": "stream",
     "text": [
      "Tensor(\"lambda/stack:0\", shape=(2, 60, 768), dtype=float32)\n",
      "Model: \"model\"\n",
      "_________________________________________________________________\n",
      "Layer (type)                 Output Shape              Param #   \n",
      "=================================================================\n",
      "input_1 (InputLayer)         [(None, 3, 60, 512)]      0         \n",
      "_________________________________________________________________\n",
      "lambda (Lambda)              (2, 60, 768)              0         \n",
      "_________________________________________________________________\n",
      "bidirectional (Bidirectional (2, 60, 512)              2099200   \n",
      "_________________________________________________________________\n",
      "dropout (Dropout)            (2, 60, 512)              0         \n",
      "_________________________________________________________________\n",
      "time_distributed (TimeDistri (2, 60, 1)                513       \n",
      "=================================================================\n",
      "Total params: 2,099,713\n",
      "Trainable params: 2,099,713\n",
      "Non-trainable params: 0\n",
      "_________________________________________________________________\n"
     ]
    }
   ],
   "source": [
    "model = build_model_2(max_len)\n",
    "model.summary()\n",
    "\n",
    "model.compile(loss=loss, optimizer=optimizer, metrics=metrics)"
   ]
  },
  {
   "cell_type": "code",
   "execution_count": 37,
   "metadata": {},
   "outputs": [],
   "source": [
    "model_name = 'RQ2_test_bert_model_2' + \\\n",
    "             '_maxlen_' + str(max_len) + \\\n",
    "             '_' + optimizer_str + \\\n",
    "             '_lr_' + str(learningrate) + \\\n",
    "             '_lrreduction' + \\\n",
    "             '_loss_' + loss\n",
    "\n",
    "model_dir = './Model/' + model_name.split('model')[0] + 'model/' + model_name\n",
    "results_file = os.path.join(model_dir, 'model_results_file.txt')"
   ]
  },
  {
   "cell_type": "markdown",
   "metadata": {},
   "source": [
    "### Train Model"
   ]
  },
  {
   "cell_type": "code",
   "execution_count": 38,
   "metadata": {},
   "outputs": [],
   "source": [
    "# Instantiate variables\n",
    "initialize_vars(sess)"
   ]
  },
  {
   "cell_type": "code",
   "execution_count": 60,
   "metadata": {
    "scrolled": false
   },
   "outputs": [
    {
     "data": {
      "image/png": "[encoded data removed]",
      "text/plain": [
       "<Figure size 720x360 with 1 Axes>"
      ]
     },
     "metadata": {
      "needs_background": "light"
     },
     "output_type": "display_data"
    },
    {
     "name": "stdout",
     "output_type": "stream",
     "text": [
      "\b\b\b\b\b\b\b\b\b\b\b\b\b\b\b\b\b\b\b\b\b\b\b\b\b\b\b\b\b\b\b\b\b\b\b\b\b\b\b\b\b\b\b\b\b\b\b\b\b\b\b\b\b\b\b\b\b\b\b\b\b\b\b\b\b\b\b\b\b\b\b\b\b\b\b\b\b\b\b\b\b\b\b\b\b\b\b\b\b\b\b\b\b\b\b\b\b\b\b\b\b\b\b\b\b\b\b\b\b\b\b\b\b\b\b\b\b\r",
      "250/250 [==============================] - 398s 2s/sample - loss: 0.6434 - acc: 0.6717 - f1_macro: 0.0432 - f1_micro: 0.0106 - val_loss: 0.5695 - val_acc: 0.7734 - val_f1_macro: 0.0000e+00 - val_f1_micro: 0.0000e+00\n"
     ]
    },
    {
     "data": {
      "text/plain": [
       "<tensorflow.python.keras.callbacks.History at 0x7f8f00b952b0>"
      ]
     },
     "execution_count": 60,
     "metadata": {},
     "output_type": "execute_result"
    }
   ],
   "source": [
    "model.fit(X_tra, y_tra, \n",
    "          epochs=1,\n",
    "          batch_size=batch_size, \n",
    "          validation_data=(X_val, y_val),\n",
    "          callbacks=[\n",
    "            PlotCurves(model_name=model_name, model_dir=model_dir, jnote=False, plt_show=False)\n",
    "          ])"
   ]
  },
  {
   "cell_type": "markdown",
   "metadata": {},
   "source": [
    "### Load the best Model"
   ]
  },
  {
   "cell_type": "code",
   "execution_count": 34,
   "metadata": {},
   "outputs": [
    {
     "data": {
      "text/plain": [
       "'RQ2_elmo_model_10_maxlen_60_adam_lr_0.0001_lrreduction_loss_binary_crossentropy'"
      ]
     },
     "execution_count": 34,
     "metadata": {},
     "output_type": "execute_result"
    }
   ],
   "source": [
    "model_name"
   ]
  },
  {
   "cell_type": "raw",
   "metadata": {},
   "source": [
    "best_model = load_model(os.path.join(model_dir, model_name + '_best_f1_macro_model.h5'), \n",
    "                        custom_objects={'elmo':elmo, 'tf':tf, 'f1_macro':f1_macro, 'f1_micro':f1_micro})"
   ]
  },
  {
   "cell_type": "code",
   "execution_count": 64,
   "metadata": {},
   "outputs": [],
   "source": [
    "best_model = model"
   ]
  },
  {
   "cell_type": "markdown",
   "metadata": {},
   "source": [
    "### Evaluation"
   ]
  },
  {
   "cell_type": "code",
   "execution_count": 65,
   "metadata": {},
   "outputs": [],
   "source": [
    "def get_scores(model, data_, batch_size, max_len, max_seq_length, padding_sent,\n",
    "               results_file=None, print_out=False):\n",
    "    \n",
    "    def unpad(X, y_preds):\n",
    "        y_unpad = []\n",
    "        for ai, art in enumerate(X):\n",
    "            for si, sen_inp_ids in enumerate(art[0]):\n",
    "                if list(sen_inp_ids) != list(padding_sent['input_ids']):\n",
    "                    y_unpad.append(y_preds[ai][si])\n",
    "        return y_unpad\n",
    "    \n",
    "    X, y_true = get_input(data_, max_len, max_seq_length, padding_sent, limit=None)\n",
    "    y_true = unpad(X, y_true)\n",
    "    y_true = [y[0] for y in y_true]\n",
    "    \n",
    "    y_preds = model.predict(X, batch_size=batch_size)\n",
    "    y_preds = unpad(X, y_preds)\n",
    "    y_preds = [round(y[0]) for y in y_preds]\n",
    "    \n",
    "    clsrpt = classification_report(y_true, y_preds)\n",
    "    sfm = scikit_f1_score(y_true, y_preds, average='macro')\n",
    "    \n",
    "    if print_out:\n",
    "        print(clsrpt)\n",
    "        print('\\nScikit_F1_Macro:', sfm)\n",
    "\n",
    "    if results_file:\n",
    "        with open(results_file, 'a') as f:\n",
    "            f.write('\\n' + clsrpt + '\\n' + str(sfm) + '\\n\\n')\n",
    "            \n",
    "    return sfm"
   ]
  },
  {
   "cell_type": "markdown",
   "metadata": {},
   "source": [
    "#### Validation Set"
   ]
  },
  {
   "cell_type": "code",
   "execution_count": 66,
   "metadata": {},
   "outputs": [
    {
     "name": "stdout",
     "output_type": "stream",
     "text": [
      "              precision    recall  f1-score   support\n",
      "\n",
      "           0       0.67      1.00      0.81       269\n",
      "           1       0.00      0.00      0.00       130\n",
      "\n",
      "   micro avg       0.67      0.67      0.67       399\n",
      "   macro avg       0.34      0.50      0.40       399\n",
      "weighted avg       0.45      0.67      0.54       399\n",
      "\n",
      "\n",
      "Scikit_F1_Macro: 0.4026946107784431\n"
     ]
    },
    {
     "name": "stderr",
     "output_type": "stream",
     "text": [
      "/home/aorus/workspaces/simge/Master_Thesis/.env/lib/python3.6/site-packages/sklearn/metrics/classification.py:1143: UndefinedMetricWarning: Precision and F-score are ill-defined and being set to 0.0 in labels with no predicted samples.\n",
      "  'precision', 'predicted', average, warn_for)\n",
      "/home/aorus/workspaces/simge/Master_Thesis/.env/lib/python3.6/site-packages/sklearn/metrics/classification.py:1143: UndefinedMetricWarning: F-score is ill-defined and being set to 0.0 in labels with no predicted samples.\n",
      "  'precision', 'predicted', average, warn_for)\n"
     ]
    }
   ],
   "source": [
    "with open(results_file, 'w') as f:\n",
    "    f.write('\\n---------------- Validation ----------------\\n')\n",
    "val_f1 = get_scores(best_model, valid_data, batch_size, max_len, max_seq_length, padding_sent, \n",
    "                    results_file, print_out=True)"
   ]
  },
  {
   "cell_type": "markdown",
   "metadata": {},
   "source": [
    "#### Test Set"
   ]
  },
  {
   "cell_type": "code",
   "execution_count": 67,
   "metadata": {},
   "outputs": [
    {
     "name": "stdout",
     "output_type": "stream",
     "text": [
      "              precision    recall  f1-score   support\n",
      "\n",
      "           0       0.74      1.00      0.85       325\n",
      "           1       0.00      0.00      0.00       116\n",
      "\n",
      "   micro avg       0.74      0.74      0.74       441\n",
      "   macro avg       0.37      0.50      0.42       441\n",
      "weighted avg       0.54      0.74      0.63       441\n",
      "\n",
      "\n",
      "Scikit_F1_Macro: 0.42428198433420367\n"
     ]
    }
   ],
   "source": [
    "with open(results_file, 'a') as f:\n",
    "    f.write('\\n---------------- Test ----------------\\n')\n",
    "test_f1 = get_scores(best_model, test_data, batch_size, max_len, max_seq_length, padding_sent,\n",
    "                     results_file, print_out=True)"
   ]
  },
  {
   "cell_type": "code",
   "execution_count": null,
   "metadata": {},
   "outputs": [],
   "source": []
  }
 ],
 "metadata": {
  "kernelspec": {
   "display_name": "Python 3",
   "language": "python",
   "name": "python3"
  },
  "language_info": {
   "codemirror_mode": {
    "name": "ipython",
    "version": 3
   },
   "file_extension": ".py",
   "mimetype": "text/x-python",
   "name": "python",
   "nbconvert_exporter": "python",
   "pygments_lexer": "ipython3",
   "version": "3.6.8"
  }
 },
 "nbformat": 4,
 "nbformat_minor": 2
}
