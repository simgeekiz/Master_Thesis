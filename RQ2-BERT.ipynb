{
 "cells": [
  {
   "cell_type": "code",
   "execution_count": 1,
   "metadata": {},
   "outputs": [],
   "source": [
    "%load_ext autoreload\n",
    "%autoreload 2"
   ]
  },
  {
   "cell_type": "code",
   "execution_count": 2,
   "metadata": {},
   "outputs": [],
   "source": [
    "import os\n",
    "import numpy as np"
   ]
  },
  {
   "cell_type": "code",
   "execution_count": 3,
   "metadata": {},
   "outputs": [],
   "source": [
    "import tensorflow as tf\n",
    "import tensorflow_hub as hub"
   ]
  },
  {
   "cell_type": "code",
   "execution_count": 4,
   "metadata": {},
   "outputs": [],
   "source": [
    "from tensorflow.keras.models import Model, load_model\n",
    "from tensorflow.keras.layers import Input, Dense, Lambda, Activation, Conv1D, \\\n",
    "                                    MaxPooling1D, Flatten, Reshape, Bidirectional, \\\n",
    "                                    BatchNormalization, Dropout, add, LSTM, \\\n",
    "                                    TimeDistributed\n",
    "from tensorflow.keras.optimizers import RMSprop, Adam, Adamax, SGD\n",
    "from tensorflow.keras.regularizers import l2"
   ]
  },
  {
   "cell_type": "code",
   "execution_count": 5,
   "metadata": {},
   "outputs": [],
   "source": [
    "from src.keras_bert import convert_single_example, \\\n",
    "                           convert_text_to_examples, \\\n",
    "                           create_tokenizer_from_hub_module, \\\n",
    "                           convert_examples_to_features, \\\n",
    "                           InputExample, \\\n",
    "                           initialize_vars, \\\n",
    "                           BertLayer"
   ]
  },
  {
   "cell_type": "code",
   "execution_count": 6,
   "metadata": {},
   "outputs": [],
   "source": [
    "from sklearn.metrics import classification_report\n",
    "from sklearn.metrics import f1_score as scikit_f1_score"
   ]
  },
  {
   "cell_type": "code",
   "execution_count": 7,
   "metadata": {},
   "outputs": [],
   "source": [
    "# Initialize session\n",
    "sess = tf.compat.v1.Session()"
   ]
  },
  {
   "cell_type": "code",
   "execution_count": 8,
   "metadata": {},
   "outputs": [
    {
     "name": "stdout",
     "output_type": "stream",
     "text": [
      "GPU enabled\n"
     ]
    }
   ],
   "source": [
    "with tf.device(\"gpu:0\"):\n",
    "    print(\"GPU enabled\")"
   ]
  },
  {
   "cell_type": "markdown",
   "metadata": {},
   "source": [
    "#### Custom Functions"
   ]
  },
  {
   "cell_type": "code",
   "execution_count": 9,
   "metadata": {},
   "outputs": [
    {
     "name": "stderr",
     "output_type": "stream",
     "text": [
      "Using TensorFlow backend.\n"
     ]
    }
   ],
   "source": [
    "from src.callbacks import PlotCurvesTF as PlotCurves\n",
    "from src.eval_metrics_seq import f1_macro, f1_micro \n",
    "from src.load_data import load_data"
   ]
  },
  {
   "cell_type": "markdown",
   "metadata": {},
   "source": [
    "### Load Data"
   ]
  },
  {
   "cell_type": "code",
   "execution_count": 10,
   "metadata": {},
   "outputs": [],
   "source": [
    "train_data, valid_data, test_data, _ = load_data()\n",
    "train_data = [art for art in train_data if len(art['sentences']) > 1]"
   ]
  },
  {
   "cell_type": "markdown",
   "metadata": {},
   "source": [
    "### Load BERT"
   ]
  },
  {
   "cell_type": "code",
   "execution_count": 11,
   "metadata": {},
   "outputs": [],
   "source": [
    "os.environ[\"TFHUB_CACHE_DIR\"] = '/tmp/tfhub'"
   ]
  },
  {
   "cell_type": "code",
   "execution_count": 12,
   "metadata": {},
   "outputs": [],
   "source": [
    "bert_path = \"https://tfhub.dev/google/bert_uncased_L-12_H-768_A-12/1\""
   ]
  },
  {
   "cell_type": "code",
   "execution_count": 13,
   "metadata": {},
   "outputs": [],
   "source": [
    "bert = hub.Module(bert_path, trainable=True)"
   ]
  },
  {
   "cell_type": "markdown",
   "metadata": {},
   "source": [
    "### Prepare data"
   ]
  },
  {
   "cell_type": "code",
   "execution_count": 14,
   "metadata": {},
   "outputs": [],
   "source": [
    "batch_size = 2\n",
    "max_len = 58\n",
    "max_seq_length = 512\n",
    "if max_seq_length > 512:\n",
    "    print('!!!!!!! WARNING: BERT does not accept length > 512')\n",
    "    max_seq_length = 512"
   ]
  },
  {
   "cell_type": "code",
   "execution_count": 15,
   "metadata": {},
   "outputs": [],
   "source": [
    "def get_padding_sentence(max_seq_length, tokenizer, padding_text='ENDPAD'):\n",
    "\n",
    "    example_sent = InputExample(guid=None, text_a=\" \".join(padding_text), text_b=None, label=0)\n",
    "\n",
    "    (input_ids, input_mask, segment_ids, label) = \\\n",
    "        convert_single_example(tokenizer, example_sent, max_seq_length=max_seq_length)\n",
    "\n",
    "    return {\"input_ids\": input_ids, \"input_mask\": input_mask, \"segment_ids\": segment_ids, \"label\": 0}"
   ]
  },
  {
   "cell_type": "code",
   "execution_count": 16,
   "metadata": {},
   "outputs": [],
   "source": [
    "def get_input(data_, max_len, max_seq_length):\n",
    "\n",
    "    tokenizer = create_tokenizer_from_hub_module(bert_path)\n",
    "\n",
    "    padding_sent = get_padding_sentence(max_seq_length, tokenizer)\n",
    "\n",
    "    X = []\n",
    "    y = []\n",
    "    for article in data_:\n",
    "\n",
    "        input_ids_seq = []\n",
    "        input_mask_seq = []\n",
    "        segment_ids_seq = []\n",
    "        y_seq = []\n",
    "\n",
    "        X_art = np.array([[\" \".join(sentence['sentence'].replace('\\n', ' ').strip().split()[0:max_seq_length])]\n",
    "                          for sentence in article['sentences']], dtype=object)\n",
    "\n",
    "        y_art = [sentence['label'] for sentence in article['sentences']]\n",
    "\n",
    "        examples_ = convert_text_to_examples(X_art, y_art)\n",
    "\n",
    "        (input_ids, input_masks, segment_ids, labels_) = \\\n",
    "            convert_examples_to_features(tokenizer, examples_, max_seq_length=max_seq_length)\n",
    "\n",
    "        for i in range(max_len):\n",
    "\n",
    "            if i < len(article['sentences']):\n",
    "                input_ids_seq.append(input_ids[i])\n",
    "                input_mask_seq.append(input_masks[i])\n",
    "                segment_ids_seq.append(segment_ids[i])\n",
    "                y_seq.append(labels_[i])\n",
    "\n",
    "            else:\n",
    "                input_ids_seq.append(padding_sent['input_ids'])\n",
    "                input_mask_seq.append(padding_sent['input_mask'])\n",
    "                segment_ids_seq.append(padding_sent['segment_ids'])\n",
    "                y_seq.append([0])\n",
    "\n",
    "        X_seq = (np.array(input_ids_seq),\n",
    "                 np.array(input_mask_seq),\n",
    "                 np.array(segment_ids_seq))\n",
    "\n",
    "        X.append(X_seq)\n",
    "        y.append(y_seq)\n",
    "\n",
    "    return np.array(X), np.array(y), padding_sent"
   ]
  },
  {
   "cell_type": "code",
   "execution_count": 17,
   "metadata": {},
   "outputs": [
    {
     "name": "stderr",
     "output_type": "stream",
     "text": [
      "Converting examples to features: 100%|██████████| 10/10 [00:00<00:00, 2092.97it/s]\n",
      "Converting examples to features: 100%|██████████| 16/16 [00:00<00:00, 2149.20it/s]\n",
      "Converting examples to features: 100%|██████████| 14/14 [00:00<00:00, 2171.61it/s]\n",
      "Converting examples to features: 100%|██████████| 13/13 [00:00<00:00, 2083.77it/s]\n",
      "Converting examples to features: 100%|██████████| 33/33 [00:00<00:00, 2628.71it/s]\n",
      "Converting examples to features: 100%|██████████| 11/11 [00:00<00:00, 1235.60it/s]\n",
      "Converting examples to features: 100%|██████████| 5/5 [00:00<00:00, 2976.37it/s]\n",
      "Converting examples to features: 100%|██████████| 12/12 [00:00<00:00, 612.33it/s]\n",
      "Converting examples to features: 100%|██████████| 17/17 [00:00<00:00, 1789.96it/s]\n",
      "Converting examples to features: 100%|██████████| 5/5 [00:00<00:00, 2395.10it/s]\n",
      "Converting examples to features: 100%|██████████| 22/22 [00:00<00:00, 1882.04it/s]\n",
      "Converting examples to features: 100%|██████████| 18/18 [00:00<00:00, 1863.17it/s]\n",
      "Converting examples to features: 100%|██████████| 11/11 [00:00<00:00, 1306.53it/s]\n",
      "Converting examples to features: 100%|██████████| 13/13 [00:00<00:00, 2650.36it/s]\n",
      "Converting examples to features: 100%|██████████| 26/26 [00:00<00:00, 2427.91it/s]\n",
      "Converting examples to features: 100%|██████████| 7/7 [00:00<00:00, 1739.04it/s]\n",
      "Converting examples to features: 100%|██████████| 17/17 [00:00<00:00, 2408.89it/s]\n",
      "Converting examples to features: 100%|██████████| 13/13 [00:00<00:00, 2652.56it/s]\n",
      "Converting examples to features: 100%|██████████| 14/14 [00:00<00:00, 2537.50it/s]\n",
      "Converting examples to features: 100%|██████████| 16/16 [00:00<00:00, 2394.27it/s]\n",
      "Converting examples to features: 100%|██████████| 16/16 [00:00<00:00, 2613.17it/s]\n",
      "Converting examples to features: 100%|██████████| 8/8 [00:00<00:00, 2098.59it/s]\n",
      "Converting examples to features: 100%|██████████| 28/28 [00:00<00:00, 2450.76it/s]\n",
      "Converting examples to features: 100%|██████████| 14/14 [00:00<00:00, 2151.95it/s]\n",
      "Converting examples to features: 100%|██████████| 17/17 [00:00<00:00, 2046.35it/s]\n",
      "Converting examples to features: 100%|██████████| 14/14 [00:00<00:00, 2445.45it/s]\n",
      "Converting examples to features: 100%|██████████| 8/8 [00:00<00:00, 1842.94it/s]\n",
      "Converting examples to features: 100%|██████████| 14/14 [00:00<00:00, 2185.59it/s]\n",
      "Converting examples to features: 100%|██████████| 23/23 [00:00<00:00, 2907.53it/s]\n",
      "Converting examples to features: 100%|██████████| 9/9 [00:00<00:00, 1923.70it/s]\n",
      "Converting examples to features: 100%|██████████| 5/5 [00:00<00:00, 2369.93it/s]\n",
      "Converting examples to features: 100%|██████████| 7/7 [00:00<00:00, 1913.96it/s]\n",
      "Converting examples to features: 100%|██████████| 9/9 [00:00<00:00, 2071.26it/s]\n",
      "Converting examples to features: 100%|██████████| 18/18 [00:00<00:00, 2405.99it/s]\n",
      "Converting examples to features: 100%|██████████| 14/14 [00:00<00:00, 2836.45it/s]\n",
      "Converting examples to features: 100%|██████████| 5/5 [00:00<00:00, 2494.23it/s]\n",
      "Converting examples to features: 100%|██████████| 18/18 [00:00<00:00, 2651.27it/s]\n",
      "Converting examples to features: 100%|██████████| 21/21 [00:00<00:00, 2276.10it/s]\n",
      "Converting examples to features: 100%|██████████| 6/6 [00:00<00:00, 2479.39it/s]\n",
      "Converting examples to features: 100%|██████████| 9/9 [00:00<00:00, 2101.59it/s]\n",
      "Converting examples to features: 100%|██████████| 13/13 [00:00<00:00, 1921.42it/s]\n",
      "Converting examples to features: 100%|██████████| 21/21 [00:00<00:00, 2476.53it/s]\n",
      "Converting examples to features: 100%|██████████| 7/7 [00:00<00:00, 2607.93it/s]\n",
      "Converting examples to features: 100%|██████████| 13/13 [00:00<00:00, 2285.15it/s]\n",
      "Converting examples to features: 100%|██████████| 13/13 [00:00<00:00, 2227.64it/s]\n",
      "Converting examples to features: 100%|██████████| 10/10 [00:00<00:00, 2750.90it/s]\n",
      "Converting examples to features: 100%|██████████| 3/3 [00:00<00:00, 1277.58it/s]\n",
      "Converting examples to features: 100%|██████████| 8/8 [00:00<00:00, 2894.87it/s]\n",
      "Converting examples to features: 100%|██████████| 44/44 [00:00<00:00, 2545.33it/s]\n",
      "Converting examples to features: 100%|██████████| 7/7 [00:00<00:00, 2802.88it/s]\n",
      "Converting examples to features: 100%|██████████| 5/5 [00:00<00:00, 2000.34it/s]\n",
      "Converting examples to features: 100%|██████████| 10/10 [00:00<00:00, 1678.46it/s]\n",
      "Converting examples to features: 100%|██████████| 48/48 [00:00<00:00, 2630.48it/s]\n",
      "Converting examples to features: 100%|██████████| 6/6 [00:00<00:00, 2024.44it/s]\n",
      "Converting examples to features: 100%|██████████| 4/4 [00:00<00:00, 1259.08it/s]\n",
      "Converting examples to features: 100%|██████████| 12/12 [00:00<00:00, 2879.38it/s]\n",
      "Converting examples to features: 100%|██████████| 6/6 [00:00<00:00, 2317.94it/s]\n",
      "Converting examples to features: 100%|██████████| 7/7 [00:00<00:00, 2584.75it/s]\n",
      "Converting examples to features: 100%|██████████| 13/13 [00:00<00:00, 2271.73it/s]\n",
      "Converting examples to features: 100%|██████████| 29/29 [00:00<00:00, 3159.92it/s]\n",
      "Converting examples to features: 100%|██████████| 11/11 [00:00<00:00, 2063.85it/s]\n",
      "Converting examples to features: 100%|██████████| 7/7 [00:00<00:00, 2354.27it/s]\n",
      "Converting examples to features: 100%|██████████| 16/16 [00:00<00:00, 1875.86it/s]\n",
      "Converting examples to features: 100%|██████████| 45/45 [00:00<00:00, 2874.12it/s]\n",
      "Converting examples to features: 100%|██████████| 6/6 [00:00<00:00, 1871.48it/s]\n",
      "Converting examples to features: 100%|██████████| 8/8 [00:00<00:00, 2162.71it/s]\n",
      "Converting examples to features: 100%|██████████| 18/18 [00:00<00:00, 2186.37it/s]\n",
      "Converting examples to features: 100%|██████████| 24/24 [00:00<00:00, 2466.81it/s]\n",
      "Converting examples to features: 100%|██████████| 14/14 [00:00<00:00, 2319.22it/s]\n",
      "Converting examples to features: 100%|██████████| 6/6 [00:00<00:00, 1674.93it/s]\n",
      "Converting examples to features: 100%|██████████| 11/11 [00:00<00:00, 2357.55it/s]\n",
      "Converting examples to features: 100%|██████████| 16/16 [00:00<00:00, 2376.46it/s]\n",
      "Converting examples to features: 100%|██████████| 12/12 [00:00<00:00, 1983.36it/s]\n",
      "Converting examples to features: 100%|██████████| 7/7 [00:00<00:00, 2698.54it/s]\n",
      "Converting examples to features: 100%|██████████| 22/22 [00:00<00:00, 2488.33it/s]\n",
      "Converting examples to features: 100%|██████████| 17/17 [00:00<00:00, 2225.72it/s]\n",
      "Converting examples to features: 100%|██████████| 10/10 [00:00<00:00, 2570.83it/s]\n",
      "Converting examples to features: 100%|██████████| 36/36 [00:00<00:00, 2309.04it/s]\n",
      "Converting examples to features: 100%|██████████| 13/13 [00:00<00:00, 2525.40it/s]\n",
      "Converting examples to features: 100%|██████████| 8/8 [00:00<00:00, 2780.22it/s]\n",
      "Converting examples to features: 100%|██████████| 42/42 [00:00<00:00, 2905.17it/s]\n",
      "Converting examples to features: 100%|██████████| 20/20 [00:00<00:00, 2619.80it/s]\n",
      "Converting examples to features: 100%|██████████| 8/8 [00:00<00:00, 2536.62it/s]\n",
      "Converting examples to features: 100%|██████████| 5/5 [00:00<00:00, 2089.00it/s]\n",
      "Converting examples to features: 100%|██████████| 14/14 [00:00<00:00, 2972.73it/s]\n",
      "Converting examples to features: 100%|██████████| 19/19 [00:00<00:00, 2443.78it/s]\n",
      "Converting examples to features: 100%|██████████| 19/19 [00:00<00:00, 1683.00it/s]\n",
      "Converting examples to features: 100%|██████████| 8/8 [00:00<00:00, 2642.71it/s]\n",
      "Converting examples to features: 100%|██████████| 13/13 [00:00<00:00, 2078.60it/s]\n",
      "Converting examples to features: 100%|██████████| 15/15 [00:00<00:00, 2020.38it/s]\n",
      "Converting examples to features: 100%|██████████| 17/17 [00:00<00:00, 2552.19it/s]\n",
      "Converting examples to features: 100%|██████████| 33/33 [00:00<00:00, 3317.88it/s]\n",
      "Converting examples to features: 100%|██████████| 6/6 [00:00<00:00, 2211.41it/s]\n",
      "Converting examples to features: 100%|██████████| 11/11 [00:00<00:00, 2449.81it/s]\n",
      "Converting examples to features: 100%|██████████| 17/17 [00:00<00:00, 2640.76it/s]\n",
      "Converting examples to features: 100%|██████████| 7/7 [00:00<00:00, 1886.53it/s]\n",
      "Converting examples to features: 100%|██████████| 8/8 [00:00<00:00, 2586.28it/s]\n",
      "Converting examples to features: 100%|██████████| 12/12 [00:00<00:00, 3533.29it/s]\n",
      "Converting examples to features: 100%|██████████| 15/15 [00:00<00:00, 2519.71it/s]\n"
     ]
    },
    {
     "name": "stderr",
     "output_type": "stream",
     "text": [
      "Converting examples to features: 100%|██████████| 14/14 [00:00<00:00, 2550.84it/s]\n",
      "Converting examples to features: 100%|██████████| 9/9 [00:00<00:00, 2109.22it/s]\n",
      "Converting examples to features: 100%|██████████| 11/11 [00:00<00:00, 2696.83it/s]\n",
      "Converting examples to features: 100%|██████████| 14/14 [00:00<00:00, 2457.02it/s]\n",
      "Converting examples to features: 100%|██████████| 8/8 [00:00<00:00, 2416.77it/s]\n",
      "Converting examples to features: 100%|██████████| 20/20 [00:00<00:00, 2540.08it/s]\n",
      "Converting examples to features: 100%|██████████| 14/14 [00:00<00:00, 2729.40it/s]\n",
      "Converting examples to features: 100%|██████████| 6/6 [00:00<00:00, 2216.28it/s]\n",
      "Converting examples to features: 100%|██████████| 7/7 [00:00<00:00, 2109.20it/s]\n",
      "Converting examples to features: 100%|██████████| 53/53 [00:00<00:00, 2891.57it/s]\n",
      "Converting examples to features: 100%|██████████| 11/11 [00:00<00:00, 2211.02it/s]\n",
      "Converting examples to features: 100%|██████████| 15/15 [00:00<00:00, 2111.23it/s]\n",
      "Converting examples to features: 100%|██████████| 27/27 [00:00<00:00, 2687.25it/s]\n",
      "Converting examples to features: 100%|██████████| 25/25 [00:00<00:00, 2039.40it/s]\n",
      "Converting examples to features: 100%|██████████| 11/11 [00:00<00:00, 2212.93it/s]\n",
      "Converting examples to features: 100%|██████████| 38/38 [00:00<00:00, 3152.61it/s]\n",
      "Converting examples to features: 100%|██████████| 58/58 [00:00<00:00, 2500.64it/s]\n",
      "Converting examples to features: 100%|██████████| 14/14 [00:00<00:00, 2427.66it/s]\n",
      "Converting examples to features: 100%|██████████| 4/4 [00:00<00:00, 2327.26it/s]\n",
      "Converting examples to features: 100%|██████████| 9/9 [00:00<00:00, 2427.57it/s]\n",
      "Converting examples to features: 100%|██████████| 11/11 [00:00<00:00, 2599.73it/s]\n",
      "Converting examples to features: 100%|██████████| 9/9 [00:00<00:00, 3245.53it/s]\n",
      "Converting examples to features: 100%|██████████| 6/6 [00:00<00:00, 2104.34it/s]\n",
      "Converting examples to features: 100%|██████████| 22/22 [00:00<00:00, 2544.88it/s]\n",
      "Converting examples to features: 100%|██████████| 3/3 [00:00<00:00, 1620.47it/s]\n",
      "Converting examples to features: 100%|██████████| 18/18 [00:00<00:00, 2564.89it/s]\n",
      "Converting examples to features: 100%|██████████| 7/7 [00:00<00:00, 1695.16it/s]\n",
      "Converting examples to features: 100%|██████████| 14/14 [00:00<00:00, 2382.55it/s]\n",
      "Converting examples to features: 100%|██████████| 15/15 [00:00<00:00, 2692.80it/s]\n",
      "Converting examples to features: 100%|██████████| 16/16 [00:00<00:00, 2657.88it/s]\n",
      "Converting examples to features: 100%|██████████| 6/6 [00:00<00:00, 2277.66it/s]\n",
      "Converting examples to features: 100%|██████████| 4/4 [00:00<00:00, 1935.98it/s]\n",
      "Converting examples to features: 100%|██████████| 8/8 [00:00<00:00, 2283.70it/s]\n",
      "Converting examples to features: 100%|██████████| 6/6 [00:00<00:00, 2695.86it/s]\n",
      "Converting examples to features: 100%|██████████| 30/30 [00:00<00:00, 2703.68it/s]\n",
      "Converting examples to features: 100%|██████████| 11/11 [00:00<00:00, 2247.42it/s]\n",
      "Converting examples to features: 100%|██████████| 12/12 [00:00<00:00, 3268.50it/s]\n",
      "Converting examples to features: 100%|██████████| 12/12 [00:00<00:00, 2412.48it/s]\n",
      "Converting examples to features: 100%|██████████| 5/5 [00:00<00:00, 2320.12it/s]\n",
      "Converting examples to features: 100%|██████████| 15/15 [00:00<00:00, 2140.68it/s]\n",
      "Converting examples to features: 100%|██████████| 14/14 [00:00<00:00, 2248.01it/s]\n",
      "Converting examples to features: 100%|██████████| 56/56 [00:00<00:00, 2753.20it/s]\n",
      "Converting examples to features: 100%|██████████| 15/15 [00:00<00:00, 2745.08it/s]\n",
      "Converting examples to features: 100%|██████████| 21/21 [00:00<00:00, 2574.17it/s]\n",
      "Converting examples to features: 100%|██████████| 14/14 [00:00<00:00, 2624.25it/s]\n",
      "Converting examples to features: 100%|██████████| 8/8 [00:00<00:00, 2116.60it/s]\n",
      "Converting examples to features: 100%|██████████| 6/6 [00:00<00:00, 2358.34it/s]\n",
      "Converting examples to features: 100%|██████████| 19/19 [00:00<00:00, 2751.22it/s]\n",
      "Converting examples to features: 100%|██████████| 6/6 [00:00<00:00, 1593.58it/s]\n",
      "Converting examples to features: 100%|██████████| 12/12 [00:00<00:00, 2195.97it/s]\n",
      "Converting examples to features: 100%|██████████| 23/23 [00:00<00:00, 2704.56it/s]\n",
      "Converting examples to features: 100%|██████████| 11/11 [00:00<00:00, 1790.35it/s]\n",
      "Converting examples to features: 100%|██████████| 9/9 [00:00<00:00, 2051.56it/s]\n",
      "Converting examples to features: 100%|██████████| 13/13 [00:00<00:00, 2492.61it/s]\n",
      "Converting examples to features: 100%|██████████| 7/7 [00:00<00:00, 2047.14it/s]\n",
      "Converting examples to features: 100%|██████████| 12/12 [00:00<00:00, 2557.63it/s]\n",
      "Converting examples to features: 100%|██████████| 9/9 [00:00<00:00, 2751.37it/s]\n",
      "Converting examples to features: 100%|██████████| 16/16 [00:00<00:00, 2666.22it/s]\n",
      "Converting examples to features: 100%|██████████| 5/5 [00:00<00:00, 2030.35it/s]\n",
      "Converting examples to features: 100%|██████████| 6/6 [00:00<00:00, 2364.54it/s]\n",
      "Converting examples to features: 100%|██████████| 40/40 [00:00<00:00, 2634.65it/s]\n",
      "Converting examples to features: 100%|██████████| 13/13 [00:00<00:00, 2662.01it/s]\n",
      "Converting examples to features: 100%|██████████| 12/12 [00:00<00:00, 2881.20it/s]\n",
      "Converting examples to features: 100%|██████████| 14/14 [00:00<00:00, 1898.67it/s]\n",
      "Converting examples to features: 100%|██████████| 16/16 [00:00<00:00, 2171.18it/s]\n",
      "Converting examples to features: 100%|██████████| 22/22 [00:00<00:00, 2624.05it/s]\n",
      "Converting examples to features: 100%|██████████| 10/10 [00:00<00:00, 2204.63it/s]\n",
      "Converting examples to features: 100%|██████████| 9/9 [00:00<00:00, 2726.52it/s]\n",
      "Converting examples to features: 100%|██████████| 9/9 [00:00<00:00, 1798.59it/s]\n",
      "Converting examples to features: 100%|██████████| 14/14 [00:00<00:00, 2354.37it/s]\n",
      "Converting examples to features: 100%|██████████| 11/11 [00:00<00:00, 2437.26it/s]\n",
      "Converting examples to features: 100%|██████████| 11/11 [00:00<00:00, 2163.53it/s]\n",
      "Converting examples to features: 100%|██████████| 11/11 [00:00<00:00, 1800.69it/s]\n",
      "Converting examples to features: 100%|██████████| 6/6 [00:00<00:00, 2837.50it/s]\n",
      "Converting examples to features: 100%|██████████| 10/10 [00:00<00:00, 1883.98it/s]\n",
      "Converting examples to features: 100%|██████████| 24/24 [00:00<00:00, 2735.42it/s]\n",
      "Converting examples to features: 100%|██████████| 6/6 [00:00<00:00, 2114.24it/s]\n",
      "Converting examples to features: 100%|██████████| 27/27 [00:00<00:00, 2200.84it/s]\n",
      "Converting examples to features: 100%|██████████| 11/11 [00:00<00:00, 2342.47it/s]\n",
      "Converting examples to features: 100%|██████████| 4/4 [00:00<00:00, 1925.54it/s]\n",
      "Converting examples to features: 100%|██████████| 6/6 [00:00<00:00, 2572.14it/s]\n",
      "Converting examples to features: 100%|██████████| 12/12 [00:00<00:00, 3169.10it/s]\n",
      "Converting examples to features: 100%|██████████| 27/27 [00:00<00:00, 2939.86it/s]\n",
      "Converting examples to features: 100%|██████████| 12/12 [00:00<00:00, 2281.17it/s]\n",
      "Converting examples to features: 100%|██████████| 6/6 [00:00<00:00, 1818.47it/s]\n",
      "Converting examples to features: 100%|██████████| 16/16 [00:00<00:00, 2615.51it/s]\n",
      "Converting examples to features: 100%|██████████| 17/17 [00:00<00:00, 2635.59it/s]\n",
      "Converting examples to features: 100%|██████████| 8/8 [00:00<00:00, 2732.00it/s]\n",
      "Converting examples to features: 100%|██████████| 4/4 [00:00<00:00, 1857.53it/s]\n",
      "Converting examples to features: 100%|██████████| 4/4 [00:00<00:00, 2239.05it/s]\n",
      "Converting examples to features: 100%|██████████| 20/20 [00:00<00:00, 2428.52it/s]\n",
      "Converting examples to features: 100%|██████████| 41/41 [00:00<00:00, 2750.45it/s]\n",
      "Converting examples to features: 100%|██████████| 20/20 [00:00<00:00, 2941.10it/s]\n",
      "Converting examples to features: 100%|██████████| 12/12 [00:00<00:00, 2418.05it/s]\n",
      "Converting examples to features: 100%|██████████| 18/18 [00:00<00:00, 2968.83it/s]\n",
      "Converting examples to features: 100%|██████████| 6/6 [00:00<00:00, 2614.90it/s]\n",
      "Converting examples to features: 100%|██████████| 13/13 [00:00<00:00, 2570.77it/s]\n",
      "Converting examples to features: 100%|██████████| 32/32 [00:00<00:00, 2241.82it/s]\n",
      "Converting examples to features: 100%|██████████| 3/3 [00:00<00:00, 2325.00it/s]\n"
     ]
    },
    {
     "name": "stderr",
     "output_type": "stream",
     "text": [
      "Converting examples to features: 100%|██████████| 8/8 [00:00<00:00, 2085.81it/s]\n",
      "Converting examples to features: 100%|██████████| 20/20 [00:00<00:00, 2365.59it/s]\n",
      "Converting examples to features: 100%|██████████| 19/19 [00:00<00:00, 2882.27it/s]\n",
      "Converting examples to features: 100%|██████████| 8/8 [00:00<00:00, 3026.74it/s]\n",
      "Converting examples to features: 100%|██████████| 14/14 [00:00<00:00, 2413.39it/s]\n",
      "Converting examples to features: 100%|██████████| 8/8 [00:00<00:00, 2373.18it/s]\n",
      "Converting examples to features: 100%|██████████| 8/8 [00:00<00:00, 1711.70it/s]\n",
      "Converting examples to features: 100%|██████████| 17/17 [00:00<00:00, 2409.79it/s]\n",
      "Converting examples to features: 100%|██████████| 12/12 [00:00<00:00, 2706.15it/s]\n",
      "Converting examples to features: 100%|██████████| 9/9 [00:00<00:00, 2538.75it/s]\n",
      "Converting examples to features: 100%|██████████| 5/5 [00:00<00:00, 2298.00it/s]\n",
      "Converting examples to features: 100%|██████████| 10/10 [00:00<00:00, 2052.61it/s]\n",
      "Converting examples to features: 100%|██████████| 12/12 [00:00<00:00, 3042.84it/s]\n",
      "Converting examples to features: 100%|██████████| 11/11 [00:00<00:00, 2127.03it/s]\n",
      "Converting examples to features: 100%|██████████| 6/6 [00:00<00:00, 1802.19it/s]\n",
      "Converting examples to features: 100%|██████████| 22/22 [00:00<00:00, 2955.72it/s]\n",
      "Converting examples to features: 100%|██████████| 13/13 [00:00<00:00, 2414.79it/s]\n",
      "Converting examples to features: 100%|██████████| 19/19 [00:00<00:00, 2313.26it/s]\n",
      "Converting examples to features: 100%|██████████| 20/20 [00:00<00:00, 2167.43it/s]\n",
      "Converting examples to features: 100%|██████████| 10/10 [00:00<00:00, 2477.00it/s]\n",
      "Converting examples to features: 100%|██████████| 16/16 [00:00<00:00, 3040.59it/s]\n",
      "Converting examples to features: 100%|██████████| 15/15 [00:00<00:00, 2495.82it/s]\n",
      "Converting examples to features: 100%|██████████| 27/27 [00:00<00:00, 2618.23it/s]\n",
      "Converting examples to features: 100%|██████████| 21/21 [00:00<00:00, 1373.57it/s]\n",
      "Converting examples to features: 100%|██████████| 15/15 [00:00<00:00, 1659.93it/s]\n",
      "Converting examples to features: 100%|██████████| 11/11 [00:00<00:00, 2948.07it/s]\n",
      "Converting examples to features: 100%|██████████| 6/6 [00:00<00:00, 1797.82it/s]\n",
      "Converting examples to features: 100%|██████████| 38/38 [00:00<00:00, 2547.37it/s]\n",
      "Converting examples to features: 100%|██████████| 7/7 [00:00<00:00, 2050.86it/s]\n",
      "Converting examples to features: 100%|██████████| 19/19 [00:00<00:00, 2389.77it/s]\n",
      "Converting examples to features: 100%|██████████| 13/13 [00:00<00:00, 2632.45it/s]\n",
      "Converting examples to features: 100%|██████████| 49/49 [00:00<00:00, 2903.94it/s]\n",
      "Converting examples to features: 100%|██████████| 2/2 [00:00<00:00, 1190.72it/s]\n",
      "Converting examples to features: 100%|██████████| 20/20 [00:00<00:00, 2415.03it/s]\n",
      "Converting examples to features: 100%|██████████| 13/13 [00:00<00:00, 1736.72it/s]\n",
      "Converting examples to features: 100%|██████████| 15/15 [00:00<00:00, 1945.83it/s]\n",
      "Converting examples to features: 100%|██████████| 15/15 [00:00<00:00, 2665.65it/s]\n",
      "Converting examples to features: 100%|██████████| 13/13 [00:00<00:00, 2762.21it/s]\n",
      "Converting examples to features: 100%|██████████| 9/9 [00:00<00:00, 1985.00it/s]\n",
      "Converting examples to features: 100%|██████████| 6/6 [00:00<00:00, 2756.99it/s]\n",
      "Converting examples to features: 100%|██████████| 12/12 [00:00<00:00, 1496.18it/s]\n",
      "Converting examples to features: 100%|██████████| 5/5 [00:00<00:00, 2580.47it/s]\n",
      "Converting examples to features: 100%|██████████| 12/12 [00:00<00:00, 2467.24it/s]\n",
      "Converting examples to features: 100%|██████████| 5/5 [00:00<00:00, 2220.85it/s]\n",
      "Converting examples to features: 100%|██████████| 10/10 [00:00<00:00, 2802.18it/s]\n",
      "Converting examples to features: 100%|██████████| 31/31 [00:00<00:00, 2613.17it/s]\n",
      "Converting examples to features: 100%|██████████| 8/8 [00:00<00:00, 1494.10it/s]\n",
      "Converting examples to features: 100%|██████████| 8/8 [00:00<00:00, 1048.94it/s]\n",
      "Converting examples to features: 100%|██████████| 7/7 [00:00<00:00, 1255.99it/s]\n",
      "Converting examples to features: 100%|██████████| 11/11 [00:00<00:00, 1355.43it/s]\n",
      "Converting examples to features: 100%|██████████| 6/6 [00:00<00:00, 2514.07it/s]\n",
      "Converting examples to features: 100%|██████████| 17/17 [00:00<00:00, 1694.87it/s]\n",
      "Converting examples to features: 100%|██████████| 4/4 [00:00<00:00, 1544.15it/s]\n",
      "Converting examples to features: 100%|██████████| 20/20 [00:00<00:00, 2107.48it/s]\n",
      "Converting examples to features: 100%|██████████| 5/5 [00:00<00:00, 2341.36it/s]\n",
      "Converting examples to features: 100%|██████████| 14/14 [00:00<00:00, 2121.09it/s]\n",
      "Converting examples to features: 100%|██████████| 16/16 [00:00<00:00, 2555.55it/s]\n",
      "Converting examples to features: 100%|██████████| 18/18 [00:00<00:00, 2883.23it/s]\n",
      "Converting examples to features: 100%|██████████| 8/8 [00:00<00:00, 2587.28it/s]\n",
      "Converting examples to features: 100%|██████████| 15/15 [00:00<00:00, 1838.53it/s]\n",
      "Converting examples to features: 100%|██████████| 9/9 [00:00<00:00, 1991.70it/s]\n",
      "Converting examples to features: 100%|██████████| 12/12 [00:00<00:00, 2351.73it/s]\n",
      "Converting examples to features: 100%|██████████| 12/12 [00:00<00:00, 2802.12it/s]\n",
      "Converting examples to features: 100%|██████████| 7/7 [00:00<00:00, 2769.04it/s]\n",
      "Converting examples to features: 100%|██████████| 10/10 [00:00<00:00, 2335.23it/s]\n",
      "Converting examples to features: 100%|██████████| 13/13 [00:00<00:00, 2178.42it/s]\n",
      "Converting examples to features: 100%|██████████| 16/16 [00:00<00:00, 2527.45it/s]\n",
      "Converting examples to features: 100%|██████████| 30/30 [00:00<00:00, 1832.43it/s]\n",
      "Converting examples to features: 100%|██████████| 9/9 [00:00<00:00, 2333.77it/s]\n",
      "Converting examples to features: 100%|██████████| 12/12 [00:00<00:00, 2334.17it/s]\n",
      "Converting examples to features: 100%|██████████| 13/13 [00:00<00:00, 2109.81it/s]\n",
      "Converting examples to features: 100%|██████████| 7/7 [00:00<00:00, 1748.04it/s]\n",
      "Converting examples to features: 100%|██████████| 6/6 [00:00<00:00, 1671.81it/s]\n",
      "Converting examples to features: 100%|██████████| 21/21 [00:00<00:00, 2769.13it/s]\n",
      "Converting examples to features: 100%|██████████| 20/20 [00:00<00:00, 2928.88it/s]\n",
      "Converting examples to features: 100%|██████████| 15/15 [00:00<00:00, 2507.26it/s]\n",
      "Converting examples to features: 100%|██████████| 8/8 [00:00<00:00, 2030.28it/s]\n",
      "Converting examples to features: 100%|██████████| 6/6 [00:00<00:00, 2533.81it/s]\n",
      "Converting examples to features: 100%|██████████| 10/10 [00:00<00:00, 2260.71it/s]\n",
      "Converting examples to features: 100%|██████████| 22/22 [00:00<00:00, 2116.83it/s]\n",
      "Converting examples to features: 100%|██████████| 6/6 [00:00<00:00, 2095.75it/s]\n",
      "Converting examples to features: 100%|██████████| 11/11 [00:00<00:00, 2306.75it/s]\n",
      "Converting examples to features: 100%|██████████| 14/14 [00:00<00:00, 2643.27it/s]\n",
      "Converting examples to features: 100%|██████████| 10/10 [00:00<00:00, 2436.42it/s]\n"
     ]
    }
   ],
   "source": [
    "X_tra, y_tra, _ = get_input(train_data, max_len, max_seq_length)\n",
    "X_val, y_val, _ = get_input(valid_data, max_len, max_seq_length)"
   ]
  },
  {
   "cell_type": "code",
   "execution_count": 18,
   "metadata": {},
   "outputs": [
    {
     "data": {
      "text/plain": [
       "((250, 3, 58, 512), (32, 3, 58, 512))"
      ]
     },
     "execution_count": 18,
     "metadata": {},
     "output_type": "execute_result"
    }
   ],
   "source": [
    "X_tra.shape, X_val.shape#, X_test.shape"
   ]
  },
  {
   "cell_type": "code",
   "execution_count": 19,
   "metadata": {},
   "outputs": [
    {
     "data": {
      "text/plain": [
       "((250, 58, 1), (32, 58, 1))"
      ]
     },
     "execution_count": 19,
     "metadata": {},
     "output_type": "execute_result"
    }
   ],
   "source": [
    "y_tra.shape, y_val.shape#, y_test.shape"
   ]
  },
  {
   "cell_type": "raw",
   "metadata": {},
   "source": [
    "padding_sent['input_ids'] == list(X_tra[0][0][-1])"
   ]
  },
  {
   "cell_type": "markdown",
   "metadata": {},
   "source": [
    "## Build Model"
   ]
  },
  {
   "cell_type": "code",
   "execution_count": 20,
   "metadata": {},
   "outputs": [],
   "source": [
    "def BERTEmbeddingStack(x):\n",
    "    embeds = []\n",
    "    for art in tf.unstack(tf.reshape(x, (batch_size, 3, max_len, 512))):\n",
    "        art = tf.cast(art, dtype=\"int32\")\n",
    "        # Below does not change the shape of segment_ids etc.\n",
    "        # Only puts them into a dictionary\n",
    "        bert_inputs = dict(\n",
    "            input_ids=art[0],\n",
    "            input_mask=art[1],\n",
    "            segment_ids=art[2]\n",
    "        )\n",
    "        # Pooling\n",
    "        result = bert(bert_inputs, signature=\"tokens\", as_dict=True)[\"sequence_output\"]\n",
    "        mul_mask = lambda x, m: x * tf.expand_dims(m, axis=-1)\n",
    "        masked_reduce_mean = lambda x, m: tf.reduce_sum(mul_mask(x, m), axis=1) / (\n",
    "                             tf.reduce_sum(m, axis=1, keepdims=True) + 1e-10)\n",
    "        input_mask = tf.cast(art[1], tf.float32)\n",
    "        pooled = masked_reduce_mean(result, input_mask)\n",
    "        embeds.append(pooled)\n",
    "    # print(tf.stack(embeds, 0))\n",
    "    return tf.stack(embeds, 0)"
   ]
  },
  {
   "cell_type": "code",
   "execution_count": 21,
   "metadata": {},
   "outputs": [],
   "source": [
    "def build_model_0(max_len, max_seq_length):\n",
    "\n",
    "    input_text = Input(shape=(3, max_len, max_seq_length))\n",
    "\n",
    "    bert_output = Lambda(BERTEmbeddingStack, output_shape=(None, None, max_len, 768))(input_text)\n",
    "\n",
    "    x = Bidirectional(LSTM(units=128, return_sequences=True))(bert_output)\n",
    "\n",
    "    pred = TimeDistributed(Dense(1, activation='softmax'))(x)\n",
    "\n",
    "    return Model(inputs=[input_text], outputs=pred)"
   ]
  },
  {
   "cell_type": "code",
   "execution_count": 22,
   "metadata": {},
   "outputs": [],
   "source": [
    "learningrate = 0.0001\n",
    "optimizer = Adam(lr=learningrate)\n",
    "optimizer_str = 'adam'\n",
    "loss = 'binary_crossentropy'\n",
    "metrics = ['acc', f1_macro, f1_micro]"
   ]
  },
  {
   "cell_type": "code",
   "execution_count": 23,
   "metadata": {
    "scrolled": true
   },
   "outputs": [
    {
     "name": "stderr",
     "output_type": "stream",
     "text": [
      "WARNING: Logging before flag parsing goes to stderr.\n",
      "W1231 00:10:50.081682 139742757937280 deprecation.py:506] From /home/aorus/workspaces/simge/Master_Thesis/.env/lib/python3.6/site-packages/tensorflow/python/ops/init_ops.py:1251: calling VarianceScaling.__init__ (from tensorflow.python.ops.init_ops) with dtype is deprecated and will be removed in a future version.\n",
      "Instructions for updating:\n",
      "Call initializer instance with the dtype argument instead of passing it to the constructor\n",
      "W1231 00:10:50.084985 139742757937280 deprecation.py:506] From /home/aorus/workspaces/simge/Master_Thesis/.env/lib/python3.6/site-packages/tensorflow/python/ops/init_ops.py:97: calling GlorotUniform.__init__ (from tensorflow.python.ops.init_ops) with dtype is deprecated and will be removed in a future version.\n",
      "Instructions for updating:\n",
      "Call initializer instance with the dtype argument instead of passing it to the constructor\n",
      "W1231 00:10:50.085531 139742757937280 deprecation.py:506] From /home/aorus/workspaces/simge/Master_Thesis/.env/lib/python3.6/site-packages/tensorflow/python/ops/init_ops.py:97: calling Orthogonal.__init__ (from tensorflow.python.ops.init_ops) with dtype is deprecated and will be removed in a future version.\n",
      "Instructions for updating:\n",
      "Call initializer instance with the dtype argument instead of passing it to the constructor\n",
      "W1231 00:10:50.085877 139742757937280 deprecation.py:506] From /home/aorus/workspaces/simge/Master_Thesis/.env/lib/python3.6/site-packages/tensorflow/python/ops/init_ops.py:97: calling Zeros.__init__ (from tensorflow.python.ops.init_ops) with dtype is deprecated and will be removed in a future version.\n",
      "Instructions for updating:\n",
      "Call initializer instance with the dtype argument instead of passing it to the constructor\n"
     ]
    },
    {
     "name": "stdout",
     "output_type": "stream",
     "text": [
      "Model: \"model\"\n",
      "_________________________________________________________________\n",
      "Layer (type)                 Output Shape              Param #   \n",
      "=================================================================\n",
      "input_1 (InputLayer)         [(None, 3, 58, 512)]      0         \n",
      "_________________________________________________________________\n",
      "lambda (Lambda)              (2, 58, 768)              0         \n",
      "_________________________________________________________________\n",
      "bidirectional (Bidirectional (2, 58, 256)              918528    \n",
      "_________________________________________________________________\n",
      "time_distributed (TimeDistri (2, 58, 1)                257       \n",
      "=================================================================\n",
      "Total params: 918,785\n",
      "Trainable params: 918,785\n",
      "Non-trainable params: 0\n",
      "_________________________________________________________________\n"
     ]
    }
   ],
   "source": [
    "model = build_model_0(max_len, max_seq_length)\n",
    "model.summary()\n",
    "\n",
    "model.compile(loss=loss, optimizer=optimizer, metrics=metrics)"
   ]
  },
  {
   "cell_type": "code",
   "execution_count": 24,
   "metadata": {},
   "outputs": [],
   "source": [
    "model_name = 'RQ2_test_bert_model_0' + \\\n",
    "             '_maxlen_' + str(max_len) + \\\n",
    "             '_' + optimizer_str + \\\n",
    "             '_lr_' + str(learningrate) + \\\n",
    "             '_lrreduction' + \\\n",
    "             '_loss_' + loss\n",
    "\n",
    "model_dir = './Model/' + model_name.split('model')[0] + 'model/' + model_name\n",
    "results_file = os.path.join(model_dir, 'model_results_file.txt')"
   ]
  },
  {
   "cell_type": "markdown",
   "metadata": {},
   "source": [
    "### Train Model"
   ]
  },
  {
   "cell_type": "code",
   "execution_count": 25,
   "metadata": {},
   "outputs": [],
   "source": [
    "# Instantiate variables\n",
    "initialize_vars(sess)"
   ]
  },
  {
   "cell_type": "code",
   "execution_count": 27,
   "metadata": {
    "scrolled": false
   },
   "outputs": [
    {
     "name": "stdout",
     "output_type": "stream",
     "text": [
      "Train on 250 samples, validate on 32 samples\n",
      "250/250 [==============================] - 381s 2s/sample - loss: 14.2208 - acc: 0.0726 - f1_macro: 0.1321 - f1_micro: 0.0844 - val_loss: 14.2593 - val_acc: 0.0700 - val_f1_macro: 0.1291 - val_f1_micro: 0.0819\n"
     ]
    },
    {
     "data": {
      "text/plain": [
       "<tensorflow.python.keras.callbacks.History at 0x7f16c0b92208>"
      ]
     },
     "execution_count": 27,
     "metadata": {},
     "output_type": "execute_result"
    },
    {
     "data": {
      "text/plain": [
       "<Figure size 720x360 with 0 Axes>"
      ]
     },
     "metadata": {},
     "output_type": "display_data"
    }
   ],
   "source": [
    "model.fit(X_tra, y_tra,\n",
    "          epochs=1,\n",
    "          batch_size=batch_size,\n",
    "          validation_data=(X_val, y_val),\n",
    "          callbacks=[\n",
    "              PlotCurves(model_name=model_name, model_dir=model_dir,\n",
    "                         plt_show=False, jnote=False, save_best=False),\n",
    "          ])"
   ]
  },
  {
   "cell_type": "markdown",
   "metadata": {},
   "source": [
    "### Load the best Model"
   ]
  },
  {
   "cell_type": "code",
   "execution_count": 28,
   "metadata": {},
   "outputs": [],
   "source": [
    "best_model = model"
   ]
  },
  {
   "cell_type": "markdown",
   "metadata": {},
   "source": [
    "### Evaluation"
   ]
  },
  {
   "cell_type": "code",
   "execution_count": 29,
   "metadata": {},
   "outputs": [],
   "source": [
    "def get_scores(model, data_, batch_size, max_len, max_seq_length,\n",
    "               results_file=None, print_out=False):\n",
    "    \n",
    "    def unpad(X, y_preds, padding_sent):\n",
    "        y_unpad = []\n",
    "        for ai, art in enumerate(X):\n",
    "            for si, sen_inp_ids in enumerate(art[0]):\n",
    "                if list(sen_inp_ids) != list(padding_sent['input_ids']):\n",
    "                    y_unpad.append(y_preds[ai][si])\n",
    "        return y_unpad\n",
    "    \n",
    "    X, y_true, padding_sent = get_input(data_, max_len, max_seq_length)\n",
    "    y_true = unpad(X, y_true, padding_sent)\n",
    "    y_true = [y[0] for y in y_true]\n",
    "    \n",
    "    y_preds = model.predict(X, batch_size=batch_size)\n",
    "    y_preds = unpad(X, y_preds, padding_sent)\n",
    "    y_preds = [0 if y[0] < 0.5 else 1 for y in y_preds]\n",
    "    \n",
    "    clsrpt = classification_report(y_true, y_preds)\n",
    "    sf1 = scikit_f1_score(y_true, y_preds)\n",
    "    sfm = scikit_f1_score(y_true, y_preds, average='macro')\n",
    "\n",
    "    if print_out:\n",
    "        print(clsrpt)\n",
    "        print('\\nScikit_F1_Macro:', sfm)\n",
    "        print('\\nScikit_F1_1:', sf1)\n",
    "\n",
    "    if results_file:\n",
    "        with open(results_file, 'a') as f:\n",
    "            f.write('\\n' + clsrpt + '\\nF1_Macro: ' + str(sfm) + '\\nF1_1: ' + str(sf1) + '\\n\\n')\n",
    "    return sfm"
   ]
  },
  {
   "cell_type": "markdown",
   "metadata": {},
   "source": [
    "#### Validation Set"
   ]
  },
  {
   "cell_type": "code",
   "execution_count": 30,
   "metadata": {
    "scrolled": true
   },
   "outputs": [
    {
     "name": "stderr",
     "output_type": "stream",
     "text": [
      "Converting examples to features: 100%|██████████| 4/4 [00:00<00:00, 1327.10it/s]\n",
      "Converting examples to features: 100%|██████████| 20/20 [00:00<00:00, 1520.39it/s]\n",
      "Converting examples to features: 100%|██████████| 5/5 [00:00<00:00, 2132.12it/s]\n",
      "Converting examples to features: 100%|██████████| 14/14 [00:00<00:00, 2240.12it/s]\n",
      "Converting examples to features: 100%|██████████| 16/16 [00:00<00:00, 2615.21it/s]\n",
      "Converting examples to features: 100%|██████████| 18/18 [00:00<00:00, 2504.06it/s]\n",
      "Converting examples to features: 100%|██████████| 8/8 [00:00<00:00, 2381.27it/s]\n",
      "Converting examples to features: 100%|██████████| 15/15 [00:00<00:00, 1754.25it/s]\n",
      "Converting examples to features: 100%|██████████| 9/9 [00:00<00:00, 1522.19it/s]\n",
      "Converting examples to features: 100%|██████████| 12/12 [00:00<00:00, 2537.01it/s]\n",
      "Converting examples to features: 100%|██████████| 12/12 [00:00<00:00, 2415.38it/s]\n",
      "Converting examples to features: 100%|██████████| 7/7 [00:00<00:00, 2688.66it/s]\n",
      "Converting examples to features: 100%|██████████| 10/10 [00:00<00:00, 2222.38it/s]\n",
      "Converting examples to features: 100%|██████████| 13/13 [00:00<00:00, 2173.65it/s]\n",
      "Converting examples to features: 100%|██████████| 16/16 [00:00<00:00, 2484.41it/s]\n",
      "Converting examples to features: 100%|██████████| 30/30 [00:00<00:00, 2065.28it/s]\n",
      "Converting examples to features: 100%|██████████| 9/9 [00:00<00:00, 2087.30it/s]\n",
      "Converting examples to features: 100%|██████████| 12/12 [00:00<00:00, 2271.08it/s]\n",
      "Converting examples to features: 100%|██████████| 13/13 [00:00<00:00, 2557.02it/s]\n",
      "Converting examples to features: 100%|██████████| 7/7 [00:00<00:00, 1677.91it/s]\n",
      "Converting examples to features: 100%|██████████| 6/6 [00:00<00:00, 1810.49it/s]\n",
      "Converting examples to features: 100%|██████████| 21/21 [00:00<00:00, 2721.39it/s]\n",
      "Converting examples to features: 100%|██████████| 20/20 [00:00<00:00, 2806.40it/s]\n",
      "Converting examples to features: 100%|██████████| 15/15 [00:00<00:00, 3443.41it/s]\n",
      "Converting examples to features: 100%|██████████| 8/8 [00:00<00:00, 2141.18it/s]\n",
      "Converting examples to features: 100%|██████████| 6/6 [00:00<00:00, 2493.15it/s]\n",
      "Converting examples to features: 100%|██████████| 10/10 [00:00<00:00, 2328.88it/s]\n",
      "Converting examples to features: 100%|██████████| 22/22 [00:00<00:00, 2126.83it/s]\n",
      "Converting examples to features: 100%|██████████| 6/6 [00:00<00:00, 2048.00it/s]\n",
      "Converting examples to features: 100%|██████████| 11/11 [00:00<00:00, 2516.90it/s]\n",
      "Converting examples to features: 100%|██████████| 14/14 [00:00<00:00, 2518.56it/s]\n",
      "Converting examples to features: 100%|██████████| 10/10 [00:00<00:00, 2413.99it/s]\n"
     ]
    },
    {
     "name": "stdout",
     "output_type": "stream",
     "text": [
      "              precision    recall  f1-score   support\n",
      "\n",
      "           0       0.00      0.00      0.00       269\n",
      "           1       0.33      1.00      0.49       130\n",
      "\n",
      "   micro avg       0.33      0.33      0.33       399\n",
      "   macro avg       0.16      0.50      0.25       399\n",
      "weighted avg       0.11      0.33      0.16       399\n",
      "\n",
      "\n",
      "Scikit_F1_Macro: 0.2457466918714556\n",
      "\n",
      "Scikit_F1_1: 0.4914933837429112\n"
     ]
    },
    {
     "name": "stderr",
     "output_type": "stream",
     "text": [
      "/home/aorus/workspaces/simge/Master_Thesis/.env/lib/python3.6/site-packages/sklearn/metrics/classification.py:1143: UndefinedMetricWarning: Precision and F-score are ill-defined and being set to 0.0 in labels with no predicted samples.\n",
      "  'precision', 'predicted', average, warn_for)\n",
      "/home/aorus/workspaces/simge/Master_Thesis/.env/lib/python3.6/site-packages/sklearn/metrics/classification.py:1143: UndefinedMetricWarning: F-score is ill-defined and being set to 0.0 in labels with no predicted samples.\n",
      "  'precision', 'predicted', average, warn_for)\n"
     ]
    }
   ],
   "source": [
    "# with open(results_file, 'w') as f:\n",
    "#     f.write('\\n---------------- Validation ----------------\\n')\n",
    "val_f1 = get_scores(best_model, valid_data, batch_size, max_len, max_seq_length, \n",
    "                    results_file, print_out=True)"
   ]
  },
  {
   "cell_type": "markdown",
   "metadata": {},
   "source": [
    "#### Test Set"
   ]
  },
  {
   "cell_type": "code",
   "execution_count": 31,
   "metadata": {},
   "outputs": [
    {
     "name": "stderr",
     "output_type": "stream",
     "text": [
      "Converting examples to features: 100%|██████████| 23/23 [00:00<00:00, 2811.03it/s]\n",
      "Converting examples to features: 100%|██████████| 14/14 [00:00<00:00, 1890.48it/s]\n",
      "Converting examples to features: 100%|██████████| 14/14 [00:00<00:00, 2396.94it/s]\n",
      "Converting examples to features: 100%|██████████| 32/32 [00:00<00:00, 2438.28it/s]\n",
      "Converting examples to features: 100%|██████████| 23/23 [00:00<00:00, 2355.60it/s]\n",
      "Converting examples to features: 100%|██████████| 12/12 [00:00<00:00, 3331.24it/s]\n",
      "Converting examples to features: 100%|██████████| 4/4 [00:00<00:00, 1684.80it/s]\n",
      "Converting examples to features: 100%|██████████| 9/9 [00:00<00:00, 2037.39it/s]\n",
      "Converting examples to features: 100%|██████████| 5/5 [00:00<00:00, 2196.43it/s]\n",
      "Converting examples to features: 100%|██████████| 34/34 [00:00<00:00, 3194.30it/s]\n",
      "Converting examples to features: 100%|██████████| 10/10 [00:00<00:00, 2799.19it/s]\n",
      "Converting examples to features: 100%|██████████| 10/10 [00:00<00:00, 1853.10it/s]\n",
      "Converting examples to features: 100%|██████████| 8/8 [00:00<00:00, 1967.31it/s]\n",
      "Converting examples to features: 100%|██████████| 5/5 [00:00<00:00, 2347.38it/s]\n",
      "Converting examples to features: 100%|██████████| 16/16 [00:00<00:00, 2767.72it/s]\n",
      "Converting examples to features: 100%|██████████| 4/4 [00:00<00:00, 2351.40it/s]\n",
      "Converting examples to features: 100%|██████████| 8/8 [00:00<00:00, 2110.87it/s]\n",
      "Converting examples to features: 100%|██████████| 26/26 [00:00<00:00, 2392.80it/s]\n",
      "Converting examples to features: 100%|██████████| 9/9 [00:00<00:00, 2123.82it/s]\n",
      "Converting examples to features: 100%|██████████| 11/11 [00:00<00:00, 1562.87it/s]\n",
      "Converting examples to features: 100%|██████████| 13/13 [00:00<00:00, 2098.36it/s]\n",
      "Converting examples to features: 100%|██████████| 8/8 [00:00<00:00, 2313.62it/s]\n",
      "Converting examples to features: 100%|██████████| 36/36 [00:00<00:00, 2272.69it/s]\n",
      "Converting examples to features: 100%|██████████| 4/4 [00:00<00:00, 1730.32it/s]\n",
      "Converting examples to features: 100%|██████████| 14/14 [00:00<00:00, 2204.79it/s]\n",
      "Converting examples to features: 100%|██████████| 14/14 [00:00<00:00, 2906.37it/s]\n",
      "Converting examples to features: 100%|██████████| 10/10 [00:00<00:00, 1465.72it/s]\n",
      "Converting examples to features: 100%|██████████| 10/10 [00:00<00:00, 1796.81it/s]\n",
      "Converting examples to features: 100%|██████████| 6/6 [00:00<00:00, 2452.81it/s]\n",
      "Converting examples to features: 100%|██████████| 16/16 [00:00<00:00, 1582.31it/s]\n",
      "Converting examples to features: 100%|██████████| 20/20 [00:00<00:00, 1883.94it/s]\n",
      "Converting examples to features: 100%|██████████| 13/13 [00:00<00:00, 2096.99it/s]\n"
     ]
    },
    {
     "name": "stdout",
     "output_type": "stream",
     "text": [
      "              precision    recall  f1-score   support\n",
      "\n",
      "           0       0.00      0.00      0.00       325\n",
      "           1       0.26      1.00      0.42       116\n",
      "\n",
      "   micro avg       0.26      0.26      0.26       441\n",
      "   macro avg       0.13      0.50      0.21       441\n",
      "weighted avg       0.07      0.26      0.11       441\n",
      "\n",
      "\n",
      "Scikit_F1_Macro: 0.20825852782764812\n",
      "\n",
      "Scikit_F1_1: 0.41651705565529623\n"
     ]
    }
   ],
   "source": [
    "with open(results_file, 'a') as f:\n",
    "    f.write('\\n---------------- Test ----------------\\n')\n",
    "test_f1 = get_scores(best_model, test_data, batch_size, max_len, max_seq_length,\n",
    "                     results_file, print_out=True)"
   ]
  },
  {
   "cell_type": "code",
   "execution_count": null,
   "metadata": {},
   "outputs": [],
   "source": []
  }
 ],
 "metadata": {
  "kernelspec": {
   "display_name": "Python 3",
   "language": "python",
   "name": "python3"
  },
  "language_info": {
   "codemirror_mode": {
    "name": "ipython",
    "version": 3
   },
   "file_extension": ".py",
   "mimetype": "text/x-python",
   "name": "python",
   "nbconvert_exporter": "python",
   "pygments_lexer": "ipython3",
   "version": "3.6.8"
  }
 },
 "nbformat": 4,
 "nbformat_minor": 2
}
