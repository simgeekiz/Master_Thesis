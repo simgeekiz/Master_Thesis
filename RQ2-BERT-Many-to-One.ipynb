{
 "cells": [
  {
   "cell_type": "code",
   "execution_count": 1,
   "metadata": {},
   "outputs": [],
   "source": [
    "%load_ext autoreload\n",
    "%autoreload 2"
   ]
  },
  {
   "cell_type": "code",
   "execution_count": 2,
   "metadata": {},
   "outputs": [],
   "source": [
    "import os\n",
    "import numpy as np"
   ]
  },
  {
   "cell_type": "code",
   "execution_count": 3,
   "metadata": {},
   "outputs": [],
   "source": [
    "import tensorflow as tf\n",
    "import tensorflow_hub as hub"
   ]
  },
  {
   "cell_type": "code",
   "execution_count": 4,
   "metadata": {},
   "outputs": [],
   "source": [
    "from tensorflow.keras.models import Model, load_model\n",
    "from tensorflow.keras.layers import Input, Dense, Lambda, Activation, Conv1D, \\\n",
    "                                    MaxPooling1D, Flatten, Reshape, Bidirectional, \\\n",
    "                                    BatchNormalization, Dropout, add, LSTM, \\\n",
    "                                    TimeDistributed\n",
    "from tensorflow.keras.optimizers import RMSprop, Adam, Adamax, SGD\n",
    "from tensorflow.keras.regularizers import l2"
   ]
  },
  {
   "cell_type": "code",
   "execution_count": 5,
   "metadata": {},
   "outputs": [],
   "source": [
    "from src.keras_bert import convert_single_example, \\\n",
    "                           convert_text_to_examples, \\\n",
    "                           create_tokenizer_from_hub_module, \\\n",
    "                           convert_examples_to_features, \\\n",
    "                           InputExample, \\\n",
    "                           initialize_vars, \\\n",
    "                           BertLayer"
   ]
  },
  {
   "cell_type": "code",
   "execution_count": 6,
   "metadata": {},
   "outputs": [],
   "source": [
    "from sklearn.metrics import classification_report\n",
    "from sklearn.metrics import f1_score as scikit_f1_score"
   ]
  },
  {
   "cell_type": "code",
   "execution_count": 7,
   "metadata": {},
   "outputs": [],
   "source": [
    "# Initialize session\n",
    "sess = tf.compat.v1.Session()"
   ]
  },
  {
   "cell_type": "code",
   "execution_count": 8,
   "metadata": {},
   "outputs": [
    {
     "name": "stdout",
     "output_type": "stream",
     "text": [
      "GPU enabled\n"
     ]
    }
   ],
   "source": [
    "with tf.device(\"gpu:0\"):\n",
    "    print(\"GPU enabled\")"
   ]
  },
  {
   "cell_type": "markdown",
   "metadata": {},
   "source": [
    "#### Custom Functions"
   ]
  },
  {
   "cell_type": "code",
   "execution_count": 9,
   "metadata": {},
   "outputs": [
    {
     "name": "stderr",
     "output_type": "stream",
     "text": [
      "Using TensorFlow backend.\n"
     ]
    }
   ],
   "source": [
    "from src.callbacks import PlotCurvesTF as PlotCurves\n",
    "from src.eval_metrics import f1_macro, f1_micro \n",
    "from src.load_data import load_data"
   ]
  },
  {
   "cell_type": "markdown",
   "metadata": {},
   "source": [
    "### Load Data"
   ]
  },
  {
   "cell_type": "code",
   "execution_count": 10,
   "metadata": {},
   "outputs": [],
   "source": [
    "train_data, valid_data, test_data, metadata = load_data()"
   ]
  },
  {
   "cell_type": "markdown",
   "metadata": {},
   "source": [
    "### Load BERT"
   ]
  },
  {
   "cell_type": "code",
   "execution_count": 11,
   "metadata": {},
   "outputs": [],
   "source": [
    "BERT_PATH = \"https://tfhub.dev/google/bert_uncased_L-12_H-768_A-12/1\""
   ]
  },
  {
   "cell_type": "code",
   "execution_count": 12,
   "metadata": {},
   "outputs": [],
   "source": [
    "bert = hub.Module(BERT_PATH, trainable=True)"
   ]
  },
  {
   "cell_type": "markdown",
   "metadata": {},
   "source": [
    "### Prepare data"
   ]
  },
  {
   "cell_type": "code",
   "execution_count": 13,
   "metadata": {},
   "outputs": [],
   "source": [
    "ww = 1\n",
    "n_tags = 2\n",
    "batch_size = 2\n",
    "\n",
    "max_seq_length = 512\n",
    "if max_seq_length > 512:\n",
    "    print('!!!!!!! WARNING: BERT does not accept length > 512')\n",
    "    max_seq_length = 512"
   ]
  },
  {
   "cell_type": "code",
   "execution_count": 14,
   "metadata": {},
   "outputs": [],
   "source": [
    "def get_padding_sentence(max_seq_length, padding_text='ENDPAD'):\n",
    "    \n",
    "    tokenizer = create_tokenizer_from_hub_module(BERT_PATH)\n",
    "\n",
    "    example_sent = InputExample(guid=None, text_a=\" \".join(padding_text), text_b=None, label=0)\n",
    "\n",
    "    (input_ids, input_mask, segment_ids, label) = \\\n",
    "            convert_single_example(tokenizer, example_sent, max_seq_length=max_seq_length)\n",
    "    \n",
    "    return {\"input_ids\":input_ids, \"input_mask\":input_mask, \"segment_ids\":segment_ids, \"label\":0}"
   ]
  },
  {
   "cell_type": "code",
   "execution_count": 41,
   "metadata": {},
   "outputs": [],
   "source": [
    "def get_input(data_, ww, max_seq_length, batch_size, limit=None):\n",
    "    \n",
    "    padding_sent = get_padding_sentence(max_seq_length, padding_text='ENDPAD')\n",
    "    \n",
    "    tokenizer = create_tokenizer_from_hub_module(BERT_PATH)\n",
    "\n",
    "    X = []\n",
    "    y = []\n",
    "    for article in data_:\n",
    "        \n",
    "        X_art = np.array([[\" \".join(sentence['sentence'].replace('\\n', ' ').strip().split()[0:max_seq_length])] \n",
    "                      for sentence in article['sentences']], dtype=object)\n",
    "        \n",
    "        y_art = [sentence['label'] for sentence in article['sentences']]\n",
    "        \n",
    "        examples_ = convert_text_to_examples(X_art, y_art)\n",
    "        \n",
    "        (input_ids, input_masks, segment_ids, labels_) = \\\n",
    "            convert_examples_to_features(tokenizer, examples_, max_seq_length=max_seq_length)\n",
    "        \n",
    "        for si, _ in enumerate(article['sentences']):\n",
    "            \n",
    "            input_ids_seq = []\n",
    "            input_mask_seq = []\n",
    "            segment_ids_seq = []\n",
    "            y_seq = []\n",
    "\n",
    "            # Prev\n",
    "            for i in reversed(range(ww)):\n",
    "                \n",
    "                if si-i-1 >= 0:\n",
    "                    sent_obj_prev = {\"input_ids\": input_ids[si-i-1], \n",
    "                                     \"input_mask\": input_masks[si-i-1],\n",
    "                                     \"segment_ids\": segment_ids[si-i-1]}\n",
    "                else:    \n",
    "                    sent_obj_prev = padding_sent\n",
    "\n",
    "                input_ids_seq.append(sent_obj_prev['input_ids'])\n",
    "                input_mask_seq.append(sent_obj_prev['input_mask'])\n",
    "                segment_ids_seq.append(sent_obj_prev['segment_ids'])\n",
    "\n",
    "            # Curr\n",
    "            sent_obj = {\"input_ids\": input_ids[si], \n",
    "                        \"input_mask\": input_masks[si],\n",
    "                        \"segment_ids\": segment_ids[si]} \n",
    "             \n",
    "            input_ids_seq.append(sent_obj['input_ids'])\n",
    "            input_mask_seq.append(sent_obj['input_mask'])\n",
    "            segment_ids_seq.append(sent_obj['segment_ids'])\n",
    "            y_seq.append(labels_[si][0])\n",
    "            \n",
    "            # Next\n",
    "            for i in range(ww):\n",
    "                \n",
    "                if si+i+1 < len(article['sentences']):\n",
    "                    sent_obj_next = {\"input_ids\": input_ids[si+i+1], \n",
    "                                     \"input_mask\": input_masks[si+i+1],\n",
    "                                     \"segment_ids\": segment_ids[si+i+1]}\n",
    "                else:\n",
    "                    sent_obj_next = padding_sent\n",
    "                    \n",
    "                input_ids_seq.append(sent_obj_next['input_ids'])\n",
    "                input_mask_seq.append(sent_obj_next['input_mask'])\n",
    "                segment_ids_seq.append(sent_obj_next['segment_ids'])\n",
    "\n",
    "            X_seq = (np.array(input_ids_seq),\n",
    "                     np.array(input_mask_seq),\n",
    "                     np.array(segment_ids_seq))\n",
    "\n",
    "            X.append(X_seq)\n",
    "            y.append(y_seq)\n",
    "            \n",
    "    # limit data if not an even number when batch_size=2\n",
    "    if not limit:\n",
    "        limit = len(X) if len(X)%batch_size == 0 else len(X)-len(X)%batch_size\n",
    "        X = X[:limit]\n",
    "        y = y[:limit]\n",
    "            \n",
    "    return np.array(X), np.array(y)"
   ]
  },
  {
   "cell_type": "code",
   "execution_count": 42,
   "metadata": {},
   "outputs": [
    {
     "name": "stderr",
     "output_type": "stream",
     "text": [
      "Converting examples to features: 100%|██████████| 10/10 [00:00<00:00, 1823.85it/s]\n",
      "Converting examples to features: 100%|██████████| 16/16 [00:00<00:00, 2657.57it/s]\n",
      "Converting examples to features: 100%|██████████| 14/14 [00:00<00:00, 2201.16it/s]\n",
      "Converting examples to features: 100%|██████████| 13/13 [00:00<00:00, 2306.71it/s]\n",
      "Converting examples to features: 100%|██████████| 33/33 [00:00<00:00, 2738.66it/s]\n",
      "Converting examples to features: 100%|██████████| 11/11 [00:00<00:00, 2355.39it/s]\n",
      "Converting examples to features: 100%|██████████| 5/5 [00:00<00:00, 3608.31it/s]\n",
      "Converting examples to features: 100%|██████████| 12/12 [00:00<00:00, 764.74it/s]\n",
      "Converting examples to features: 100%|██████████| 17/17 [00:00<00:00, 1914.90it/s]\n",
      "Converting examples to features: 100%|██████████| 5/5 [00:00<00:00, 2629.99it/s]\n",
      "Converting examples to features: 100%|██████████| 22/22 [00:00<00:00, 2581.40it/s]\n",
      "Converting examples to features: 100%|██████████| 18/18 [00:00<00:00, 2470.55it/s]\n",
      "Converting examples to features: 100%|██████████| 11/11 [00:00<00:00, 2578.95it/s]\n",
      "Converting examples to features: 100%|██████████| 13/13 [00:00<00:00, 2775.85it/s]\n",
      "Converting examples to features: 100%|██████████| 26/26 [00:00<00:00, 2277.47it/s]\n",
      "Converting examples to features: 100%|██████████| 7/7 [00:00<00:00, 1674.09it/s]\n",
      "Converting examples to features: 100%|██████████| 17/17 [00:00<00:00, 2491.29it/s]\n",
      "Converting examples to features: 100%|██████████| 13/13 [00:00<00:00, 2456.90it/s]\n",
      "Converting examples to features: 100%|██████████| 14/14 [00:00<00:00, 2527.78it/s]\n",
      "Converting examples to features: 100%|██████████| 16/16 [00:00<00:00, 2588.78it/s]\n",
      "Converting examples to features: 100%|██████████| 16/16 [00:00<00:00, 2720.37it/s]\n",
      "Converting examples to features: 100%|██████████| 8/8 [00:00<00:00, 2507.81it/s]\n",
      "Converting examples to features: 100%|██████████| 28/28 [00:00<00:00, 2511.77it/s]\n",
      "Converting examples to features: 100%|██████████| 14/14 [00:00<00:00, 2255.96it/s]\n",
      "Converting examples to features: 100%|██████████| 17/17 [00:00<00:00, 1749.08it/s]\n",
      "Converting examples to features: 100%|██████████| 14/14 [00:00<00:00, 2358.81it/s]\n",
      "Converting examples to features: 100%|██████████| 8/8 [00:00<00:00, 2324.68it/s]\n",
      "Converting examples to features: 100%|██████████| 14/14 [00:00<00:00, 2170.16it/s]\n",
      "Converting examples to features: 100%|██████████| 23/23 [00:00<00:00, 2829.67it/s]\n",
      "Converting examples to features: 100%|██████████| 9/9 [00:00<00:00, 1977.10it/s]\n",
      "Converting examples to features: 100%|██████████| 5/5 [00:00<00:00, 2259.38it/s]\n",
      "Converting examples to features: 100%|██████████| 7/7 [00:00<00:00, 2265.27it/s]\n",
      "Converting examples to features: 100%|██████████| 9/9 [00:00<00:00, 2089.49it/s]\n",
      "Converting examples to features: 100%|██████████| 18/18 [00:00<00:00, 2508.39it/s]\n",
      "Converting examples to features: 100%|██████████| 14/14 [00:00<00:00, 2684.48it/s]\n",
      "Converting examples to features: 100%|██████████| 5/5 [00:00<00:00, 2477.73it/s]\n",
      "Converting examples to features: 100%|██████████| 18/18 [00:00<00:00, 2553.26it/s]\n",
      "Converting examples to features: 100%|██████████| 21/21 [00:00<00:00, 2468.48it/s]\n",
      "Converting examples to features: 100%|██████████| 6/6 [00:00<00:00, 2452.81it/s]\n",
      "Converting examples to features: 100%|██████████| 9/9 [00:00<00:00, 2135.23it/s]\n",
      "Converting examples to features: 100%|██████████| 13/13 [00:00<00:00, 2167.43it/s]\n",
      "Converting examples to features: 100%|██████████| 21/21 [00:00<00:00, 2404.60it/s]\n",
      "Converting examples to features: 100%|██████████| 7/7 [00:00<00:00, 2304.38it/s]\n",
      "Converting examples to features: 100%|██████████| 13/13 [00:00<00:00, 2229.55it/s]\n",
      "Converting examples to features: 100%|██████████| 13/13 [00:00<00:00, 2168.63it/s]\n",
      "Converting examples to features: 100%|██████████| 10/10 [00:00<00:00, 2813.08it/s]\n",
      "Converting examples to features: 100%|██████████| 3/3 [00:00<00:00, 1994.12it/s]\n",
      "Converting examples to features: 100%|██████████| 8/8 [00:00<00:00, 2681.78it/s]\n",
      "Converting examples to features: 100%|██████████| 44/44 [00:00<00:00, 2644.39it/s]\n",
      "Converting examples to features: 100%|██████████| 7/7 [00:00<00:00, 2759.15it/s]\n",
      "Converting examples to features: 100%|██████████| 5/5 [00:00<00:00, 1968.42it/s]\n",
      "Converting examples to features: 100%|██████████| 10/10 [00:00<00:00, 1929.21it/s]\n",
      "Converting examples to features: 100%|██████████| 48/48 [00:00<00:00, 2814.77it/s]\n",
      "Converting examples to features: 100%|██████████| 6/6 [00:00<00:00, 2552.83it/s]\n",
      "Converting examples to features: 100%|██████████| 4/4 [00:00<00:00, 1341.96it/s]\n",
      "Converting examples to features: 100%|██████████| 12/12 [00:00<00:00, 2659.25it/s]\n",
      "Converting examples to features: 100%|██████████| 6/6 [00:00<00:00, 2220.97it/s]\n",
      "Converting examples to features: 100%|██████████| 7/7 [00:00<00:00, 2492.79it/s]\n",
      "Converting examples to features: 100%|██████████| 13/13 [00:00<00:00, 2284.86it/s]\n",
      "Converting examples to features: 100%|██████████| 29/29 [00:00<00:00, 3037.68it/s]\n",
      "Converting examples to features: 100%|██████████| 11/11 [00:00<00:00, 2099.54it/s]\n",
      "Converting examples to features: 100%|██████████| 7/7 [00:00<00:00, 2284.30it/s]\n",
      "Converting examples to features: 100%|██████████| 16/16 [00:00<00:00, 1960.01it/s]\n",
      "Converting examples to features: 100%|██████████| 45/45 [00:00<00:00, 2730.75it/s]\n",
      "Converting examples to features: 100%|██████████| 6/6 [00:00<00:00, 1837.73it/s]\n",
      "Converting examples to features: 100%|██████████| 8/8 [00:00<00:00, 2058.18it/s]\n",
      "Converting examples to features: 100%|██████████| 18/18 [00:00<00:00, 2223.65it/s]\n",
      "Converting examples to features: 100%|██████████| 24/24 [00:00<00:00, 2537.58it/s]\n",
      "Converting examples to features: 100%|██████████| 14/14 [00:00<00:00, 2191.14it/s]\n",
      "Converting examples to features: 100%|██████████| 6/6 [00:00<00:00, 1850.56it/s]\n",
      "Converting examples to features: 100%|██████████| 11/11 [00:00<00:00, 2248.85it/s]\n",
      "Converting examples to features: 100%|██████████| 16/16 [00:00<00:00, 2465.33it/s]\n",
      "Converting examples to features: 100%|██████████| 12/12 [00:00<00:00, 2276.42it/s]\n",
      "Converting examples to features: 100%|██████████| 7/7 [00:00<00:00, 2494.06it/s]\n",
      "Converting examples to features: 100%|██████████| 22/22 [00:00<00:00, 2764.87it/s]\n",
      "Converting examples to features: 100%|██████████| 17/17 [00:00<00:00, 2570.50it/s]\n",
      "Converting examples to features: 100%|██████████| 10/10 [00:00<00:00, 2620.78it/s]\n",
      "Converting examples to features: 100%|██████████| 36/36 [00:00<00:00, 2365.32it/s]\n",
      "Converting examples to features: 100%|██████████| 13/13 [00:00<00:00, 2554.27it/s]\n",
      "Converting examples to features: 100%|██████████| 8/8 [00:00<00:00, 2799.00it/s]\n",
      "Converting examples to features: 100%|██████████| 42/42 [00:00<00:00, 2853.36it/s]\n",
      "Converting examples to features: 100%|██████████| 20/20 [00:00<00:00, 2634.20it/s]\n",
      "Converting examples to features: 100%|██████████| 8/8 [00:00<00:00, 2437.13it/s]\n",
      "Converting examples to features: 100%|██████████| 5/5 [00:00<00:00, 2006.46it/s]\n",
      "Converting examples to features: 100%|██████████| 14/14 [00:00<00:00, 2952.40it/s]\n",
      "Converting examples to features: 100%|██████████| 19/19 [00:00<00:00, 2362.15it/s]\n",
      "Converting examples to features: 100%|██████████| 19/19 [00:00<00:00, 1686.46it/s]\n",
      "Converting examples to features: 100%|██████████| 8/8 [00:00<00:00, 2530.12it/s]\n",
      "Converting examples to features: 100%|██████████| 13/13 [00:00<00:00, 2111.04it/s]\n",
      "Converting examples to features: 100%|██████████| 15/15 [00:00<00:00, 2008.38it/s]\n",
      "Converting examples to features: 100%|██████████| 17/17 [00:00<00:00, 2572.17it/s]\n",
      "Converting examples to features: 100%|██████████| 33/33 [00:00<00:00, 3328.09it/s]\n",
      "Converting examples to features: 100%|██████████| 6/6 [00:00<00:00, 1954.93it/s]\n",
      "Converting examples to features: 100%|██████████| 11/11 [00:00<00:00, 2513.75it/s]\n",
      "Converting examples to features: 100%|██████████| 17/17 [00:00<00:00, 2617.59it/s]\n",
      "Converting examples to features: 100%|██████████| 7/7 [00:00<00:00, 1797.82it/s]\n",
      "Converting examples to features: 100%|██████████| 8/8 [00:00<00:00, 2524.41it/s]\n",
      "Converting examples to features: 100%|██████████| 12/12 [00:00<00:00, 3470.19it/s]\n",
      "Converting examples to features: 100%|██████████| 15/15 [00:00<00:00, 2603.97it/s]\n",
      "Converting examples to features: 100%|██████████| 14/14 [00:00<00:00, 2661.12it/s]\n",
      "Converting examples to features: 100%|██████████| 9/9 [00:00<00:00, 2099.84it/s]\n",
      "Converting examples to features: 100%|██████████| 11/11 [00:00<00:00, 2727.92it/s]\n",
      "Converting examples to features: 100%|██████████| 14/14 [00:00<00:00, 2401.84it/s]\n",
      "Converting examples to features: 100%|██████████| 8/8 [00:00<00:00, 2480.37it/s]\n",
      "Converting examples to features: 100%|██████████| 20/20 [00:00<00:00, 2559.69it/s]\n",
      "Converting examples to features: 100%|██████████| 14/14 [00:00<00:00, 2754.62it/s]\n",
      "Converting examples to features: 100%|██████████| 6/6 [00:00<00:00, 2309.85it/s]\n",
      "Converting examples to features: 100%|██████████| 7/7 [00:00<00:00, 2090.43it/s]\n",
      "Converting examples to features: 100%|██████████| 53/53 [00:00<00:00, 2881.82it/s]\n",
      "Converting examples to features: 100%|██████████| 11/11 [00:00<00:00, 2199.84it/s]\n",
      "Converting examples to features: 100%|██████████| 15/15 [00:00<00:00, 2144.03it/s]\n",
      "Converting examples to features: 100%|██████████| 27/27 [00:00<00:00, 2671.34it/s]\n",
      "Converting examples to features: 100%|██████████| 25/25 [00:00<00:00, 2070.61it/s]\n",
      "Converting examples to features: 100%|██████████| 11/11 [00:00<00:00, 2300.54it/s]\n",
      "Converting examples to features: 100%|██████████| 38/38 [00:00<00:00, 3109.68it/s]\n",
      "Converting examples to features: 100%|██████████| 58/58 [00:00<00:00, 2482.82it/s]\n",
      "Converting examples to features: 100%|██████████| 14/14 [00:00<00:00, 2432.69it/s]\n",
      "Converting examples to features: 100%|██████████| 4/4 [00:00<00:00, 2317.94it/s]\n",
      "Converting examples to features: 100%|██████████| 9/9 [00:00<00:00, 2440.76it/s]\n",
      "Converting examples to features: 100%|██████████| 11/11 [00:00<00:00, 2609.58it/s]\n",
      "Converting examples to features: 100%|██████████| 9/9 [00:00<00:00, 3168.70it/s]\n",
      "Converting examples to features: 100%|██████████| 6/6 [00:00<00:00, 2363.65it/s]\n",
      "Converting examples to features: 100%|██████████| 22/22 [00:00<00:00, 2482.84it/s]\n",
      "Converting examples to features: 100%|██████████| 3/3 [00:00<00:00, 991.48it/s]\n",
      "Converting examples to features: 100%|██████████| 18/18 [00:00<00:00, 2033.99it/s]\n",
      "Converting examples to features: 100%|██████████| 7/7 [00:00<00:00, 1640.69it/s]\n",
      "Converting examples to features: 100%|██████████| 14/14 [00:00<00:00, 2309.46it/s]\n",
      "Converting examples to features: 100%|██████████| 15/15 [00:00<00:00, 2571.51it/s]\n",
      "Converting examples to features: 100%|██████████| 16/16 [00:00<00:00, 2419.99it/s]\n",
      "Converting examples to features: 100%|██████████| 6/6 [00:00<00:00, 2287.80it/s]\n",
      "Converting examples to features: 100%|██████████| 4/4 [00:00<00:00, 1929.30it/s]\n",
      "Converting examples to features: 100%|██████████| 8/8 [00:00<00:00, 2352.39it/s]\n",
      "Converting examples to features: 100%|██████████| 6/6 [00:00<00:00, 2566.89it/s]\n",
      "Converting examples to features: 100%|██████████| 30/30 [00:00<00:00, 2707.46it/s]\n",
      "Converting examples to features: 100%|██████████| 11/11 [00:00<00:00, 2177.63it/s]\n",
      "Converting examples to features: 100%|██████████| 12/12 [00:00<00:00, 3092.19it/s]\n",
      "Converting examples to features: 100%|██████████| 12/12 [00:00<00:00, 2121.64it/s]\n",
      "Converting examples to features: 100%|██████████| 5/5 [00:00<00:00, 2294.23it/s]\n",
      "Converting examples to features: 100%|██████████| 15/15 [00:00<00:00, 2136.61it/s]\n",
      "Converting examples to features: 100%|██████████| 14/14 [00:00<00:00, 2363.94it/s]\n",
      "Converting examples to features: 100%|██████████| 56/56 [00:00<00:00, 2790.12it/s]\n",
      "Converting examples to features: 100%|██████████| 15/15 [00:00<00:00, 2704.37it/s]\n",
      "Converting examples to features: 100%|██████████| 21/21 [00:00<00:00, 2552.54it/s]\n",
      "Converting examples to features: 100%|██████████| 14/14 [00:00<00:00, 2562.30it/s]\n",
      "Converting examples to features: 100%|██████████| 8/8 [00:00<00:00, 2158.12it/s]\n",
      "Converting examples to features: 100%|██████████| 6/6 [00:00<00:00, 2163.87it/s]\n",
      "Converting examples to features: 100%|██████████| 19/19 [00:00<00:00, 2656.66it/s]\n",
      "Converting examples to features: 100%|██████████| 6/6 [00:00<00:00, 1574.93it/s]\n",
      "Converting examples to features: 100%|██████████| 12/12 [00:00<00:00, 2032.94it/s]\n",
      "Converting examples to features: 100%|██████████| 23/23 [00:00<00:00, 2578.35it/s]\n",
      "Converting examples to features: 100%|██████████| 11/11 [00:00<00:00, 1689.83it/s]\n",
      "Converting examples to features: 100%|██████████| 9/9 [00:00<00:00, 1968.95it/s]\n",
      "Converting examples to features: 100%|██████████| 13/13 [00:00<00:00, 2385.00it/s]\n",
      "Converting examples to features: 100%|██████████| 7/7 [00:00<00:00, 1888.96it/s]\n",
      "Converting examples to features: 100%|██████████| 12/12 [00:00<00:00, 2497.97it/s]\n",
      "Converting examples to features: 100%|██████████| 9/9 [00:00<00:00, 2557.16it/s]\n",
      "Converting examples to features: 100%|██████████| 16/16 [00:00<00:00, 2623.59it/s]\n",
      "Converting examples to features: 100%|██████████| 5/5 [00:00<00:00, 2065.75it/s]\n",
      "Converting examples to features: 100%|██████████| 6/6 [00:00<00:00, 1762.81it/s]\n",
      "Converting examples to features: 100%|██████████| 40/40 [00:00<00:00, 2445.09it/s]\n",
      "Converting examples to features: 100%|██████████| 13/13 [00:00<00:00, 2359.82it/s]\n",
      "Converting examples to features: 100%|██████████| 12/12 [00:00<00:00, 2755.03it/s]\n",
      "Converting examples to features: 100%|██████████| 14/14 [00:00<00:00, 1751.07it/s]\n",
      "Converting examples to features: 100%|██████████| 16/16 [00:00<00:00, 2029.42it/s]\n",
      "Converting examples to features: 100%|██████████| 1/1 [00:00<00:00, 966.43it/s]\n",
      "Converting examples to features: 100%|██████████| 22/22 [00:00<00:00, 2359.91it/s]\n",
      "Converting examples to features: 100%|██████████| 10/10 [00:00<00:00, 2055.83it/s]\n",
      "Converting examples to features: 100%|██████████| 9/9 [00:00<00:00, 2279.10it/s]\n",
      "Converting examples to features: 100%|██████████| 9/9 [00:00<00:00, 1695.05it/s]\n",
      "Converting examples to features: 100%|██████████| 14/14 [00:00<00:00, 2377.92it/s]\n",
      "Converting examples to features: 100%|██████████| 11/11 [00:00<00:00, 2361.30it/s]\n",
      "Converting examples to features: 100%|██████████| 11/11 [00:00<00:00, 2009.29it/s]\n",
      "Converting examples to features: 100%|██████████| 11/11 [00:00<00:00, 1757.21it/s]\n",
      "Converting examples to features: 100%|██████████| 6/6 [00:00<00:00, 2688.66it/s]\n",
      "Converting examples to features: 100%|██████████| 10/10 [00:00<00:00, 1999.48it/s]\n",
      "Converting examples to features: 100%|██████████| 24/24 [00:00<00:00, 2870.27it/s]\n",
      "Converting examples to features: 100%|██████████| 6/6 [00:00<00:00, 2075.36it/s]\n",
      "Converting examples to features: 100%|██████████| 27/27 [00:00<00:00, 2220.43it/s]\n",
      "Converting examples to features: 100%|██████████| 11/11 [00:00<00:00, 2395.50it/s]\n",
      "Converting examples to features: 100%|██████████| 4/4 [00:00<00:00, 1843.25it/s]\n",
      "Converting examples to features: 100%|██████████| 6/6 [00:00<00:00, 2479.15it/s]\n",
      "Converting examples to features: 100%|██████████| 12/12 [00:00<00:00, 3091.62it/s]\n",
      "Converting examples to features: 100%|██████████| 27/27 [00:00<00:00, 2853.34it/s]\n",
      "Converting examples to features: 100%|██████████| 12/12 [00:00<00:00, 2393.78it/s]\n",
      "Converting examples to features: 100%|██████████| 6/6 [00:00<00:00, 1720.62it/s]\n",
      "Converting examples to features: 100%|██████████| 16/16 [00:00<00:00, 2697.52it/s]\n",
      "Converting examples to features: 100%|██████████| 17/17 [00:00<00:00, 2720.04it/s]\n",
      "Converting examples to features: 100%|██████████| 8/8 [00:00<00:00, 2773.32it/s]\n",
      "Converting examples to features: 100%|██████████| 4/4 [00:00<00:00, 1940.68it/s]\n",
      "Converting examples to features: 100%|██████████| 4/4 [00:00<00:00, 2143.78it/s]\n",
      "Converting examples to features: 100%|██████████| 20/20 [00:00<00:00, 2510.36it/s]\n",
      "Converting examples to features: 100%|██████████| 41/41 [00:00<00:00, 2787.27it/s]\n",
      "Converting examples to features: 100%|██████████| 20/20 [00:00<00:00, 3018.24it/s]\n",
      "Converting examples to features: 100%|██████████| 12/12 [00:00<00:00, 2409.94it/s]\n",
      "Converting examples to features: 100%|██████████| 18/18 [00:00<00:00, 3198.23it/s]\n",
      "Converting examples to features: 100%|██████████| 6/6 [00:00<00:00, 2504.56it/s]\n",
      "Converting examples to features: 100%|██████████| 13/13 [00:00<00:00, 2510.63it/s]\n",
      "Converting examples to features: 100%|██████████| 32/32 [00:00<00:00, 2193.06it/s]\n"
     ]
    },
    {
     "name": "stderr",
     "output_type": "stream",
     "text": [
      "Converting examples to features: 100%|██████████| 3/3 [00:00<00:00, 2305.83it/s]\n",
      "Converting examples to features: 100%|██████████| 8/8 [00:00<00:00, 2098.86it/s]\n",
      "Converting examples to features: 100%|██████████| 20/20 [00:00<00:00, 2453.10it/s]\n",
      "Converting examples to features: 100%|██████████| 19/19 [00:00<00:00, 2736.20it/s]\n",
      "Converting examples to features: 100%|██████████| 8/8 [00:00<00:00, 3007.75it/s]\n",
      "Converting examples to features: 100%|██████████| 14/14 [00:00<00:00, 2368.90it/s]\n",
      "Converting examples to features: 100%|██████████| 8/8 [00:00<00:00, 2312.98it/s]\n",
      "Converting examples to features: 100%|██████████| 8/8 [00:00<00:00, 2063.75it/s]\n",
      "Converting examples to features: 100%|██████████| 17/17 [00:00<00:00, 2273.48it/s]\n",
      "Converting examples to features: 100%|██████████| 12/12 [00:00<00:00, 2740.18it/s]\n",
      "Converting examples to features: 100%|██████████| 9/9 [00:00<00:00, 2501.08it/s]\n",
      "Converting examples to features: 100%|██████████| 5/5 [00:00<00:00, 2269.15it/s]\n",
      "Converting examples to features: 100%|██████████| 10/10 [00:00<00:00, 2088.59it/s]\n",
      "Converting examples to features: 100%|██████████| 12/12 [00:00<00:00, 2902.97it/s]\n",
      "Converting examples to features: 100%|██████████| 11/11 [00:00<00:00, 2160.70it/s]\n",
      "Converting examples to features: 100%|██████████| 6/6 [00:00<00:00, 1823.87it/s]\n",
      "Converting examples to features: 100%|██████████| 22/22 [00:00<00:00, 3054.24it/s]\n",
      "Converting examples to features: 100%|██████████| 13/13 [00:00<00:00, 2477.89it/s]\n",
      "Converting examples to features: 100%|██████████| 19/19 [00:00<00:00, 2289.60it/s]\n",
      "Converting examples to features: 100%|██████████| 20/20 [00:00<00:00, 2196.43it/s]\n",
      "Converting examples to features: 100%|██████████| 10/10 [00:00<00:00, 2552.52it/s]\n",
      "Converting examples to features: 100%|██████████| 16/16 [00:00<00:00, 3221.12it/s]\n",
      "Converting examples to features: 100%|██████████| 15/15 [00:00<00:00, 2649.03it/s]\n",
      "Converting examples to features: 100%|██████████| 27/27 [00:00<00:00, 2984.33it/s]\n",
      "Converting examples to features: 100%|██████████| 21/21 [00:00<00:00, 2496.33it/s]\n",
      "Converting examples to features: 100%|██████████| 15/15 [00:00<00:00, 2320.63it/s]\n",
      "Converting examples to features: 100%|██████████| 11/11 [00:00<00:00, 2971.24it/s]\n",
      "Converting examples to features: 100%|██████████| 6/6 [00:00<00:00, 2131.97it/s]\n",
      "Converting examples to features: 100%|██████████| 38/38 [00:00<00:00, 2546.51it/s]\n",
      "Converting examples to features: 100%|██████████| 7/7 [00:00<00:00, 2186.81it/s]\n",
      "Converting examples to features: 100%|██████████| 19/19 [00:00<00:00, 2465.71it/s]\n",
      "Converting examples to features: 100%|██████████| 13/13 [00:00<00:00, 2666.18it/s]\n",
      "Converting examples to features: 100%|██████████| 49/49 [00:00<00:00, 2881.87it/s]\n",
      "Converting examples to features: 100%|██████████| 2/2 [00:00<00:00, 1179.67it/s]\n",
      "Converting examples to features: 100%|██████████| 20/20 [00:00<00:00, 2594.12it/s]\n",
      "Converting examples to features: 100%|██████████| 13/13 [00:00<00:00, 1737.99it/s]\n",
      "Converting examples to features: 100%|██████████| 15/15 [00:00<00:00, 1993.11it/s]\n",
      "Converting examples to features: 100%|██████████| 15/15 [00:00<00:00, 2703.68it/s]\n",
      "Converting examples to features: 100%|██████████| 13/13 [00:00<00:00, 2772.46it/s]\n",
      "Converting examples to features: 100%|██████████| 9/9 [00:00<00:00, 1997.29it/s]\n",
      "Converting examples to features: 100%|██████████| 6/6 [00:00<00:00, 2609.75it/s]\n",
      "Converting examples to features: 100%|██████████| 12/12 [00:00<00:00, 1509.78it/s]\n",
      "Converting examples to features: 100%|██████████| 5/5 [00:00<00:00, 2569.09it/s]\n",
      "Converting examples to features: 100%|██████████| 12/12 [00:00<00:00, 2506.31it/s]\n",
      "Converting examples to features: 100%|██████████| 5/5 [00:00<00:00, 2464.05it/s]\n",
      "Converting examples to features: 100%|██████████| 10/10 [00:00<00:00, 2715.64it/s]\n",
      "Converting examples to features: 100%|██████████| 31/31 [00:00<00:00, 2617.01it/s]\n",
      "Converting examples to features: 100%|██████████| 8/8 [00:00<00:00, 2584.09it/s]\n",
      "Converting examples to features: 100%|██████████| 8/8 [00:00<00:00, 2000.26it/s]\n",
      "Converting examples to features: 100%|██████████| 7/7 [00:00<00:00, 2124.01it/s]\n",
      "Converting examples to features: 100%|██████████| 11/11 [00:00<00:00, 2478.90it/s]\n",
      "Converting examples to features: 100%|██████████| 6/6 [00:00<00:00, 2442.81it/s]\n",
      "Converting examples to features: 100%|██████████| 17/17 [00:00<00:00, 2392.16it/s]\n",
      "Converting examples to features: 100%|██████████| 4/4 [00:00<00:00, 1026.76it/s]\n",
      "Converting examples to features: 100%|██████████| 20/20 [00:00<00:00, 2286.10it/s]\n",
      "Converting examples to features: 100%|██████████| 5/5 [00:00<00:00, 2246.79it/s]\n",
      "Converting examples to features: 100%|██████████| 14/14 [00:00<00:00, 2553.61it/s]\n",
      "Converting examples to features: 100%|██████████| 16/16 [00:00<00:00, 2814.73it/s]\n",
      "Converting examples to features: 100%|██████████| 18/18 [00:00<00:00, 3008.59it/s]\n",
      "Converting examples to features: 100%|██████████| 8/8 [00:00<00:00, 2611.24it/s]\n",
      "Converting examples to features: 100%|██████████| 15/15 [00:00<00:00, 1806.38it/s]\n",
      "Converting examples to features: 100%|██████████| 9/9 [00:00<00:00, 1968.75it/s]\n",
      "Converting examples to features: 100%|██████████| 12/12 [00:00<00:00, 2664.32it/s]\n",
      "Converting examples to features: 100%|██████████| 12/12 [00:00<00:00, 2675.79it/s]\n",
      "Converting examples to features: 100%|██████████| 7/7 [00:00<00:00, 2635.32it/s]\n",
      "Converting examples to features: 100%|██████████| 10/10 [00:00<00:00, 2353.44it/s]\n",
      "Converting examples to features: 100%|██████████| 13/13 [00:00<00:00, 2298.73it/s]\n",
      "Converting examples to features: 100%|██████████| 16/16 [00:00<00:00, 2563.95it/s]\n",
      "Converting examples to features: 100%|██████████| 30/30 [00:00<00:00, 2117.55it/s]\n",
      "Converting examples to features: 100%|██████████| 9/9 [00:00<00:00, 2369.81it/s]\n",
      "Converting examples to features: 100%|██████████| 12/12 [00:00<00:00, 2481.35it/s]\n",
      "Converting examples to features: 100%|██████████| 13/13 [00:00<00:00, 2657.34it/s]\n",
      "Converting examples to features: 100%|██████████| 7/7 [00:00<00:00, 1796.50it/s]\n",
      "Converting examples to features: 100%|██████████| 6/6 [00:00<00:00, 1708.13it/s]\n",
      "Converting examples to features: 100%|██████████| 21/21 [00:00<00:00, 2972.37it/s]\n",
      "Converting examples to features: 100%|██████████| 20/20 [00:00<00:00, 3039.57it/s]\n",
      "Converting examples to features: 100%|██████████| 15/15 [00:00<00:00, 3617.23it/s]\n",
      "Converting examples to features: 100%|██████████| 8/8 [00:00<00:00, 2291.34it/s]\n",
      "Converting examples to features: 100%|██████████| 6/6 [00:00<00:00, 2439.26it/s]\n",
      "Converting examples to features: 100%|██████████| 10/10 [00:00<00:00, 2446.23it/s]\n",
      "Converting examples to features: 100%|██████████| 22/22 [00:00<00:00, 2231.93it/s]\n",
      "Converting examples to features: 100%|██████████| 6/6 [00:00<00:00, 2118.69it/s]\n",
      "Converting examples to features: 100%|██████████| 11/11 [00:00<00:00, 2650.81it/s]\n",
      "Converting examples to features: 100%|██████████| 14/14 [00:00<00:00, 2441.79it/s]\n",
      "Converting examples to features: 100%|██████████| 10/10 [00:00<00:00, 2527.15it/s]\n"
     ]
    }
   ],
   "source": [
    "X_tra, y_tra = get_input(train_data, ww, max_seq_length, batch_size, limit=None)\n",
    "X_val, y_val = get_input(valid_data, ww, max_seq_length, batch_size, limit=None)"
   ]
  },
  {
   "cell_type": "code",
   "execution_count": 43,
   "metadata": {},
   "outputs": [
    {
     "data": {
      "text/plain": [
       "((3582, 3, 3, 512), (398, 3, 3, 512))"
      ]
     },
     "execution_count": 43,
     "metadata": {},
     "output_type": "execute_result"
    }
   ],
   "source": [
    "X_tra.shape, X_val.shape"
   ]
  },
  {
   "cell_type": "code",
   "execution_count": 44,
   "metadata": {},
   "outputs": [
    {
     "data": {
      "text/plain": [
       "((3582, 1), (398, 1))"
      ]
     },
     "execution_count": 44,
     "metadata": {},
     "output_type": "execute_result"
    }
   ],
   "source": [
    "y_tra.shape, y_val.shape"
   ]
  },
  {
   "cell_type": "code",
   "execution_count": 45,
   "metadata": {},
   "outputs": [
    {
     "data": {
      "text/plain": [
       "True"
      ]
     },
     "execution_count": 45,
     "metadata": {},
     "output_type": "execute_result"
    }
   ],
   "source": [
    "# Check if padding sentences are equal\n",
    "padset = get_padding_sentence(max_seq_length, padding_text='ENDPAD')\n",
    "padset['input_ids'] == list(X_tra[0][0][0])"
   ]
  },
  {
   "cell_type": "markdown",
   "metadata": {},
   "source": [
    "## Build Model"
   ]
  },
  {
   "cell_type": "code",
   "execution_count": 28,
   "metadata": {},
   "outputs": [],
   "source": [
    "def BERTEmbeddingStack(x):\n",
    "    embeds = []\n",
    "    for art in tf.unstack(tf.reshape(x, (batch_size, 3, 2*ww+1, 512))):\n",
    "        art = tf.cast(art, dtype=\"int32\")\n",
    "        # Below does not change the shape of segment_ids etc.\n",
    "        # Only puts them into a dictionary\n",
    "        bert_inputs = dict(\n",
    "            input_ids=art[0], \n",
    "            input_mask=art[1], \n",
    "            segment_ids=art[2]\n",
    "        )\n",
    "        # Mean-Pooling\n",
    "        result = bert(bert_inputs, signature=\"tokens\", as_dict=True)[\"sequence_output\"]\n",
    "        mul_mask = lambda x, m: x * tf.expand_dims(m, axis=-1)\n",
    "        masked_reduce_mean = lambda x, m: tf.reduce_sum(mul_mask(x, m), axis=1) / (\n",
    "                             tf.reduce_sum(m, axis=1, keepdims=True) + 1e-10)\n",
    "        input_mask = tf.cast(art[1], tf.float32)\n",
    "        pooled = masked_reduce_mean(result, input_mask)\n",
    "        embeds.append(pooled)\n",
    "    print(tf.stack(embeds, 0))\n",
    "    return tf.stack(embeds, 0)"
   ]
  },
  {
   "cell_type": "code",
   "execution_count": 46,
   "metadata": {},
   "outputs": [],
   "source": [
    "def build_model_0(ww):\n",
    "    \n",
    "    inp_size = 2*ww+1\n",
    "    input_text = Input(shape=(3, inp_size, max_seq_length))\n",
    "    \n",
    "    bert_output = Lambda(BERTEmbeddingStack, output_shape=(None, None, inp_size, 768))(input_text)\n",
    "    \n",
    "    x = Bidirectional(LSTM(units=256, return_sequences=True))(bert_output)\n",
    "                      \n",
    "    pred = LSTM(1, activation=\"sigmoid\")(x)\n",
    "\n",
    "    return Model(inputs=[input_text], outputs=pred)\n",
    "\n",
    "def build_model_1(ww):\n",
    "    \n",
    "    inp_size = 2*ww+1\n",
    "    input_text = Input(shape=(3, inp_size, max_seq_length))\n",
    "    \n",
    "    bert_output = Lambda(BERTEmbeddingStack, output_shape=(None, None, inp_size, 768))(input_text)\n",
    "    \n",
    "    x = Bidirectional(LSTM(units=128, return_sequences=True))(bert_output)\n",
    "\n",
    "    pred = LSTM(1, activation=\"sigmoid\")(x)\n",
    "\n",
    "    return Model(inputs=[input_text], outputs=pred)\n",
    "\n",
    "def build_model_2(ww):\n",
    "    \n",
    "    inp_size = 2*ww+1\n",
    "    input_text = Input(shape=(3, inp_size, max_seq_length))\n",
    "    \n",
    "    bert_output = Lambda(BERTEmbeddingStack, output_shape=(None, None, inp_size, 768))(input_text)\n",
    "    \n",
    "    x = Bidirectional(LSTM(units=256, return_sequences=True))(bert_output)\n",
    "    x = Dropout(0.2)(x)\n",
    "                      \n",
    "    pred = LSTM(1, activation=\"sigmoid\")(x)\n",
    "\n",
    "    return Model(inputs=[input_text], outputs=pred)\n",
    "\n",
    "def build_model_3(ww):\n",
    "    \n",
    "    inp_size = 2*ww+1\n",
    "    input_text = Input(shape=(3, inp_size, max_seq_length))\n",
    "    \n",
    "    bert_output = Lambda(BERTEmbeddingStack, output_shape=(None, None, inp_size, 768))(input_text)\n",
    "    \n",
    "    x = Dense(256, kernel_regularizer=l2(0.001))(bert_output)\n",
    "    x = Activation('relu')(x)\n",
    "    \n",
    "    x = Bidirectional(LSTM(units=128, return_sequences=True))(x)\n",
    "\n",
    "    pred = LSTM(1, activation=\"sigmoid\")(x)\n",
    "\n",
    "    return Model(inputs=[input_text], outputs=pred)\n",
    "\n",
    "def build_model_4(ww):\n",
    "    \n",
    "    inp_size = 2*ww+1\n",
    "    input_text = Input(shape=(3, inp_size, max_seq_length))\n",
    "    \n",
    "    bert_output = Lambda(BERTEmbeddingStack, output_shape=(None, None, inp_size, 768))(input_text)\n",
    "    \n",
    "    x = Dense(256, kernel_regularizer=l2(0.001))(bert_output)\n",
    "    x = Activation('relu')(x)\n",
    "    \n",
    "    x = Bidirectional(LSTM(units=128, return_sequences=True, recurrent_dropout=0.2, dropout=0.2))(x)\n",
    "\n",
    "    pred = LSTM(1, activation=\"sigmoid\")(x)\n",
    "\n",
    "    return Model(inputs=[input_text], outputs=pred)\n",
    "\n",
    "\n",
    "def build_model_6(ww):\n",
    "    \n",
    "    inp_size = 2*ww+1\n",
    "    input_text = Input(shape=(3, inp_size, max_seq_length))\n",
    "    \n",
    "    bert_output = Lambda(BERTEmbeddingStack, output_shape=(None, None, inp_size, 768))(input_text)\n",
    "    \n",
    "    x = Bidirectional(LSTM(units=256, return_sequences=True))(bert_output)\n",
    "    x = Bidirectional(LSTM(units=128, return_sequences=True))(x)\n",
    "    x = Dropout(0.4)(x)\n",
    "    \n",
    "    pred = LSTM(1, activation=\"sigmoid\")(x)\n",
    "\n",
    "    return Model(inputs=[input_text], outputs=pred)\n",
    "\n",
    "def build_model_8(ww):\n",
    "    \n",
    "    def residual(x):\n",
    "        x_res = x\n",
    "        \n",
    "        x = Bidirectional(LSTM(units=128, return_sequences=True))(x)\n",
    "        x = add([x, x_res])\n",
    "        return x\n",
    "    \n",
    "    inp_size = 2*ww+1\n",
    "    input_text = Input(shape=(3, inp_size, max_seq_length))\n",
    "    \n",
    "    bert_output = Lambda(BERTEmbeddingStack, output_shape=(None, None, inp_size, 768))(input_text)\n",
    "    \n",
    "    x = Bidirectional(LSTM(units=128, return_sequences=True))(bert_output)\n",
    "    x = residual(x)\n",
    "\n",
    "    pred = LSTM(1, activation=\"sigmoid\")(x)\n",
    "\n",
    "    return Model(inputs=[input_text], outputs=pred)\n",
    "\n",
    "def build_model_11(ww):\n",
    "    \n",
    "    def residual(x):\n",
    "        x_res = x\n",
    "        \n",
    "        x = Bidirectional(LSTM(units=128, return_sequences=True))(x)\n",
    "        x = add([x, x_res])\n",
    "        return x\n",
    "    \n",
    "    inp_size = 2*ww+1\n",
    "    input_text = Input(shape=(3, inp_size, max_seq_length))\n",
    "    \n",
    "    bert_output = Lambda(BERTEmbeddingStack, output_shape=(None, None, inp_size, 768))(input_text)\n",
    "    \n",
    "    x = Dense(256, kernel_regularizer=l2(0.001))(bert_output)\n",
    "    x = Activation('relu')(x)\n",
    "\n",
    "    x = Bidirectional(LSTM(units=128, return_sequences=True))(embedding)\n",
    "    x = residual(x)\n",
    "\n",
    "    pred = LSTM(1, activation=\"sigmoid\")(x)\n",
    "\n",
    "    return Model(inputs=[input_text], outputs=pred)\n",
    "\n",
    "def build_model_12(ww):\n",
    "    \n",
    "    def residual(x):\n",
    "        x_res = x\n",
    "\n",
    "        x = Bidirectional(CuDNNLSTM(units=256, return_sequences=True))(x)\n",
    "        x = add([x, x_res])\n",
    "        return x\n",
    "\n",
    "    inp_size = 2*ww+1\n",
    "    input_text = Input(shape=(3, inp_size, max_seq_length))\n",
    "    \n",
    "    bert_output = Lambda(BERTEmbeddingStack, output_shape=(None, None, inp_size, 768))(input_text)\n",
    "    \n",
    "    x = Dense(256, kernel_regularizer=l2(0.001))(bert_output)\n",
    "    x = Activation('relu')(x)\n",
    "                                \n",
    "    x = Bidirectional(LSTM(units=256, return_sequences=True))(x)\n",
    "    x = residual(x)\n",
    "\n",
    "    pred = LSTM(1, activation=\"sigmoid\")(x)\n",
    "\n",
    "    return Model(inputs=[input_text], outputs=pred)\n",
    "\n",
    "def build_model_13(ww):\n",
    "    \n",
    "    def residual(x):\n",
    "        x_res = x\n",
    "        \n",
    "        x = Bidirectional(LSTM(units=128, return_sequences=True,\n",
    "                           recurrent_dropout=0.2, dropout=0.2))(x)\n",
    "\n",
    "        x = add([x, x_res])\n",
    "        return x\n",
    "    \n",
    "    inp_size = 2*ww+1\n",
    "    input_text = Input(shape=(3, inp_size, max_seq_length))\n",
    "    \n",
    "    bert_output = Lambda(BERTEmbeddingStack, output_shape=(None, None, inp_size, 768))(input_text)  \n",
    "    \n",
    "    x = Dense(256, kernel_regularizer=l2(0.001))(bert_output)\n",
    "    x = Activation('relu')(x)\n",
    "\n",
    "    x = Bidirectional(LSTM(units=128, return_sequences=True,\n",
    "                           recurrent_dropout=0.2, dropout=0.2))(x)\n",
    "\n",
    "    x = residual(x)\n",
    "\n",
    "    pred = LSTM(1, activation=\"sigmoid\")(x)\n",
    "    \n",
    "    return Model(inputs=[input_text], outputs=pred)"
   ]
  },
  {
   "cell_type": "code",
   "execution_count": 30,
   "metadata": {},
   "outputs": [],
   "source": [
    "learningrate = 2e-5\n",
    "optimizer = Adam(lr=learningrate)\n",
    "optimizer_str = 'adam'\n",
    "loss = 'binary_crossentropy'\n",
    "metrics = ['acc', f1_macro, f1_micro]"
   ]
  },
  {
   "cell_type": "code",
   "execution_count": 31,
   "metadata": {
    "scrolled": true
   },
   "outputs": [
    {
     "name": "stderr",
     "output_type": "stream",
     "text": [
      "WARNING: Logging before flag parsing goes to stderr.\n",
      "W1110 15:01:14.035214 140499060060288 deprecation.py:506] From /home/aorus/workspaces/simge/Master_Thesis/.env/lib/python3.6/site-packages/tensorflow/python/ops/init_ops.py:1251: calling VarianceScaling.__init__ (from tensorflow.python.ops.init_ops) with dtype is deprecated and will be removed in a future version.\n",
      "Instructions for updating:\n",
      "Call initializer instance with the dtype argument instead of passing it to the constructor\n",
      "W1110 15:01:14.038515 140499060060288 deprecation.py:506] From /home/aorus/workspaces/simge/Master_Thesis/.env/lib/python3.6/site-packages/tensorflow/python/ops/init_ops.py:97: calling GlorotUniform.__init__ (from tensorflow.python.ops.init_ops) with dtype is deprecated and will be removed in a future version.\n",
      "Instructions for updating:\n",
      "Call initializer instance with the dtype argument instead of passing it to the constructor\n",
      "W1110 15:01:14.039088 140499060060288 deprecation.py:506] From /home/aorus/workspaces/simge/Master_Thesis/.env/lib/python3.6/site-packages/tensorflow/python/ops/init_ops.py:97: calling Orthogonal.__init__ (from tensorflow.python.ops.init_ops) with dtype is deprecated and will be removed in a future version.\n",
      "Instructions for updating:\n",
      "Call initializer instance with the dtype argument instead of passing it to the constructor\n",
      "W1110 15:01:14.039619 140499060060288 deprecation.py:506] From /home/aorus/workspaces/simge/Master_Thesis/.env/lib/python3.6/site-packages/tensorflow/python/ops/init_ops.py:97: calling Zeros.__init__ (from tensorflow.python.ops.init_ops) with dtype is deprecated and will be removed in a future version.\n",
      "Instructions for updating:\n",
      "Call initializer instance with the dtype argument instead of passing it to the constructor\n"
     ]
    },
    {
     "name": "stdout",
     "output_type": "stream",
     "text": [
      "Tensor(\"lambda_2/stack:0\", shape=(2, 3, 768), dtype=float32)\n",
      "Model: \"model\"\n",
      "_________________________________________________________________\n",
      "Layer (type)                 Output Shape              Param #   \n",
      "=================================================================\n",
      "input_3 (InputLayer)         [(None, 3, 3, 512)]       0         \n",
      "_________________________________________________________________\n",
      "lambda_2 (Lambda)            (2, 3, 768)               0         \n",
      "_________________________________________________________________\n",
      "bidirectional (Bidirectional (2, 3, 512)               2099200   \n",
      "_________________________________________________________________\n",
      "dropout (Dropout)            (2, 3, 512)               0         \n",
      "_________________________________________________________________\n",
      "lstm_1 (LSTM)                (2, 1)                    2056      \n",
      "=================================================================\n",
      "Total params: 2,101,256\n",
      "Trainable params: 2,101,256\n",
      "Non-trainable params: 0\n",
      "_________________________________________________________________\n"
     ]
    }
   ],
   "source": [
    "model = build_model_2(ww)\n",
    "model.summary()\n",
    "\n",
    "model.compile(loss=loss, optimizer=optimizer, metrics=metrics)"
   ]
  },
  {
   "cell_type": "code",
   "execution_count": 32,
   "metadata": {},
   "outputs": [],
   "source": [
    "model_name = 'RQ2_test_bert_many_to_one_model_2' + \\\n",
    "             '_ww_' + str(ww) + \\\n",
    "             '_' + optimizer_str + \\\n",
    "             '_lr_' + str(learningrate) + \\\n",
    "             '_lrreduction' + \\\n",
    "             '_loss_' + loss\n",
    "\n",
    "model_dir = './Model/' + model_name.split('model')[0] + 'model/' + model_name\n",
    "results_file = os.path.join(model_dir, 'model_results_file.txt')"
   ]
  },
  {
   "cell_type": "markdown",
   "metadata": {},
   "source": [
    "### Train Model"
   ]
  },
  {
   "cell_type": "code",
   "execution_count": 33,
   "metadata": {},
   "outputs": [],
   "source": [
    "# Instantiate variables\n",
    "initialize_vars(sess)"
   ]
  },
  {
   "cell_type": "code",
   "execution_count": 34,
   "metadata": {
    "scrolled": false
   },
   "outputs": [
    {
     "data": {
      "image/png": "[encoded data removed]",
      "text/plain": [
       "<Figure size 720x360 with 1 Axes>"
      ]
     },
     "metadata": {
      "needs_background": "light"
     },
     "output_type": "display_data"
    },
    {
     "name": "stdout",
     "output_type": "stream",
     "text": [
      "\b\b\b\b\b\b\b\b\b\b\b\b\b\b\b\b\b\b\b\b\b\b\b\b\b\b\b\b\b\b\b\b\b\b\b\b\b\b\b\b\b\b\b\b\b\b\b\b\b\b\b\b\b\b\b\b\b\b\b\b\b\b\b\b\b\b\b\b\b\b\b\b\b\b\b\b\b\b\b\b\b\b\b\b\b\b\b\b\b\b\b\b\b\b\b\b\b\b\b\b\b\b\b\b\b\b\b\b\b\b\b\b\b\b\b\b\b\b\b\r",
      "3582/3582 [==============================] - 322s 90ms/sample - loss: 0.5492 - acc: 0.7236 - f1_macro: 0.0534 - f1_micro: 0.0310 - val_loss: 0.5171 - val_acc: 0.7513 - val_f1_macro: 0.2998 - val_f1_micro: 0.1784\n"
     ]
    },
    {
     "data": {
      "text/plain": [
       "<tensorflow.python.keras.callbacks.History at 0x7fc3df90e320>"
      ]
     },
     "execution_count": 34,
     "metadata": {},
     "output_type": "execute_result"
    }
   ],
   "source": [
    "model.fit(X_tra, y_tra, \n",
    "          epochs=1,\n",
    "          batch_size=batch_size, \n",
    "          validation_data=(X_val, y_val),\n",
    "          callbacks=[\n",
    "            PlotCurves(model_name=model_name, \n",
    "                       model_dir=model_dir, jnote=True)\n",
    "          ])"
   ]
  },
  {
   "cell_type": "markdown",
   "metadata": {},
   "source": [
    "### Load the best Model"
   ]
  },
  {
   "cell_type": "code",
   "execution_count": 35,
   "metadata": {},
   "outputs": [
    {
     "data": {
      "text/plain": [
       "'RQ2_test_bert_many_to_one_model_2_ww_1_adam_lr_2e-05_lrreduction_loss_binary_crossentropy'"
      ]
     },
     "execution_count": 35,
     "metadata": {},
     "output_type": "execute_result"
    }
   ],
   "source": [
    "model_name"
   ]
  },
  {
   "cell_type": "raw",
   "metadata": {},
   "source": [
    "best_model = load_model(os.path.join(model_dir, model_name + '_best_f1_macro_model.h5'), \n",
    "                        custom_objects={'elmo':elmo, 'tf':tf, 'f1_macro':f1_macro, 'f1_micro':f1_micro})"
   ]
  },
  {
   "cell_type": "code",
   "execution_count": 36,
   "metadata": {},
   "outputs": [],
   "source": [
    "best_model = model"
   ]
  },
  {
   "cell_type": "markdown",
   "metadata": {},
   "source": [
    "### Evaluation"
   ]
  },
  {
   "cell_type": "code",
   "execution_count": 37,
   "metadata": {},
   "outputs": [],
   "source": [
    "def get_scores(model, data_, batch_size, ww, max_seq_length,\n",
    "               results_file=None, print_out=False):\n",
    "    \n",
    "    X, y_true = get_input(data_, ww, max_seq_length, batch_size, limit=None)\n",
    "    y_true = [y[0] for y in y_true]\n",
    "    \n",
    "    y_preds = model.predict(X, batch_size=batch_size)\n",
    "    y_preds = [0 if y[0] < 0.5 else 1 for y in y_preds]\n",
    "    \n",
    "    clsrpt = classification_report(y_true, y_preds)\n",
    "    sf1 = scikit_f1_score(y_true, y_preds)\n",
    "    sfm = scikit_f1_score(y_true, y_preds, average='macro')\n",
    "\n",
    "    if print_out:\n",
    "        print(clsrpt)\n",
    "        print('\\nScikit_F1_Macro:', sfm)\n",
    "        print('\\nScikit_F1_1:', sf1)\n",
    "\n",
    "    if results_file:\n",
    "        with open(results_file, 'a') as f:\n",
    "            f.write('\\n' + clsrpt + '\\nF1_Macro: ' + str(sfm) + '\\nF1_1: ' + str(sf1) + '\\n\\n')\n",
    "            \n",
    "    return sfm"
   ]
  },
  {
   "cell_type": "markdown",
   "metadata": {},
   "source": [
    "#### Validation Set"
   ]
  },
  {
   "cell_type": "code",
   "execution_count": 38,
   "metadata": {},
   "outputs": [
    {
     "name": "stderr",
     "output_type": "stream",
     "text": [
      "Converting examples to features: 100%|██████████| 4/4 [00:00<00:00, 1122.45it/s]\n",
      "Converting examples to features: 100%|██████████| 20/20 [00:00<00:00, 2032.42it/s]\n",
      "Converting examples to features: 100%|██████████| 5/5 [00:00<00:00, 2360.33it/s]\n",
      "Converting examples to features: 100%|██████████| 14/14 [00:00<00:00, 2483.10it/s]\n",
      "Converting examples to features: 100%|██████████| 16/16 [00:00<00:00, 2585.78it/s]\n",
      "Converting examples to features: 100%|██████████| 18/18 [00:00<00:00, 2868.34it/s]\n",
      "Converting examples to features: 100%|██████████| 8/8 [00:00<00:00, 2396.57it/s]\n",
      "Converting examples to features: 100%|██████████| 15/15 [00:00<00:00, 1889.38it/s]\n",
      "Converting examples to features: 100%|██████████| 9/9 [00:00<00:00, 1876.83it/s]\n",
      "Converting examples to features: 100%|██████████| 12/12 [00:00<00:00, 2655.74it/s]\n",
      "Converting examples to features: 100%|██████████| 12/12 [00:00<00:00, 2759.56it/s]\n",
      "Converting examples to features: 100%|██████████| 7/7 [00:00<00:00, 2665.47it/s]\n",
      "Converting examples to features: 100%|██████████| 10/10 [00:00<00:00, 2406.92it/s]\n",
      "Converting examples to features: 100%|██████████| 13/13 [00:00<00:00, 2337.56it/s]\n",
      "Converting examples to features: 100%|██████████| 16/16 [00:00<00:00, 2575.66it/s]\n",
      "Converting examples to features: 100%|██████████| 30/30 [00:00<00:00, 2053.55it/s]\n",
      "Converting examples to features: 100%|██████████| 9/9 [00:00<00:00, 2372.79it/s]\n",
      "Converting examples to features: 100%|██████████| 12/12 [00:00<00:00, 2306.15it/s]\n",
      "Converting examples to features: 100%|██████████| 13/13 [00:00<00:00, 2645.86it/s]\n",
      "Converting examples to features: 100%|██████████| 7/7 [00:00<00:00, 1778.43it/s]\n",
      "Converting examples to features: 100%|██████████| 6/6 [00:00<00:00, 1813.49it/s]\n",
      "Converting examples to features: 100%|██████████| 21/21 [00:00<00:00, 2920.34it/s]\n",
      "Converting examples to features: 100%|██████████| 20/20 [00:00<00:00, 2971.21it/s]\n",
      "Converting examples to features: 100%|██████████| 15/15 [00:00<00:00, 3594.09it/s]\n",
      "Converting examples to features: 100%|██████████| 8/8 [00:00<00:00, 2123.56it/s]\n",
      "Converting examples to features: 100%|██████████| 6/6 [00:00<00:00, 2682.92it/s]\n",
      "Converting examples to features: 100%|██████████| 10/10 [00:00<00:00, 2437.42it/s]\n",
      "Converting examples to features: 100%|██████████| 22/22 [00:00<00:00, 2217.72it/s]\n",
      "Converting examples to features: 100%|██████████| 6/6 [00:00<00:00, 2096.10it/s]\n",
      "Converting examples to features: 100%|██████████| 11/11 [00:00<00:00, 2561.48it/s]\n",
      "Converting examples to features: 100%|██████████| 14/14 [00:00<00:00, 2679.58it/s]\n",
      "Converting examples to features: 100%|██████████| 10/10 [00:00<00:00, 2474.81it/s]\n"
     ]
    },
    {
     "name": "stdout",
     "output_type": "stream",
     "text": [
      "              precision    recall  f1-score   support\n",
      "\n",
      "           0       0.79      0.85      0.82       268\n",
      "           1       0.64      0.55      0.59       130\n",
      "\n",
      "   micro avg       0.75      0.75      0.75       398\n",
      "   macro avg       0.72      0.70      0.71       398\n",
      "weighted avg       0.74      0.75      0.75       398\n",
      "\n",
      "\n",
      "Scikit_F1_Macro: 0.7054166199394414\n",
      "\n",
      "Scikit_F1_1: 0.5892116182572613\n"
     ]
    }
   ],
   "source": [
    "with open(results_file, 'w') as f:\n",
    "    f.write('\\n---------------- Validation ----------------\\n')\n",
    "val_f1 = get_scores(best_model, valid_data, batch_size, ww, max_seq_length, \n",
    "                    results_file, print_out=True)"
   ]
  },
  {
   "cell_type": "markdown",
   "metadata": {},
   "source": [
    "#### Test Set"
   ]
  },
  {
   "cell_type": "code",
   "execution_count": 39,
   "metadata": {},
   "outputs": [
    {
     "name": "stderr",
     "output_type": "stream",
     "text": [
      "Converting examples to features: 100%|██████████| 23/23 [00:00<00:00, 3042.42it/s]\n",
      "Converting examples to features: 100%|██████████| 14/14 [00:00<00:00, 1859.12it/s]\n",
      "Converting examples to features: 100%|██████████| 14/14 [00:00<00:00, 2325.00it/s]\n",
      "Converting examples to features: 100%|██████████| 32/32 [00:00<00:00, 2540.66it/s]\n",
      "Converting examples to features: 100%|██████████| 23/23 [00:00<00:00, 2360.62it/s]\n",
      "Converting examples to features: 100%|██████████| 12/12 [00:00<00:00, 3297.19it/s]\n",
      "Converting examples to features: 100%|██████████| 4/4 [00:00<00:00, 1510.37it/s]\n",
      "Converting examples to features: 100%|██████████| 9/9 [00:00<00:00, 2174.09it/s]\n",
      "Converting examples to features: 100%|██████████| 5/5 [00:00<00:00, 2275.31it/s]\n",
      "Converting examples to features: 100%|██████████| 34/34 [00:00<00:00, 3224.05it/s]\n",
      "Converting examples to features: 100%|██████████| 10/10 [00:00<00:00, 2844.37it/s]\n",
      "Converting examples to features: 100%|██████████| 10/10 [00:00<00:00, 1837.19it/s]\n",
      "Converting examples to features: 100%|██████████| 8/8 [00:00<00:00, 2076.13it/s]\n",
      "Converting examples to features: 100%|██████████| 5/5 [00:00<00:00, 2304.56it/s]\n",
      "Converting examples to features: 100%|██████████| 16/16 [00:00<00:00, 2882.19it/s]\n",
      "Converting examples to features: 100%|██████████| 4/4 [00:00<00:00, 2411.56it/s]\n",
      "Converting examples to features: 100%|██████████| 8/8 [00:00<00:00, 1837.09it/s]\n",
      "Converting examples to features: 100%|██████████| 26/26 [00:00<00:00, 2484.15it/s]\n",
      "Converting examples to features: 100%|██████████| 9/9 [00:00<00:00, 2008.77it/s]\n",
      "Converting examples to features: 100%|██████████| 11/11 [00:00<00:00, 2434.95it/s]\n",
      "Converting examples to features: 100%|██████████| 13/13 [00:00<00:00, 2402.77it/s]\n",
      "Converting examples to features: 100%|██████████| 8/8 [00:00<00:00, 2293.54it/s]\n",
      "Converting examples to features: 100%|██████████| 36/36 [00:00<00:00, 2809.52it/s]\n",
      "Converting examples to features: 100%|██████████| 4/4 [00:00<00:00, 1788.62it/s]\n",
      "Converting examples to features: 100%|██████████| 14/14 [00:00<00:00, 2382.26it/s]\n",
      "Converting examples to features: 100%|██████████| 14/14 [00:00<00:00, 3018.26it/s]\n",
      "Converting examples to features: 100%|██████████| 10/10 [00:00<00:00, 2119.94it/s]\n",
      "Converting examples to features: 100%|██████████| 10/10 [00:00<00:00, 1791.83it/s]\n",
      "Converting examples to features: 100%|██████████| 6/6 [00:00<00:00, 2450.18it/s]\n",
      "Converting examples to features: 100%|██████████| 16/16 [00:00<00:00, 1989.94it/s]\n",
      "Converting examples to features: 100%|██████████| 20/20 [00:00<00:00, 2107.96it/s]\n",
      "Converting examples to features: 100%|██████████| 13/13 [00:00<00:00, 2080.83it/s]\n"
     ]
    },
    {
     "name": "stdout",
     "output_type": "stream",
     "text": [
      "              precision    recall  f1-score   support\n",
      "\n",
      "           0       0.81      0.94      0.87       325\n",
      "           1       0.68      0.37      0.48       115\n",
      "\n",
      "   micro avg       0.79      0.79      0.79       440\n",
      "   macro avg       0.75      0.66      0.68       440\n",
      "weighted avg       0.78      0.79      0.77       440\n",
      "\n",
      "\n",
      "Scikit_F1_Macro: 0.6760459681807997\n",
      "\n",
      "Scikit_F1_1: 0.4831460674157303\n"
     ]
    }
   ],
   "source": [
    "with open(results_file, 'a') as f:\n",
    "    f.write('\\n---------------- Test ----------------\\n')\n",
    "test_f1 = get_scores(best_model, test_data, batch_size, ww, max_seq_length,\n",
    "                     results_file, print_out=True)"
   ]
  }
 ],
 "metadata": {
  "kernelspec": {
   "display_name": "Python 3",
   "language": "python",
   "name": "python3"
  },
  "language_info": {
   "codemirror_mode": {
    "name": "ipython",
    "version": 3
   },
   "file_extension": ".py",
   "mimetype": "text/x-python",
   "name": "python",
   "nbconvert_exporter": "python",
   "pygments_lexer": "ipython3",
   "version": "3.6.8"
  }
 },
 "nbformat": 4,
 "nbformat_minor": 2
}
