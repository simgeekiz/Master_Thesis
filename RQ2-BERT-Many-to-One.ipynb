{
 "cells": [
  {
   "cell_type": "code",
   "execution_count": 1,
   "metadata": {},
   "outputs": [],
   "source": [
    "%load_ext autoreload\n",
    "%autoreload 2"
   ]
  },
  {
   "cell_type": "code",
   "execution_count": 2,
   "metadata": {},
   "outputs": [],
   "source": [
    "import os\n",
    "import numpy as np"
   ]
  },
  {
   "cell_type": "code",
   "execution_count": 3,
   "metadata": {},
   "outputs": [],
   "source": [
    "import tensorflow as tf\n",
    "import tensorflow_hub as hub"
   ]
  },
  {
   "cell_type": "code",
   "execution_count": 4,
   "metadata": {},
   "outputs": [],
   "source": [
    "from tensorflow.keras.models import Model, load_model\n",
    "from tensorflow.keras.layers import Input, Dense, Lambda, Activation, Conv1D, \\\n",
    "                                    MaxPooling1D, Flatten, Reshape, Bidirectional, \\\n",
    "                                    BatchNormalization, Dropout, add, LSTM, \\\n",
    "                                    TimeDistributed\n",
    "from tensorflow.keras.optimizers import RMSprop, Adam, Adamax, SGD\n",
    "from tensorflow.keras.regularizers import l2"
   ]
  },
  {
   "cell_type": "code",
   "execution_count": 5,
   "metadata": {},
   "outputs": [],
   "source": [
    "from src.keras_bert import convert_single_example, \\\n",
    "                           convert_text_to_examples, \\\n",
    "                           create_tokenizer_from_hub_module, \\\n",
    "                           convert_examples_to_features, \\\n",
    "                           InputExample, \\\n",
    "                           initialize_vars, \\\n",
    "                           BertLayer"
   ]
  },
  {
   "cell_type": "code",
   "execution_count": 6,
   "metadata": {},
   "outputs": [
    {
     "name": "stderr",
     "output_type": "stream",
     "text": [
      "Using TensorFlow backend.\n"
     ]
    }
   ],
   "source": [
    "from keras.utils import to_categorical"
   ]
  },
  {
   "cell_type": "code",
   "execution_count": 7,
   "metadata": {},
   "outputs": [],
   "source": [
    "from sklearn.metrics import classification_report\n",
    "from sklearn.metrics import f1_score as scikit_f1_score"
   ]
  },
  {
   "cell_type": "code",
   "execution_count": 8,
   "metadata": {},
   "outputs": [],
   "source": [
    "# Initialize session\n",
    "sess = tf.compat.v1.Session()"
   ]
  },
  {
   "cell_type": "code",
   "execution_count": 9,
   "metadata": {},
   "outputs": [
    {
     "name": "stdout",
     "output_type": "stream",
     "text": [
      "GPU enabled\n"
     ]
    }
   ],
   "source": [
    "with tf.device(\"gpu:0\"):\n",
    "    print(\"GPU enabled\")"
   ]
  },
  {
   "cell_type": "markdown",
   "metadata": {},
   "source": [
    "#### Custom Functions"
   ]
  },
  {
   "cell_type": "code",
   "execution_count": 10,
   "metadata": {},
   "outputs": [],
   "source": [
    "from src.callbacks import PlotCurvesTF as PlotCurves\n",
    "from src.eval_metrics import f1_macro, f1_micro \n",
    "from src.load_data import load_data"
   ]
  },
  {
   "cell_type": "markdown",
   "metadata": {},
   "source": [
    "### Load Data"
   ]
  },
  {
   "cell_type": "code",
   "execution_count": 39,
   "metadata": {},
   "outputs": [],
   "source": [
    "train_data, valid_data, test_data, metadata = load_data()"
   ]
  },
  {
   "cell_type": "code",
   "execution_count": 46,
   "metadata": {
    "scrolled": false
   },
   "outputs": [],
   "source": [
    "for a, article in enumerate(valid_data):\n",
    "    for s, sent in enumerate(article['sentences']):\n",
    "        lent =len(sent['sentence'].split())\n",
    "        if lent > 90:\n",
    "             del valid_data[a]['sentences'][s]"
   ]
  },
  {
   "cell_type": "markdown",
   "metadata": {},
   "source": [
    "### Load BERT"
   ]
  },
  {
   "cell_type": "code",
   "execution_count": 13,
   "metadata": {},
   "outputs": [],
   "source": [
    "os.environ[\"TFHUB_CACHE_DIR\"] = '/tmp/tfhub'"
   ]
  },
  {
   "cell_type": "code",
   "execution_count": 14,
   "metadata": {},
   "outputs": [],
   "source": [
    "bert_path = \"https://tfhub.dev/google/bert_uncased_L-12_H-768_A-12/1\""
   ]
  },
  {
   "cell_type": "code",
   "execution_count": 15,
   "metadata": {},
   "outputs": [],
   "source": [
    "bert = hub.Module(bert_path, trainable=True)"
   ]
  },
  {
   "cell_type": "markdown",
   "metadata": {},
   "source": [
    "### Prepare data"
   ]
  },
  {
   "cell_type": "code",
   "execution_count": 16,
   "metadata": {},
   "outputs": [],
   "source": [
    "ww = 1\n",
    "batch_size = 2\n",
    "\n",
    "max_seq_length = 512\n",
    "if max_seq_length > 512:\n",
    "    print('!!!!!!! WARNING: BERT does not accept length > 512')\n",
    "    max_seq_length = 512"
   ]
  },
  {
   "cell_type": "code",
   "execution_count": 17,
   "metadata": {},
   "outputs": [],
   "source": [
    "def get_padding_sentence(max_seq_length, tokenizer, padding_text='ENDPAD'):\n",
    "\n",
    "    example_sent = InputExample(guid=None, text_a=\" \".join(padding_text), text_b=None, label=0)\n",
    "\n",
    "    (input_ids, input_mask, segment_ids, label) = \\\n",
    "        convert_single_example(tokenizer, example_sent, max_seq_length=max_seq_length)\n",
    "\n",
    "    return {\"input_ids\": input_ids, \"input_mask\": input_mask, \"segment_ids\": segment_ids, \"label\": 0}"
   ]
  },
  {
   "cell_type": "code",
   "execution_count": 18,
   "metadata": {},
   "outputs": [],
   "source": [
    "def get_input(data_, ww, max_seq_length, batch_size, limit=None):\n",
    "\n",
    "    tokenizer = create_tokenizer_from_hub_module(bert_path)\n",
    "\n",
    "    padding_sent = get_padding_sentence(max_seq_length, tokenizer, padding_text='ENDPAD')\n",
    "\n",
    "    X = []\n",
    "    y = []\n",
    "    for article in data_:\n",
    "\n",
    "        X_art = np.array([[\" \".join(sentence['sentence'].replace('\\n', ' ').strip().split()[0:max_seq_length])]\n",
    "                          for sentence in article['sentences']], dtype=object)\n",
    "\n",
    "        y_art = [sentence['label'] for sentence in article['sentences']]\n",
    "\n",
    "        examples_ = convert_text_to_examples(X_art, y_art)\n",
    "\n",
    "        (input_ids, input_masks, segment_ids, labels_) = \\\n",
    "            convert_examples_to_features(tokenizer, examples_, max_seq_length=max_seq_length)\n",
    "\n",
    "        for si, _ in enumerate(article['sentences']):\n",
    "\n",
    "            input_ids_seq = []\n",
    "            input_mask_seq = []\n",
    "            segment_ids_seq = []\n",
    "            y_seq = []\n",
    "\n",
    "            # Prev\n",
    "            for i in reversed(range(ww)):\n",
    "\n",
    "                if si - i - 1 >= 0:\n",
    "                    sent_obj_prev = {\"input_ids\": input_ids[si - i - 1],\n",
    "                                     \"input_mask\": input_masks[si - i - 1],\n",
    "                                     \"segment_ids\": segment_ids[si - i - 1]}\n",
    "                else:\n",
    "                    sent_obj_prev = padding_sent\n",
    "\n",
    "                input_ids_seq.append(sent_obj_prev['input_ids'])\n",
    "                input_mask_seq.append(sent_obj_prev['input_mask'])\n",
    "                segment_ids_seq.append(sent_obj_prev['segment_ids'])\n",
    "\n",
    "            # Curr\n",
    "            sent_obj = {\"input_ids\": input_ids[si],\n",
    "                        \"input_mask\": input_masks[si],\n",
    "                        \"segment_ids\": segment_ids[si]}\n",
    "\n",
    "            input_ids_seq.append(sent_obj['input_ids'])\n",
    "            input_mask_seq.append(sent_obj['input_mask'])\n",
    "            segment_ids_seq.append(sent_obj['segment_ids'])\n",
    "            y_seq.append(labels_[si][0])\n",
    "\n",
    "            # Next\n",
    "            for i in range(ww):\n",
    "\n",
    "                if si + i + 1 < len(article['sentences']):\n",
    "                    sent_obj_next = {\"input_ids\": input_ids[si + i + 1],\n",
    "                                     \"input_mask\": input_masks[si + i + 1],\n",
    "                                     \"segment_ids\": segment_ids[si + i + 1]}\n",
    "                else:\n",
    "                    sent_obj_next = padding_sent\n",
    "\n",
    "                input_ids_seq.append(sent_obj_next['input_ids'])\n",
    "                input_mask_seq.append(sent_obj_next['input_mask'])\n",
    "                segment_ids_seq.append(sent_obj_next['segment_ids'])\n",
    "\n",
    "            X_seq = (np.array(input_ids_seq),\n",
    "                     np.array(input_mask_seq),\n",
    "                     np.array(segment_ids_seq))\n",
    "\n",
    "            X.append(X_seq)\n",
    "            y.append(y_seq)\n",
    "\n",
    "    # limit data if not an even number when batch_size=2\n",
    "    if not limit:\n",
    "        limit = len(X) if len(X) % batch_size == 0 else len(X) - len(X) % batch_size\n",
    "    X = X[:limit]\n",
    "    y = y[:limit]\n",
    "\n",
    "    return np.array(X), np.array(y)"
   ]
  },
  {
   "cell_type": "code",
   "execution_count": 19,
   "metadata": {},
   "outputs": [
    {
     "name": "stderr",
     "output_type": "stream",
     "text": [
      "Converting examples to features: 100%|██████████| 10/10 [00:00<00:00, 2088.59it/s]\n",
      "Converting examples to features: 100%|██████████| 16/16 [00:00<00:00, 2619.29it/s]\n",
      "Converting examples to features: 100%|██████████| 14/14 [00:00<00:00, 1694.13it/s]\n",
      "Converting examples to features: 100%|██████████| 13/13 [00:00<00:00, 2244.79it/s]\n",
      "Converting examples to features: 100%|██████████| 33/33 [00:00<00:00, 2340.18it/s]\n",
      "Converting examples to features: 100%|██████████| 11/11 [00:00<00:00, 2130.37it/s]\n",
      "Converting examples to features: 100%|██████████| 5/5 [00:00<00:00, 3319.85it/s]\n",
      "Converting examples to features: 100%|██████████| 12/12 [00:00<00:00, 1257.91it/s]\n",
      "Converting examples to features: 100%|██████████| 17/17 [00:00<00:00, 1741.99it/s]\n",
      "Converting examples to features: 100%|██████████| 5/5 [00:00<00:00, 2498.99it/s]\n",
      "Converting examples to features: 100%|██████████| 22/22 [00:00<00:00, 2665.43it/s]\n",
      "Converting examples to features: 100%|██████████| 18/18 [00:00<00:00, 2543.89it/s]\n",
      "Converting examples to features: 100%|██████████| 11/11 [00:00<00:00, 2611.65it/s]\n",
      "Converting examples to features: 100%|██████████| 13/13 [00:00<00:00, 2564.12it/s]\n",
      "Converting examples to features: 100%|██████████| 26/26 [00:00<00:00, 2490.28it/s]\n",
      "Converting examples to features: 100%|██████████| 7/7 [00:00<00:00, 1815.49it/s]\n",
      "Converting examples to features: 100%|██████████| 17/17 [00:00<00:00, 2429.82it/s]\n",
      "Converting examples to features: 100%|██████████| 13/13 [00:00<00:00, 2807.72it/s]\n",
      "Converting examples to features: 100%|██████████| 14/14 [00:00<00:00, 2423.55it/s]\n",
      "Converting examples to features: 100%|██████████| 16/16 [00:00<00:00, 2498.56it/s]\n",
      "Converting examples to features: 100%|██████████| 16/16 [00:00<00:00, 2721.37it/s]\n",
      "Converting examples to features: 100%|██████████| 8/8 [00:00<00:00, 2491.05it/s]\n",
      "Converting examples to features: 100%|██████████| 28/28 [00:00<00:00, 2526.09it/s]\n",
      "Converting examples to features: 100%|██████████| 14/14 [00:00<00:00, 2442.00it/s]\n",
      "Converting examples to features: 100%|██████████| 17/17 [00:00<00:00, 2013.19it/s]\n",
      "Converting examples to features: 100%|██████████| 14/14 [00:00<00:00, 2589.76it/s]\n",
      "Converting examples to features: 100%|██████████| 8/8 [00:00<00:00, 2038.92it/s]\n",
      "Converting examples to features: 100%|██████████| 14/14 [00:00<00:00, 2283.50it/s]\n",
      "Converting examples to features: 100%|██████████| 23/23 [00:00<00:00, 2828.09it/s]\n",
      "Converting examples to features: 100%|██████████| 9/9 [00:00<00:00, 2018.33it/s]\n",
      "Converting examples to features: 100%|██████████| 5/5 [00:00<00:00, 2348.70it/s]\n",
      "Converting examples to features: 100%|██████████| 7/7 [00:00<00:00, 2536.73it/s]\n",
      "Converting examples to features: 100%|██████████| 9/9 [00:00<00:00, 2036.95it/s]\n",
      "Converting examples to features: 100%|██████████| 18/18 [00:00<00:00, 2417.08it/s]\n",
      "Converting examples to features: 100%|██████████| 14/14 [00:00<00:00, 2525.06it/s]\n",
      "Converting examples to features: 100%|██████████| 5/5 [00:00<00:00, 2695.91it/s]\n",
      "Converting examples to features: 100%|██████████| 18/18 [00:00<00:00, 2686.93it/s]\n",
      "Converting examples to features: 100%|██████████| 21/21 [00:00<00:00, 2556.54it/s]\n",
      "Converting examples to features: 100%|██████████| 6/6 [00:00<00:00, 2533.05it/s]\n",
      "Converting examples to features: 100%|██████████| 9/9 [00:00<00:00, 1919.39it/s]\n",
      "Converting examples to features: 100%|██████████| 13/13 [00:00<00:00, 2156.28it/s]\n",
      "Converting examples to features: 100%|██████████| 21/21 [00:00<00:00, 2284.24it/s]\n",
      "Converting examples to features: 100%|██████████| 7/7 [00:00<00:00, 2604.00it/s]\n",
      "Converting examples to features: 100%|██████████| 13/13 [00:00<00:00, 2155.69it/s]\n",
      "Converting examples to features: 100%|██████████| 13/13 [00:00<00:00, 2206.01it/s]\n",
      "Converting examples to features: 100%|██████████| 10/10 [00:00<00:00, 2829.40it/s]\n",
      "Converting examples to features: 100%|██████████| 3/3 [00:00<00:00, 2048.67it/s]\n",
      "Converting examples to features: 100%|██████████| 8/8 [00:00<00:00, 2837.10it/s]\n",
      "Converting examples to features: 100%|██████████| 44/44 [00:00<00:00, 2551.10it/s]\n",
      "Converting examples to features: 100%|██████████| 7/7 [00:00<00:00, 2422.25it/s]\n",
      "Converting examples to features: 100%|██████████| 5/5 [00:00<00:00, 1921.17it/s]\n",
      "Converting examples to features: 100%|██████████| 10/10 [00:00<00:00, 2053.11it/s]\n",
      "Converting examples to features: 100%|██████████| 48/48 [00:00<00:00, 2720.92it/s]\n",
      "Converting examples to features: 100%|██████████| 6/6 [00:00<00:00, 2554.91it/s]\n",
      "Converting examples to features: 100%|██████████| 4/4 [00:00<00:00, 1372.71it/s]\n",
      "Converting examples to features: 100%|██████████| 12/12 [00:00<00:00, 2706.58it/s]\n",
      "Converting examples to features: 100%|██████████| 6/6 [00:00<00:00, 2218.82it/s]\n",
      "Converting examples to features: 100%|██████████| 7/7 [00:00<00:00, 2543.76it/s]\n",
      "Converting examples to features: 100%|██████████| 13/13 [00:00<00:00, 2366.48it/s]\n",
      "Converting examples to features: 100%|██████████| 29/29 [00:00<00:00, 2924.69it/s]\n",
      "Converting examples to features: 100%|██████████| 11/11 [00:00<00:00, 2038.32it/s]\n",
      "Converting examples to features: 100%|██████████| 7/7 [00:00<00:00, 2304.56it/s]\n",
      "Converting examples to features: 100%|██████████| 16/16 [00:00<00:00, 1987.70it/s]\n",
      "Converting examples to features: 100%|██████████| 45/45 [00:00<00:00, 2880.66it/s]\n",
      "Converting examples to features: 100%|██████████| 6/6 [00:00<00:00, 1851.79it/s]\n",
      "Converting examples to features: 100%|██████████| 8/8 [00:00<00:00, 2103.86it/s]\n",
      "Converting examples to features: 100%|██████████| 18/18 [00:00<00:00, 2129.45it/s]\n",
      "Converting examples to features: 100%|██████████| 24/24 [00:00<00:00, 2363.82it/s]\n",
      "Converting examples to features: 100%|██████████| 14/14 [00:00<00:00, 2293.13it/s]\n",
      "Converting examples to features: 100%|██████████| 6/6 [00:00<00:00, 1589.86it/s]\n",
      "Converting examples to features: 100%|██████████| 11/11 [00:00<00:00, 2416.20it/s]\n",
      "Converting examples to features: 100%|██████████| 16/16 [00:00<00:00, 2322.11it/s]\n",
      "Converting examples to features: 100%|██████████| 12/12 [00:00<00:00, 2488.22it/s]\n",
      "Converting examples to features: 100%|██████████| 7/7 [00:00<00:00, 2570.26it/s]\n",
      "Converting examples to features: 100%|██████████| 22/22 [00:00<00:00, 2684.67it/s]\n",
      "Converting examples to features: 100%|██████████| 17/17 [00:00<00:00, 2527.14it/s]\n",
      "Converting examples to features: 100%|██████████| 10/10 [00:00<00:00, 2689.35it/s]\n",
      "Converting examples to features: 100%|██████████| 36/36 [00:00<00:00, 2371.82it/s]\n",
      "Converting examples to features: 100%|██████████| 13/13 [00:00<00:00, 2556.30it/s]\n",
      "Converting examples to features: 100%|██████████| 8/8 [00:00<00:00, 2845.53it/s]\n",
      "Converting examples to features: 100%|██████████| 42/42 [00:00<00:00, 2842.72it/s]\n",
      "Converting examples to features: 100%|██████████| 20/20 [00:00<00:00, 1685.95it/s]\n",
      "Converting examples to features: 100%|██████████| 8/8 [00:00<00:00, 1391.03it/s]\n",
      "Converting examples to features: 100%|██████████| 5/5 [00:00<00:00, 2126.93it/s]\n",
      "Converting examples to features: 100%|██████████| 14/14 [00:00<00:00, 2794.34it/s]\n",
      "Converting examples to features: 100%|██████████| 19/19 [00:00<00:00, 2373.47it/s]\n",
      "Converting examples to features: 100%|██████████| 19/19 [00:00<00:00, 1697.23it/s]\n",
      "Converting examples to features: 100%|██████████| 8/8 [00:00<00:00, 2711.25it/s]\n",
      "Converting examples to features: 100%|██████████| 13/13 [00:00<00:00, 2110.46it/s]\n",
      "Converting examples to features: 100%|██████████| 15/15 [00:00<00:00, 2085.82it/s]\n",
      "Converting examples to features: 100%|██████████| 17/17 [00:00<00:00, 2544.81it/s]\n",
      "Converting examples to features: 100%|██████████| 33/33 [00:00<00:00, 3362.13it/s]\n",
      "Converting examples to features: 100%|██████████| 6/6 [00:00<00:00, 2154.79it/s]\n",
      "Converting examples to features: 100%|██████████| 11/11 [00:00<00:00, 2555.24it/s]\n",
      "Converting examples to features: 100%|██████████| 17/17 [00:00<00:00, 2609.45it/s]\n",
      "Converting examples to features: 100%|██████████| 7/7 [00:00<00:00, 1921.10it/s]\n",
      "Converting examples to features: 100%|██████████| 8/8 [00:00<00:00, 2514.01it/s]\n",
      "Converting examples to features: 100%|██████████| 12/12 [00:00<00:00, 3473.06it/s]\n",
      "Converting examples to features: 100%|██████████| 15/15 [00:00<00:00, 2725.82it/s]\n"
     ]
    },
    {
     "name": "stderr",
     "output_type": "stream",
     "text": [
      "Converting examples to features: 100%|██████████| 14/14 [00:00<00:00, 1516.07it/s]\n",
      "Converting examples to features: 100%|██████████| 9/9 [00:00<00:00, 1137.52it/s]\n",
      "Converting examples to features: 100%|██████████| 11/11 [00:00<00:00, 1507.66it/s]\n",
      "Converting examples to features: 100%|██████████| 14/14 [00:00<00:00, 1444.57it/s]\n",
      "Converting examples to features: 100%|██████████| 8/8 [00:00<00:00, 1555.03it/s]\n",
      "Converting examples to features: 100%|██████████| 20/20 [00:00<00:00, 2618.41it/s]\n",
      "Converting examples to features: 100%|██████████| 14/14 [00:00<00:00, 2784.14it/s]\n",
      "Converting examples to features: 100%|██████████| 6/6 [00:00<00:00, 2317.94it/s]\n",
      "Converting examples to features: 100%|██████████| 7/7 [00:00<00:00, 2012.76it/s]\n",
      "Converting examples to features: 100%|██████████| 53/53 [00:00<00:00, 2912.71it/s]\n",
      "Converting examples to features: 100%|██████████| 11/11 [00:00<00:00, 2255.11it/s]\n",
      "Converting examples to features: 100%|██████████| 15/15 [00:00<00:00, 2033.77it/s]\n",
      "Converting examples to features: 100%|██████████| 27/27 [00:00<00:00, 2710.99it/s]\n",
      "Converting examples to features: 100%|██████████| 25/25 [00:00<00:00, 2030.35it/s]\n",
      "Converting examples to features: 100%|██████████| 11/11 [00:00<00:00, 2159.48it/s]\n",
      "Converting examples to features: 100%|██████████| 38/38 [00:00<00:00, 2801.07it/s]\n",
      "Converting examples to features: 100%|██████████| 58/58 [00:00<00:00, 2271.47it/s]\n",
      "Converting examples to features: 100%|██████████| 14/14 [00:00<00:00, 2343.47it/s]\n",
      "Converting examples to features: 100%|██████████| 4/4 [00:00<00:00, 2235.17it/s]\n",
      "Converting examples to features: 100%|██████████| 9/9 [00:00<00:00, 2562.36it/s]\n",
      "Converting examples to features: 100%|██████████| 11/11 [00:00<00:00, 2559.20it/s]\n",
      "Converting examples to features: 100%|██████████| 9/9 [00:00<00:00, 3182.32it/s]\n",
      "Converting examples to features: 100%|██████████| 6/6 [00:00<00:00, 2285.10it/s]\n",
      "Converting examples to features: 100%|██████████| 22/22 [00:00<00:00, 2260.69it/s]\n",
      "Converting examples to features: 100%|██████████| 3/3 [00:00<00:00, 1559.22it/s]\n",
      "Converting examples to features: 100%|██████████| 18/18 [00:00<00:00, 2267.12it/s]\n",
      "Converting examples to features: 100%|██████████| 7/7 [00:00<00:00, 1629.49it/s]\n",
      "Converting examples to features: 100%|██████████| 14/14 [00:00<00:00, 2097.30it/s]\n",
      "Converting examples to features: 100%|██████████| 15/15 [00:00<00:00, 2042.15it/s]\n",
      "Converting examples to features: 100%|██████████| 16/16 [00:00<00:00, 1851.74it/s]\n",
      "Converting examples to features: 100%|██████████| 6/6 [00:00<00:00, 1522.25it/s]\n",
      "Converting examples to features: 100%|██████████| 4/4 [00:00<00:00, 1885.50it/s]\n",
      "Converting examples to features: 100%|██████████| 8/8 [00:00<00:00, 2302.51it/s]\n",
      "Converting examples to features: 100%|██████████| 6/6 [00:00<00:00, 2434.30it/s]\n",
      "Converting examples to features: 100%|██████████| 30/30 [00:00<00:00, 2536.62it/s]\n",
      "Converting examples to features: 100%|██████████| 11/11 [00:00<00:00, 2034.18it/s]\n",
      "Converting examples to features: 100%|██████████| 12/12 [00:00<00:00, 2903.30it/s]\n",
      "Converting examples to features: 100%|██████████| 12/12 [00:00<00:00, 2458.92it/s]\n",
      "Converting examples to features: 100%|██████████| 5/5 [00:00<00:00, 2481.25it/s]\n",
      "Converting examples to features: 100%|██████████| 15/15 [00:00<00:00, 2245.51it/s]\n",
      "Converting examples to features: 100%|██████████| 14/14 [00:00<00:00, 2397.43it/s]\n",
      "Converting examples to features: 100%|██████████| 56/56 [00:00<00:00, 2849.39it/s]\n",
      "Converting examples to features: 100%|██████████| 15/15 [00:00<00:00, 2744.72it/s]\n",
      "Converting examples to features: 100%|██████████| 21/21 [00:00<00:00, 2529.66it/s]\n",
      "Converting examples to features: 100%|██████████| 14/14 [00:00<00:00, 1858.29it/s]\n",
      "Converting examples to features: 100%|██████████| 8/8 [00:00<00:00, 2239.35it/s]\n",
      "Converting examples to features: 100%|██████████| 6/6 [00:00<00:00, 2288.63it/s]\n",
      "Converting examples to features: 100%|██████████| 19/19 [00:00<00:00, 2798.07it/s]\n",
      "Converting examples to features: 100%|██████████| 6/6 [00:00<00:00, 1668.38it/s]\n",
      "Converting examples to features: 100%|██████████| 12/12 [00:00<00:00, 2156.92it/s]\n",
      "Converting examples to features: 100%|██████████| 23/23 [00:00<00:00, 2620.80it/s]\n",
      "Converting examples to features: 100%|██████████| 11/11 [00:00<00:00, 1776.49it/s]\n",
      "Converting examples to features: 100%|██████████| 9/9 [00:00<00:00, 2031.91it/s]\n",
      "Converting examples to features: 100%|██████████| 13/13 [00:00<00:00, 2578.67it/s]\n",
      "Converting examples to features: 100%|██████████| 7/7 [00:00<00:00, 1994.57it/s]\n",
      "Converting examples to features: 100%|██████████| 12/12 [00:00<00:00, 2374.36it/s]\n",
      "Converting examples to features: 100%|██████████| 9/9 [00:00<00:00, 2470.47it/s]\n",
      "Converting examples to features: 100%|██████████| 16/16 [00:00<00:00, 2293.61it/s]\n",
      "Converting examples to features: 100%|██████████| 5/5 [00:00<00:00, 2054.62it/s]\n",
      "Converting examples to features: 100%|██████████| 6/6 [00:00<00:00, 2256.22it/s]\n",
      "Converting examples to features: 100%|██████████| 40/40 [00:00<00:00, 2590.52it/s]\n",
      "Converting examples to features: 100%|██████████| 13/13 [00:00<00:00, 2205.83it/s]\n",
      "Converting examples to features: 100%|██████████| 12/12 [00:00<00:00, 1577.75it/s]\n",
      "Converting examples to features: 100%|██████████| 14/14 [00:00<00:00, 1636.53it/s]\n",
      "Converting examples to features: 100%|██████████| 16/16 [00:00<00:00, 2155.55it/s]\n",
      "Converting examples to features: 100%|██████████| 1/1 [00:00<00:00, 1095.40it/s]\n",
      "Converting examples to features: 100%|██████████| 22/22 [00:00<00:00, 2259.86it/s]\n",
      "Converting examples to features: 100%|██████████| 10/10 [00:00<00:00, 2151.37it/s]\n",
      "Converting examples to features: 100%|██████████| 9/9 [00:00<00:00, 2697.69it/s]\n",
      "Converting examples to features: 100%|██████████| 9/9 [00:00<00:00, 1542.46it/s]\n",
      "Converting examples to features: 100%|██████████| 14/14 [00:00<00:00, 2370.05it/s]\n",
      "Converting examples to features: 100%|██████████| 11/11 [00:00<00:00, 2261.30it/s]\n",
      "Converting examples to features: 100%|██████████| 11/11 [00:00<00:00, 1995.39it/s]\n",
      "Converting examples to features: 100%|██████████| 11/11 [00:00<00:00, 1761.84it/s]\n",
      "Converting examples to features: 100%|██████████| 6/6 [00:00<00:00, 2512.06it/s]\n",
      "Converting examples to features: 100%|██████████| 10/10 [00:00<00:00, 1934.11it/s]\n",
      "Converting examples to features: 100%|██████████| 24/24 [00:00<00:00, 2842.23it/s]\n",
      "Converting examples to features: 100%|██████████| 6/6 [00:00<00:00, 2118.16it/s]\n",
      "Converting examples to features: 100%|██████████| 27/27 [00:00<00:00, 2082.27it/s]\n",
      "Converting examples to features: 100%|██████████| 11/11 [00:00<00:00, 2423.18it/s]\n",
      "Converting examples to features: 100%|██████████| 4/4 [00:00<00:00, 1841.42it/s]\n",
      "Converting examples to features: 100%|██████████| 6/6 [00:00<00:00, 2576.09it/s]\n",
      "Converting examples to features: 100%|██████████| 12/12 [00:00<00:00, 3076.13it/s]\n",
      "Converting examples to features: 100%|██████████| 27/27 [00:00<00:00, 2960.92it/s]\n",
      "Converting examples to features: 100%|██████████| 12/12 [00:00<00:00, 2340.90it/s]\n",
      "Converting examples to features: 100%|██████████| 6/6 [00:00<00:00, 1659.80it/s]\n",
      "Converting examples to features: 100%|██████████| 16/16 [00:00<00:00, 2725.79it/s]\n",
      "Converting examples to features: 100%|██████████| 17/17 [00:00<00:00, 2745.28it/s]\n",
      "Converting examples to features: 100%|██████████| 8/8 [00:00<00:00, 2831.60it/s]\n",
      "Converting examples to features: 100%|██████████| 4/4 [00:00<00:00, 1793.01it/s]\n",
      "Converting examples to features: 100%|██████████| 4/4 [00:00<00:00, 2227.46it/s]\n",
      "Converting examples to features: 100%|██████████| 20/20 [00:00<00:00, 2510.88it/s]\n",
      "Converting examples to features: 100%|██████████| 41/41 [00:00<00:00, 2799.21it/s]\n",
      "Converting examples to features: 100%|██████████| 20/20 [00:00<00:00, 2882.09it/s]\n",
      "Converting examples to features: 100%|██████████| 12/12 [00:00<00:00, 2464.34it/s]\n",
      "Converting examples to features: 100%|██████████| 18/18 [00:00<00:00, 3056.21it/s]\n",
      "Converting examples to features: 100%|██████████| 6/6 [00:00<00:00, 2630.21it/s]\n",
      "Converting examples to features: 100%|██████████| 13/13 [00:00<00:00, 2552.35it/s]\n",
      "Converting examples to features: 100%|██████████| 32/32 [00:00<00:00, 2278.16it/s]\n"
     ]
    },
    {
     "name": "stderr",
     "output_type": "stream",
     "text": [
      "Converting examples to features: 100%|██████████| 3/3 [00:00<00:00, 2291.55it/s]\n",
      "Converting examples to features: 100%|██████████| 8/8 [00:00<00:00, 2158.81it/s]\n",
      "Converting examples to features: 100%|██████████| 20/20 [00:00<00:00, 2323.01it/s]\n",
      "Converting examples to features: 100%|██████████| 19/19 [00:00<00:00, 2867.54it/s]\n",
      "Converting examples to features: 100%|██████████| 8/8 [00:00<00:00, 3007.75it/s]\n",
      "Converting examples to features: 100%|██████████| 14/14 [00:00<00:00, 2469.83it/s]\n",
      "Converting examples to features: 100%|██████████| 8/8 [00:00<00:00, 2378.73it/s]\n",
      "Converting examples to features: 100%|██████████| 8/8 [00:00<00:00, 2058.81it/s]\n",
      "Converting examples to features: 100%|██████████| 17/17 [00:00<00:00, 2471.26it/s]\n",
      "Converting examples to features: 100%|██████████| 12/12 [00:00<00:00, 2768.97it/s]\n",
      "Converting examples to features: 100%|██████████| 9/9 [00:00<00:00, 2616.35it/s]\n",
      "Converting examples to features: 100%|██████████| 5/5 [00:00<00:00, 2337.70it/s]\n",
      "Converting examples to features: 100%|██████████| 10/10 [00:00<00:00, 1936.52it/s]\n",
      "Converting examples to features: 100%|██████████| 12/12 [00:00<00:00, 3099.81it/s]\n",
      "Converting examples to features: 100%|██████████| 11/11 [00:00<00:00, 1946.72it/s]\n",
      "Converting examples to features: 100%|██████████| 6/6 [00:00<00:00, 1811.92it/s]\n",
      "Converting examples to features: 100%|██████████| 22/22 [00:00<00:00, 2973.25it/s]\n",
      "Converting examples to features: 100%|██████████| 13/13 [00:00<00:00, 1774.82it/s]\n",
      "Converting examples to features: 100%|██████████| 19/19 [00:00<00:00, 2295.53it/s]\n",
      "Converting examples to features: 100%|██████████| 20/20 [00:00<00:00, 2108.54it/s]\n",
      "Converting examples to features: 100%|██████████| 10/10 [00:00<00:00, 2479.05it/s]\n",
      "Converting examples to features: 100%|██████████| 16/16 [00:00<00:00, 2865.70it/s]\n",
      "Converting examples to features: 100%|██████████| 15/15 [00:00<00:00, 2577.62it/s]\n",
      "Converting examples to features: 100%|██████████| 27/27 [00:00<00:00, 2912.41it/s]\n",
      "Converting examples to features: 100%|██████████| 21/21 [00:00<00:00, 2320.90it/s]\n",
      "Converting examples to features: 100%|██████████| 15/15 [00:00<00:00, 2330.77it/s]\n",
      "Converting examples to features: 100%|██████████| 11/11 [00:00<00:00, 2780.03it/s]\n",
      "Converting examples to features: 100%|██████████| 6/6 [00:00<00:00, 1909.97it/s]\n",
      "Converting examples to features: 100%|██████████| 38/38 [00:00<00:00, 2557.38it/s]\n",
      "Converting examples to features: 100%|██████████| 7/7 [00:00<00:00, 2183.07it/s]\n",
      "Converting examples to features: 100%|██████████| 19/19 [00:00<00:00, 2424.60it/s]\n",
      "Converting examples to features: 100%|██████████| 13/13 [00:00<00:00, 2601.68it/s]\n",
      "Converting examples to features: 100%|██████████| 49/49 [00:00<00:00, 2931.11it/s]\n",
      "Converting examples to features: 100%|██████████| 2/2 [00:00<00:00, 1083.52it/s]\n",
      "Converting examples to features: 100%|██████████| 20/20 [00:00<00:00, 2541.54it/s]\n",
      "Converting examples to features: 100%|██████████| 13/13 [00:00<00:00, 1694.56it/s]\n",
      "Converting examples to features: 100%|██████████| 15/15 [00:00<00:00, 1902.52it/s]\n",
      "Converting examples to features: 100%|██████████| 15/15 [00:00<00:00, 2547.15it/s]\n",
      "Converting examples to features: 100%|██████████| 13/13 [00:00<00:00, 2659.41it/s]\n",
      "Converting examples to features: 100%|██████████| 9/9 [00:00<00:00, 1896.44it/s]\n",
      "Converting examples to features: 100%|██████████| 6/6 [00:00<00:00, 2710.96it/s]\n",
      "Converting examples to features: 100%|██████████| 12/12 [00:00<00:00, 1424.62it/s]\n",
      "Converting examples to features: 100%|██████████| 5/5 [00:00<00:00, 2497.20it/s]\n",
      "Converting examples to features: 100%|██████████| 12/12 [00:00<00:00, 2436.07it/s]\n",
      "Converting examples to features: 100%|██████████| 5/5 [00:00<00:00, 2279.51it/s]\n",
      "Converting examples to features: 100%|██████████| 10/10 [00:00<00:00, 2822.74it/s]\n",
      "Converting examples to features: 100%|██████████| 31/31 [00:00<00:00, 2570.34it/s]\n",
      "Converting examples to features: 100%|██████████| 8/8 [00:00<00:00, 2606.37it/s]\n",
      "Converting examples to features: 100%|██████████| 8/8 [00:00<00:00, 1726.50it/s]\n",
      "Converting examples to features: 100%|██████████| 7/7 [00:00<00:00, 2236.79it/s]\n",
      "Converting examples to features: 100%|██████████| 11/11 [00:00<00:00, 2271.54it/s]\n",
      "Converting examples to features: 100%|██████████| 6/6 [00:00<00:00, 2396.29it/s]\n",
      "Converting examples to features: 100%|██████████| 17/17 [00:00<00:00, 2470.14it/s]\n",
      "Converting examples to features: 100%|██████████| 4/4 [00:00<00:00, 1442.08it/s]\n",
      "Converting examples to features: 100%|██████████| 20/20 [00:00<00:00, 2265.54it/s]\n",
      "Converting examples to features: 100%|██████████| 5/5 [00:00<00:00, 2258.40it/s]\n",
      "Converting examples to features: 100%|██████████| 14/14 [00:00<00:00, 2382.45it/s]\n",
      "Converting examples to features: 100%|██████████| 16/16 [00:00<00:00, 2694.16it/s]\n",
      "Converting examples to features: 100%|██████████| 18/18 [00:00<00:00, 2581.02it/s]\n",
      "Converting examples to features: 100%|██████████| 8/8 [00:00<00:00, 2508.74it/s]\n",
      "Converting examples to features: 100%|██████████| 14/14 [00:00<00:00, 2074.48it/s]\n",
      "Converting examples to features: 100%|██████████| 9/9 [00:00<00:00, 1937.12it/s]\n",
      "Converting examples to features: 100%|██████████| 12/12 [00:00<00:00, 2662.21it/s]\n",
      "Converting examples to features: 100%|██████████| 12/12 [00:00<00:00, 2762.14it/s]\n",
      "Converting examples to features: 100%|██████████| 7/7 [00:00<00:00, 2732.45it/s]\n",
      "Converting examples to features: 100%|██████████| 10/10 [00:00<00:00, 2305.20it/s]\n",
      "Converting examples to features: 100%|██████████| 13/13 [00:00<00:00, 2056.57it/s]\n",
      "Converting examples to features: 100%|██████████| 16/16 [00:00<00:00, 2669.62it/s]\n",
      "Converting examples to features: 100%|██████████| 30/30 [00:00<00:00, 2162.50it/s]\n",
      "Converting examples to features: 100%|██████████| 9/9 [00:00<00:00, 2382.22it/s]\n",
      "Converting examples to features: 100%|██████████| 12/12 [00:00<00:00, 2351.40it/s]\n",
      "Converting examples to features: 100%|██████████| 13/13 [00:00<00:00, 2595.61it/s]\n",
      "Converting examples to features: 100%|██████████| 7/7 [00:00<00:00, 1792.44it/s]\n",
      "Converting examples to features: 100%|██████████| 6/6 [00:00<00:00, 1840.68it/s]\n",
      "Converting examples to features: 100%|██████████| 21/21 [00:00<00:00, 2906.75it/s]\n",
      "Converting examples to features: 100%|██████████| 20/20 [00:00<00:00, 3038.25it/s]\n",
      "Converting examples to features: 100%|██████████| 15/15 [00:00<00:00, 3526.80it/s]\n",
      "Converting examples to features: 100%|██████████| 8/8 [00:00<00:00, 2086.07it/s]\n",
      "Converting examples to features: 100%|██████████| 6/6 [00:00<00:00, 2616.53it/s]\n",
      "Converting examples to features: 100%|██████████| 10/10 [00:00<00:00, 2429.93it/s]\n",
      "Converting examples to features: 100%|██████████| 22/22 [00:00<00:00, 2214.52it/s]\n",
      "Converting examples to features: 100%|██████████| 6/6 [00:00<00:00, 1959.80it/s]\n",
      "Converting examples to features: 100%|██████████| 11/11 [00:00<00:00, 2364.32it/s]\n",
      "Converting examples to features: 100%|██████████| 14/14 [00:00<00:00, 2669.95it/s]\n",
      "Converting examples to features: 100%|██████████| 10/10 [00:00<00:00, 2392.92it/s]\n"
     ]
    }
   ],
   "source": [
    "X_tra, y_tra = get_input(train_data, ww, max_seq_length, batch_size)\n",
    "X_val, y_val = get_input(valid_data, ww, max_seq_length, batch_size)"
   ]
  },
  {
   "cell_type": "code",
   "execution_count": 20,
   "metadata": {},
   "outputs": [
    {
     "data": {
      "text/plain": [
       "((3582, 3, 3, 512), (398, 3, 3, 512))"
      ]
     },
     "execution_count": 20,
     "metadata": {},
     "output_type": "execute_result"
    }
   ],
   "source": [
    "X_tra.shape, X_val.shape"
   ]
  },
  {
   "cell_type": "code",
   "execution_count": 21,
   "metadata": {},
   "outputs": [
    {
     "data": {
      "text/plain": [
       "((3582, 1), (398, 1))"
      ]
     },
     "execution_count": 21,
     "metadata": {},
     "output_type": "execute_result"
    }
   ],
   "source": [
    "y_tra.shape, y_val.shape"
   ]
  },
  {
   "cell_type": "raw",
   "metadata": {},
   "source": [
    "# Check if padding sentences are equal\n",
    "padset = get_padding_sentence(max_seq_length, tokenizer, padding_text='ENDPAD')\n",
    "padset['input_ids'] == list(X_tra[0][0][0])"
   ]
  },
  {
   "cell_type": "markdown",
   "metadata": {},
   "source": [
    "## Build Model"
   ]
  },
  {
   "cell_type": "code",
   "execution_count": 22,
   "metadata": {},
   "outputs": [],
   "source": [
    "def BERTEmbeddingStack(x):\n",
    "    embeds = []\n",
    "    for art in tf.unstack(tf.reshape(x, (batch_size, 3, 2*ww+1, 512))):\n",
    "        art = tf.cast(art, dtype=\"int32\")\n",
    "        # Below does not change the shape of segment_ids etc.\n",
    "        # Only puts them into a dictionary\n",
    "        bert_inputs = dict(\n",
    "            input_ids=art[0],\n",
    "            input_mask=art[1],\n",
    "            segment_ids=art[2]\n",
    "        )\n",
    "        # Pooling\n",
    "        result = bert(bert_inputs, signature=\"tokens\", as_dict=True)[\"sequence_output\"]\n",
    "        mul_mask = lambda x, m: x * tf.expand_dims(m, axis=-1)\n",
    "        masked_reduce_mean = lambda x, m: tf.reduce_sum(mul_mask(x, m), axis=1) / (\n",
    "                             tf.reduce_sum(m, axis=1, keepdims=True) + 1e-10)\n",
    "        input_mask = tf.cast(art[1], tf.float32)\n",
    "        pooled = masked_reduce_mean(result, input_mask)\n",
    "        embeds.append(pooled)\n",
    "    # print(tf.stack(embeds, 0))\n",
    "    return tf.stack(embeds, 0)"
   ]
  },
  {
   "cell_type": "code",
   "execution_count": 23,
   "metadata": {},
   "outputs": [],
   "source": [
    "def build_model_0(ww, max_seq_length):\n",
    "\n",
    "    inp_size = 2 * ww + 1\n",
    "    input_text = Input(shape=(3, inp_size, max_seq_length))\n",
    "\n",
    "    bert_output = Lambda(BERTEmbeddingStack, output_shape=(None, None, inp_size, 768))(input_text)\n",
    "\n",
    "    x = Bidirectional(LSTM(units=256, return_sequences=True))(bert_output)\n",
    "\n",
    "    pred = LSTM(1, activation='softmax')(x)\n",
    "\n",
    "    return Model(inputs=[input_text], outputs=pred)"
   ]
  },
  {
   "cell_type": "code",
   "execution_count": 24,
   "metadata": {},
   "outputs": [],
   "source": [
    "learningrate = 2e-5\n",
    "optimizer = Adam(lr=learningrate)\n",
    "optimizer_str = 'adam'\n",
    "loss = 'binary_crossentropy'\n",
    "metrics = ['acc', f1_macro, f1_micro]"
   ]
  },
  {
   "cell_type": "code",
   "execution_count": 25,
   "metadata": {
    "scrolled": true
   },
   "outputs": [
    {
     "name": "stderr",
     "output_type": "stream",
     "text": [
      "WARNING: Logging before flag parsing goes to stderr.\n",
      "W1229 23:50:03.362170 140563095122048 deprecation.py:506] From /home/aorus/workspaces/simge/Master_Thesis/.env/lib/python3.6/site-packages/tensorflow/python/ops/init_ops.py:1251: calling VarianceScaling.__init__ (from tensorflow.python.ops.init_ops) with dtype is deprecated and will be removed in a future version.\n",
      "Instructions for updating:\n",
      "Call initializer instance with the dtype argument instead of passing it to the constructor\n",
      "W1229 23:50:03.365644 140563095122048 deprecation.py:506] From /home/aorus/workspaces/simge/Master_Thesis/.env/lib/python3.6/site-packages/tensorflow/python/ops/init_ops.py:97: calling GlorotUniform.__init__ (from tensorflow.python.ops.init_ops) with dtype is deprecated and will be removed in a future version.\n",
      "Instructions for updating:\n",
      "Call initializer instance with the dtype argument instead of passing it to the constructor\n",
      "W1229 23:50:03.366473 140563095122048 deprecation.py:506] From /home/aorus/workspaces/simge/Master_Thesis/.env/lib/python3.6/site-packages/tensorflow/python/ops/init_ops.py:97: calling Orthogonal.__init__ (from tensorflow.python.ops.init_ops) with dtype is deprecated and will be removed in a future version.\n",
      "Instructions for updating:\n",
      "Call initializer instance with the dtype argument instead of passing it to the constructor\n",
      "W1229 23:50:03.367001 140563095122048 deprecation.py:506] From /home/aorus/workspaces/simge/Master_Thesis/.env/lib/python3.6/site-packages/tensorflow/python/ops/init_ops.py:97: calling Zeros.__init__ (from tensorflow.python.ops.init_ops) with dtype is deprecated and will be removed in a future version.\n",
      "Instructions for updating:\n",
      "Call initializer instance with the dtype argument instead of passing it to the constructor\n"
     ]
    },
    {
     "name": "stdout",
     "output_type": "stream",
     "text": [
      "Model: \"model\"\n",
      "_________________________________________________________________\n",
      "Layer (type)                 Output Shape              Param #   \n",
      "=================================================================\n",
      "input_1 (InputLayer)         [(None, 3, 3, 512)]       0         \n",
      "_________________________________________________________________\n",
      "lambda (Lambda)              (2, 3, 768)               0         \n",
      "_________________________________________________________________\n",
      "bidirectional (Bidirectional (2, 3, 512)               2099200   \n",
      "_________________________________________________________________\n",
      "lstm_1 (LSTM)                (2, 1)                    2056      \n",
      "=================================================================\n",
      "Total params: 2,101,256\n",
      "Trainable params: 2,101,256\n",
      "Non-trainable params: 0\n",
      "_________________________________________________________________\n"
     ]
    }
   ],
   "source": [
    "model = build_model_0(ww, max_seq_length)\n",
    "model.summary()\n",
    "\n",
    "model.compile(loss=loss, optimizer=optimizer, metrics=metrics)"
   ]
  },
  {
   "cell_type": "code",
   "execution_count": 26,
   "metadata": {},
   "outputs": [],
   "source": [
    "epochs = 1"
   ]
  },
  {
   "cell_type": "code",
   "execution_count": 27,
   "metadata": {},
   "outputs": [],
   "source": [
    "model_name = 'RQ2_test_bert_many_to_one_model_01' + \\\n",
    "             '_ww_' + str(ww) + \\\n",
    "             '_' + optimizer_str + \\\n",
    "             '_lr_' + str(learningrate) + \\\n",
    "             '_epochs_' + str(epochs) + \\\n",
    "             '_loss_' + loss + \\\n",
    "             '_onehot' + \\\n",
    "             '_softmax'\n",
    "\n",
    "model_dir = './Model/' + model_name.split('model')[0] + 'model/' + model_name\n",
    "results_file = os.path.join(model_dir, 'model_results_file.txt')"
   ]
  },
  {
   "cell_type": "markdown",
   "metadata": {},
   "source": [
    "### Train Model"
   ]
  },
  {
   "cell_type": "code",
   "execution_count": 28,
   "metadata": {},
   "outputs": [],
   "source": [
    "# Instantiate variables\n",
    "initialize_vars(sess)"
   ]
  },
  {
   "cell_type": "code",
   "execution_count": 29,
   "metadata": {
    "scrolled": false
   },
   "outputs": [
    {
     "name": "stdout",
     "output_type": "stream",
     "text": [
      "Train on 3582 samples, validate on 398 samples\n",
      "3582/3582 [==============================] - 326s 91ms/sample - loss: 0.5420 - acc: 0.7219 - f1_macro: 0.0774 - f1_micro: 0.0449 - val_loss: 0.4979 - val_acc: 0.7789 - val_f1_macro: 0.2596 - val_f1_micro: 0.1558\n"
     ]
    },
    {
     "data": {
      "text/plain": [
       "<tensorflow.python.keras.callbacks.History at 0x7fd2eb536470>"
      ]
     },
     "execution_count": 29,
     "metadata": {},
     "output_type": "execute_result"
    }
   ],
   "source": [
    "model.fit(X_tra, y_tra, \n",
    "          epochs=1,\n",
    "          batch_size=batch_size, \n",
    "          validation_data=(X_val, y_val))"
   ]
  },
  {
   "cell_type": "markdown",
   "metadata": {},
   "source": [
    "### Load the best Model"
   ]
  },
  {
   "cell_type": "code",
   "execution_count": 31,
   "metadata": {},
   "outputs": [
    {
     "data": {
      "text/plain": [
       "'RQ2_test_bert_many_to_one_model_01_ww_1_adam_lr_2e-05_epochs_1_loss_binary_crossentropy_onehot_softmax'"
      ]
     },
     "execution_count": 31,
     "metadata": {},
     "output_type": "execute_result"
    }
   ],
   "source": [
    "model_name"
   ]
  },
  {
   "cell_type": "raw",
   "metadata": {},
   "source": [
    "best_model = load_model(os.path.join(model_dir, model_name + '_best_f1_macro_model.h5'), \n",
    "                        custom_objects={'elmo':elmo, 'tf':tf, 'f1_macro':f1_macro, 'f1_micro':f1_micro})"
   ]
  },
  {
   "cell_type": "code",
   "execution_count": 32,
   "metadata": {},
   "outputs": [],
   "source": [
    "best_model = model"
   ]
  },
  {
   "cell_type": "markdown",
   "metadata": {},
   "source": [
    "### Evaluation"
   ]
  },
  {
   "cell_type": "code",
   "execution_count": 33,
   "metadata": {},
   "outputs": [],
   "source": [
    "def get_scores(model, batch_size, ww, max_seq_length, data_=None, X=None, y_true=None, results_file=None, print_out=False):\n",
    "\n",
    "    if data_:\n",
    "        X, y_true = get_input(data_, ww, max_seq_length, batch_size, limit=None)\n",
    "    y_true = [y[0] for y in y_true]\n",
    "\n",
    "    y_preds = model.predict(X, batch_size=batch_size)\n",
    "    y_preds = [0 if y[0] < 0.5 else 1 for y in y_preds]\n",
    "\n",
    "    clsrpt = classification_report(y_true, y_preds)\n",
    "    sf1 = scikit_f1_score(y_true, y_preds)\n",
    "    sfm = scikit_f1_score(y_true, y_preds, average='macro')\n",
    "\n",
    "    if print_out:\n",
    "        print(clsrpt)\n",
    "        print('\\nScikit_F1_Macro:', sfm)\n",
    "        print('\\nScikit_F1_1:', sf1)\n",
    "\n",
    "    if results_file:\n",
    "        with open(results_file, 'a') as f:\n",
    "            f.write('\\n' + clsrpt + '\\nF1_Macro: ' + str(sfm) + '\\nF1_1: ' + str(sf1) + '\\n\\n')\n",
    "    return sfm"
   ]
  },
  {
   "cell_type": "markdown",
   "metadata": {},
   "source": [
    "#### Validation Set"
   ]
  },
  {
   "cell_type": "code",
   "execution_count": 34,
   "metadata": {
    "scrolled": true
   },
   "outputs": [],
   "source": [
    "with open(results_file, 'w') as f:\n",
    "    f.write('\\n---------------- Validation ----------------\\n')\n",
    "\n",
    "val_f1 = get_scores(model, batch_size, ww, max_seq_length, X=X_val, y_true=y_val, \n",
    "                    results_file=results_file, print_out=True)"
   ]
  },
  {
   "cell_type": "markdown",
   "metadata": {},
   "source": [
    "#### Test Set"
   ]
  },
  {
   "cell_type": "code",
   "execution_count": null,
   "metadata": {},
   "outputs": [],
   "source": [
    "X, y_true = get_input(data_, ww, max_seq_length, batch_size, limit=None)"
   ]
  },
  {
   "cell_type": "code",
   "execution_count": 38,
   "metadata": {
    "scrolled": true
   },
   "outputs": [
    {
     "name": "stderr",
     "output_type": "stream",
     "text": [
      "Converting examples to features: 100%|██████████| 23/23 [00:00<00:00, 3031.42it/s]\n",
      "Converting examples to features: 100%|██████████| 14/14 [00:00<00:00, 1768.90it/s]\n",
      "Converting examples to features: 100%|██████████| 14/14 [00:00<00:00, 2260.73it/s]\n",
      "Converting examples to features: 100%|██████████| 32/32 [00:00<00:00, 2675.05it/s]\n",
      "Converting examples to features: 100%|██████████| 23/23 [00:00<00:00, 2501.98it/s]\n",
      "Converting examples to features: 100%|██████████| 12/12 [00:00<00:00, 3252.03it/s]\n",
      "Converting examples to features: 100%|██████████| 4/4 [00:00<00:00, 1505.09it/s]\n",
      "Converting examples to features: 100%|██████████| 9/9 [00:00<00:00, 2073.08it/s]\n",
      "Converting examples to features: 100%|██████████| 5/5 [00:00<00:00, 2337.70it/s]\n",
      "Converting examples to features: 100%|██████████| 34/34 [00:00<00:00, 3001.61it/s]\n",
      "Converting examples to features: 100%|██████████| 10/10 [00:00<00:00, 2639.42it/s]\n",
      "Converting examples to features: 100%|██████████| 10/10 [00:00<00:00, 1756.41it/s]\n",
      "Converting examples to features: 100%|██████████| 8/8 [00:00<00:00, 2028.93it/s]\n",
      "Converting examples to features: 100%|██████████| 5/5 [00:00<00:00, 2107.27it/s]\n",
      "Converting examples to features: 100%|██████████| 16/16 [00:00<00:00, 2913.34it/s]\n",
      "Converting examples to features: 100%|██████████| 4/4 [00:00<00:00, 2348.43it/s]\n",
      "Converting examples to features: 100%|██████████| 8/8 [00:00<00:00, 1930.30it/s]\n",
      "Converting examples to features: 100%|██████████| 26/26 [00:00<00:00, 2422.35it/s]\n",
      "Converting examples to features: 100%|██████████| 9/9 [00:00<00:00, 2096.45it/s]\n",
      "Converting examples to features: 100%|██████████| 11/11 [00:00<00:00, 2383.25it/s]\n",
      "Converting examples to features: 100%|██████████| 13/13 [00:00<00:00, 2196.41it/s]\n",
      "Converting examples to features: 100%|██████████| 8/8 [00:00<00:00, 2362.66it/s]\n",
      "Converting examples to features: 100%|██████████| 36/36 [00:00<00:00, 2651.17it/s]\n",
      "Converting examples to features: 100%|██████████| 4/4 [00:00<00:00, 1595.40it/s]\n",
      "Converting examples to features: 100%|██████████| 14/14 [00:00<00:00, 2319.68it/s]\n",
      "Converting examples to features: 100%|██████████| 14/14 [00:00<00:00, 3008.06it/s]\n",
      "Converting examples to features: 100%|██████████| 10/10 [00:00<00:00, 2108.96it/s]\n",
      "Converting examples to features: 100%|██████████| 10/10 [00:00<00:00, 1930.55it/s]\n",
      "Converting examples to features: 100%|██████████| 6/6 [00:00<00:00, 2127.29it/s]\n",
      "Converting examples to features: 100%|██████████| 16/16 [00:00<00:00, 2105.71it/s]\n",
      "Converting examples to features: 100%|██████████| 20/20 [00:00<00:00, 2059.16it/s]\n",
      "Converting examples to features: 100%|██████████| 13/13 [00:00<00:00, 2179.21it/s]\n"
     ]
    },
    {
     "name": "stdout",
     "output_type": "stream",
     "text": [
      "              precision    recall  f1-score   support\n",
      "\n",
      "           0       0.79      0.98      0.87       325\n",
      "           1       0.81      0.26      0.39       115\n",
      "\n",
      "   micro avg       0.79      0.79      0.79       440\n",
      "   macro avg       0.80      0.62      0.63       440\n",
      "weighted avg       0.79      0.79      0.75       440\n",
      "\n",
      "\n",
      "Scikit_F1_Macro: 0.6341816078658185\n",
      "\n",
      "Scikit_F1_1: 0.39473684210526316\n"
     ]
    }
   ],
   "source": [
    "with open(results_file, 'a') as f:\n",
    "    f.write('\\n---------------- Test ----------------\\n')\n",
    "test_f1 = get_scores(best_model, batch_size, ww, max_seq_length, data_=test_data,\n",
    "                     results_file=results_file, print_out=True)"
   ]
  },
  {
   "cell_type": "code",
   "execution_count": null,
   "metadata": {},
   "outputs": [],
   "source": []
  }
 ],
 "metadata": {
  "kernelspec": {
   "display_name": "Python 3",
   "language": "python",
   "name": "python3"
  },
  "language_info": {
   "codemirror_mode": {
    "name": "ipython",
    "version": 3
   },
   "file_extension": ".py",
   "mimetype": "text/x-python",
   "name": "python",
   "nbconvert_exporter": "python",
   "pygments_lexer": "ipython3",
   "version": "3.6.8"
  }
 },
 "nbformat": 4,
 "nbformat_minor": 2
}
