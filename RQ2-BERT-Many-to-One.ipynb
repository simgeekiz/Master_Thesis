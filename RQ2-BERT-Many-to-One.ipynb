{
 "cells": [
  {
   "cell_type": "code",
   "execution_count": 1,
   "metadata": {},
   "outputs": [],
   "source": [
    "%load_ext autoreload\n",
    "%autoreload 2"
   ]
  },
  {
   "cell_type": "code",
   "execution_count": 2,
   "metadata": {},
   "outputs": [],
   "source": [
    "import os\n",
    "import numpy as np"
   ]
  },
  {
   "cell_type": "code",
   "execution_count": 3,
   "metadata": {},
   "outputs": [],
   "source": [
    "import tensorflow as tf\n",
    "import tensorflow_hub as hub"
   ]
  },
  {
   "cell_type": "code",
   "execution_count": 4,
   "metadata": {},
   "outputs": [],
   "source": [
    "from tensorflow.keras.models import Model, load_model\n",
    "from tensorflow.keras.layers import Input, Dense, Lambda, Activation, Conv1D, \\\n",
    "                                    MaxPooling1D, Flatten, Reshape, Bidirectional, \\\n",
    "                                    BatchNormalization, Dropout, add, LSTM, \\\n",
    "                                    TimeDistributed\n",
    "from tensorflow.keras.optimizers import RMSprop, Adam, Adamax, SGD\n",
    "from tensorflow.keras.regularizers import l2"
   ]
  },
  {
   "cell_type": "code",
   "execution_count": 5,
   "metadata": {},
   "outputs": [],
   "source": [
    "from src.keras_bert import convert_single_example, \\\n",
    "                           convert_text_to_examples, \\\n",
    "                           create_tokenizer_from_hub_module, \\\n",
    "                           convert_examples_to_features, \\\n",
    "                           InputExample, \\\n",
    "                           initialize_vars, \\\n",
    "                           BertLayer"
   ]
  },
  {
   "cell_type": "code",
   "execution_count": 6,
   "metadata": {},
   "outputs": [
    {
     "name": "stderr",
     "output_type": "stream",
     "text": [
      "Using TensorFlow backend.\n"
     ]
    }
   ],
   "source": [
    "from keras.utils import to_categorical"
   ]
  },
  {
   "cell_type": "code",
   "execution_count": 7,
   "metadata": {},
   "outputs": [],
   "source": [
    "from sklearn.metrics import classification_report\n",
    "from sklearn.metrics import f1_score as scikit_f1_score"
   ]
  },
  {
   "cell_type": "code",
   "execution_count": 8,
   "metadata": {},
   "outputs": [],
   "source": [
    "# Initialize session\n",
    "sess = tf.compat.v1.Session()"
   ]
  },
  {
   "cell_type": "code",
   "execution_count": 9,
   "metadata": {},
   "outputs": [
    {
     "name": "stdout",
     "output_type": "stream",
     "text": [
      "GPU enabled\n"
     ]
    }
   ],
   "source": [
    "with tf.device(\"gpu:0\"):\n",
    "    print(\"GPU enabled\")"
   ]
  },
  {
   "cell_type": "markdown",
   "metadata": {},
   "source": [
    "#### Custom Functions"
   ]
  },
  {
   "cell_type": "code",
   "execution_count": 10,
   "metadata": {},
   "outputs": [],
   "source": [
    "from src.callbacks import PlotCurvesTF as PlotCurves\n",
    "from src.eval_metrics import f1_macro, f1_micro \n",
    "from src.load_data import load_data"
   ]
  },
  {
   "cell_type": "markdown",
   "metadata": {},
   "source": [
    "### Load Data"
   ]
  },
  {
   "cell_type": "code",
   "execution_count": 11,
   "metadata": {},
   "outputs": [],
   "source": [
    "train_data, valid_data, test_data, metadata = load_data()"
   ]
  },
  {
   "cell_type": "markdown",
   "metadata": {},
   "source": [
    "### Load BERT"
   ]
  },
  {
   "cell_type": "code",
   "execution_count": 12,
   "metadata": {},
   "outputs": [],
   "source": [
    "os.environ[\"TFHUB_CACHE_DIR\"] = '/tmp/tfhub'"
   ]
  },
  {
   "cell_type": "code",
   "execution_count": 13,
   "metadata": {},
   "outputs": [],
   "source": [
    "bert_path = \"https://tfhub.dev/google/bert_uncased_L-12_H-768_A-12/1\""
   ]
  },
  {
   "cell_type": "code",
   "execution_count": 14,
   "metadata": {},
   "outputs": [],
   "source": [
    "bert = hub.Module(bert_path, trainable=True)"
   ]
  },
  {
   "cell_type": "markdown",
   "metadata": {},
   "source": [
    "### Prepare data"
   ]
  },
  {
   "cell_type": "code",
   "execution_count": 15,
   "metadata": {},
   "outputs": [],
   "source": [
    "ww = 1\n",
    "batch_size = 32\n",
    "\n",
    "max_seq_length = 512\n",
    "if max_seq_length > 512:\n",
    "    print('!!!!!!! WARNING: BERT does not accept length > 512')\n",
    "    max_seq_length = 512"
   ]
  },
  {
   "cell_type": "code",
   "execution_count": 16,
   "metadata": {},
   "outputs": [],
   "source": [
    "def get_padding_sentence(max_seq_length, tokenizer, padding_text='ENDPAD'):\n",
    "\n",
    "    example_sent = InputExample(guid=None, text_a=\" \".join(padding_text), text_b=None, label=0)\n",
    "\n",
    "    (input_ids, input_mask, segment_ids, label) = \\\n",
    "        convert_single_example(tokenizer, example_sent, max_seq_length=max_seq_length)\n",
    "\n",
    "    return {\"input_ids\": input_ids, \"input_mask\": input_mask, \"segment_ids\": segment_ids, \"label\": 0}"
   ]
  },
  {
   "cell_type": "code",
   "execution_count": 17,
   "metadata": {},
   "outputs": [],
   "source": [
    "def get_input(data_, ww, max_seq_length, batch_size, one_hot=False, limit=None):\n",
    "\n",
    "    tokenizer = create_tokenizer_from_hub_module(bert_path)\n",
    "\n",
    "    padding_sent = get_padding_sentence(max_seq_length, tokenizer, padding_text='ENDPAD')\n",
    "\n",
    "    X = []\n",
    "    y = []\n",
    "    for article in data_:\n",
    "\n",
    "        X_art = np.array([[\" \".join(sentence['sentence'].replace('\\n', ' ').strip().split()[0:max_seq_length])]\n",
    "                          for sentence in article['sentences']], dtype=object)\n",
    "\n",
    "        y_art = [sentence['label'] for sentence in article['sentences']]\n",
    "\n",
    "        examples_ = convert_text_to_examples(X_art, y_art)\n",
    "\n",
    "        (input_ids, input_masks, segment_ids, labels_) = \\\n",
    "            convert_examples_to_features(tokenizer, examples_, max_seq_length=max_seq_length)\n",
    "\n",
    "        for si, _ in enumerate(article['sentences']):\n",
    "\n",
    "            input_ids_seq = []\n",
    "            input_mask_seq = []\n",
    "            segment_ids_seq = []\n",
    "            y_seq = []\n",
    "\n",
    "            # Prev\n",
    "            for i in reversed(range(ww)):\n",
    "\n",
    "                if si - i - 1 >= 0:\n",
    "                    sent_obj_prev = {\"input_ids\": input_ids[si - i - 1],\n",
    "                                     \"input_mask\": input_masks[si - i - 1],\n",
    "                                     \"segment_ids\": segment_ids[si - i - 1]}\n",
    "                else:\n",
    "                    sent_obj_prev = padding_sent\n",
    "\n",
    "                input_ids_seq.append(sent_obj_prev['input_ids'])\n",
    "                input_mask_seq.append(sent_obj_prev['input_mask'])\n",
    "                segment_ids_seq.append(sent_obj_prev['segment_ids'])\n",
    "\n",
    "            # Curr\n",
    "            sent_obj = {\"input_ids\": input_ids[si],\n",
    "                        \"input_mask\": input_masks[si],\n",
    "                        \"segment_ids\": segment_ids[si]}\n",
    "\n",
    "            input_ids_seq.append(sent_obj['input_ids'])\n",
    "            input_mask_seq.append(sent_obj['input_mask'])\n",
    "            segment_ids_seq.append(sent_obj['segment_ids'])\n",
    "            if one_hot:\n",
    "                y_seq = to_categorical(labels_[si][0], num_classes=2)\n",
    "            else:\n",
    "                y_seq.append(labels_[si][0])\n",
    "\n",
    "            # Next\n",
    "            for i in range(ww):\n",
    "\n",
    "                if si + i + 1 < len(article['sentences']):\n",
    "                    sent_obj_next = {\"input_ids\": input_ids[si + i + 1],\n",
    "                                     \"input_mask\": input_masks[si + i + 1],\n",
    "                                     \"segment_ids\": segment_ids[si + i + 1]}\n",
    "                else:\n",
    "                    sent_obj_next = padding_sent\n",
    "\n",
    "                input_ids_seq.append(sent_obj_next['input_ids'])\n",
    "                input_mask_seq.append(sent_obj_next['input_mask'])\n",
    "                segment_ids_seq.append(sent_obj_next['segment_ids'])\n",
    "\n",
    "            X_seq = (np.array(input_ids_seq),\n",
    "                     np.array(input_mask_seq),\n",
    "                     np.array(segment_ids_seq))\n",
    "\n",
    "            X.append(X_seq)\n",
    "            y.append(y_seq)\n",
    "\n",
    "    # limit data if not an even number when batch_size=2\n",
    "    if not limit:\n",
    "        limit = len(X) if len(X) % batch_size == 0 else len(X) - len(X) % batch_size\n",
    "    X = X[:limit]\n",
    "    y = y[:limit]\n",
    "\n",
    "    return np.array(X), np.array(y)"
   ]
  },
  {
   "cell_type": "code",
   "execution_count": 18,
   "metadata": {},
   "outputs": [
    {
     "name": "stderr",
     "output_type": "stream",
     "text": [
      "Converting examples to features: 100%|██████████| 10/10 [00:00<00:00, 1983.12it/s]\n",
      "Converting examples to features: 100%|██████████| 16/16 [00:00<00:00, 2492.81it/s]\n",
      "Converting examples to features: 100%|██████████| 14/14 [00:00<00:00, 2241.92it/s]\n",
      "Converting examples to features: 100%|██████████| 13/13 [00:00<00:00, 2252.67it/s]\n",
      "Converting examples to features: 100%|██████████| 33/33 [00:00<00:00, 2753.70it/s]\n",
      "Converting examples to features: 100%|██████████| 11/11 [00:00<00:00, 2238.37it/s]\n",
      "Converting examples to features: 100%|██████████| 5/5 [00:00<00:00, 2804.43it/s]\n",
      "Converting examples to features: 100%|██████████| 12/12 [00:00<00:00, 1258.61it/s]\n",
      "Converting examples to features: 100%|██████████| 17/17 [00:00<00:00, 1644.10it/s]\n",
      "Converting examples to features: 100%|██████████| 5/5 [00:00<00:00, 2423.33it/s]\n",
      "Converting examples to features: 100%|██████████| 22/22 [00:00<00:00, 2543.68it/s]\n",
      "Converting examples to features: 100%|██████████| 18/18 [00:00<00:00, 2373.16it/s]\n",
      "Converting examples to features: 100%|██████████| 11/11 [00:00<00:00, 2242.94it/s]\n",
      "Converting examples to features: 100%|██████████| 13/13 [00:00<00:00, 2592.40it/s]\n",
      "Converting examples to features: 100%|██████████| 26/26 [00:00<00:00, 2451.82it/s]\n",
      "Converting examples to features: 100%|██████████| 7/7 [00:00<00:00, 1737.18it/s]\n",
      "Converting examples to features: 100%|██████████| 17/17 [00:00<00:00, 2404.10it/s]\n",
      "Converting examples to features: 100%|██████████| 13/13 [00:00<00:00, 2742.48it/s]\n",
      "Converting examples to features: 100%|██████████| 14/14 [00:00<00:00, 1761.47it/s]\n",
      "Converting examples to features: 100%|██████████| 16/16 [00:00<00:00, 2341.63it/s]\n",
      "Converting examples to features: 100%|██████████| 16/16 [00:00<00:00, 2535.18it/s]\n",
      "Converting examples to features: 100%|██████████| 8/8 [00:00<00:00, 2043.14it/s]\n",
      "Converting examples to features: 100%|██████████| 28/28 [00:00<00:00, 2372.01it/s]\n",
      "Converting examples to features: 100%|██████████| 14/14 [00:00<00:00, 1809.34it/s]\n",
      "Converting examples to features: 100%|██████████| 17/17 [00:00<00:00, 1948.71it/s]\n",
      "Converting examples to features: 100%|██████████| 14/14 [00:00<00:00, 2428.36it/s]\n",
      "Converting examples to features: 100%|██████████| 8/8 [00:00<00:00, 2083.09it/s]\n",
      "Converting examples to features: 100%|██████████| 14/14 [00:00<00:00, 2099.03it/s]\n",
      "Converting examples to features: 100%|██████████| 23/23 [00:00<00:00, 2896.18it/s]\n",
      "Converting examples to features: 100%|██████████| 9/9 [00:00<00:00, 1699.32it/s]\n",
      "Converting examples to features: 100%|██████████| 5/5 [00:00<00:00, 2304.56it/s]\n",
      "Converting examples to features: 100%|██████████| 7/7 [00:00<00:00, 2373.69it/s]\n",
      "Converting examples to features: 100%|██████████| 9/9 [00:00<00:00, 1767.26it/s]\n",
      "Converting examples to features: 100%|██████████| 18/18 [00:00<00:00, 2477.44it/s]\n",
      "Converting examples to features: 100%|██████████| 14/14 [00:00<00:00, 2796.20it/s]\n",
      "Converting examples to features: 100%|██████████| 5/5 [00:00<00:00, 2485.37it/s]\n",
      "Converting examples to features: 100%|██████████| 18/18 [00:00<00:00, 2728.89it/s]\n",
      "Converting examples to features: 100%|██████████| 21/21 [00:00<00:00, 2542.08it/s]\n",
      "Converting examples to features: 100%|██████████| 6/6 [00:00<00:00, 2467.96it/s]\n",
      "Converting examples to features: 100%|██████████| 9/9 [00:00<00:00, 2017.68it/s]\n",
      "Converting examples to features: 100%|██████████| 13/13 [00:00<00:00, 2257.62it/s]\n",
      "Converting examples to features: 100%|██████████| 21/21 [00:00<00:00, 1305.57it/s]\n",
      "Converting examples to features: 100%|██████████| 7/7 [00:00<00:00, 1432.06it/s]\n",
      "Converting examples to features: 100%|██████████| 13/13 [00:00<00:00, 2143.48it/s]\n",
      "Converting examples to features: 100%|██████████| 13/13 [00:00<00:00, 2116.44it/s]\n",
      "Converting examples to features: 100%|██████████| 10/10 [00:00<00:00, 2616.04it/s]\n",
      "Converting examples to features: 100%|██████████| 3/3 [00:00<00:00, 1844.46it/s]\n",
      "Converting examples to features: 100%|██████████| 8/8 [00:00<00:00, 2644.16it/s]\n",
      "Converting examples to features: 100%|██████████| 44/44 [00:00<00:00, 2597.75it/s]\n",
      "Converting examples to features: 100%|██████████| 7/7 [00:00<00:00, 2404.40it/s]\n",
      "Converting examples to features: 100%|██████████| 5/5 [00:00<00:00, 1840.74it/s]\n",
      "Converting examples to features: 100%|██████████| 10/10 [00:00<00:00, 1845.92it/s]\n",
      "Converting examples to features: 100%|██████████| 48/48 [00:00<00:00, 2719.53it/s]\n",
      "Converting examples to features: 100%|██████████| 6/6 [00:00<00:00, 2457.36it/s]\n",
      "Converting examples to features: 100%|██████████| 4/4 [00:00<00:00, 1354.64it/s]\n",
      "Converting examples to features: 100%|██████████| 12/12 [00:00<00:00, 2727.56it/s]\n",
      "Converting examples to features: 100%|██████████| 6/6 [00:00<00:00, 2100.65it/s]\n",
      "Converting examples to features: 100%|██████████| 7/7 [00:00<00:00, 2485.20it/s]\n",
      "Converting examples to features: 100%|██████████| 13/13 [00:00<00:00, 2415.75it/s]\n",
      "Converting examples to features: 100%|██████████| 29/29 [00:00<00:00, 3041.94it/s]\n",
      "Converting examples to features: 100%|██████████| 11/11 [00:00<00:00, 1931.89it/s]\n",
      "Converting examples to features: 100%|██████████| 7/7 [00:00<00:00, 2282.53it/s]\n",
      "Converting examples to features: 100%|██████████| 16/16 [00:00<00:00, 1926.98it/s]\n",
      "Converting examples to features: 100%|██████████| 45/45 [00:00<00:00, 2852.28it/s]\n",
      "Converting examples to features: 100%|██████████| 6/6 [00:00<00:00, 1832.11it/s]\n",
      "Converting examples to features: 100%|██████████| 8/8 [00:00<00:00, 1971.82it/s]\n",
      "Converting examples to features: 100%|██████████| 18/18 [00:00<00:00, 2247.02it/s]\n",
      "Converting examples to features: 100%|██████████| 24/24 [00:00<00:00, 2429.60it/s]\n",
      "Converting examples to features: 100%|██████████| 14/14 [00:00<00:00, 2327.40it/s]\n",
      "Converting examples to features: 100%|██████████| 6/6 [00:00<00:00, 1860.83it/s]\n",
      "Converting examples to features: 100%|██████████| 11/11 [00:00<00:00, 2347.60it/s]\n",
      "Converting examples to features: 100%|██████████| 16/16 [00:00<00:00, 2418.86it/s]\n",
      "Converting examples to features: 100%|██████████| 12/12 [00:00<00:00, 2400.29it/s]\n",
      "Converting examples to features: 100%|██████████| 7/7 [00:00<00:00, 2540.46it/s]\n",
      "Converting examples to features: 100%|██████████| 22/22 [00:00<00:00, 2704.50it/s]\n",
      "Converting examples to features: 100%|██████████| 17/17 [00:00<00:00, 2478.90it/s]\n",
      "Converting examples to features: 100%|██████████| 10/10 [00:00<00:00, 2700.78it/s]\n",
      "Converting examples to features: 100%|██████████| 36/36 [00:00<00:00, 2390.94it/s]\n",
      "Converting examples to features: 100%|██████████| 13/13 [00:00<00:00, 2493.07it/s]\n",
      "Converting examples to features: 100%|██████████| 8/8 [00:00<00:00, 2673.23it/s]\n",
      "Converting examples to features: 100%|██████████| 42/42 [00:00<00:00, 2860.26it/s]\n",
      "Converting examples to features: 100%|██████████| 20/20 [00:00<00:00, 2532.79it/s]\n",
      "Converting examples to features: 100%|██████████| 8/8 [00:00<00:00, 2574.57it/s]\n",
      "Converting examples to features: 100%|██████████| 5/5 [00:00<00:00, 2253.06it/s]\n",
      "Converting examples to features: 100%|██████████| 14/14 [00:00<00:00, 2894.91it/s]\n",
      "Converting examples to features: 100%|██████████| 19/19 [00:00<00:00, 2384.41it/s]\n",
      "Converting examples to features: 100%|██████████| 19/19 [00:00<00:00, 1722.02it/s]\n",
      "Converting examples to features: 100%|██████████| 8/8 [00:00<00:00, 2484.59it/s]\n",
      "Converting examples to features: 100%|██████████| 13/13 [00:00<00:00, 2122.79it/s]\n",
      "Converting examples to features: 100%|██████████| 15/15 [00:00<00:00, 1983.56it/s]\n",
      "Converting examples to features: 100%|██████████| 17/17 [00:00<00:00, 2595.67it/s]\n",
      "Converting examples to features: 100%|██████████| 33/33 [00:00<00:00, 3339.09it/s]\n",
      "Converting examples to features: 100%|██████████| 6/6 [00:00<00:00, 2110.52it/s]\n",
      "Converting examples to features: 100%|██████████| 11/11 [00:00<00:00, 2427.51it/s]\n",
      "Converting examples to features: 100%|██████████| 17/17 [00:00<00:00, 2584.76it/s]\n",
      "Converting examples to features: 100%|██████████| 7/7 [00:00<00:00, 1848.18it/s]\n",
      "Converting examples to features: 100%|██████████| 8/8 [00:00<00:00, 2594.88it/s]\n",
      "Converting examples to features: 100%|██████████| 12/12 [00:00<00:00, 3489.44it/s]\n",
      "Converting examples to features: 100%|██████████| 15/15 [00:00<00:00, 2599.78it/s]\n"
     ]
    },
    {
     "name": "stderr",
     "output_type": "stream",
     "text": [
      "Converting examples to features: 100%|██████████| 14/14 [00:00<00:00, 2682.39it/s]\n",
      "Converting examples to features: 100%|██████████| 9/9 [00:00<00:00, 2075.59it/s]\n",
      "Converting examples to features: 100%|██████████| 11/11 [00:00<00:00, 2754.63it/s]\n",
      "Converting examples to features: 100%|██████████| 14/14 [00:00<00:00, 2623.08it/s]\n",
      "Converting examples to features: 100%|██████████| 8/8 [00:00<00:00, 2489.94it/s]\n",
      "Converting examples to features: 100%|██████████| 20/20 [00:00<00:00, 2585.49it/s]\n",
      "Converting examples to features: 100%|██████████| 14/14 [00:00<00:00, 2373.49it/s]\n",
      "Converting examples to features: 100%|██████████| 6/6 [00:00<00:00, 2281.37it/s]\n",
      "Converting examples to features: 100%|██████████| 7/7 [00:00<00:00, 2026.79it/s]\n",
      "Converting examples to features: 100%|██████████| 53/53 [00:00<00:00, 2815.29it/s]\n",
      "Converting examples to features: 100%|██████████| 11/11 [00:00<00:00, 2206.26it/s]\n",
      "Converting examples to features: 100%|██████████| 15/15 [00:00<00:00, 2118.34it/s]\n",
      "Converting examples to features: 100%|██████████| 27/27 [00:00<00:00, 2618.05it/s]\n",
      "Converting examples to features: 100%|██████████| 25/25 [00:00<00:00, 2017.54it/s]\n",
      "Converting examples to features: 100%|██████████| 11/11 [00:00<00:00, 2264.30it/s]\n",
      "Converting examples to features: 100%|██████████| 38/38 [00:00<00:00, 3103.93it/s]\n",
      "Converting examples to features: 100%|██████████| 58/58 [00:00<00:00, 2443.13it/s]\n",
      "Converting examples to features: 100%|██████████| 14/14 [00:00<00:00, 2342.53it/s]\n",
      "Converting examples to features: 100%|██████████| 4/4 [00:00<00:00, 2006.12it/s]\n",
      "Converting examples to features: 100%|██████████| 9/9 [00:00<00:00, 2487.07it/s]\n",
      "Converting examples to features: 100%|██████████| 11/11 [00:00<00:00, 2664.59it/s]\n",
      "Converting examples to features: 100%|██████████| 9/9 [00:00<00:00, 3043.52it/s]\n",
      "Converting examples to features: 100%|██████████| 6/6 [00:00<00:00, 2536.88it/s]\n",
      "Converting examples to features: 100%|██████████| 22/22 [00:00<00:00, 2464.34it/s]\n",
      "Converting examples to features: 100%|██████████| 3/3 [00:00<00:00, 1639.89it/s]\n",
      "Converting examples to features: 100%|██████████| 18/18 [00:00<00:00, 2521.96it/s]\n",
      "Converting examples to features: 100%|██████████| 7/7 [00:00<00:00, 1662.05it/s]\n",
      "Converting examples to features: 100%|██████████| 14/14 [00:00<00:00, 2521.16it/s]\n",
      "Converting examples to features: 100%|██████████| 15/15 [00:00<00:00, 2556.98it/s]\n",
      "Converting examples to features: 100%|██████████| 16/16 [00:00<00:00, 2650.53it/s]\n",
      "Converting examples to features: 100%|██████████| 6/6 [00:00<00:00, 2297.83it/s]\n",
      "Converting examples to features: 100%|██████████| 4/4 [00:00<00:00, 1869.95it/s]\n",
      "Converting examples to features: 100%|██████████| 8/8 [00:00<00:00, 2451.02it/s]\n",
      "Converting examples to features: 100%|██████████| 6/6 [00:00<00:00, 2573.19it/s]\n",
      "Converting examples to features: 100%|██████████| 30/30 [00:00<00:00, 2712.59it/s]\n",
      "Converting examples to features: 100%|██████████| 11/11 [00:00<00:00, 2214.31it/s]\n",
      "Converting examples to features: 100%|██████████| 12/12 [00:00<00:00, 3220.81it/s]\n",
      "Converting examples to features: 100%|██████████| 12/12 [00:00<00:00, 2464.82it/s]\n",
      "Converting examples to features: 100%|██████████| 5/5 [00:00<00:00, 2359.80it/s]\n",
      "Converting examples to features: 100%|██████████| 15/15 [00:00<00:00, 2277.12it/s]\n",
      "Converting examples to features: 100%|██████████| 14/14 [00:00<00:00, 2338.06it/s]\n",
      "Converting examples to features: 100%|██████████| 56/56 [00:00<00:00, 2856.11it/s]\n",
      "Converting examples to features: 100%|██████████| 15/15 [00:00<00:00, 2681.44it/s]\n",
      "Converting examples to features: 100%|██████████| 21/21 [00:00<00:00, 2515.29it/s]\n",
      "Converting examples to features: 100%|██████████| 14/14 [00:00<00:00, 2466.51it/s]\n",
      "Converting examples to features: 100%|██████████| 8/8 [00:00<00:00, 2279.05it/s]\n",
      "Converting examples to features: 100%|██████████| 6/6 [00:00<00:00, 2289.26it/s]\n",
      "Converting examples to features: 100%|██████████| 19/19 [00:00<00:00, 2729.82it/s]\n",
      "Converting examples to features: 100%|██████████| 6/6 [00:00<00:00, 1706.50it/s]\n",
      "Converting examples to features: 100%|██████████| 12/12 [00:00<00:00, 2142.59it/s]\n",
      "Converting examples to features: 100%|██████████| 23/23 [00:00<00:00, 2710.11it/s]\n",
      "Converting examples to features: 100%|██████████| 11/11 [00:00<00:00, 1699.04it/s]\n",
      "Converting examples to features: 100%|██████████| 9/9 [00:00<00:00, 2053.46it/s]\n",
      "Converting examples to features: 100%|██████████| 13/13 [00:00<00:00, 2369.87it/s]\n",
      "Converting examples to features: 100%|██████████| 7/7 [00:00<00:00, 2014.83it/s]\n",
      "Converting examples to features: 100%|██████████| 12/12 [00:00<00:00, 2538.28it/s]\n",
      "Converting examples to features: 100%|██████████| 9/9 [00:00<00:00, 2655.93it/s]\n",
      "Converting examples to features: 100%|██████████| 16/16 [00:00<00:00, 2713.77it/s]\n",
      "Converting examples to features: 100%|██████████| 5/5 [00:00<00:00, 2111.72it/s]\n",
      "Converting examples to features: 100%|██████████| 6/6 [00:00<00:00, 2375.25it/s]\n",
      "Converting examples to features: 100%|██████████| 40/40 [00:00<00:00, 2598.78it/s]\n",
      "Converting examples to features: 100%|██████████| 13/13 [00:00<00:00, 2558.22it/s]\n",
      "Converting examples to features: 100%|██████████| 12/12 [00:00<00:00, 2658.27it/s]\n",
      "Converting examples to features: 100%|██████████| 14/14 [00:00<00:00, 1895.55it/s]\n",
      "Converting examples to features: 100%|██████████| 16/16 [00:00<00:00, 2099.25it/s]\n",
      "Converting examples to features: 100%|██████████| 1/1 [00:00<00:00, 1156.09it/s]\n",
      "Converting examples to features: 100%|██████████| 22/22 [00:00<00:00, 2555.38it/s]\n",
      "Converting examples to features: 100%|██████████| 10/10 [00:00<00:00, 2235.05it/s]\n",
      "Converting examples to features: 100%|██████████| 9/9 [00:00<00:00, 2592.81it/s]\n",
      "Converting examples to features: 100%|██████████| 9/9 [00:00<00:00, 1710.80it/s]\n",
      "Converting examples to features: 100%|██████████| 14/14 [00:00<00:00, 2445.35it/s]\n",
      "Converting examples to features: 100%|██████████| 11/11 [00:00<00:00, 2325.35it/s]\n",
      "Converting examples to features: 100%|██████████| 11/11 [00:00<00:00, 2095.34it/s]\n",
      "Converting examples to features: 100%|██████████| 11/11 [00:00<00:00, 1755.41it/s]\n",
      "Converting examples to features: 100%|██████████| 6/6 [00:00<00:00, 2850.36it/s]\n",
      "Converting examples to features: 100%|██████████| 10/10 [00:00<00:00, 1853.18it/s]\n",
      "Converting examples to features: 100%|██████████| 24/24 [00:00<00:00, 2820.73it/s]\n",
      "Converting examples to features: 100%|██████████| 6/6 [00:00<00:00, 2026.56it/s]\n",
      "Converting examples to features: 100%|██████████| 27/27 [00:00<00:00, 2126.77it/s]\n",
      "Converting examples to features: 100%|██████████| 11/11 [00:00<00:00, 2320.79it/s]\n",
      "Converting examples to features: 100%|██████████| 4/4 [00:00<00:00, 1846.08it/s]\n",
      "Converting examples to features: 100%|██████████| 6/6 [00:00<00:00, 2717.10it/s]\n",
      "Converting examples to features: 100%|██████████| 12/12 [00:00<00:00, 3132.22it/s]\n",
      "Converting examples to features: 100%|██████████| 27/27 [00:00<00:00, 2795.65it/s]\n",
      "Converting examples to features: 100%|██████████| 12/12 [00:00<00:00, 2368.21it/s]\n",
      "Converting examples to features: 100%|██████████| 6/6 [00:00<00:00, 1792.18it/s]\n",
      "Converting examples to features: 100%|██████████| 16/16 [00:00<00:00, 2717.07it/s]\n",
      "Converting examples to features: 100%|██████████| 17/17 [00:00<00:00, 2693.63it/s]\n",
      "Converting examples to features: 100%|██████████| 8/8 [00:00<00:00, 2710.16it/s]\n",
      "Converting examples to features: 100%|██████████| 4/4 [00:00<00:00, 1936.20it/s]\n",
      "Converting examples to features: 100%|██████████| 4/4 [00:00<00:00, 2106.10it/s]\n",
      "Converting examples to features: 100%|██████████| 20/20 [00:00<00:00, 2548.57it/s]\n",
      "Converting examples to features: 100%|██████████| 41/41 [00:00<00:00, 2793.75it/s]\n",
      "Converting examples to features: 100%|██████████| 20/20 [00:00<00:00, 3029.47it/s]\n",
      "Converting examples to features: 100%|██████████| 12/12 [00:00<00:00, 2476.59it/s]\n",
      "Converting examples to features: 100%|██████████| 18/18 [00:00<00:00, 3188.10it/s]\n",
      "Converting examples to features: 100%|██████████| 6/6 [00:00<00:00, 2610.02it/s]\n",
      "Converting examples to features: 100%|██████████| 13/13 [00:00<00:00, 2579.28it/s]\n",
      "Converting examples to features: 100%|██████████| 32/32 [00:00<00:00, 2282.54it/s]\n"
     ]
    },
    {
     "name": "stderr",
     "output_type": "stream",
     "text": [
      "Converting examples to features: 100%|██████████| 3/3 [00:00<00:00, 2265.56it/s]\n",
      "Converting examples to features: 100%|██████████| 8/8 [00:00<00:00, 2085.16it/s]\n",
      "Converting examples to features: 100%|██████████| 20/20 [00:00<00:00, 2415.66it/s]\n",
      "Converting examples to features: 100%|██████████| 19/19 [00:00<00:00, 2917.94it/s]\n",
      "Converting examples to features: 100%|██████████| 8/8 [00:00<00:00, 3031.94it/s]\n",
      "Converting examples to features: 100%|██████████| 14/14 [00:00<00:00, 2430.88it/s]\n",
      "Converting examples to features: 100%|██████████| 8/8 [00:00<00:00, 2275.34it/s]\n",
      "Converting examples to features: 100%|██████████| 8/8 [00:00<00:00, 2095.97it/s]\n",
      "Converting examples to features: 100%|██████████| 17/17 [00:00<00:00, 2460.85it/s]\n",
      "Converting examples to features: 100%|██████████| 12/12 [00:00<00:00, 2670.26it/s]\n",
      "Converting examples to features: 100%|██████████| 9/9 [00:00<00:00, 2548.52it/s]\n",
      "Converting examples to features: 100%|██████████| 5/5 [00:00<00:00, 2254.03it/s]\n",
      "Converting examples to features: 100%|██████████| 10/10 [00:00<00:00, 2019.99it/s]\n",
      "Converting examples to features: 100%|██████████| 12/12 [00:00<00:00, 2984.03it/s]\n",
      "Converting examples to features: 100%|██████████| 11/11 [00:00<00:00, 2167.40it/s]\n",
      "Converting examples to features: 100%|██████████| 6/6 [00:00<00:00, 1800.65it/s]\n",
      "Converting examples to features: 100%|██████████| 22/22 [00:00<00:00, 3055.15it/s]\n",
      "Converting examples to features: 100%|██████████| 13/13 [00:00<00:00, 2383.65it/s]\n",
      "Converting examples to features: 100%|██████████| 19/19 [00:00<00:00, 2329.96it/s]\n",
      "Converting examples to features: 100%|██████████| 20/20 [00:00<00:00, 2204.63it/s]\n",
      "Converting examples to features: 100%|██████████| 10/10 [00:00<00:00, 2432.89it/s]\n",
      "Converting examples to features: 100%|██████████| 16/16 [00:00<00:00, 3137.98it/s]\n",
      "Converting examples to features: 100%|██████████| 15/15 [00:00<00:00, 2638.26it/s]\n",
      "Converting examples to features: 100%|██████████| 27/27 [00:00<00:00, 3011.71it/s]\n",
      "Converting examples to features: 100%|██████████| 21/21 [00:00<00:00, 2431.75it/s]\n",
      "Converting examples to features: 100%|██████████| 15/15 [00:00<00:00, 2309.64it/s]\n",
      "Converting examples to features: 100%|██████████| 11/11 [00:00<00:00, 2863.36it/s]\n",
      "Converting examples to features: 100%|██████████| 6/6 [00:00<00:00, 2083.78it/s]\n",
      "Converting examples to features: 100%|██████████| 38/38 [00:00<00:00, 2531.87it/s]\n",
      "Converting examples to features: 100%|██████████| 7/7 [00:00<00:00, 2062.82it/s]\n",
      "Converting examples to features: 100%|██████████| 19/19 [00:00<00:00, 2459.32it/s]\n",
      "Converting examples to features: 100%|██████████| 13/13 [00:00<00:00, 2514.45it/s]\n",
      "Converting examples to features: 100%|██████████| 49/49 [00:00<00:00, 2907.27it/s]\n",
      "Converting examples to features: 100%|██████████| 2/2 [00:00<00:00, 1111.07it/s]\n",
      "Converting examples to features: 100%|██████████| 20/20 [00:00<00:00, 2518.87it/s]\n",
      "Converting examples to features: 100%|██████████| 13/13 [00:00<00:00, 1677.05it/s]\n",
      "Converting examples to features: 100%|██████████| 15/15 [00:00<00:00, 1958.98it/s]\n",
      "Converting examples to features: 100%|██████████| 15/15 [00:00<00:00, 2648.37it/s]\n",
      "Converting examples to features: 100%|██████████| 13/13 [00:00<00:00, 2774.58it/s]\n",
      "Converting examples to features: 100%|██████████| 9/9 [00:00<00:00, 1959.14it/s]\n",
      "Converting examples to features: 100%|██████████| 6/6 [00:00<00:00, 2422.35it/s]\n",
      "Converting examples to features: 100%|██████████| 12/12 [00:00<00:00, 1466.16it/s]\n",
      "Converting examples to features: 100%|██████████| 5/5 [00:00<00:00, 2481.54it/s]\n",
      "Converting examples to features: 100%|██████████| 12/12 [00:00<00:00, 2414.10it/s]\n",
      "Converting examples to features: 100%|██████████| 5/5 [00:00<00:00, 2339.01it/s]\n",
      "Converting examples to features: 100%|██████████| 10/10 [00:00<00:00, 2498.99it/s]\n",
      "Converting examples to features: 100%|██████████| 31/31 [00:00<00:00, 2594.71it/s]\n",
      "Converting examples to features: 100%|██████████| 8/8 [00:00<00:00, 2604.96it/s]\n",
      "Converting examples to features: 100%|██████████| 8/8 [00:00<00:00, 1977.16it/s]\n",
      "Converting examples to features: 100%|██████████| 7/7 [00:00<00:00, 2237.47it/s]\n",
      "Converting examples to features: 100%|██████████| 11/11 [00:00<00:00, 2441.13it/s]\n",
      "Converting examples to features: 100%|██████████| 6/6 [00:00<00:00, 2477.19it/s]\n",
      "Converting examples to features: 100%|██████████| 17/17 [00:00<00:00, 2320.01it/s]\n",
      "Converting examples to features: 100%|██████████| 4/4 [00:00<00:00, 1473.11it/s]\n",
      "Converting examples to features: 100%|██████████| 20/20 [00:00<00:00, 2347.78it/s]\n",
      "Converting examples to features: 100%|██████████| 5/5 [00:00<00:00, 2283.24it/s]\n",
      "Converting examples to features: 100%|██████████| 14/14 [00:00<00:00, 2312.00it/s]\n",
      "Converting examples to features: 100%|██████████| 16/16 [00:00<00:00, 2526.12it/s]\n",
      "Converting examples to features: 100%|██████████| 18/18 [00:00<00:00, 2803.37it/s]\n",
      "Converting examples to features: 100%|██████████| 8/8 [00:00<00:00, 2438.37it/s]\n",
      "Converting examples to features: 100%|██████████| 15/15 [00:00<00:00, 1804.73it/s]\n",
      "Converting examples to features: 100%|██████████| 9/9 [00:00<00:00, 1907.85it/s]\n",
      "Converting examples to features: 100%|██████████| 12/12 [00:00<00:00, 2359.22it/s]\n",
      "Converting examples to features: 100%|██████████| 12/12 [00:00<00:00, 2645.28it/s]\n",
      "Converting examples to features: 100%|██████████| 7/7 [00:00<00:00, 2508.56it/s]\n",
      "Converting examples to features: 100%|██████████| 10/10 [00:00<00:00, 2336.27it/s]\n",
      "Converting examples to features: 100%|██████████| 13/13 [00:00<00:00, 1890.77it/s]\n",
      "Converting examples to features: 100%|██████████| 16/16 [00:00<00:00, 2505.84it/s]\n",
      "Converting examples to features: 100%|██████████| 30/30 [00:00<00:00, 2128.55it/s]\n",
      "Converting examples to features: 100%|██████████| 9/9 [00:00<00:00, 2270.74it/s]\n",
      "Converting examples to features: 100%|██████████| 12/12 [00:00<00:00, 2258.34it/s]\n",
      "Converting examples to features: 100%|██████████| 13/13 [00:00<00:00, 2618.54it/s]\n",
      "Converting examples to features: 100%|██████████| 7/7 [00:00<00:00, 1807.00it/s]\n",
      "Converting examples to features: 100%|██████████| 6/6 [00:00<00:00, 1762.56it/s]\n",
      "Converting examples to features: 100%|██████████| 21/21 [00:00<00:00, 2822.91it/s]\n",
      "Converting examples to features: 100%|██████████| 20/20 [00:00<00:00, 2946.99it/s]\n",
      "Converting examples to features: 100%|██████████| 15/15 [00:00<00:00, 3481.71it/s]\n",
      "Converting examples to features: 100%|██████████| 8/8 [00:00<00:00, 2102.67it/s]\n",
      "Converting examples to features: 100%|██████████| 6/6 [00:00<00:00, 2391.73it/s]\n",
      "Converting examples to features: 100%|██████████| 10/10 [00:00<00:00, 2419.14it/s]\n",
      "Converting examples to features: 100%|██████████| 22/22 [00:00<00:00, 2163.23it/s]\n",
      "Converting examples to features: 100%|██████████| 6/6 [00:00<00:00, 1920.76it/s]\n",
      "Converting examples to features: 100%|██████████| 11/11 [00:00<00:00, 2330.99it/s]\n",
      "Converting examples to features: 100%|██████████| 14/14 [00:00<00:00, 2401.84it/s]\n",
      "Converting examples to features: 100%|██████████| 10/10 [00:00<00:00, 2262.42it/s]\n"
     ]
    }
   ],
   "source": [
    "X_tra, y_tra = get_input(train_data, ww, max_seq_length, batch_size, one_hot=False, limit=None)\n",
    "X_val, y_val = get_input(valid_data, ww, max_seq_length, batch_size, one_hot=False, limit=None)"
   ]
  },
  {
   "cell_type": "code",
   "execution_count": 19,
   "metadata": {},
   "outputs": [
    {
     "data": {
      "text/plain": [
       "((3552, 3, 3, 512), (384, 3, 3, 512))"
      ]
     },
     "execution_count": 19,
     "metadata": {},
     "output_type": "execute_result"
    }
   ],
   "source": [
    "X_tra.shape, X_val.shape"
   ]
  },
  {
   "cell_type": "code",
   "execution_count": 20,
   "metadata": {},
   "outputs": [
    {
     "data": {
      "text/plain": [
       "((3552, 1), (384, 1))"
      ]
     },
     "execution_count": 20,
     "metadata": {},
     "output_type": "execute_result"
    }
   ],
   "source": [
    "y_tra.shape, y_val.shape"
   ]
  },
  {
   "cell_type": "raw",
   "metadata": {},
   "source": [
    "# Check if padding sentences are equal\n",
    "padset = get_padding_sentence(max_seq_length, tokenizer, padding_text='ENDPAD')\n",
    "padset['input_ids'] == list(X_tra[0][0][0])"
   ]
  },
  {
   "cell_type": "markdown",
   "metadata": {},
   "source": [
    "## Build Model"
   ]
  },
  {
   "cell_type": "code",
   "execution_count": 21,
   "metadata": {},
   "outputs": [],
   "source": [
    "def BERTEmbeddingStack(x):\n",
    "    embeds = []\n",
    "    for art in tf.unstack(tf.reshape(x, (batch_size, 3, 2*ww+1, 512))):\n",
    "        art = tf.cast(art, dtype=\"int32\")\n",
    "        # Below does not change the shape of segment_ids etc.\n",
    "        # Only puts them into a dictionary\n",
    "        bert_inputs = dict(\n",
    "            input_ids=art[0],\n",
    "            input_mask=art[1],\n",
    "            segment_ids=art[2]\n",
    "        )\n",
    "        # Pooling\n",
    "        result = bert(bert_inputs, signature=\"tokens\", as_dict=True)[\"sequence_output\"]\n",
    "        mul_mask = lambda x, m: x * tf.expand_dims(m, axis=-1)\n",
    "        masked_reduce_mean = lambda x, m: tf.reduce_sum(mul_mask(x, m), axis=1) / (\n",
    "                             tf.reduce_sum(m, axis=1, keepdims=True) + 1e-10)\n",
    "        input_mask = tf.cast(art[1], tf.float32)\n",
    "        pooled = masked_reduce_mean(result, input_mask)\n",
    "        embeds.append(pooled)\n",
    "    # print(tf.stack(embeds, 0))\n",
    "    return tf.stack(embeds, 0)"
   ]
  },
  {
   "cell_type": "code",
   "execution_count": 22,
   "metadata": {},
   "outputs": [],
   "source": [
    "def build_model_0(ww, max_seq_length):\n",
    "\n",
    "    inp_size = 2 * ww + 1\n",
    "    input_text = Input(shape=(3, inp_size, max_seq_length))\n",
    "\n",
    "    bert_output = Lambda(BERTEmbeddingStack, output_shape=(None, None, inp_size, 768))(input_text)\n",
    "\n",
    "    x = Bidirectional(LSTM(units=256, return_sequences=True))(bert_output)\n",
    "\n",
    "    pred = LSTM(1, activation='softmax')(x)\n",
    "\n",
    "    return Model(inputs=[input_text], outputs=pred)"
   ]
  },
  {
   "cell_type": "code",
   "execution_count": 23,
   "metadata": {},
   "outputs": [],
   "source": [
    "learningrate = 2e-5\n",
    "optimizer = Adam(lr=learningrate)\n",
    "optimizer_str = 'adam'\n",
    "loss = 'binary_crossentropy'\n",
    "metrics = ['acc', f1_macro, f1_micro]"
   ]
  },
  {
   "cell_type": "code",
   "execution_count": 24,
   "metadata": {
    "scrolled": true
   },
   "outputs": [
    {
     "name": "stderr",
     "output_type": "stream",
     "text": [
      "WARNING: Logging before flag parsing goes to stderr.\n",
      "W1225 21:23:23.379186 139648198795392 deprecation.py:506] From /home/aorus/workspaces/simge/Master_Thesis/.env/lib/python3.6/site-packages/tensorflow/python/ops/init_ops.py:1251: calling VarianceScaling.__init__ (from tensorflow.python.ops.init_ops) with dtype is deprecated and will be removed in a future version.\n",
      "Instructions for updating:\n",
      "Call initializer instance with the dtype argument instead of passing it to the constructor\n",
      "W1225 21:23:23.382309 139648198795392 deprecation.py:506] From /home/aorus/workspaces/simge/Master_Thesis/.env/lib/python3.6/site-packages/tensorflow/python/ops/init_ops.py:97: calling GlorotUniform.__init__ (from tensorflow.python.ops.init_ops) with dtype is deprecated and will be removed in a future version.\n",
      "Instructions for updating:\n",
      "Call initializer instance with the dtype argument instead of passing it to the constructor\n",
      "W1225 21:23:23.382824 139648198795392 deprecation.py:506] From /home/aorus/workspaces/simge/Master_Thesis/.env/lib/python3.6/site-packages/tensorflow/python/ops/init_ops.py:97: calling Orthogonal.__init__ (from tensorflow.python.ops.init_ops) with dtype is deprecated and will be removed in a future version.\n",
      "Instructions for updating:\n",
      "Call initializer instance with the dtype argument instead of passing it to the constructor\n",
      "W1225 21:23:23.383275 139648198795392 deprecation.py:506] From /home/aorus/workspaces/simge/Master_Thesis/.env/lib/python3.6/site-packages/tensorflow/python/ops/init_ops.py:97: calling Zeros.__init__ (from tensorflow.python.ops.init_ops) with dtype is deprecated and will be removed in a future version.\n",
      "Instructions for updating:\n",
      "Call initializer instance with the dtype argument instead of passing it to the constructor\n"
     ]
    },
    {
     "name": "stdout",
     "output_type": "stream",
     "text": [
      "Model: \"model\"\n",
      "_________________________________________________________________\n",
      "Layer (type)                 Output Shape              Param #   \n",
      "=================================================================\n",
      "input_1 (InputLayer)         [(None, 3, 3, 512)]       0         \n",
      "_________________________________________________________________\n",
      "lambda (Lambda)              (32, 3, 768)              0         \n",
      "_________________________________________________________________\n",
      "bidirectional (Bidirectional (32, 3, 512)              2099200   \n",
      "_________________________________________________________________\n",
      "lstm_1 (LSTM)                (32, 1)                   2056      \n",
      "=================================================================\n",
      "Total params: 2,101,256\n",
      "Trainable params: 2,101,256\n",
      "Non-trainable params: 0\n",
      "_________________________________________________________________\n"
     ]
    }
   ],
   "source": [
    "model = build_model_0(ww, max_seq_length)\n",
    "model.summary()\n",
    "\n",
    "model.compile(loss=loss, optimizer=optimizer, metrics=metrics)"
   ]
  },
  {
   "cell_type": "code",
   "execution_count": 25,
   "metadata": {},
   "outputs": [],
   "source": [
    "epochs = 1"
   ]
  },
  {
   "cell_type": "code",
   "execution_count": 26,
   "metadata": {},
   "outputs": [],
   "source": [
    "model_name = 'RQ2_test_bert_many_to_one_model_01' + \\\n",
    "             '_ww_' + str(ww) + \\\n",
    "             '_' + optimizer_str + \\\n",
    "             '_lr_' + str(learningrate) + \\\n",
    "             '_epochs_' + str(epochs) + \\\n",
    "             '_loss_' + loss + \\\n",
    "             '_onehot' + \\\n",
    "             '_softmax'\n",
    "\n",
    "model_dir = './Model/' + model_name.split('model')[0] + 'model/' + model_name\n",
    "results_file = os.path.join(model_dir, 'model_results_file.txt')"
   ]
  },
  {
   "cell_type": "markdown",
   "metadata": {},
   "source": [
    "### Train Model"
   ]
  },
  {
   "cell_type": "code",
   "execution_count": 27,
   "metadata": {},
   "outputs": [],
   "source": [
    "# Instantiate variables\n",
    "initialize_vars(sess)"
   ]
  },
  {
   "cell_type": "code",
   "execution_count": 28,
   "metadata": {
    "scrolled": false
   },
   "outputs": [
    {
     "name": "stdout",
     "output_type": "stream",
     "text": [
      "\b\b\b\b\b\b\b\b\b\b\b\b\b\b\b\b\b\b\b\b\b\b\b\b\b\b\b\b\b\b\b\b\b\b\b\b\b\b\b\b\b\b\b\b\b\b\b\b\b\b\b\b\b\b\b\b\b\b\b\b\b\b\b\b\b\b\b\b\b\b\b\b\b\b\b\b\b\b\b\b\b\b\b\b\b\b\b\b\b\b\b\b\b\b\b\b\b\b\b\b\b\b\b\b\b\b\b\b\b\b\b\b\b\b\b\b\b\b\b\b\b\b\b\b\b\b\b\r",
      "3552/3552 [==============================] - 337s 95ms/sample - loss: 0.6057 - acc: 0.7058 - f1_macro: 0.0000e+00 - f1_micro: 0.0000e+00 - val_loss: 0.6061 - val_acc: 0.6719 - val_f1_macro: 0.0000e+00 - val_f1_micro: 0.0000e+00\n"
     ]
    },
    {
     "data": {
      "text/plain": [
       "<tensorflow.python.keras.callbacks.History at 0x7f00dd035f98>"
      ]
     },
     "execution_count": 28,
     "metadata": {},
     "output_type": "execute_result"
    },
    {
     "data": {
      "text/plain": [
       "<Figure size 720x360 with 0 Axes>"
      ]
     },
     "metadata": {},
     "output_type": "display_data"
    }
   ],
   "source": [
    "model.fit(X_tra, y_tra, \n",
    "          epochs=1,\n",
    "          batch_size=batch_size, \n",
    "          validation_data=(X_val, y_val),\n",
    "          callbacks=[\n",
    "            PlotCurves(model_name=model_name, \n",
    "                       model_dir=model_dir, jnote=True)\n",
    "          ])"
   ]
  },
  {
   "cell_type": "markdown",
   "metadata": {},
   "source": [
    "### Load the best Model"
   ]
  },
  {
   "cell_type": "code",
   "execution_count": 29,
   "metadata": {},
   "outputs": [
    {
     "data": {
      "text/plain": [
       "'RQ2_test_bert_many_to_one_model_01_ww_1_adam_lr_2e-05_epochs_1_loss_binary_crossentropy_onehot_softmax'"
      ]
     },
     "execution_count": 29,
     "metadata": {},
     "output_type": "execute_result"
    }
   ],
   "source": [
    "model_name"
   ]
  },
  {
   "cell_type": "raw",
   "metadata": {},
   "source": [
    "best_model = load_model(os.path.join(model_dir, model_name + '_best_f1_macro_model.h5'), \n",
    "                        custom_objects={'elmo':elmo, 'tf':tf, 'f1_macro':f1_macro, 'f1_micro':f1_micro})"
   ]
  },
  {
   "cell_type": "code",
   "execution_count": 30,
   "metadata": {},
   "outputs": [],
   "source": [
    "best_model = model"
   ]
  },
  {
   "cell_type": "markdown",
   "metadata": {},
   "source": [
    "### Evaluation"
   ]
  },
  {
   "cell_type": "code",
   "execution_count": 31,
   "metadata": {},
   "outputs": [],
   "source": [
    "def get_scores(model, data_, batch_size, ww, max_seq_length, results_file=None, print_out=False):\n",
    "\n",
    "    X, y_true = get_input(data_, ww, max_seq_length, batch_size, limit=None)\n",
    "    y_true = [y[0] for y in y_true]\n",
    "\n",
    "    y_preds = model.predict(X, batch_size=batch_size)\n",
    "    y_preds = [0 if y[0] < 0.5 else 1 for y in y_preds]\n",
    "\n",
    "    clsrpt = classification_report(y_true, y_preds)\n",
    "    sf1 = scikit_f1_score(y_true, y_preds)\n",
    "    sfm = scikit_f1_score(y_true, y_preds, average='macro')\n",
    "\n",
    "    if print_out:\n",
    "        print(clsrpt)\n",
    "        print('\\nScikit_F1_Macro:', sfm)\n",
    "        print('\\nScikit_F1_1:', sf1)\n",
    "\n",
    "    if results_file:\n",
    "        with open(results_file, 'a') as f:\n",
    "            f.write('\\n' + clsrpt + '\\nF1_Macro: ' + str(sfm) + '\\nF1_1: ' + str(sf1) + '\\n\\n')\n",
    "    return sfm\n"
   ]
  },
  {
   "cell_type": "markdown",
   "metadata": {},
   "source": [
    "#### Validation Set"
   ]
  },
  {
   "cell_type": "code",
   "execution_count": 32,
   "metadata": {
    "scrolled": true
   },
   "outputs": [
    {
     "name": "stderr",
     "output_type": "stream",
     "text": [
      "Converting examples to features: 100%|██████████| 4/4 [00:00<00:00, 1434.20it/s]\n",
      "Converting examples to features: 100%|██████████| 20/20 [00:00<00:00, 2376.31it/s]\n",
      "Converting examples to features: 100%|██████████| 5/5 [00:00<00:00, 2168.27it/s]\n",
      "Converting examples to features: 100%|██████████| 14/14 [00:00<00:00, 2289.56it/s]\n",
      "Converting examples to features: 100%|██████████| 16/16 [00:00<00:00, 2621.54it/s]\n",
      "Converting examples to features: 100%|██████████| 18/18 [00:00<00:00, 2667.76it/s]\n",
      "Converting examples to features: 100%|██████████| 8/8 [00:00<00:00, 2488.65it/s]\n",
      "Converting examples to features: 100%|██████████| 15/15 [00:00<00:00, 1871.51it/s]\n",
      "Converting examples to features: 100%|██████████| 9/9 [00:00<00:00, 1873.67it/s]\n",
      "Converting examples to features: 100%|██████████| 12/12 [00:00<00:00, 2635.30it/s]\n",
      "Converting examples to features: 100%|██████████| 12/12 [00:00<00:00, 2743.02it/s]\n",
      "Converting examples to features: 100%|██████████| 7/7 [00:00<00:00, 2641.01it/s]\n",
      "Converting examples to features: 100%|██████████| 10/10 [00:00<00:00, 2351.99it/s]\n",
      "Converting examples to features: 100%|██████████| 13/13 [00:00<00:00, 2233.57it/s]\n",
      "Converting examples to features: 100%|██████████| 16/16 [00:00<00:00, 2630.28it/s]\n",
      "Converting examples to features: 100%|██████████| 30/30 [00:00<00:00, 2029.70it/s]\n",
      "Converting examples to features: 100%|██████████| 9/9 [00:00<00:00, 2280.89it/s]\n",
      "Converting examples to features: 100%|██████████| 12/12 [00:00<00:00, 2383.80it/s]\n",
      "Converting examples to features: 100%|██████████| 13/13 [00:00<00:00, 2536.09it/s]\n",
      "Converting examples to features: 100%|██████████| 7/7 [00:00<00:00, 1742.13it/s]\n",
      "Converting examples to features: 100%|██████████| 6/6 [00:00<00:00, 1514.74it/s]\n",
      "Converting examples to features: 100%|██████████| 21/21 [00:00<00:00, 2484.15it/s]\n",
      "Converting examples to features: 100%|██████████| 20/20 [00:00<00:00, 2206.08it/s]\n",
      "Converting examples to features: 100%|██████████| 15/15 [00:00<00:00, 3237.01it/s]\n",
      "Converting examples to features: 100%|██████████| 8/8 [00:00<00:00, 2101.35it/s]\n",
      "Converting examples to features: 100%|██████████| 6/6 [00:00<00:00, 2432.19it/s]\n",
      "Converting examples to features: 100%|██████████| 10/10 [00:00<00:00, 2226.75it/s]\n",
      "Converting examples to features: 100%|██████████| 22/22 [00:00<00:00, 2095.15it/s]\n",
      "Converting examples to features: 100%|██████████| 6/6 [00:00<00:00, 1974.25it/s]\n",
      "Converting examples to features: 100%|██████████| 11/11 [00:00<00:00, 2547.34it/s]\n",
      "Converting examples to features: 100%|██████████| 14/14 [00:00<00:00, 2453.42it/s]\n",
      "Converting examples to features: 100%|██████████| 10/10 [00:00<00:00, 2367.66it/s]\n"
     ]
    },
    {
     "name": "stdout",
     "output_type": "stream",
     "text": [
      "              precision    recall  f1-score   support\n",
      "\n",
      "           0       0.67      1.00      0.80       258\n",
      "           1       0.00      0.00      0.00       126\n",
      "\n",
      "   micro avg       0.67      0.67      0.67       384\n",
      "   macro avg       0.34      0.50      0.40       384\n",
      "weighted avg       0.45      0.67      0.54       384\n",
      "\n",
      "\n",
      "Scikit_F1_Macro: 0.40186915887850466\n",
      "\n",
      "Scikit_F1_1: 0.0\n"
     ]
    },
    {
     "name": "stderr",
     "output_type": "stream",
     "text": [
      "/home/aorus/workspaces/simge/Master_Thesis/.env/lib/python3.6/site-packages/sklearn/metrics/classification.py:1143: UndefinedMetricWarning: Precision and F-score are ill-defined and being set to 0.0 in labels with no predicted samples.\n",
      "  'precision', 'predicted', average, warn_for)\n",
      "/home/aorus/workspaces/simge/Master_Thesis/.env/lib/python3.6/site-packages/sklearn/metrics/classification.py:1143: UndefinedMetricWarning: F-score is ill-defined and being set to 0.0 due to no predicted samples.\n",
      "  'precision', 'predicted', average, warn_for)\n",
      "/home/aorus/workspaces/simge/Master_Thesis/.env/lib/python3.6/site-packages/sklearn/metrics/classification.py:1143: UndefinedMetricWarning: F-score is ill-defined and being set to 0.0 in labels with no predicted samples.\n",
      "  'precision', 'predicted', average, warn_for)\n"
     ]
    }
   ],
   "source": [
    "with open(results_file, 'w') as f:\n",
    "    f.write('\\n---------------- Validation ----------------\\n')\n",
    "val_f1 = get_scores(best_model, valid_data, batch_size, ww, max_seq_length, \n",
    "                    results_file, print_out=True)"
   ]
  },
  {
   "cell_type": "markdown",
   "metadata": {},
   "source": [
    "#### Test Set"
   ]
  },
  {
   "cell_type": "code",
   "execution_count": 33,
   "metadata": {
    "scrolled": true
   },
   "outputs": [
    {
     "name": "stderr",
     "output_type": "stream",
     "text": [
      "Converting examples to features: 100%|██████████| 23/23 [00:00<00:00, 3144.16it/s]\n",
      "Converting examples to features: 100%|██████████| 14/14 [00:00<00:00, 1988.36it/s]\n",
      "Converting examples to features: 100%|██████████| 14/14 [00:00<00:00, 2223.75it/s]\n",
      "Converting examples to features: 100%|██████████| 32/32 [00:00<00:00, 2430.07it/s]\n",
      "Converting examples to features: 100%|██████████| 23/23 [00:00<00:00, 2447.33it/s]\n",
      "Converting examples to features: 100%|██████████| 12/12 [00:00<00:00, 2078.45it/s]\n",
      "Converting examples to features: 100%|██████████| 4/4 [00:00<00:00, 1725.87it/s]\n",
      "Converting examples to features: 100%|██████████| 9/9 [00:00<00:00, 2131.97it/s]\n",
      "Converting examples to features: 100%|██████████| 5/5 [00:00<00:00, 2025.06it/s]\n",
      "Converting examples to features: 100%|██████████| 34/34 [00:00<00:00, 3161.09it/s]\n",
      "Converting examples to features: 100%|██████████| 10/10 [00:00<00:00, 2505.71it/s]\n",
      "Converting examples to features: 100%|██████████| 10/10 [00:00<00:00, 1837.11it/s]\n",
      "Converting examples to features: 100%|██████████| 8/8 [00:00<00:00, 2043.01it/s]\n",
      "Converting examples to features: 100%|██████████| 5/5 [00:00<00:00, 2343.45it/s]\n",
      "Converting examples to features: 100%|██████████| 16/16 [00:00<00:00, 2788.07it/s]\n",
      "Converting examples to features: 100%|██████████| 4/4 [00:00<00:00, 2406.03it/s]\n",
      "Converting examples to features: 100%|██████████| 8/8 [00:00<00:00, 2164.94it/s]\n",
      "Converting examples to features: 100%|██████████| 26/26 [00:00<00:00, 2376.27it/s]\n",
      "Converting examples to features: 100%|██████████| 9/9 [00:00<00:00, 1607.01it/s]\n",
      "Converting examples to features: 100%|██████████| 11/11 [00:00<00:00, 2392.02it/s]\n",
      "Converting examples to features: 100%|██████████| 13/13 [00:00<00:00, 2233.11it/s]\n",
      "Converting examples to features: 100%|██████████| 8/8 [00:00<00:00, 2330.33it/s]\n",
      "Converting examples to features: 100%|██████████| 36/36 [00:00<00:00, 2649.59it/s]\n",
      "Converting examples to features: 100%|██████████| 4/4 [00:00<00:00, 1473.37it/s]\n",
      "Converting examples to features: 100%|██████████| 14/14 [00:00<00:00, 2276.68it/s]\n",
      "Converting examples to features: 100%|██████████| 14/14 [00:00<00:00, 2825.53it/s]\n",
      "Converting examples to features: 100%|██████████| 10/10 [00:00<00:00, 2089.00it/s]\n",
      "Converting examples to features: 100%|██████████| 10/10 [00:00<00:00, 1838.64it/s]\n",
      "Converting examples to features: 100%|██████████| 6/6 [00:00<00:00, 2344.06it/s]\n",
      "Converting examples to features: 100%|██████████| 16/16 [00:00<00:00, 2003.37it/s]\n",
      "Converting examples to features: 100%|██████████| 20/20 [00:00<00:00, 1953.79it/s]\n",
      "Converting examples to features: 100%|██████████| 13/13 [00:00<00:00, 2047.85it/s]\n"
     ]
    },
    {
     "name": "stdout",
     "output_type": "stream",
     "text": [
      "              precision    recall  f1-score   support\n",
      "\n",
      "           0       0.73      1.00      0.85       305\n",
      "           1       0.00      0.00      0.00       111\n",
      "\n",
      "   micro avg       0.73      0.73      0.73       416\n",
      "   macro avg       0.37      0.50      0.42       416\n",
      "weighted avg       0.54      0.73      0.62       416\n",
      "\n",
      "\n",
      "Scikit_F1_Macro: 0.42302357836338417\n",
      "\n",
      "Scikit_F1_1: 0.0\n"
     ]
    }
   ],
   "source": [
    "with open(results_file, 'a') as f:\n",
    "    f.write('\\n---------------- Test ----------------\\n')\n",
    "test_f1 = get_scores(best_model, test_data, batch_size, ww, max_seq_length,\n",
    "                     results_file, print_out=True)"
   ]
  },
  {
   "cell_type": "code",
   "execution_count": null,
   "metadata": {},
   "outputs": [],
   "source": []
  }
 ],
 "metadata": {
  "kernelspec": {
   "display_name": "Python 3",
   "language": "python",
   "name": "python3"
  },
  "language_info": {
   "codemirror_mode": {
    "name": "ipython",
    "version": 3
   },
   "file_extension": ".py",
   "mimetype": "text/x-python",
   "name": "python",
   "nbconvert_exporter": "python",
   "pygments_lexer": "ipython3",
   "version": "3.6.8"
  }
 },
 "nbformat": 4,
 "nbformat_minor": 2
}
