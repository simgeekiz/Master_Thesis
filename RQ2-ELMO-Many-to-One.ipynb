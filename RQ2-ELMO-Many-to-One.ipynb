{
 "cells": [
  {
   "cell_type": "markdown",
   "metadata": {},
   "source": [
    "Next: https://github.com/arunarn2/HierarchicalAttentionNetworks/blob/master/HierarchicalAttn.py"
   ]
  },
  {
   "cell_type": "code",
   "execution_count": 1,
   "metadata": {},
   "outputs": [],
   "source": [
    "%load_ext autoreload\n",
    "%autoreload 2"
   ]
  },
  {
   "cell_type": "code",
   "execution_count": 2,
   "metadata": {},
   "outputs": [],
   "source": [
    "import os\n",
    "import numpy as np"
   ]
  },
  {
   "cell_type": "code",
   "execution_count": 3,
   "metadata": {},
   "outputs": [],
   "source": [
    "import tensorflow as tf\n",
    "import tensorflow_hub as hub"
   ]
  },
  {
   "cell_type": "code",
   "execution_count": 33,
   "metadata": {},
   "outputs": [],
   "source": [
    "from keras import backend as K\n",
    "from keras.models import Model, Input, load_model\n",
    "from keras.layers import LSTM, Dense, TimeDistributed, Bidirectional, Lambda, \\\n",
    "                         Activation, CuDNNLSTM, SpatialDropout1D, Dropout, BatchNormalization,\\\n",
    "                         GlobalAveragePooling1D, GlobalMaxPooling1D\n",
    "from keras.optimizers import RMSprop, Adam, Adamax, SGD\n",
    "from keras.callbacks import ReduceLROnPlateau, EarlyStopping\n",
    "from keras.regularizers import l2\n",
    "from keras.layers.merge import add\n",
    "from keras.utils import to_categorical"
   ]
  },
  {
   "cell_type": "code",
   "execution_count": 5,
   "metadata": {},
   "outputs": [],
   "source": [
    "from sklearn.metrics import classification_report\n",
    "from sklearn.metrics import f1_score as scikit_f1_score"
   ]
  },
  {
   "cell_type": "markdown",
   "metadata": {},
   "source": [
    "#### Custom Functions"
   ]
  },
  {
   "cell_type": "code",
   "execution_count": 6,
   "metadata": {},
   "outputs": [],
   "source": [
    "from src.callbacks import PlotCurves\n",
    "from src.eval_metrics import f1_macro, f1_micro # Many-to-one does not return a sequential y_preds.\n",
    "from src.load_data import load_data"
   ]
  },
  {
   "cell_type": "markdown",
   "metadata": {},
   "source": [
    "### Load Data"
   ]
  },
  {
   "cell_type": "code",
   "execution_count": 7,
   "metadata": {},
   "outputs": [],
   "source": [
    "train_data, valid_data, test_data, metadata = load_data()"
   ]
  },
  {
   "cell_type": "markdown",
   "metadata": {},
   "source": [
    "### Prepare data"
   ]
  },
  {
   "cell_type": "code",
   "execution_count": 8,
   "metadata": {},
   "outputs": [],
   "source": [
    "ww = 2\n",
    "n_tags = 2\n",
    "batch_size = 32"
   ]
  },
  {
   "cell_type": "code",
   "execution_count": 9,
   "metadata": {},
   "outputs": [],
   "source": [
    "def get_input(data_, ww, n_tags, batch_size, is_test=False, limit=None):\n",
    "    \n",
    "    def normalize(text):\n",
    "        return text.replace('\\n', '').strip()\n",
    "    \n",
    "    padding_sent = {\n",
    "        'sentence': 'ENDPAD',\n",
    "        'label': 0\n",
    "    }\n",
    "\n",
    "    X = []\n",
    "    y = []\n",
    "\n",
    "    for article in data_:\n",
    "        sent_objs = article['sentences']\n",
    "        \n",
    "        for si, sentence in enumerate(sent_objs):\n",
    "            sequence = []\n",
    "\n",
    "            # Prev\n",
    "            for i in reversed(range(ww)):\n",
    "                sequence.append(normalize(sent_objs[si-i-1]['sentence']) \n",
    "                                if si-i-1 >= 0 \n",
    "                                else padding_sent['sentence'])\n",
    "\n",
    "            # Curr\n",
    "            sequence.append(normalize(sent_objs[si]['sentence']))\n",
    "\n",
    "            # Next\n",
    "            for i in range(ww):\n",
    "                sequence.append(normalize(sent_objs[si+i+1]['sentence'] )\n",
    "                                if si+i+1 < len(article['sentences']) \n",
    "                                else padding_sent['sentence'])\n",
    "\n",
    "            X.append(sequence)\n",
    "            y.append(sent_objs[si]['label']\n",
    "                     if is_test \n",
    "                     else to_categorical(sent_objs[si]['label'], num_classes=n_tags))\n",
    "            \n",
    "    # limit data if not an even number when batch_size=2\n",
    "    if not limit:\n",
    "        limit = len(X) if len(X)%batch_size == 0 else len(X)-len(X)%batch_size\n",
    "        X = X[:limit]\n",
    "        y = y[:limit]\n",
    "\n",
    "    return np.array(X), np.array(y)"
   ]
  },
  {
   "cell_type": "code",
   "execution_count": 22,
   "metadata": {},
   "outputs": [],
   "source": [
    "X_tra, y_tra = get_input(train_data, ww, n_tags, batch_size, False)\n",
    "X_val, y_val = get_input(valid_data, ww, n_tags, batch_size, False)\n",
    "X_test, y_test = get_input(test_data, ww, n_tags, batch_size, True)"
   ]
  },
  {
   "cell_type": "code",
   "execution_count": 23,
   "metadata": {},
   "outputs": [
    {
     "data": {
      "text/plain": [
       "((3552, 5), (384, 5), (416, 5))"
      ]
     },
     "execution_count": 23,
     "metadata": {},
     "output_type": "execute_result"
    }
   ],
   "source": [
    "X_tra.shape, X_val.shape, X_test.shape"
   ]
  },
  {
   "cell_type": "code",
   "execution_count": 24,
   "metadata": {},
   "outputs": [
    {
     "data": {
      "text/plain": [
       "((3552, 2), (384, 2), (416,))"
      ]
     },
     "execution_count": 24,
     "metadata": {},
     "output_type": "execute_result"
    }
   ],
   "source": [
    "y_tra.shape, y_val.shape, y_test.shape"
   ]
  },
  {
   "cell_type": "markdown",
   "metadata": {},
   "source": [
    "### Load ELMo"
   ]
  },
  {
   "cell_type": "code",
   "execution_count": 25,
   "metadata": {},
   "outputs": [],
   "source": [
    "sess = tf.compat.v1.Session()\n",
    "K.set_session(sess)"
   ]
  },
  {
   "cell_type": "code",
   "execution_count": 26,
   "metadata": {},
   "outputs": [],
   "source": [
    "elmo = hub.Module(\"https://tfhub.dev/google/elmo/2\", trainable=True)"
   ]
  },
  {
   "cell_type": "markdown",
   "metadata": {},
   "source": [
    "## Build Model"
   ]
  },
  {
   "cell_type": "code",
   "execution_count": 27,
   "metadata": {},
   "outputs": [],
   "source": [
    "def ELMoEmbeddingStack(x):\n",
    "    \"\"\"\n",
    "    ELMo takes list of sentences (as strings) and returns list of vectors.\n",
    "    Thus when an article is given to elmo(), it returns a vector for each sentence.\n",
    "    \n",
    "    >> elmo(['I saw a cat.', 'There was also a dog.'])\n",
    "    [<1024>, <1024>]\n",
    "    \"\"\"\n",
    "    embeds = []\n",
    "    for art in tf.unstack(tf.transpose(x, (1, 0))):\n",
    "        embeds.append(elmo(tf.squeeze(tf.cast(art, tf.string)), signature=\"default\", as_dict=True)[\"default\"])\n",
    "    return tf.stack(embeds, 1)"
   ]
  },
  {
   "cell_type": "code",
   "execution_count": null,
   "metadata": {},
   "outputs": [],
   "source": [
    "def build_model_0(ww, n_tags):\n",
    "    \n",
    "    inp_size = 2*ww+1\n",
    "    input_text = Input(shape=(inp_size,), dtype=\"string\")\n",
    "    \n",
    "    embedding = Lambda(ELMoEmbeddingStack, output_shape=(None, None, inp_size, 1024))(input_text)\n",
    "    \n",
    "    x = Bidirectional(CuDNNLSTM(units=256, return_sequences=True))(embedding)\n",
    "                      \n",
    "    pred = LSTM(n_tags, activation=\"sigmoid\")(x)\n",
    "\n",
    "    return Model(inputs=[input_text], outputs=pred)\n",
    "\n",
    "def build_model_1(ww, n_tags):\n",
    "    \n",
    "    inp_size = 2*ww+1\n",
    "    input_text = Input(shape=(inp_size,), dtype=\"string\")\n",
    "    \n",
    "    embedding = Lambda(ELMoEmbeddingStack, output_shape=(None, None, inp_size, 1024))(input_text)\n",
    "    \n",
    "    x = Bidirectional(CuDNNLSTM(units=128, return_sequences=True))(embedding)\n",
    "\n",
    "    pred = LSTM(n_tags, activation=\"sigmoid\")(x)\n",
    "\n",
    "    return Model(inputs=[input_text], outputs=pred)\n",
    "\n",
    "def build_model_2(ww, n_tags):\n",
    "    \n",
    "    inp_size = 2*ww+1\n",
    "    input_text = Input(shape=(inp_size,), dtype=\"string\")\n",
    "    \n",
    "    embedding = Lambda(ELMoEmbeddingStack, output_shape=(None, None, inp_size, 1024))(input_text)\n",
    "    \n",
    "    x = Bidirectional(CuDNNLSTM(units=256, return_sequences=True))(embedding)\n",
    "    x = Dropout(0.2)(x)\n",
    "                      \n",
    "    pred = LSTM(n_tags, activation=\"sigmoid\")(x)\n",
    "\n",
    "    return Model(inputs=[input_text], outputs=pred)\n",
    "\n",
    "def build_model_3(ww, n_tags):\n",
    "    \n",
    "    inp_size = 2*ww+1\n",
    "    input_text = Input(shape=(inp_size,), dtype=\"string\")\n",
    "    \n",
    "    embedding = Lambda(ELMoEmbeddingStack, output_shape=(None, None, inp_size, 1024))(input_text)\n",
    "    \n",
    "    x = Dense(256, kernel_regularizer=l2(0.001))(embedding)\n",
    "    x = Activation('relu')(x)\n",
    "    \n",
    "    x = Bidirectional(LSTM(units=128, return_sequences=True))(x)\n",
    "\n",
    "    pred = LSTM(n_tags, activation=\"sigmoid\")(x)\n",
    "\n",
    "    return Model(inputs=[input_text], outputs=pred)\n",
    "\n",
    "def build_model_4(ww, n_tags):\n",
    "    \n",
    "    inp_size = 2*ww+1\n",
    "    input_text = Input(shape=(inp_size,), dtype=\"string\")\n",
    "\n",
    "    embedding = Lambda(ELMoEmbeddingStack, output_shape=(None, None, inp_size, 1024))(input_text)\n",
    "    \n",
    "    x = Dense(256, kernel_regularizer=l2(0.001))(embedding)\n",
    "    x = Activation('relu')(x)\n",
    "    \n",
    "    x = Bidirectional(LSTM(units=128, return_sequences=True, recurrent_dropout=0.2, dropout=0.2))(x)\n",
    "\n",
    "    pred = LSTM(n_tags, activation=\"sigmoid\")(x)\n",
    "\n",
    "    return Model(inputs=[input_text], outputs=pred)"
   ]
  },
  {
   "cell_type": "code",
   "execution_count": 28,
   "metadata": {},
   "outputs": [],
   "source": [
    "def build_model_5(ww, n_tags):\n",
    "    \n",
    "    inp_size = 2*ww+1\n",
    "    input_text = Input(shape=(inp_size,), dtype=\"string\")\n",
    "\n",
    "    embedding = Lambda(ELMoEmbeddingStack, output_shape=(None, None, inp_size, 1024))(input_text)\n",
    "    \n",
    "    x = Bidirectional(CuDNNLSTM(units=128, return_sequences=True))(embedding)\n",
    "    x = Bidirectional(CuDNNLSTM(units=128, return_sequences=True))(x)\n",
    "    x = Dropout(0.4)(x)\n",
    "    \n",
    "    pred = LSTM(n_tags, activation=\"sigmoid\")(x)\n",
    "\n",
    "    return Model(inputs=[input_text], outputs=pred)\n",
    "\n",
    "\n",
    "\n",
    "def build_model_6(ww, n_tags):\n",
    "    \n",
    "    inp_size = 2*ww+1\n",
    "    input_text = Input(shape=(inp_size,), dtype=\"string\")\n",
    "\n",
    "    embedding = Lambda(ELMoEmbeddingStack, output_shape=(None, None, inp_size, 1024))(input_text)\n",
    "    \n",
    "    x = Bidirectional(CuDNNLSTM(units=256, return_sequences=True))(embedding)\n",
    "    x = Bidirectional(CuDNNLSTM(units=128, return_sequences=True))(x)\n",
    "    x = Dropout(0.4)(x)\n",
    "    \n",
    "    pred = LSTM(n_tags, activation=\"sigmoid\")(x)\n",
    "\n",
    "    return Model(inputs=[input_text], outputs=pred)\n",
    "\n",
    "def build_model_7(ww, n_tags):\n",
    "    \n",
    "    inp_size = 2*ww+1\n",
    "    input_text = Input(shape=(inp_size,), dtype=\"string\")\n",
    "\n",
    "    embedding = Lambda(ELMoEmbeddingStack, output_shape=(None, None, inp_size, 1024))(input_text)\n",
    "    \n",
    "    x = Bidirectional(CuDNNLSTM(units=128, return_sequences=True))(embedding)\n",
    "    x = Bidirectional(CuDNNLSTM(units=128, return_sequences=True))(x)\n",
    "    \n",
    "    pred = LSTM(n_tags, activation=\"sigmoid\")(x)\n",
    "\n",
    "    return Model(inputs=[input_text], outputs=pred)\n",
    "\n",
    "def build_model_8(ww, n_tags):\n",
    "    \n",
    "    def residual(x):\n",
    "        x_res = x\n",
    "        \n",
    "        x = Bidirectional(CuDNNLSTM(units=128, return_sequences=True))(x)\n",
    "        x = add([x, x_res])\n",
    "        return x\n",
    "    \n",
    "    inp_size = 2*ww+1\n",
    "    input_text = Input(shape=(inp_size,), dtype=\"string\")\n",
    "\n",
    "    embedding = Lambda(ELMoEmbeddingStack, output_shape=(None, None, inp_size, 1024))(input_text)\n",
    "    \n",
    "    x = Bidirectional(CuDNNLSTM(units=128, return_sequences=True))(embedding)\n",
    "    x = residual(x)\n",
    "\n",
    "    pred = LSTM(n_tags, activation=\"sigmoid\")(x)\n",
    "\n",
    "    return Model(inputs=[input_text], outputs=pred)\n",
    "\n",
    "\n",
    "def build_model_9(ww, n_tags):\n",
    "    \n",
    "    def residual(x):\n",
    "        x_res = x\n",
    "        \n",
    "        x = Bidirectional(CuDNNLSTM(units=256, return_sequences=True))(x)\n",
    "        x = add([x, x_res])\n",
    "        return x\n",
    "    \n",
    "    inp_size = 2*ww+1\n",
    "    input_text = Input(shape=(inp_size,), dtype=\"string\")\n",
    "    embedding = Lambda(ELMoEmbeddingStack, output_shape=(None, None, inp_size, 1024))(input_text)\n",
    "    \n",
    "    x = Bidirectional(CuDNNLSTM(units=256, return_sequences=True))(embedding)\n",
    "    x = residual(x)\n",
    "\n",
    "    pred = LSTM(n_tags, activation=\"sigmoid\")(x)\n",
    "\n",
    "    return Model(inputs=[input_text], outputs=pred)\n",
    "\n",
    "def build_model_10(ww, n_tags):\n",
    "    \n",
    "    def residual(x):\n",
    "        x_res = x\n",
    "        \n",
    "        x = Bidirectional(CuDNNLSTM(units=256, return_sequences=True))(x)\n",
    "        x = add([x, x_res])\n",
    "        return x\n",
    "    \n",
    "    inp_size = 2*ww+1\n",
    "    input_text = Input(shape=(inp_size,), dtype=\"string\")\n",
    "    embedding = Lambda(ELMoEmbeddingStack, output_shape=(None, None, inp_size, 1024))(input_text)\n",
    "    \n",
    "    x = Bidirectional(CuDNNLSTM(units=256, return_sequences=True))(embedding)\n",
    "    x = residual(x)\n",
    "    x = Dropout(0.4)(x)\n",
    "\n",
    "    pred = LSTM(n_tags, activation=\"sigmoid\")(x)\n",
    "\n",
    "    return Model(inputs=[input_text], outputs=pred)\n",
    "\n",
    "\n",
    "\n",
    "def build_model_11(ww, n_tags):\n",
    "    \n",
    "    def residual(x):\n",
    "        x_res = x\n",
    "        \n",
    "        x = Bidirectional(CuDNNLSTM(units=128, return_sequences=True))(x)\n",
    "        x = add([x, x_res])\n",
    "        return x\n",
    "    \n",
    "    inp_size = 2*ww+1\n",
    "    input_text = Input(shape=(inp_size,), dtype=\"string\")\n",
    "\n",
    "    embedding = Lambda(ELMoEmbeddingStack, output_shape=(None, None, inp_size, 1024))(input_text)\n",
    "    \n",
    "    x = Dense(256, kernel_regularizer=l2(0.001))(embedding)\n",
    "    x = Activation('relu')(x)\n",
    "\n",
    "    x = Bidirectional(CuDNNLSTM(units=128, return_sequences=True))(embedding)\n",
    "    x = residual(x)\n",
    "\n",
    "    pred = LSTM(n_tags, activation=\"sigmoid\")(x)\n",
    "\n",
    "    return Model(inputs=[input_text], outputs=pred)\n",
    "\n",
    "def build_model_12(ww, n_tags):\n",
    "    \n",
    "    def residual(x):\n",
    "        x_res = x\n",
    "\n",
    "        x = Bidirectional(CuDNNLSTM(units=256, return_sequences=True))(x)\n",
    "        x = add([x, x_res])\n",
    "        return x\n",
    "\n",
    "    inp_size = 2*ww+1\n",
    "    input_text = Input(shape=(inp_size,), dtype=\"string\")\n",
    "\n",
    "    embedding = Lambda(ELMoEmbeddingStack, output_shape=(None, None, inp_size, 1024))(input_text)\n",
    "    \n",
    "    x = Dense(256, kernel_regularizer=l2(0.001))(embedding)\n",
    "    x = Activation('relu')(x)\n",
    "                                \n",
    "    x = Bidirectional(CuDNNLSTM(units=256, return_sequences=True))(x)\n",
    "    x = residual(x)\n",
    "\n",
    "    pred = LSTM(n_tags, activation=\"sigmoid\")(x)\n",
    "\n",
    "    return Model(inputs=[input_text], outputs=pred)\n",
    "\n",
    "def build_model_13(ww, n_tags):\n",
    "    \n",
    "    def residual(x):\n",
    "        x_res = x\n",
    "        \n",
    "        x = Bidirectional(LSTM(units=128, return_sequences=True,\n",
    "                           recurrent_dropout=0.2, dropout=0.2))(x)\n",
    "\n",
    "        x = add([x, x_res])\n",
    "        return x\n",
    "    \n",
    "    inp_size = 2*ww+1\n",
    "    input_text = Input(shape=(inp_size,), dtype=\"string\")\n",
    "    embedding = Lambda(ELMoEmbeddingStack, output_shape=(None, None, inp_size, 1024))(input_text)    \n",
    "    x = Dense(256, activation='relu')(embedding)\n",
    "    x = Bidirectional(LSTM(units=128, return_sequences=True,\n",
    "                           recurrent_dropout=0.2, dropout=0.2))(x)\n",
    "\n",
    "    x = residual(x)\n",
    "\n",
    "    pred = LSTM(n_tags, activation=\"sigmoid\")(x)\n",
    "    \n",
    "    return Model(inputs=[input_text], outputs=pred)"
   ]
  },
  {
   "cell_type": "code",
   "execution_count": null,
   "metadata": {},
   "outputs": [],
   "source": []
  },
  {
   "cell_type": "code",
   "execution_count": 29,
   "metadata": {},
   "outputs": [],
   "source": [
    "learningrate=0.001\n",
    "optimizer = Adam(lr=learningrate)\n",
    "optimizer_str = 'adam'\n",
    "loss = 'binary_crossentropy'\n",
    "metrics = ['acc', f1_macro, f1_micro]"
   ]
  },
  {
   "cell_type": "code",
   "execution_count": 30,
   "metadata": {
    "scrolled": true
   },
   "outputs": [
    {
     "name": "stdout",
     "output_type": "stream",
     "text": [
      "__________________________________________________________________________________________________\n",
      "Layer (type)                    Output Shape         Param #     Connected to                     \n",
      "==================================================================================================\n",
      "input_3 (InputLayer)            (None, 5)            0                                            \n",
      "__________________________________________________________________________________________________\n",
      "lambda_3 (Lambda)               (None, None, None, 5 0           input_3[0][0]                    \n",
      "__________________________________________________________________________________________________\n",
      "dense_5 (Dense)                 (None, None, None, 5 524800      lambda_3[0][0]                   \n",
      "__________________________________________________________________________________________________\n",
      "dense_6 (Dense)                 (None, None, None, 5 131328      dense_5[0][0]                    \n",
      "__________________________________________________________________________________________________\n",
      "bidirectional_5 (Bidirectional) (None, None, 256)    394240      dense_6[0][0]                    \n",
      "__________________________________________________________________________________________________\n",
      "bidirectional_6 (Bidirectional) (None, None, 256)    394240      bidirectional_5[0][0]            \n",
      "__________________________________________________________________________________________________\n",
      "add_3 (Add)                     (None, None, 256)    0           bidirectional_6[0][0]            \n",
      "                                                                 bidirectional_5[0][0]            \n",
      "__________________________________________________________________________________________________\n",
      "lstm_9 (LSTM)                   (None, 2)            2072        add_3[0][0]                      \n",
      "==================================================================================================\n",
      "Total params: 1,446,680\n",
      "Trainable params: 1,446,680\n",
      "Non-trainable params: 0\n",
      "__________________________________________________________________________________________________\n"
     ]
    }
   ],
   "source": [
    "model = build_lstm_model(ww, n_tags)\n",
    "model.summary()\n",
    "\n",
    "model.compile(loss=loss, optimizer=optimizer, metrics=metrics)"
   ]
  },
  {
   "cell_type": "code",
   "execution_count": 31,
   "metadata": {},
   "outputs": [],
   "source": [
    "model_name = 'RQ2_elmo_many_to_one_model_0' + \\\n",
    "             '_ww_' + str(ww) + \\\n",
    "             '_' + optimizer_str + \\\n",
    "             '_lr_' + str(learningrate) + \\\n",
    "             '_lrreduction' + \\\n",
    "             '_loss_' + loss\n",
    "\n",
    "model_dir = './Model/' + model_name.split('model')[0] + 'model/' + model_name\n",
    "results_file = os.path.join(model_dir, 'model_results_file.txt')"
   ]
  },
  {
   "cell_type": "markdown",
   "metadata": {},
   "source": [
    "### Train Model"
   ]
  },
  {
   "cell_type": "code",
   "execution_count": 32,
   "metadata": {},
   "outputs": [
    {
     "data": {
      "image/png": "[encoded data removed]",
      "text/plain": [
       "<Figure size 720x360 with 1 Axes>"
      ]
     },
     "metadata": {
      "needs_background": "light"
     },
     "output_type": "display_data"
    },
    {
     "data": {
      "text/plain": [
       "<keras.callbacks.History at 0x7fa3f6770470>"
      ]
     },
     "execution_count": 32,
     "metadata": {},
     "output_type": "execute_result"
    }
   ],
   "source": [
    "model.fit(X_tra, y_tra, \n",
    "          epochs=50, \n",
    "          batch_size=batch_size, \n",
    "          validation_data=(X_val, y_val), \n",
    "          callbacks=[\n",
    "              PlotCurves(model_name=model_name, model_dir=model_dir, jnote=True),\n",
    "              ReduceLROnPlateau(monitor='val_f1_macro', patience=3, \n",
    "                                factor=0.1, min_lr=0.00001),\n",
    "              EarlyStopping(monitor='val_f1_macro', min_delta=0, patience=10, mode='max')\n",
    "          ])"
   ]
  },
  {
   "cell_type": "markdown",
   "metadata": {},
   "source": [
    "### Load the best Model"
   ]
  },
  {
   "cell_type": "code",
   "execution_count": null,
   "metadata": {},
   "outputs": [],
   "source": [
    "model_name"
   ]
  },
  {
   "cell_type": "code",
   "execution_count": null,
   "metadata": {},
   "outputs": [],
   "source": [
    "best_model = load_model(os.path.join(model_dir, model_name + '_best_f1_macro_model.h5'), \n",
    "                        custom_objects={'elmo':elmo, 'tf':tf, 'f1_macro':f1_macro, 'f1_micro':f1_micro})"
   ]
  },
  {
   "cell_type": "markdown",
   "metadata": {},
   "source": [
    "### Evaluation"
   ]
  },
  {
   "cell_type": "code",
   "execution_count": 25,
   "metadata": {},
   "outputs": [],
   "source": [
    "def get_scores(model, data_, batch_size, ww, n_tags, results_file):\n",
    "    \n",
    "    X, y = get_input(data_, ww, n_tags, batch_size, is_test=True, limit=None)\n",
    "    \n",
    "    y_preds = model.predict(X, batch_size=batch_size)\n",
    "    y_preds = np.argmax(y_preds, axis=1)\n",
    "    \n",
    "    clsrpt = classification_report(y, y_preds)\n",
    "    sfm = scikit_f1_score(y, y_preds, average='macro')\n",
    "\n",
    "    print(clsrpt)\n",
    "    print('\\nScikit_F1_Macro:', sfm)\n",
    "\n",
    "    if results_file:\n",
    "        with open(results_file, 'a') as f:\n",
    "            f.write('\\n' + clsrpt + '\\n' + str(sfm) + '\\n\\n')"
   ]
  },
  {
   "cell_type": "markdown",
   "metadata": {},
   "source": [
    "#### Validation Set"
   ]
  },
  {
   "cell_type": "code",
   "execution_count": 26,
   "metadata": {},
   "outputs": [],
   "source": [
    "with open(results_file, 'w') as f:\n",
    "    f.write('\\n---------------- Validation ----------------\\n')"
   ]
  },
  {
   "cell_type": "code",
   "execution_count": 27,
   "metadata": {},
   "outputs": [
    {
     "name": "stdout",
     "output_type": "stream",
     "text": [
      "              precision    recall  f1-score   support\n",
      "\n",
      "           0       0.67      1.00      0.80       268\n",
      "           1       0.00      0.00      0.00       130\n",
      "\n",
      "   micro avg       0.67      0.67      0.67       398\n",
      "   macro avg       0.34      0.50      0.40       398\n",
      "weighted avg       0.45      0.67      0.54       398\n",
      "\n",
      "\n",
      "Scikit_F1_Macro: 0.40240240240240244\n"
     ]
    },
    {
     "name": "stderr",
     "output_type": "stream",
     "text": [
      "/home/aorus/workspaces/simge/Master_Thesis/.env/lib/python3.6/site-packages/sklearn/metrics/classification.py:1143: UndefinedMetricWarning: Precision and F-score are ill-defined and being set to 0.0 in labels with no predicted samples.\n",
      "  'precision', 'predicted', average, warn_for)\n",
      "/home/aorus/workspaces/simge/Master_Thesis/.env/lib/python3.6/site-packages/sklearn/metrics/classification.py:1143: UndefinedMetricWarning: F-score is ill-defined and being set to 0.0 in labels with no predicted samples.\n",
      "  'precision', 'predicted', average, warn_for)\n"
     ]
    }
   ],
   "source": [
    "get_scores(best_model, valid_data, batch_size, ww, n_tags, results_file)"
   ]
  },
  {
   "cell_type": "markdown",
   "metadata": {},
   "source": [
    "#### Test Set"
   ]
  },
  {
   "cell_type": "code",
   "execution_count": 28,
   "metadata": {},
   "outputs": [],
   "source": [
    "with open(results_file, 'a') as f:\n",
    "    f.write('\\n---------------- Test ----------------\\n')"
   ]
  },
  {
   "cell_type": "code",
   "execution_count": 29,
   "metadata": {},
   "outputs": [
    {
     "name": "stdout",
     "output_type": "stream",
     "text": [
      "              precision    recall  f1-score   support\n",
      "\n",
      "           0       0.74      1.00      0.85       325\n",
      "           1       0.00      0.00      0.00       115\n",
      "\n",
      "   micro avg       0.74      0.74      0.74       440\n",
      "   macro avg       0.37      0.50      0.42       440\n",
      "weighted avg       0.55      0.74      0.63       440\n",
      "\n",
      "\n",
      "Scikit_F1_Macro: 0.42483660130718953\n"
     ]
    }
   ],
   "source": [
    "get_scores(best_model, test_data, batch_size, ww, n_tags, results_file)"
   ]
  },
  {
   "cell_type": "code",
   "execution_count": null,
   "metadata": {},
   "outputs": [],
   "source": []
  }
 ],
 "metadata": {
  "kernelspec": {
   "display_name": "Python 3",
   "language": "python",
   "name": "python3"
  },
  "language_info": {
   "codemirror_mode": {
    "name": "ipython",
    "version": 3
   },
   "file_extension": ".py",
   "mimetype": "text/x-python",
   "name": "python",
   "nbconvert_exporter": "python",
   "pygments_lexer": "ipython3",
   "version": "3.6.8"
  }
 },
 "nbformat": 4,
 "nbformat_minor": 2
}
