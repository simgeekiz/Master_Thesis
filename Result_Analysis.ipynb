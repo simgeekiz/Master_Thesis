{
 "cells": [
  {
   "cell_type": "code",
   "execution_count": 33,
   "metadata": {},
   "outputs": [
    {
     "name": "stdout",
     "output_type": "stream",
     "text": [
      "The autoreload extension is already loaded. To reload it, use:\n",
      "  %reload_ext autoreload\n"
     ]
    }
   ],
   "source": [
    "%load_ext autoreload\n",
    "%autoreload 2"
   ]
  },
  {
   "cell_type": "code",
   "execution_count": 19,
   "metadata": {},
   "outputs": [],
   "source": [
    "import os\n",
    "import re\n",
    "from glob import glob\n",
    "from collections import Counter\n",
    "\n",
    "from pprint import pprint\n",
    "import matplotlib.pyplot as plt\n",
    "\n",
    "import numpy as np\n",
    "import pandas as pd\n",
    "\n",
    "from sklearn.metrics import classification_report\n",
    "\n",
    "from src.load_data import load_data"
   ]
  },
  {
   "cell_type": "code",
   "execution_count": 3,
   "metadata": {},
   "outputs": [],
   "source": [
    "def plot_figures(sets, title=None, bins=50):\n",
    "    plt.figure(figsize=(5*len(sets), 3))\n",
    "    if title:\n",
    "        plt.suptitle(title, fontsize=16, y=1.08)\n",
    "    if len(sets) > 1:\n",
    "        plt.subplot(131)\n",
    "        plt.hist(sets[0], bins=bins)\n",
    "        plt.title('Training Set')\n",
    "        plt.subplot(132)\n",
    "        plt.hist(sets[1], bins=bins)\n",
    "        plt.title('Validation Set')\n",
    "        plt.subplot(133)\n",
    "        plt.hist(sets[2], bins=bins)\n",
    "        plt.title('Test Set')\n",
    "    else:\n",
    "        plt.hist(sets[0], bins=bins)\n",
    "        plt.title('Total Set')\n",
    "    plt.show()"
   ]
  },
  {
   "cell_type": "markdown",
   "metadata": {},
   "source": [
    "### Load Data\n"
   ]
  },
  {
   "cell_type": "code",
   "execution_count": 4,
   "metadata": {},
   "outputs": [],
   "source": [
    "train_data, valid_data, test_data, metadata = load_data()"
   ]
  },
  {
   "cell_type": "markdown",
   "metadata": {},
   "source": [
    "#### Metadata"
   ]
  },
  {
   "cell_type": "code",
   "execution_count": 5,
   "metadata": {},
   "outputs": [
    {
     "name": "stdout",
     "output_type": "stream",
     "text": [
      "Total number of articles: 315\n",
      "Article Distribution: {'train': 251, 'valid': 32, 'test': 32}\n"
     ]
    }
   ],
   "source": [
    "print('Total number of articles:', metadata['article_nums']['train'] + \n",
    "                                   metadata['article_nums']['valid'] +\n",
    "                                   metadata['article_nums']['test'])\n",
    "print('Article Distribution:', metadata['article_nums'])"
   ]
  },
  {
   "cell_type": "code",
   "execution_count": 6,
   "metadata": {},
   "outputs": [
    {
     "name": "stdout",
     "output_type": "stream",
     "text": [
      "Total number of sentences: 4422\n",
      "Sentence Distribution: {'train': 3582, 'valid': 399, 'test': 441}\n"
     ]
    }
   ],
   "source": [
    "print('Total number of sentences:', metadata['sentence_nums']['train'] + \n",
    "                                   metadata['sentence_nums']['valid'] +\n",
    "                                   metadata['sentence_nums']['test'])\n",
    "print('Sentence Distribution:', metadata['sentence_nums'])"
   ]
  },
  {
   "cell_type": "markdown",
   "metadata": {},
   "source": [
    "# Result Analysis"
   ]
  },
  {
   "cell_type": "code",
   "execution_count": 7,
   "metadata": {},
   "outputs": [],
   "source": [
    "def read_results(file_path):\n",
    "\n",
    "    validation = {\n",
    "        '0': {}, \n",
    "        '1': {},\n",
    "        'micro': {},\n",
    "        'macro': {},\n",
    "        'weighted': {},\n",
    "    }\n",
    "    test = {\n",
    "        '0': {}, \n",
    "        '1': {},\n",
    "        'micro': {},\n",
    "        'macro': {},\n",
    "        'weighted': {},\n",
    "    }\n",
    "\n",
    "    with open(file_path, 'r') as f:\n",
    "        for i, line in enumerate(f.readlines()):\n",
    "            line = line.strip().split()\n",
    "\n",
    "            if line:\n",
    "\n",
    "                if i == 5:\n",
    "                    validation['0'] = {\n",
    "                        'precision': float(line[1]),\n",
    "                        'recall': float(line[2]),\n",
    "                        'f1': float(line[3]),\n",
    "                        'support': int(line[4])\n",
    "                    }\n",
    "\n",
    "                elif i == 6:\n",
    "                    validation['1'] = {\n",
    "                        'precision': float(line[1]),\n",
    "                        'recall': float(line[2]),\n",
    "                        'f1': float(line[3]),\n",
    "                        'support': int(line[4])\n",
    "                    }\n",
    "\n",
    "                elif i == 8:\n",
    "                    validation['micro'] = {\n",
    "                        'precision': float(line[2]),\n",
    "                        'recall': float(line[3]),\n",
    "                        'f1': float(line[4]),\n",
    "                        'support': int(line[5])\n",
    "                    }\n",
    "\n",
    "                elif i == 9:\n",
    "                    validation['macro'] = {\n",
    "                        'precision': float(line[2]),\n",
    "                        'recall': float(line[3]),\n",
    "                        'f1': float(line[4]),\n",
    "                        'support': int(line[5])\n",
    "                    }\n",
    "\n",
    "                elif i == 10:\n",
    "                    validation['weighted'] = {\n",
    "                        'precision': float(line[2]),\n",
    "                        'recall': float(line[3]),\n",
    "                        'f1': float(line[4]),\n",
    "                        'support': int(line[5])\n",
    "                    }\n",
    "\n",
    "                elif i == 20:\n",
    "                    test['0'] = {\n",
    "                        'precision': float(line[1]),\n",
    "                        'recall': float(line[2]),\n",
    "                        'f1': float(line[3]),\n",
    "                        'support': int(line[4])\n",
    "                    }\n",
    "\n",
    "                elif i == 21:\n",
    "                    test['1'] = {\n",
    "                        'precision': float(line[1]),\n",
    "                        'recall': float(line[2]),\n",
    "                        'f1': float(line[3]),\n",
    "                        'support': int(line[4])\n",
    "                    }\n",
    "\n",
    "                elif i == 23:\n",
    "                    test['micro'] = {\n",
    "                        'precision': float(line[2]),\n",
    "                        'recall': float(line[3]),\n",
    "                        'f1': float(line[4]),\n",
    "                        'support': int(line[5])\n",
    "                    }\n",
    "\n",
    "                elif i == 24:\n",
    "                    test['macro'] = {\n",
    "                        'precision': float(line[2]),\n",
    "                        'recall': float(line[3]),\n",
    "                        'f1': float(line[4]),\n",
    "                        'support': int(line[5])\n",
    "                    }\n",
    "\n",
    "                elif i == 25:\n",
    "                    test['weighted'] = {\n",
    "                        'precision': float(line[2]),\n",
    "                        'recall': float(line[3]),\n",
    "                        'f1': float(line[4]),\n",
    "                        'support': int(line[5])\n",
    "                    }\n",
    "\n",
    "                elif i == 12:\n",
    "                    validation['macro']['f1'] = float(line[1])\n",
    "                    \n",
    "                elif i == 13:\n",
    "                    validation['1']['f1'] = float(line[1])\n",
    "\n",
    "                elif i == 27:\n",
    "                    test['macro']['f1'] = float(line[1])\n",
    "                                                     \n",
    "                elif i == 28:\n",
    "                    test['1']['f1'] = float(line[1])\n",
    "                    \n",
    "    return validation, test"
   ]
  },
  {
   "cell_type": "markdown",
   "metadata": {},
   "source": [
    "#### Read Model Performances File"
   ]
  },
  {
   "cell_type": "code",
   "execution_count": 25,
   "metadata": {},
   "outputs": [],
   "source": [
    "model_folder = '/home/aorus/workspaces/simge/Master_Thesis/Model/Optimized_RQ2_bert_many_to_one_model/'"
   ]
  },
  {
   "cell_type": "code",
   "execution_count": 26,
   "metadata": {},
   "outputs": [],
   "source": [
    "runs = []\n",
    "with open('{}/model_performances.csv'.format(model_folder), 'r') as f:\n",
    "    for line in f.readlines():\n",
    "        line = line.strip()\n",
    "        if line:        \n",
    "            model_name, val_f1_macro, test_f1_macro = line.split(',')\n",
    "            specs = model_name.split('_')\n",
    "            \n",
    "            if len(specs) > 3:\n",
    "            \n",
    "                metadata = {\n",
    "                    'research_question': specs[1],\n",
    "                    'transformer': '_'.join([specs[i] for i in range(2, specs.index('model'))]),\n",
    "                    'model_no': specs[specs.index('model')+1],\n",
    "                    'optimizer': specs[specs.index('lr')-1],\n",
    "                    'learning_rate': specs[specs.index('lr')+1],\n",
    "                    'lrreduction': True if 'lrreduction' in specs else False,\n",
    "                    'loss': '_'.join([specs[specs.index('loss')+i] for i in range(1,3)]),\n",
    "                }\n",
    "\n",
    "                if 'ww' in specs:\n",
    "                    metadata['window_width'] = specs[specs.index('ww')+1]\n",
    "                    \n",
    "                if 'epochs' in specs:\n",
    "                    metadata['epochs'] = specs[specs.index('epochs')+1]\n",
    "                    \n",
    "                runs.append({\n",
    "                    'model_name': model_name,\n",
    "                    'metadata': metadata,\n",
    "                    'val_f1_macro': val_f1_macro,\n",
    "                    'test_f1_macro': test_f1_macro\n",
    "                })"
   ]
  },
  {
   "cell_type": "code",
   "execution_count": 27,
   "metadata": {},
   "outputs": [
    {
     "data": {
      "text/plain": [
       "{'model_name': 'Optimized_RQ2_bert_many_to_one_model_0_ww_1_adam_lr_0.0001_epochs_1_loss_binary_crossentropy',\n",
       " 'metadata': {'research_question': 'RQ2',\n",
       "  'transformer': 'bert_many_to_one',\n",
       "  'model_no': '0',\n",
       "  'optimizer': 'adam',\n",
       "  'learning_rate': '0.0001',\n",
       "  'lrreduction': False,\n",
       "  'loss': 'binary_crossentropy',\n",
       "  'window_width': '1',\n",
       "  'epochs': '1'},\n",
       " 'val_f1_macro': '0.7333240914026941',\n",
       " 'test_f1_macro': '0.6436164827376734'}"
      ]
     },
     "execution_count": 27,
     "metadata": {},
     "output_type": "execute_result"
    }
   ],
   "source": [
    "runs[0]"
   ]
  },
  {
   "cell_type": "code",
   "execution_count": 11,
   "metadata": {
    "scrolled": true
   },
   "outputs": [
    {
     "name": "stdout",
     "output_type": "stream",
     "text": [
      "Optimized_RQ2_elmo_many_to_one_model_2_ww_1_adam_lr_0.01_lrreduction_loss_binary_crossentropy_onehot_softmax\n",
      "0.8149575119330466 0.724206684962146\n",
      "{'model_name': 'Optimized_RQ2_elmo_many_to_one_model_2_ww_1_adam_lr_0.01_lrreduction_loss_binary_crossentropy_onehot_softmax', 'metadata': {'research_question': 'RQ2', 'transformer': 'elmo_many_to_one', 'model_no': '2', 'optimizer': 'adam', 'learning_rate': '0.01', 'lrreduction': True, 'loss': 'binary_crossentropy', 'window_width': '1'}, 'val_f1_macro': '0.8149575119330466', 'test_f1_macro': '0.724206684962146'}\n",
      "\n",
      "Optimized_RQ2_elmo_many_to_one_model_2_ww_1_rmsprop_lr_0.01_lrreduction_loss_binary_crossentropy_onehot_softmax\n",
      "0.81886278515492 0.719098228663446\n",
      "{'model_name': 'Optimized_RQ2_elmo_many_to_one_model_2_ww_1_rmsprop_lr_0.01_lrreduction_loss_binary_crossentropy_onehot_softmax', 'metadata': {'research_question': 'RQ2', 'transformer': 'elmo_many_to_one', 'model_no': '2', 'optimizer': 'rmsprop', 'learning_rate': '0.01', 'lrreduction': True, 'loss': 'binary_crossentropy', 'window_width': '1'}, 'val_f1_macro': '0.81886278515492', 'test_f1_macro': '0.719098228663446'}\n",
      "\n",
      "Optimized_RQ2_elmo_many_to_one_model_2_ww_1_adam_lr_0.005_lrreduction_loss_binary_crossentropy_onehot_softmax\n",
      "0.8077274394585614 0.7025513196480938\n",
      "{'model_name': 'Optimized_RQ2_elmo_many_to_one_model_2_ww_1_adam_lr_0.005_lrreduction_loss_binary_crossentropy_onehot_softmax', 'metadata': {'research_question': 'RQ2', 'transformer': 'elmo_many_to_one', 'model_no': '2', 'optimizer': 'adam', 'learning_rate': '0.005', 'lrreduction': True, 'loss': 'binary_crossentropy', 'window_width': '1'}, 'val_f1_macro': '0.8077274394585614', 'test_f1_macro': '0.7025513196480938'}\n",
      "\n",
      "Optimized_RQ2_elmo_many_to_one_model_2_ww_1_rmsprop_lr_0.005_lrreduction_loss_binary_crossentropy_onehot_softmax\n",
      "0.4026946107784431 0.42428198433420367\n",
      "{'model_name': 'Optimized_RQ2_elmo_many_to_one_model_2_ww_1_rmsprop_lr_0.005_lrreduction_loss_binary_crossentropy_onehot_softmax', 'metadata': {'research_question': 'RQ2', 'transformer': 'elmo_many_to_one', 'model_no': '2', 'optimizer': 'rmsprop', 'learning_rate': '0.005', 'lrreduction': True, 'loss': 'binary_crossentropy', 'window_width': '1'}, 'val_f1_macro': '0.4026946107784431', 'test_f1_macro': '0.42428198433420367'}\n",
      "\n",
      "Optimized_RQ2_elmo_many_to_one_model_2_ww_1_adam_lr_0.001_lrreduction_loss_binary_crossentropy_onehot_softmax\n",
      "0.8282941862402132 0.7629306531842648\n",
      "{'model_name': 'Optimized_RQ2_elmo_many_to_one_model_2_ww_1_adam_lr_0.001_lrreduction_loss_binary_crossentropy_onehot_softmax', 'metadata': {'research_question': 'RQ2', 'transformer': 'elmo_many_to_one', 'model_no': '2', 'optimizer': 'adam', 'learning_rate': '0.001', 'lrreduction': True, 'loss': 'binary_crossentropy', 'window_width': '1'}, 'val_f1_macro': '0.8282941862402132', 'test_f1_macro': '0.7629306531842648'}\n",
      "\n",
      "Optimized_RQ2_elmo_many_to_one_model_2_ww_1_rmsprop_lr_0.001_lrreduction_loss_binary_crossentropy_onehot_softmax\n",
      "0.8308270676691729 0.7684591577318448\n",
      "{'model_name': 'Optimized_RQ2_elmo_many_to_one_model_2_ww_1_rmsprop_lr_0.001_lrreduction_loss_binary_crossentropy_onehot_softmax', 'metadata': {'research_question': 'RQ2', 'transformer': 'elmo_many_to_one', 'model_no': '2', 'optimizer': 'rmsprop', 'learning_rate': '0.001', 'lrreduction': True, 'loss': 'binary_crossentropy', 'window_width': '1'}, 'val_f1_macro': '0.8308270676691729', 'test_f1_macro': '0.7684591577318448'}\n",
      "\n",
      "Optimized_RQ2_elmo_many_to_one_model_2_ww_1_adam_lr_0.0005_lrreduction_loss_binary_crossentropy_onehot_softmax\n",
      "0.8295791117303963 0.7554712796325327\n",
      "{'model_name': 'Optimized_RQ2_elmo_many_to_one_model_2_ww_1_adam_lr_0.0005_lrreduction_loss_binary_crossentropy_onehot_softmax', 'metadata': {'research_question': 'RQ2', 'transformer': 'elmo_many_to_one', 'model_no': '2', 'optimizer': 'adam', 'learning_rate': '0.0005', 'lrreduction': True, 'loss': 'binary_crossentropy', 'window_width': '1'}, 'val_f1_macro': '0.8295791117303963', 'test_f1_macro': '0.7554712796325327'}\n",
      "\n",
      "Optimized_RQ2_elmo_many_to_one_model_2_ww_1_rmsprop_lr_0.0005_lrreduction_loss_binary_crossentropy_onehot_softmax\n",
      "0.8234833375639119 0.721950146627566\n",
      "{'model_name': 'Optimized_RQ2_elmo_many_to_one_model_2_ww_1_rmsprop_lr_0.0005_lrreduction_loss_binary_crossentropy_onehot_softmax', 'metadata': {'research_question': 'RQ2', 'transformer': 'elmo_many_to_one', 'model_no': '2', 'optimizer': 'rmsprop', 'learning_rate': '0.0005', 'lrreduction': True, 'loss': 'binary_crossentropy', 'window_width': '1'}, 'val_f1_macro': '0.8234833375639119', 'test_f1_macro': '0.721950146627566'}\n",
      "\n",
      "Optimized_RQ2_elmo_many_to_one_model_2_ww_2_adam_lr_0.001_lrreduction_loss_binary_crossentropy_onehot_softmax\n",
      "0.8260073260073261 0.7026121753306904\n",
      "{'model_name': 'Optimized_RQ2_elmo_many_to_one_model_2_ww_2_adam_lr_0.001_lrreduction_loss_binary_crossentropy_onehot_softmax', 'metadata': {'research_question': 'RQ2', 'transformer': 'elmo_many_to_one', 'model_no': '2', 'optimizer': 'adam', 'learning_rate': '0.001', 'lrreduction': True, 'loss': 'binary_crossentropy', 'window_width': '2'}, 'val_f1_macro': '0.8260073260073261', 'test_f1_macro': '0.7026121753306904'}\n",
      "\n",
      "Optimized_RQ2_elmo_many_to_one_model_2_ww_2_rmsprop_lr_0.001_lrreduction_loss_binary_crossentropy_onehot_softmax\n",
      "0.7896435922435272 0.6787819036617936\n",
      "{'model_name': 'Optimized_RQ2_elmo_many_to_one_model_2_ww_2_rmsprop_lr_0.001_lrreduction_loss_binary_crossentropy_onehot_softmax', 'metadata': {'research_question': 'RQ2', 'transformer': 'elmo_many_to_one', 'model_no': '2', 'optimizer': 'rmsprop', 'learning_rate': '0.001', 'lrreduction': True, 'loss': 'binary_crossentropy', 'window_width': '2'}, 'val_f1_macro': '0.7896435922435272', 'test_f1_macro': '0.6787819036617936'}\n",
      "\n",
      "Optimized_RQ2_elmo_many_to_one_model_2_ww_2_adam_lr_0.0005_lrreduction_loss_binary_crossentropy_onehot_softmax\n",
      "0.7801200614267765 0.6637536656891496\n",
      "{'model_name': 'Optimized_RQ2_elmo_many_to_one_model_2_ww_2_adam_lr_0.0005_lrreduction_loss_binary_crossentropy_onehot_softmax', 'metadata': {'research_question': 'RQ2', 'transformer': 'elmo_many_to_one', 'model_no': '2', 'optimizer': 'adam', 'learning_rate': '0.0005', 'lrreduction': True, 'loss': 'binary_crossentropy', 'window_width': '2'}, 'val_f1_macro': '0.7801200614267765', 'test_f1_macro': '0.6637536656891496'}\n",
      "\n",
      "Optimized_RQ2_elmo_many_to_one_model_2_ww_2_rmsprop_lr_0.0005_lrreduction_loss_binary_crossentropy_onehot_softmax\n",
      "0.7683931313695379 0.6614137810694483\n",
      "{'model_name': 'Optimized_RQ2_elmo_many_to_one_model_2_ww_2_rmsprop_lr_0.0005_lrreduction_loss_binary_crossentropy_onehot_softmax', 'metadata': {'research_question': 'RQ2', 'transformer': 'elmo_many_to_one', 'model_no': '2', 'optimizer': 'rmsprop', 'learning_rate': '0.0005', 'lrreduction': True, 'loss': 'binary_crossentropy', 'window_width': '2'}, 'val_f1_macro': '0.7683931313695379', 'test_f1_macro': '0.6614137810694483'}\n",
      "\n",
      "Optimized_RQ2_elmo_many_to_one_model_2_ww_3_adam_lr_0.001_lrreduction_loss_binary_crossentropy_onehot_softmax\n",
      "0.7791268406096615 0.6633961984512209\n",
      "{'model_name': 'Optimized_RQ2_elmo_many_to_one_model_2_ww_3_adam_lr_0.001_lrreduction_loss_binary_crossentropy_onehot_softmax', 'metadata': {'research_question': 'RQ2', 'transformer': 'elmo_many_to_one', 'model_no': '2', 'optimizer': 'adam', 'learning_rate': '0.001', 'lrreduction': True, 'loss': 'binary_crossentropy', 'window_width': '3'}, 'val_f1_macro': '0.7791268406096615', 'test_f1_macro': '0.6633961984512209'}\n",
      "\n",
      "Optimized_RQ2_elmo_many_to_one_model_2_ww_3_rmsprop_lr_0.001_lrreduction_loss_binary_crossentropy_onehot_softmax\n",
      "0.7577413479052824 0.6563773675377608\n",
      "{'model_name': 'Optimized_RQ2_elmo_many_to_one_model_2_ww_3_rmsprop_lr_0.001_lrreduction_loss_binary_crossentropy_onehot_softmax', 'metadata': {'research_question': 'RQ2', 'transformer': 'elmo_many_to_one', 'model_no': '2', 'optimizer': 'rmsprop', 'learning_rate': '0.001', 'lrreduction': True, 'loss': 'binary_crossentropy', 'window_width': '3'}, 'val_f1_macro': '0.7577413479052824', 'test_f1_macro': '0.6563773675377608'}\n",
      "\n",
      "Optimized_RQ2_elmo_many_to_one_model_2_ww_3_adam_lr_0.0005_lrreduction_loss_binary_crossentropy_onehot_softmax\n",
      "0.7569214106816489 0.6269631001021451\n",
      "{'model_name': 'Optimized_RQ2_elmo_many_to_one_model_2_ww_3_adam_lr_0.0005_lrreduction_loss_binary_crossentropy_onehot_softmax', 'metadata': {'research_question': 'RQ2', 'transformer': 'elmo_many_to_one', 'model_no': '2', 'optimizer': 'adam', 'learning_rate': '0.0005', 'lrreduction': True, 'loss': 'binary_crossentropy', 'window_width': '3'}, 'val_f1_macro': '0.7569214106816489', 'test_f1_macro': '0.6269631001021451'}\n",
      "\n",
      "Optimized_RQ2_elmo_many_to_one_model_2_ww_3_rmsprop_lr_0.0005_lrreduction_loss_binary_crossentropy_onehot_softmax\n",
      "0.7673469387755102 0.6895401830375338\n",
      "{'model_name': 'Optimized_RQ2_elmo_many_to_one_model_2_ww_3_rmsprop_lr_0.0005_lrreduction_loss_binary_crossentropy_onehot_softmax', 'metadata': {'research_question': 'RQ2', 'transformer': 'elmo_many_to_one', 'model_no': '2', 'optimizer': 'rmsprop', 'learning_rate': '0.0005', 'lrreduction': True, 'loss': 'binary_crossentropy', 'window_width': '3'}, 'val_f1_macro': '0.7673469387755102', 'test_f1_macro': '0.6895401830375338'}\n",
      "\n"
     ]
    }
   ],
   "source": [
    "runs2 = [r for r in runs\n",
    "#          if r['metadata']['epochs'] == '2'\n",
    "#         and r['metadata']['model_no'] == '2'\n",
    "#          if r['metadata']['optimizer'] == 'adam'\n",
    "#          if r['metadata']['learning_rate'] != '0.001']\n",
    "        if r['metadata']['model_no'] == '2']\n",
    "\n",
    "for run in runs2:\n",
    "#     print(run['metadata']['learning_rate'])\n",
    "#     print(run['metadata']['optimizer'])\n",
    "#     print(run['metadata']['model_no'], end='  ')\n",
    "    print(run['model_name'])\n",
    "    print(run['val_f1_macro'], run['test_f1_macro'])\n",
    "    print(run)\n",
    "    print()"
   ]
  },
  {
   "cell_type": "markdown",
   "metadata": {},
   "source": [
    "#### Read Model Results Files"
   ]
  },
  {
   "cell_type": "code",
   "execution_count": 51,
   "metadata": {},
   "outputs": [],
   "source": [
    "model_folder = '/home/aorus/workspaces/simge/Master_Thesis/Model/Optimized_RQ2_bert_model/'\n",
    "    \n",
    "results = []\n",
    "for folder_path in glob(model_folder + 'Optimized*'):\n",
    "    \n",
    "    results_file = os.path.join(folder_path, 'model_results_file.txt')\n",
    "    \n",
    "    if os.path.isfile(results_file):\n",
    "    \n",
    "        model_name = os.path.basename(folder_path)\n",
    "        specs = model_name.split('_')\n",
    "\n",
    "        if 'adamax' in model_name:\n",
    "            continue\n",
    "\n",
    "        metadata = {\n",
    "            'research_question': specs[1],\n",
    "            'transformer': '_'.join([specs[i] for i in range(2, specs.index('model'))]),\n",
    "            'model_no': specs[specs.index('model')+1],\n",
    "            'optimizer': specs[specs.index('lr')-1],\n",
    "            'learning_rate': specs[specs.index('lr')+1],\n",
    "            'lrreduction': True if 'lrreduction' in specs else False,\n",
    "            'loss': '_'.join([specs[specs.index('loss')+i] for i in range(1,3)]),\n",
    "        }\n",
    "\n",
    "        if 'ww' in specs:\n",
    "            metadata['window_width'] = specs[specs.index('ww')+1]\n",
    "\n",
    "        if 'epochs' in specs:\n",
    "            metadata['epochs'] = specs[specs.index('epochs')+1]\n",
    "\n",
    "        if 'tunedlayers' in specs:\n",
    "            metadata['tunedlayers'] = specs[specs.index('tunedlayers')+1]\n",
    "\n",
    "        validation, test = read_results(results_file)\n",
    "\n",
    "        results.append({\n",
    "            'model_name': model_name,\n",
    "            'metadata': metadata,\n",
    "            'validation': validation,\n",
    "            'test': test\n",
    "        })"
   ]
  },
  {
   "cell_type": "code",
   "execution_count": 52,
   "metadata": {},
   "outputs": [
    {
     "data": {
      "text/plain": [
       "'0'"
      ]
     },
     "execution_count": 52,
     "metadata": {},
     "output_type": "execute_result"
    }
   ],
   "source": [
    "results[0]['metadata']['model_no']"
   ]
  },
  {
   "cell_type": "code",
   "execution_count": 53,
   "metadata": {},
   "outputs": [
    {
     "name": "stdout",
     "output_type": "stream",
     "text": [
      "RQ2 bert\n",
      "0.8028083028083028\n",
      "0.7536684782608696\n",
      "0.6568265682656828\n"
     ]
    }
   ],
   "source": [
    "print(results[0]['metadata']['research_question'], results[0]['metadata']['transformer'])\n",
    "print(max([r['validation']['macro']['f1'] for r in results]))\n",
    "print(max([r['test']['macro']['f1'] for r in results]))\n",
    "print(max([r['test']['1']['f1'] for r in results]))"
   ]
  },
  {
   "cell_type": "code",
   "execution_count": 54,
   "metadata": {},
   "outputs": [
    {
     "name": "stdout",
     "output_type": "stream",
     "text": [
      "RQ2 bert 2\n",
      "0.8028083028083028\n",
      "0.7536684782608696\n",
      "0.6568265682656828\n"
     ]
    }
   ],
   "source": [
    "print(results[0]['metadata']['research_question'], results[0]['metadata']['transformer'], 2)\n",
    "print(max([r['validation']['macro']['f1'] for r in results]))\n",
    "print(max([r['test']['macro']['f1'] for r in results]))\n",
    "print(max([r['test']['1']['f1'] for r in results]))"
   ]
  },
  {
   "cell_type": "code",
   "execution_count": 55,
   "metadata": {},
   "outputs": [
    {
     "name": "stdout",
     "output_type": "stream",
     "text": [
      "RQ2 bert\n",
      "0.8028083028083028\n",
      "0.7536684782608696\n",
      "0.6568265682656828\n"
     ]
    }
   ],
   "source": [
    "print(results[0]['metadata']['research_question'], results[0]['metadata']['transformer'])\n",
    "print(max([r['validation']['macro']['f1'] for r in results]))\n",
    "print(max([r['test']['macro']['f1'] for r in results]))\n",
    "print(max([r['test']['1']['f1'] for r in results]))"
   ]
  },
  {
   "cell_type": "code",
   "execution_count": 56,
   "metadata": {
    "scrolled": true
   },
   "outputs": [
    {
     "name": "stdout",
     "output_type": "stream",
     "text": [
      "Optimized_RQ2_bert_model_0_maxlen_58_rmsprop_lr_2e-05_epochs_1_loss_binary_crossentropy_sigmoid\n",
      "0.6030131123038249\n",
      "0.35365853658536583\n",
      "0.6354627872654439\n",
      "\n",
      "Optimized_RQ2_bert_model_0_maxlen_58_adam_lr_0.001_epochs_1_loss_binary_crossentropy_sigmoid\n",
      "0.6928969359331476\n",
      "0.5\n",
      "0.7139687307981157\n",
      "\n",
      "Optimized_RQ2_bert_model_0_maxlen_58_rmsprop_lr_0.0001_epochs_1_loss_binary_crossentropy_sigmoid\n",
      "0.5933265582655827\n",
      "0.3194444444444445\n",
      "0.6937043394257226\n",
      "\n",
      "Optimized_RQ2_bert_model_0_maxlen_58_adam_lr_2e-05_epochs_1_loss_binary_crossentropy_sigmoid\n",
      "0.5946106705118962\n",
      "0.32894736842105265\n",
      "0.6312250815512868\n",
      "\n",
      "Optimized_RQ2_bert_model_0_maxlen_58_rmsprop_lr_0.001_epochs_1_loss_binary_crossentropy_sigmoid\n",
      "0.7085261070720423\n",
      "0.5294117647058824\n",
      "0.7398956975228161\n",
      "\n",
      "Optimized_RQ2_bert_model_0_maxlen_58_adam_lr_0.0001_epochs_1_loss_binary_crossentropy_sigmoid\n",
      "0.6565219211925799\n",
      "0.44311377245508987\n",
      "0.7285714285714286\n",
      "\n",
      "Optimized_RQ2_bert_model_10_maxlen_58_adam_lr_0.001_epochs_1_loss_binary_crossentropy_sigmoid\n",
      "0.7536684782608696\n",
      "0.6145833333333333\n",
      "0.7869311130666305\n",
      "\n",
      "Optimized_RQ2_bert_model_10_maxlen_58_rmsprop_lr_2e-05_epochs_1_loss_binary_crossentropy_sigmoid\n",
      "0.6311123619221839\n",
      "0.41530054644808745\n",
      "0.6826078655975563\n",
      "\n",
      "Optimized_RQ2_bert_model_10_maxlen_58_adam_lr_0.0001_epochs_1_loss_binary_crossentropy_sigmoid\n",
      "0.6880965057971822\n",
      "0.5027932960893855\n",
      "0.7437871351072074\n",
      "\n",
      "Optimized_RQ2_bert_model_10_maxlen_58_rmsprop_lr_0.001_epochs_1_loss_binary_crossentropy_sigmoid\n",
      "0.7168420758772788\n",
      "0.6372239747634071\n",
      "0.7034813925570229\n",
      "\n",
      "Optimized_RQ2_bert_model_10_maxlen_58_adam_lr_2e-05_epochs_1_loss_binary_crossentropy_sigmoid\n",
      "0.658253766254079\n",
      "0.47846889952153104\n",
      "0.688655462184874\n",
      "\n",
      "Optimized_RQ2_bert_model_10_maxlen_58_rmsprop_lr_0.0001_epochs_1_loss_binary_crossentropy_sigmoid\n",
      "0.6509042511547796\n",
      "0.42767295597484273\n",
      "0.7479508676155195\n",
      "\n",
      "Optimized_RQ2_bert_model_11_maxlen_58_rmsprop_lr_0.0001_epochs_1_loss_binary_crossentropy_sigmoid\n",
      "0.5528775209050665\n",
      "0.24060150375939848\n",
      "0.5914954610606784\n",
      "\n",
      "Optimized_RQ2_bert_model_11_maxlen_58_rmsprop_lr_0.001_epochs_1_loss_binary_crossentropy_sigmoid\n",
      "0.6793282548476454\n",
      "0.47500000000000003\n",
      "0.6657554781535207\n",
      "\n",
      "Optimized_RQ2_bert_model_11_maxlen_58_adam_lr_0.001_epochs_1_loss_binary_crossentropy_sigmoid\n",
      "0.6284414890243792\n",
      "0.3841059602649006\n",
      "0.6512237762237763\n",
      "\n",
      "Optimized_RQ2_bert_model_11_maxlen_58_rmsprop_lr_2e-05_epochs_1_loss_binary_crossentropy_sigmoid\n",
      "0.4768119068162208\n",
      "0.09836065573770492\n",
      "0.49456801786327725\n",
      "\n",
      "Optimized_RQ2_bert_model_11_maxlen_58_adam_lr_0.0001_epochs_1_loss_binary_crossentropy_sigmoid\n",
      "0.583203106723436\n",
      "0.3034482758620689\n",
      "0.6506980983926137\n",
      "\n",
      "Optimized_RQ2_bert_model_11_maxlen_58_adam_lr_2e-05_epochs_1_loss_binary_crossentropy_sigmoid\n",
      "0.42428198433420367\n",
      "0.0\n",
      "0.4026946107784431\n",
      "\n",
      "Optimized_RQ2_bert_model_12_maxlen_58_adam_lr_0.001_epochs_1_loss_binary_crossentropy_sigmoid\n",
      "0.6764705882352942\n",
      "0.47619047619047616\n",
      "0.7202885208240073\n",
      "\n",
      "Optimized_RQ2_bert_model_12_maxlen_58_rmsprop_lr_2e-05_epochs_1_loss_binary_crossentropy_sigmoid\n",
      "0.610427073805671\n",
      "0.3825136612021858\n",
      "0.6597349776961428\n",
      "\n",
      "Optimized_RQ2_bert_model_12_maxlen_58_adam_lr_0.0001_epochs_1_loss_binary_crossentropy_sigmoid\n",
      "0.6164375137272128\n",
      "0.36942675159235666\n",
      "0.6612636424901757\n",
      "\n",
      "Optimized_RQ2_bert_model_12_maxlen_58_rmsprop_lr_0.0001_epochs_1_loss_binary_crossentropy_sigmoid\n",
      "0.5463185225101651\n",
      "0.23357664233576642\n",
      "0.6141605629757289\n",
      "\n",
      "Optimized_RQ2_bert_model_12_maxlen_58_adam_lr_2e-05_epochs_1_loss_binary_crossentropy_sigmoid\n",
      "0.6363327674023769\n",
      "0.45161290322580644\n",
      "0.6625249811004409\n",
      "\n",
      "Optimized_RQ2_bert_model_12_maxlen_58_rmsprop_lr_0.001_epochs_1_loss_binary_crossentropy_sigmoid\n",
      "0.6204081632653061\n",
      "0.3673469387755102\n",
      "0.617573094698084\n",
      "\n",
      "Optimized_RQ2_bert_model_2_maxlen_58_rmsprop_lr_0.0001_epochs_1_loss_binary_crossentropy_sigmoid\n",
      "0.6533282616964625\n",
      "0.43636363636363634\n",
      "0.7309770026238617\n",
      "\n",
      "Optimized_RQ2_bert_model_2_maxlen_58_adam_lr_2e-05_epochs_1_loss_binary_crossentropy_sigmoid\n",
      "0.5813914532459797\n",
      "0.30136986301369867\n",
      "0.6157303370786517\n",
      "\n",
      "Optimized_RQ2_bert_model_2_maxlen_58_adam_lr_0.0001_epochs_1_loss_binary_crossentropy_sigmoid\n",
      "0.7322873947766025\n",
      "0.6017699115044246\n",
      "0.7192042948773802\n",
      "\n",
      "Optimized_RQ2_bert_model_2_maxlen_58_adam_lr_0.001_epochs_1_loss_binary_crossentropy_sigmoid\n",
      "0.6831494864967668\n",
      "0.4848484848484849\n",
      "0.7317141170296511\n",
      "\n",
      "Optimized_RQ2_bert_model_2_maxlen_58_rmsprop_lr_2e-05_epochs_1_loss_binary_crossentropy_sigmoid\n",
      "0.5803197563760945\n",
      "0.29577464788732394\n",
      "0.5948546646801484\n",
      "\n",
      "Optimized_RQ2_bert_model_2_maxlen_58_rmsprop_lr_0.001_epochs_1_loss_binary_crossentropy_sigmoid\n",
      "0.7495777518928364\n",
      "0.6138613861386139\n",
      "0.8028083028083028\n",
      "\n",
      "Optimized_RQ2_bert_model_4_maxlen_58_adam_lr_0.0001_epochs_1_loss_binary_crossentropy_sigmoid\n",
      "0.6423827996580972\n",
      "0.44776119402985076\n",
      "0.6961435360058487\n",
      "\n",
      "Optimized_RQ2_bert_model_4_maxlen_58_adam_lr_0.001_epochs_1_loss_binary_crossentropy_sigmoid\n",
      "0.7501349017914958\n",
      "0.6283185840707964\n",
      "0.7926439712577174\n",
      "\n",
      "Optimized_RQ2_bert_model_4_maxlen_58_adam_lr_2e-05_epochs_1_loss_binary_crossentropy_sigmoid\n",
      "0.42428198433420367\n",
      "0.0\n",
      "0.4026946107784431\n",
      "\n",
      "Optimized_RQ2_bert_model_4_maxlen_58_rmsprop_lr_2e-05_epochs_1_loss_binary_crossentropy_sigmoid\n",
      "0.42428198433420367\n",
      "0.0\n",
      "0.4026946107784431\n",
      "\n",
      "Optimized_RQ2_bert_model_4_maxlen_58_rmsprop_lr_0.0001_epochs_1_loss_binary_crossentropy_sigmoid\n",
      "0.6241862508236329\n",
      "0.3821656050955414\n",
      "0.649483449293696\n",
      "\n",
      "Optimized_RQ2_bert_model_4_maxlen_58_rmsprop_lr_0.001_epochs_1_loss_binary_crossentropy_sigmoid\n",
      "0.7203804347826087\n",
      "0.5625\n",
      "0.7840284729173619\n",
      "\n",
      "Optimized_RQ2_bert_model_6_maxlen_58_adam_lr_0.0001_epochs_1_loss_binary_crossentropy_sigmoid\n",
      "0.5969028708346275\n",
      "0.3354838709677419\n",
      "0.697417435435886\n",
      "\n",
      "Optimized_RQ2_bert_model_6_maxlen_58_rmsprop_lr_0.0001_epochs_1_loss_binary_crossentropy_sigmoid\n",
      "0.5714285714285714\n",
      "0.2857142857142857\n",
      "0.6612636424901757\n",
      "\n",
      "Optimized_RQ2_bert_model_6_maxlen_58_rmsprop_lr_0.001_epochs_1_loss_binary_crossentropy_sigmoid\n",
      "0.7523085378153291\n",
      "0.6568265682656828\n",
      "0.7543437826067232\n",
      "\n",
      "Optimized_RQ2_bert_model_6_maxlen_58_rmsprop_lr_2e-05_epochs_1_loss_binary_crossentropy_sigmoid\n",
      "0.5515734265734266\n",
      "0.25974025974025977\n",
      "0.6054476806903991\n",
      "\n",
      "Optimized_RQ2_bert_model_6_maxlen_58_adam_lr_0.001_epochs_1_loss_binary_crossentropy_sigmoid\n",
      "0.6319349879200526\n",
      "0.39490445859872614\n",
      "0.7159468438538206\n",
      "\n",
      "Optimized_RQ2_bert_model_6_maxlen_58_adam_lr_2e-05_epochs_1_loss_binary_crossentropy_sigmoid\n",
      "0.5117523147014158\n",
      "0.17518248175182483\n",
      "0.5458303378864127\n",
      "\n",
      "Optimized_RQ2_bert_model_8_maxlen_58_adam_lr_0.001_epochs_1_loss_binary_crossentropy_sigmoid\n",
      "0.7523123626979105\n",
      "0.6220095693779903\n",
      "0.8011699707507312\n",
      "\n",
      "Optimized_RQ2_bert_model_8_maxlen_58_adam_lr_2e-05_epochs_1_loss_binary_crossentropy_sigmoid\n",
      "0.5913525421358137\n",
      "0.3291139240506329\n",
      "0.6023015585357013\n",
      "\n",
      "Optimized_RQ2_bert_model_8_maxlen_58_rmsprop_lr_0.0001_epochs_1_loss_binary_crossentropy_sigmoid\n",
      "0.7201881088343971\n",
      "0.5641025641025642\n",
      "0.7513531302295945\n",
      "\n",
      "Optimized_RQ2_bert_model_8_maxlen_58_rmsprop_lr_0.001_epochs_1_loss_binary_crossentropy_sigmoid\n",
      "0.7141242678568355\n",
      "0.6220735785953176\n",
      "0.7258360054970224\n",
      "\n",
      "Optimized_RQ2_bert_model_8_maxlen_58_rmsprop_lr_2e-05_epochs_1_loss_binary_crossentropy_sigmoid\n",
      "0.5142221810432687\n",
      "0.17054263565891473\n",
      "0.5053996134128919\n",
      "\n",
      "Optimized_RQ2_bert_model_8_maxlen_58_adam_lr_0.0001_epochs_1_loss_binary_crossentropy_sigmoid\n",
      "0.6458729554963865\n",
      "0.42424242424242425\n",
      "0.722108843537415\n",
      "\n"
     ]
    }
   ],
   "source": [
    "res2 = [r for r in sorted(results, key=lambda r:r['metadata']['model_no'])]\n",
    "#          if r['metadata']['epochs'] == '2'\n",
    "        \n",
    "#          if r['metadata']['optimizer'] == 'adam'\n",
    "#           if r['metadata']['window_width'] == '3']\n",
    "#         and r['metadata']['model_no'] == '11']\n",
    "#         if r['metadata']['model_no'] == '9']\n",
    "#        and r['metadata']['optimizer'] == 'adam']\n",
    "\n",
    "for run in res2:\n",
    "    print(run['model_name'])\n",
    "    print(run['test']['macro']['f1'])\n",
    "    print(run['test']['1']['f1'])\n",
    "    print(run['validation']['macro']['f1'])\n",
    "    print()"
   ]
  },
  {
   "cell_type": "code",
   "execution_count": 49,
   "metadata": {
    "scrolled": true
   },
   "outputs": [
    {
     "ename": "KeyError",
     "evalue": "'window_width'",
     "output_type": "error",
     "traceback": [
      "\u001b[0;31m---------------------------------------------------------------------------\u001b[0m",
      "\u001b[0;31mKeyError\u001b[0m                                  Traceback (most recent call last)",
      "\u001b[0;32m<ipython-input-49-0fd58851ec5a>\u001b[0m in \u001b[0;36m<module>\u001b[0;34m\u001b[0m\n\u001b[0;32m----> 1\u001b[0;31m res2 = [r for r in results\n\u001b[0m\u001b[1;32m      2\u001b[0m \u001b[0;31m#          if r['metadata']['epochs'] == '2'\u001b[0m\u001b[0;34m\u001b[0m\u001b[0;34m\u001b[0m\u001b[0;34m\u001b[0m\u001b[0m\n\u001b[1;32m      3\u001b[0m \u001b[0;31m#         and r['metadata']['model_no'] == '8'\u001b[0m\u001b[0;34m\u001b[0m\u001b[0;34m\u001b[0m\u001b[0;34m\u001b[0m\u001b[0m\n\u001b[1;32m      4\u001b[0m \u001b[0;31m#          if r['metadata']['optimizer'] == 'adam'\u001b[0m\u001b[0;34m\u001b[0m\u001b[0;34m\u001b[0m\u001b[0;34m\u001b[0m\u001b[0m\n\u001b[1;32m      5\u001b[0m           \u001b[0;32mif\u001b[0m \u001b[0mr\u001b[0m\u001b[0;34m[\u001b[0m\u001b[0;34m'metadata'\u001b[0m\u001b[0;34m]\u001b[0m\u001b[0;34m[\u001b[0m\u001b[0;34m'window_width'\u001b[0m\u001b[0;34m]\u001b[0m \u001b[0;34m==\u001b[0m \u001b[0;34m'1'\u001b[0m\u001b[0;34m\u001b[0m\u001b[0;34m\u001b[0m\u001b[0m\n",
      "\u001b[0;32m<ipython-input-49-0fd58851ec5a>\u001b[0m in \u001b[0;36m<listcomp>\u001b[0;34m(.0)\u001b[0m\n\u001b[1;32m      3\u001b[0m \u001b[0;31m#         and r['metadata']['model_no'] == '8'\u001b[0m\u001b[0;34m\u001b[0m\u001b[0;34m\u001b[0m\u001b[0;34m\u001b[0m\u001b[0m\n\u001b[1;32m      4\u001b[0m \u001b[0;31m#          if r['metadata']['optimizer'] == 'adam'\u001b[0m\u001b[0;34m\u001b[0m\u001b[0;34m\u001b[0m\u001b[0;34m\u001b[0m\u001b[0m\n\u001b[0;32m----> 5\u001b[0;31m           \u001b[0;32mif\u001b[0m \u001b[0mr\u001b[0m\u001b[0;34m[\u001b[0m\u001b[0;34m'metadata'\u001b[0m\u001b[0;34m]\u001b[0m\u001b[0;34m[\u001b[0m\u001b[0;34m'window_width'\u001b[0m\u001b[0;34m]\u001b[0m \u001b[0;34m==\u001b[0m \u001b[0;34m'1'\u001b[0m\u001b[0;34m\u001b[0m\u001b[0;34m\u001b[0m\u001b[0m\n\u001b[0m\u001b[1;32m      6\u001b[0m         and r['metadata']['learning_rate'] == '0.001']\n\u001b[1;32m      7\u001b[0m \u001b[0;34m\u001b[0m\u001b[0m\n",
      "\u001b[0;31mKeyError\u001b[0m: 'window_width'"
     ]
    }
   ],
   "source": [
    "res2 = [r for r in results\n",
    "#          if r['metadata']['epochs'] == '2'\n",
    "#         and r['metadata']['model_no'] == '8'\n",
    "#          if r['metadata']['optimizer'] == 'adam'\n",
    "          if r['metadata']['window_width'] == '1'\n",
    "        and r['metadata']['learning_rate'] == '0.001']\n",
    "\n",
    "for run in res2:\n",
    "#     print(run['model_name'])\n",
    "    print(run['test']['macro']['f1'])\n",
    "    print(run['test']['1']['f1'])\n",
    "    print(run['validation']['macro']['f1'])"
   ]
  },
  {
   "cell_type": "markdown",
   "metadata": {
    "scrolled": false
   },
   "source": [
    "for res in results:\n",
    "    print(res['model_name'])\n",
    "    print(res['test']['1']['f1'], res['test']['macro']['f1'])"
   ]
  },
  {
   "cell_type": "code",
   "execution_count": null,
   "metadata": {},
   "outputs": [],
   "source": []
  }
 ],
 "metadata": {
  "kernelspec": {
   "display_name": "Python 3",
   "language": "python",
   "name": "python3"
  },
  "language_info": {
   "codemirror_mode": {
    "name": "ipython",
    "version": 3
   },
   "file_extension": ".py",
   "mimetype": "text/x-python",
   "name": "python",
   "nbconvert_exporter": "python",
   "pygments_lexer": "ipython3",
   "version": "3.6.8"
  }
 },
 "nbformat": 4,
 "nbformat_minor": 2
}
