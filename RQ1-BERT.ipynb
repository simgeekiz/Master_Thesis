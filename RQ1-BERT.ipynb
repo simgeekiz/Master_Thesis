{
 "cells": [
  {
   "cell_type": "markdown",
   "metadata": {},
   "source": [
    "Following: https://github.com/strongio/keras-bert/blob/master/keras-bert.ipynb"
   ]
  },
  {
   "cell_type": "code",
   "execution_count": 1,
   "metadata": {},
   "outputs": [],
   "source": [
    "%load_ext autoreload\n",
    "%autoreload 2"
   ]
  },
  {
   "cell_type": "code",
   "execution_count": 2,
   "metadata": {},
   "outputs": [],
   "source": [
    "import os\n",
    "import numpy as np"
   ]
  },
  {
   "cell_type": "code",
   "execution_count": 3,
   "metadata": {},
   "outputs": [
    {
     "name": "stderr",
     "output_type": "stream",
     "text": [
      "Using TensorFlow backend.\n"
     ]
    }
   ],
   "source": [
    "import tensorflow as tf\n",
    "from tensorflow.keras.models import Model, load_model\n",
    "from tensorflow.keras.layers import Input, Dense, Lambda, Activation, Conv1D, \\\n",
    "                                    MaxPooling1D, Flatten, Reshape, \\\n",
    "                                    BatchNormalization, Dropout, add\n",
    "from tensorflow.keras.optimizers import RMSprop, Adam, Adamax, SGD\n",
    "from tensorflow.keras.regularizers import l2\n",
    "\n",
    "from keras.utils import to_categorical"
   ]
  },
  {
   "cell_type": "code",
   "execution_count": 4,
   "metadata": {},
   "outputs": [],
   "source": [
    "from src.keras_bert import convert_text_to_examples, \\\n",
    "                           create_tokenizer_from_hub_module, \\\n",
    "                           convert_examples_to_features, \\\n",
    "                           initialize_vars, \\\n",
    "                           BertLayer"
   ]
  },
  {
   "cell_type": "code",
   "execution_count": 5,
   "metadata": {},
   "outputs": [],
   "source": [
    "from sklearn.metrics import classification_report\n",
    "from sklearn.metrics import f1_score as scikit_f1_score"
   ]
  },
  {
   "cell_type": "code",
   "execution_count": 6,
   "metadata": {},
   "outputs": [],
   "source": [
    "# Initialize session\n",
    "sess = tf.compat.v1.Session()"
   ]
  },
  {
   "cell_type": "markdown",
   "metadata": {},
   "source": [
    "#### Custom Functions"
   ]
  },
  {
   "cell_type": "code",
   "execution_count": 7,
   "metadata": {},
   "outputs": [],
   "source": [
    "from src.callbacks import PlotCurvesTF as PlotCurves\n",
    "from src.eval_metrics import f1_micro, f1_macro\n",
    "from src.load_data import load_data"
   ]
  },
  {
   "cell_type": "markdown",
   "metadata": {},
   "source": [
    "### Load Data"
   ]
  },
  {
   "cell_type": "code",
   "execution_count": 8,
   "metadata": {},
   "outputs": [],
   "source": [
    "train_data, valid_data, test_data, metadata = load_data()"
   ]
  },
  {
   "cell_type": "raw",
   "metadata": {},
   "source": [
    "train_data = train_data[:1]\n",
    "valid_data = valid_data[:1]\n",
    "test_data = test_data[:1]"
   ]
  },
  {
   "cell_type": "markdown",
   "metadata": {},
   "source": [
    "### Prepare data"
   ]
  },
  {
   "cell_type": "code",
   "execution_count": 10,
   "metadata": {},
   "outputs": [],
   "source": [
    "batch_size = 32\n",
    "max_seq_length = 512\n",
    "if max_seq_length > 512:\n",
    "    print('!!!!!!! WARNING: BERT does not accept length > 512. It is set to 512.')\n",
    "    max_seq_length = 512"
   ]
  },
  {
   "cell_type": "code",
   "execution_count": 11,
   "metadata": {},
   "outputs": [],
   "source": [
    "bert_path = \"https://tfhub.dev/google/bert_uncased_L-12_H-768_A-12/1\""
   ]
  },
  {
   "cell_type": "code",
   "execution_count": 19,
   "metadata": {},
   "outputs": [],
   "source": [
    "def get_input(data_, max_seq_length, one_hot=False,\n",
    "              bert_path=\"https://tfhub.dev/google/bert_uncased_L-12_H-768_A-12/1\"):\n",
    "    \n",
    "    tokenizer = create_tokenizer_from_hub_module(bert_path)\n",
    "    \n",
    "    # !!! For BERT input, each sentence should be in an array\n",
    "    X = np.array([[\" \".join(sentence['sentence'].replace('\\n', ' ').strip().split()[0:max_seq_length])]\n",
    "                  for article in data_ \n",
    "                  for sentence in article['sentences']], dtype=object)\n",
    "\n",
    "    y = [sentence['label'] \n",
    "         for article in data_\n",
    "         for sentence in article['sentences']]\n",
    "    \n",
    "    examples_ = convert_text_to_examples(X, y)\n",
    "    \n",
    "    (input_ids, input_masks, segment_ids, labels_) = \\\n",
    "            convert_examples_to_features(tokenizer, examples_, max_seq_length=max_seq_length)\n",
    "    \n",
    "    if one_hot:\n",
    "        labels_ = to_categorical(labels_, num_classes=2)\n",
    "\n",
    "    return [input_ids, input_masks, segment_ids], labels_"
   ]
  },
  {
   "cell_type": "code",
   "execution_count": 26,
   "metadata": {},
   "outputs": [
    {
     "name": "stderr",
     "output_type": "stream",
     "text": [
      "Converting examples to features: 100%|██████████| 3582/3582 [00:01<00:00, 2556.35it/s]\n",
      "Converting examples to features: 100%|██████████| 399/399 [00:00<00:00, 2587.04it/s]\n"
     ]
    }
   ],
   "source": [
    "X_tra, y_tra = get_input(train_data, max_seq_length, True)\n",
    "X_val, y_val = get_input(valid_data, max_seq_length, True)\n",
    "# X_test, y_test = get_input(test_data, max_seq_length)"
   ]
  },
  {
   "cell_type": "code",
   "execution_count": 27,
   "metadata": {},
   "outputs": [
    {
     "data": {
      "text/plain": [
       "((3, 3582, 512), (3, 399, 512))"
      ]
     },
     "execution_count": 27,
     "metadata": {},
     "output_type": "execute_result"
    }
   ],
   "source": [
    "np.array(X_tra).shape, np.array(X_val).shape"
   ]
  },
  {
   "cell_type": "code",
   "execution_count": 28,
   "metadata": {},
   "outputs": [
    {
     "data": {
      "text/plain": [
       "((3582, 2), (399, 2))"
      ]
     },
     "execution_count": 28,
     "metadata": {},
     "output_type": "execute_result"
    }
   ],
   "source": [
    "np.array(y_tra).shape, np.array(y_val).shape"
   ]
  },
  {
   "cell_type": "markdown",
   "metadata": {},
   "source": [
    "## Build Model"
   ]
  },
  {
   "cell_type": "code",
   "execution_count": 30,
   "metadata": {},
   "outputs": [],
   "source": [
    "def build_model_0(max_seq_length, n_fine_tune_layers=3, \n",
    "                  bert_path=\"https://tfhub.dev/google/bert_uncased_L-12_H-768_A-12/1\"):\n",
    "    \n",
    "    bert_inputs = [Input(shape=(max_seq_length,), name=\"input_ids\"),\n",
    "                   Input(shape=(max_seq_length,), name=\"input_masks\"),\n",
    "                   Input(shape=(max_seq_length,), name=\"segment_ids\")]\n",
    "    \n",
    "    bert_output = BertLayer(n_fine_tune_layers=n_fine_tune_layers, \n",
    "                            pooling='mean', bert_path=bert_path)(bert_inputs)\n",
    "    \n",
    "    pred = Dense(2, activation='softmax')(bert_output)\n",
    "\n",
    "    return Model(inputs=bert_inputs, outputs=pred)"
   ]
  },
  {
   "cell_type": "code",
   "execution_count": 14,
   "metadata": {},
   "outputs": [],
   "source": [
    "def build_model_1(max_seq_length, n_fine_tune_layers=3, \n",
    "                  bert_path=\"https://tfhub.dev/google/bert_uncased_L-12_H-768_A-12/1\"):\n",
    "    \n",
    "    bert_inputs = [Input(shape=(max_seq_length,), name=\"input_ids\"),\n",
    "                   Input(shape=(max_seq_length,), name=\"input_masks\"),\n",
    "                   Input(shape=(max_seq_length,), name=\"segment_ids\")]\n",
    "    \n",
    "    bert_output = BertLayer(n_fine_tune_layers=n_fine_tune_layers, \n",
    "                            pooling='mean', bert_path=bert_path)(bert_inputs)\n",
    "    \n",
    "    x = Dense(256)(bert_output)\n",
    "    x = Activation('relu')(x)\n",
    "    \n",
    "    pred = Dense(1, activation='sigmoid')(x)\n",
    "\n",
    "    return Model(inputs=bert_inputs, outputs=pred)"
   ]
  },
  {
   "cell_type": "code",
   "execution_count": 15,
   "metadata": {},
   "outputs": [],
   "source": [
    "def build_model_2(max_seq_length, n_fine_tune_layers=3, \n",
    "                  bert_path=\"https://tfhub.dev/google/bert_uncased_L-12_H-768_A-12/1\"):\n",
    "    \n",
    "    def residual(x):\n",
    "        x_res = x\n",
    "        \n",
    "        x = Dense(256)(x)\n",
    "        x = Activation('relu')(x)\n",
    "\n",
    "        x = add([x, x_res])\n",
    "        return x\n",
    "    \n",
    "    bert_inputs = [Input(shape=(max_seq_length,), name=\"input_ids\"),\n",
    "                   Input(shape=(max_seq_length,), name=\"input_masks\"),\n",
    "                   Input(shape=(max_seq_length,), name=\"segment_ids\")]\n",
    "    \n",
    "    bert_output = BertLayer(n_fine_tune_layers=n_fine_tune_layers, \n",
    "                            pooling='mean', bert_path=bert_path)(bert_inputs)\n",
    "    \n",
    "    x = Dense(256)(bert_output)\n",
    "    x = Activation('relu')(x)\n",
    "    \n",
    "    x = residual(x)\n",
    "    \n",
    "    x = Dense(256)(x)\n",
    "    x = Activation('relu')(x)\n",
    "    \n",
    "    pred = Dense(1, activation='sigmoid')(x)\n",
    "\n",
    "    return Model(inputs=bert_inputs, outputs=pred)"
   ]
  },
  {
   "cell_type": "code",
   "execution_count": 16,
   "metadata": {},
   "outputs": [],
   "source": [
    "def build_model_3(max_seq_length, n_fine_tune_layers=3, \n",
    "                  bert_path=\"https://tfhub.dev/google/bert_uncased_L-12_H-768_A-12/1\"):\n",
    "    \n",
    "    bert_inputs = [Input(shape=(max_seq_length,), name=\"input_ids\"),\n",
    "                   Input(shape=(max_seq_length,), name=\"input_masks\"),\n",
    "                   Input(shape=(max_seq_length,), name=\"segment_ids\")]\n",
    "    \n",
    "    bert_output = BertLayer(n_fine_tune_layers=n_fine_tune_layers, \n",
    "                            pooling='mean', bert_path=bert_path)(bert_inputs)\n",
    "    bert_output = Reshape((768, 1))(bert_output)\n",
    "    \n",
    "    x = Conv1D(64, 5, padding='same')(bert_output)\n",
    "    x = Activation('relu')(x)\n",
    "    x = MaxPooling1D(5)(x)\n",
    "    \n",
    "    x = Conv1D(64, 5, padding='same')(x)\n",
    "    x = Activation('relu')(x)\n",
    "    x = MaxPooling1D(5)(x)\n",
    "    \n",
    "    x = Flatten()(x)\n",
    "    \n",
    "    x = Dense(256)(x)\n",
    "    x = Activation('relu')(x)\n",
    "    \n",
    "    pred = Dense(1, activation='sigmoid')(x)\n",
    "\n",
    "    return Model(inputs=bert_inputs, outputs=pred)"
   ]
  },
  {
   "cell_type": "code",
   "execution_count": 17,
   "metadata": {},
   "outputs": [],
   "source": [
    "def build_model_4(max_seq_length, n_fine_tune_layers=3, \n",
    "                  bert_path=\"https://tfhub.dev/google/bert_uncased_L-12_H-768_A-12/1\"):\n",
    "    \n",
    "    bert_inputs = [Input(shape=(max_seq_length,), name=\"input_ids\"),\n",
    "                   Input(shape=(max_seq_length,), name=\"input_masks\"),\n",
    "                   Input(shape=(max_seq_length,), name=\"segment_ids\")]\n",
    "    \n",
    "    bert_output = BertLayer(n_fine_tune_layers=n_fine_tune_layers, \n",
    "                            pooling='mean', bert_path=bert_path)(bert_inputs)\n",
    "    bert_output = Reshape((768, 1))(bert_output)\n",
    "    \n",
    "    x = Conv1D(128, 5, padding='same')(bert_output)\n",
    "    x = Activation('relu')(x)\n",
    "    x = MaxPooling1D(5)(x)\n",
    "    \n",
    "    x = Conv1D(128, 5, padding='same')(x)\n",
    "    x = Activation('relu')(x)\n",
    "    x = MaxPooling1D(5)(x)\n",
    "    \n",
    "    x = Flatten()(x)\n",
    "    \n",
    "    x = Dense(256)(x)\n",
    "    x = Activation('relu')(x)\n",
    "    \n",
    "    pred = Dense(1, activation='sigmoid')(x)\n",
    "\n",
    "    return Model(inputs=bert_inputs, outputs=pred)"
   ]
  },
  {
   "cell_type": "code",
   "execution_count": 18,
   "metadata": {},
   "outputs": [],
   "source": [
    "def build_model_5(max_seq_length, n_fine_tune_layers=3, \n",
    "                  bert_path=\"https://tfhub.dev/google/bert_uncased_L-12_H-768_A-12/1\"):\n",
    "    \n",
    "    bert_inputs = [Input(shape=(max_seq_length,), name=\"input_ids\"),\n",
    "                   Input(shape=(max_seq_length,), name=\"input_masks\"),\n",
    "                   Input(shape=(max_seq_length,), name=\"segment_ids\")]\n",
    "    \n",
    "    bert_output = BertLayer(n_fine_tune_layers=n_fine_tune_layers, \n",
    "                            pooling='mean', bert_path=bert_path)(bert_inputs)\n",
    "    \n",
    "    x = Dense(256)(bert_output)\n",
    "    x = Activation('relu')(x)\n",
    "    \n",
    "    x = Dense(128)(bert_output)\n",
    "    x = Activation('relu')(x)\n",
    "    \n",
    "    pred = Dense(1, activation='sigmoid')(x)\n",
    "\n",
    "    return Model(inputs=bert_inputs, outputs=pred)"
   ]
  },
  {
   "cell_type": "code",
   "execution_count": 19,
   "metadata": {},
   "outputs": [],
   "source": [
    "def build_model_6(max_seq_length, n_fine_tune_layers=3,\n",
    "                  bert_path=\"https://tfhub.dev/google/bert_uncased_L-12_H-768_A-12/1\"):\n",
    "    \n",
    "    def residual(x):\n",
    "        x_res = x\n",
    "\n",
    "        x = Conv1D(64, 5, padding='same', kernel_regularizer=l2(0.001))(x)\n",
    "        x = Activation('relu')(x)\n",
    "\n",
    "        x = add([x, x_res])\n",
    "        return x\n",
    "    \n",
    "    bert_inputs = [Input(shape=(max_seq_length,), name=\"input_ids\"),\n",
    "                   Input(shape=(max_seq_length,), name=\"input_masks\"),\n",
    "                   Input(shape=(max_seq_length,), name=\"segment_ids\")]\n",
    "    \n",
    "    bert_output = BertLayer(n_fine_tune_layers=n_fine_tune_layers, \n",
    "                            pooling='mean', bert_path=bert_path)(bert_inputs)\n",
    "    bert_output = Reshape((768, 1))(bert_output)\n",
    "\n",
    "    x = Conv1D(64, 5, padding='same')(bert_output)\n",
    "    x = Activation('relu')(x)\n",
    "    x = MaxPooling1D(5)(x)\n",
    "\n",
    "    x = residual(x)\n",
    "    x = MaxPooling1D(5)(x)\n",
    "\n",
    "    x = Flatten()(x)\n",
    "\n",
    "    x = Dense(256)(x)\n",
    "    x = Activation('relu')(x)\n",
    "\n",
    "    pred = Dense(1, activation='sigmoid')(x)\n",
    "\n",
    "    return Model(inputs=bert_inputs, outputs=pred)"
   ]
  },
  {
   "cell_type": "code",
   "execution_count": 20,
   "metadata": {},
   "outputs": [],
   "source": [
    "def build_model_7(max_seq_length, n_fine_tune_layers=3, \n",
    "                  bert_path=\"https://tfhub.dev/google/bert_uncased_L-12_H-768_A-12/1\"):\n",
    "    \n",
    "    bert_inputs = [Input(shape=(max_seq_length,), name=\"input_ids\"),\n",
    "                   Input(shape=(max_seq_length,), name=\"input_masks\"),\n",
    "                   Input(shape=(max_seq_length,), name=\"segment_ids\")]\n",
    "    \n",
    "    bert_output = BertLayer(n_fine_tune_layers=n_fine_tune_layers, \n",
    "                            pooling='mean', bert_path=bert_path)(bert_inputs)\n",
    "    bert_output = Reshape((768, 1))(bert_output)\n",
    "    \n",
    "    x = Conv1D(64, 5, padding='same')(bert_output)\n",
    "    x = BatchNormalization()(x)\n",
    "    x = Activation('relu')(x)\n",
    "    x = Dropout(0.25)(x)\n",
    "    x = MaxPooling1D(5)(x)\n",
    "    \n",
    "    x = Conv1D(64, 5, padding='same')(x)\n",
    "    x = BatchNormalization()(x)\n",
    "    x = Activation('relu')(x)\n",
    "    x = Dropout(0.25)(x)\n",
    "    x = MaxPooling1D(5)(x)\n",
    "    \n",
    "    x = Flatten()(x)\n",
    "    \n",
    "    x = Dense(256)(x)\n",
    "    x = Activation('relu')(x)\n",
    "    \n",
    "    pred = Dense(1, activation='sigmoid')(x)\n",
    "\n",
    "    return Model(inputs=bert_inputs, outputs=pred)"
   ]
  },
  {
   "cell_type": "code",
   "execution_count": 30,
   "metadata": {},
   "outputs": [],
   "source": [
    "def build_model_8(max_seq_length, n_fine_tune_layers=3,\n",
    "                  bert_path=\"https://tfhub.dev/google/bert_uncased_L-12_H-768_A-12/1\"):\n",
    "    \n",
    "    def residual(x):\n",
    "        x_res = x\n",
    "\n",
    "        x = Conv1D(64, 5, padding='same')(bert_output)\n",
    "        x = BatchNormalization()(x)\n",
    "        x = Activation('relu')(x)\n",
    "\n",
    "        x = add([x, x_res])\n",
    "        return x\n",
    "    \n",
    "    bert_inputs = [Input(shape=(max_seq_length,), name=\"input_ids\"),\n",
    "                   Input(shape=(max_seq_length,), name=\"input_masks\"),\n",
    "                   Input(shape=(max_seq_length,), name=\"segment_ids\")]\n",
    "    \n",
    "    bert_output = BertLayer(n_fine_tune_layers=n_fine_tune_layers, \n",
    "                            pooling='mean', bert_path=bert_path)(bert_inputs)\n",
    "    bert_output = Reshape((768, 1))(bert_output)\n",
    "\n",
    "    x = Conv1D(64, 5, padding='same')(bert_output)\n",
    "    x = BatchNormalization()(x)\n",
    "    x = Activation('relu')(x)\n",
    "\n",
    "    x = residual(x)\n",
    "    x = MaxPooling1D(5)(x)\n",
    "\n",
    "    x = Flatten()(x)\n",
    "    x = Dropout(0.25)(x)\n",
    "\n",
    "    x = Dense(256)(x)\n",
    "    x = Activation('relu')(x)\n",
    "\n",
    "    pred = Dense(1, activation='sigmoid')(x)\n",
    "\n",
    "    return Model(inputs=bert_inputs, outputs=pred)"
   ]
  },
  {
   "cell_type": "code",
   "execution_count": 31,
   "metadata": {},
   "outputs": [],
   "source": [
    "tuned_layers = 3\n",
    "learningrate = 2e-5 #0.001 # 0.01\n",
    "optimizer = Adam(lr=learningrate)\n",
    "optimizer_str = 'adam'\n",
    "loss = 'binary_crossentropy'\n",
    "metrics = ['acc', f1_macro, f1_micro]"
   ]
  },
  {
   "cell_type": "code",
   "execution_count": 32,
   "metadata": {},
   "outputs": [
    {
     "name": "stderr",
     "output_type": "stream",
     "text": [
      "WARNING: Logging before flag parsing goes to stderr.\n",
      "W1125 14:22:24.365386 140611393171584 ag_logging.py:145] Entity <bound method BertLayer.call of <src.keras_bert.BertLayer object at 0x7fe0f0c77d68>> could not be transformed and will be executed as-is. Some features (e.g. tensor-dependent conditionals and loops) may not work as expected. Error details can be found in the logs when running with the env variable AUTOGRAPH_VERBOSITY >= 1. Please report this to the AutoGraph team. Cause: AttributeError during conversion: module 'gast' has no attribute 'Num'\n"
     ]
    },
    {
     "name": "stdout",
     "output_type": "stream",
     "text": [
      "WARNING: Entity <bound method BertLayer.call of <src.keras_bert.BertLayer object at 0x7fe0f0c77d68>> could not be transformed and will be executed as-is. Some features (e.g. tensor-dependent conditionals and loops) may not work as expected. Error details can be found in the logs when running with the env variable AUTOGRAPH_VERBOSITY >= 1. Please report this to the AutoGraph team. Cause: AttributeError during conversion: module 'gast' has no attribute 'Num'\n"
     ]
    },
    {
     "name": "stderr",
     "output_type": "stream",
     "text": [
      "W1125 14:22:24.968085 140611393171584 deprecation.py:506] From /home/aorus/workspaces/simge/Master_Thesis/.env/lib/python3.6/site-packages/tensorflow/python/ops/init_ops.py:1251: calling VarianceScaling.__init__ (from tensorflow.python.ops.init_ops) with dtype is deprecated and will be removed in a future version.\n",
      "Instructions for updating:\n",
      "Call initializer instance with the dtype argument instead of passing it to the constructor\n"
     ]
    },
    {
     "name": "stdout",
     "output_type": "stream",
     "text": [
      "Model: \"model\"\n",
      "__________________________________________________________________________________________________\n",
      "Layer (type)                    Output Shape         Param #     Connected to                     \n",
      "==================================================================================================\n",
      "input_ids (InputLayer)          [(None, 512)]        0                                            \n",
      "__________________________________________________________________________________________________\n",
      "input_masks (InputLayer)        [(None, 512)]        0                                            \n",
      "__________________________________________________________________________________________________\n",
      "segment_ids (InputLayer)        [(None, 512)]        0                                            \n",
      "__________________________________________________________________________________________________\n",
      "bert_layer (BertLayer)          (None, 768)          110104890   input_ids[0][0]                  \n",
      "                                                                 input_masks[0][0]                \n",
      "                                                                 segment_ids[0][0]                \n",
      "__________________________________________________________________________________________________\n",
      "dense (Dense)                   (None, 2)            1538        bert_layer[0][0]                 \n",
      "==================================================================================================\n",
      "Total params: 110,106,428\n",
      "Trainable params: 21,265,154\n",
      "Non-trainable params: 88,841,274\n",
      "__________________________________________________________________________________________________\n"
     ]
    }
   ],
   "source": [
    "model = build_model_0(max_seq_length, n_fine_tune_layers=tuned_layers)\n",
    "model.summary()\n",
    "\n",
    "model.compile(loss=loss, optimizer=optimizer, metrics=metrics)"
   ]
  },
  {
   "cell_type": "code",
   "execution_count": 33,
   "metadata": {},
   "outputs": [],
   "source": [
    "model_name = 'RQ1_test_bert_model_0' + \\\n",
    "             '_tunedlayers_' + str(tuned_layers) + \\\n",
    "             '_' + optimizer_str +  \\\n",
    "             '_lr_' + str(learningrate) + \\\n",
    "             '_loss_' + loss\n",
    "\n",
    "model_dir = './Model/' + model_name.split('model')[0] + 'model/' + model_name\n",
    "results_file = os.path.join(model_dir, 'model_results_file.txt')"
   ]
  },
  {
   "cell_type": "markdown",
   "metadata": {},
   "source": [
    "### Train"
   ]
  },
  {
   "cell_type": "code",
   "execution_count": 34,
   "metadata": {
    "scrolled": false
   },
   "outputs": [],
   "source": [
    "# Instantiate variables\n",
    "initialize_vars(sess)"
   ]
  },
  {
   "cell_type": "code",
   "execution_count": 35,
   "metadata": {
    "scrolled": false
   },
   "outputs": [
    {
     "data": {
      "image/png": "[encoded data removed]",
      "text/plain": [
       "<Figure size 720x360 with 1 Axes>"
      ]
     },
     "metadata": {
      "needs_background": "light"
     },
     "output_type": "display_data"
    },
    {
     "name": "stdout",
     "output_type": "stream",
     "text": [
      "\b\b\b\b\b\b\b\b\b\b\b\b\b\b\b\b\b\b\b\b\b\b\b\b\b\b\b\b\b\b\b\b\b\b\b\b\b\b\b\b\b\b\b\b\b\b\b\b\b\b\b\b\b\b\b\b\b\b\b\b\b\b\b\b\b\b\b\b\b\b\b\b\b\b\b\b\b\b\b\b\b\b\b\b\b\b\b\b\b\b\b\b\b\b\b\b\b\b\b\b\b\b\b\b\b\b\b\b\b\b\b\b\b\b\b\b\b\b\b\r",
      "3582/3582 [==============================] - 129s 36ms/sample - loss: 0.4319 - acc: 0.7976 - f1_macro: 0.7078 - f1_micro: 0.7977 - val_loss: 0.3242 - val_acc: 0.8697 - val_f1_macro: 0.8382 - val_f1_micro: 0.8696\n"
     ]
    },
    {
     "data": {
      "text/plain": [
       "<tensorflow.python.keras.callbacks.History at 0x7fe2183b1a20>"
      ]
     },
     "execution_count": 35,
     "metadata": {},
     "output_type": "execute_result"
    }
   ],
   "source": [
    "model.fit(X_tra, y_tra, \n",
    "          epochs=1, \n",
    "          batch_size=batch_size, \n",
    "          validation_data=(X_val, y_val),\n",
    "          callbacks=[\n",
    "              PlotCurves(model_name=model_name, model_dir=model_dir, jnote=True)\n",
    "          ])"
   ]
  },
  {
   "cell_type": "markdown",
   "metadata": {},
   "source": [
    "### Load the best Model"
   ]
  },
  {
   "cell_type": "code",
   "execution_count": 36,
   "metadata": {},
   "outputs": [
    {
     "data": {
      "text/plain": [
       "'RQ1_test_bert_model_0_tunedlayers_3_adam_lr_2e-05_loss_binary_crossentropy'"
      ]
     },
     "execution_count": 36,
     "metadata": {},
     "output_type": "execute_result"
    }
   ],
   "source": [
    "model_name"
   ]
  },
  {
   "cell_type": "raw",
   "metadata": {
    "collapsed": true
   },
   "source": [
    "best_model = load_model(os.path.join(model_dir, model_name + '_best_f1_macro_model.h5'), \n",
    "                        custom_objects={'BertLayer':BertLayer, 'tf':tf, \n",
    "                                        'f1_macro':f1_macro, 'f1_micro':f1_micro})"
   ]
  },
  {
   "cell_type": "code",
   "execution_count": 37,
   "metadata": {},
   "outputs": [],
   "source": [
    "best_model = model"
   ]
  },
  {
   "cell_type": "markdown",
   "metadata": {},
   "source": [
    "### Evaluation"
   ]
  },
  {
   "cell_type": "code",
   "execution_count": 51,
   "metadata": {},
   "outputs": [],
   "source": [
    "def get_scores(model, data_, batch_size, max_seq_length, \n",
    "               results_file=None, print_out=False):\n",
    "    \n",
    "    X, y_true = get_input(data_, max_seq_length)\n",
    "    y_true = [y[0] for y in y_true]\n",
    "\n",
    "    y_preds = model.predict(X, batch_size=batch_size)\n",
    "    # y_preds = [round(y[0]) for y in y_preds]\n",
    "    y_preds = np.argmax(y_preds, axis=1)\n",
    "\n",
    "    clsrpt = classification_report(y_true, y_preds)\n",
    "    sf1 = scikit_f1_score(y_true, y_preds)\n",
    "    sfm = scikit_f1_score(y_true, y_preds, average='macro')\n",
    "\n",
    "    if print_out:\n",
    "        print(clsrpt)\n",
    "        print('\\nScikit_F1_Macro:', sfm)\n",
    "        print('\\nScikit_F1_1:', sf1)\n",
    "\n",
    "    if results_file:\n",
    "        with open(results_file, 'a') as f:\n",
    "            f.write('\\n' + clsrpt + '\\nF1_Macro: ' + str(sfm) + '\\nF1_1: ' + str(sf1) + '\\n\\n')\n",
    "\n",
    "    return sfm"
   ]
  },
  {
   "cell_type": "markdown",
   "metadata": {},
   "source": [
    "#### Validation Set"
   ]
  },
  {
   "cell_type": "code",
   "execution_count": 52,
   "metadata": {},
   "outputs": [
    {
     "name": "stderr",
     "output_type": "stream",
     "text": [
      "Converting examples to features: 100%|██████████| 399/399 [00:00<00:00, 2607.11it/s]\n"
     ]
    },
    {
     "name": "stdout",
     "output_type": "stream",
     "text": [
      "              precision    recall  f1-score   support\n",
      "\n",
      "           0       0.91      0.90      0.90       269\n",
      "           1       0.80      0.81      0.80       130\n",
      "\n",
      "   micro avg       0.87      0.87      0.87       399\n",
      "   macro avg       0.85      0.85      0.85       399\n",
      "weighted avg       0.87      0.87      0.87       399\n",
      "\n",
      "\n",
      "Scikit_F1_Macro: 0.8522558960920588\n"
     ]
    }
   ],
   "source": [
    "with open(results_file, 'w') as f:\n",
    "    f.write('\\n---------------- Validation ----------------\\n')\n",
    "val_f1 = get_scores(best_model, valid_data, batch_size, max_seq_length, results_file, print_out=True)"
   ]
  },
  {
   "cell_type": "markdown",
   "metadata": {},
   "source": [
    "#### Test Set"
   ]
  },
  {
   "cell_type": "code",
   "execution_count": 53,
   "metadata": {},
   "outputs": [
    {
     "name": "stderr",
     "output_type": "stream",
     "text": [
      "Converting examples to features: 100%|██████████| 441/441 [00:00<00:00, 2592.43it/s]\n"
     ]
    },
    {
     "name": "stdout",
     "output_type": "stream",
     "text": [
      "              precision    recall  f1-score   support\n",
      "\n",
      "           0       0.87      0.95      0.91       325\n",
      "           1       0.82      0.60      0.70       116\n",
      "\n",
      "   micro avg       0.86      0.86      0.86       441\n",
      "   macro avg       0.85      0.78      0.80       441\n",
      "weighted avg       0.86      0.86      0.85       441\n",
      "\n",
      "\n",
      "Scikit_F1_Macro: 0.8034716286409362\n"
     ]
    }
   ],
   "source": [
    "with open(results_file, 'a') as f:\n",
    "    f.write('\\n---------------- Test ----------------\\n')\n",
    "test_f1 = get_scores(best_model, test_data, batch_size, max_seq_length, results_file, print_out=True)"
   ]
  },
  {
   "cell_type": "markdown",
   "metadata": {},
   "source": [
    "# Oylesine birden alinan sonuclar"
   ]
  },
  {
   "cell_type": "markdown",
   "metadata": {},
   "source": [
    "##### Validation"
   ]
  },
  {
   "cell_type": "code",
   "execution_count": 41,
   "metadata": {},
   "outputs": [
    {
     "name": "stdout",
     "output_type": "stream",
     "text": [
      "              precision    recall  f1-score   support\n",
      "\n",
      "           0       0.93      0.85      0.89       269\n",
      "           1       0.73      0.87      0.80       130\n",
      "\n",
      "   micro avg       0.85      0.85      0.85       399\n",
      "   macro avg       0.83      0.86      0.84       399\n",
      "weighted avg       0.87      0.85      0.86       399\n",
      "\n"
     ]
    }
   ],
   "source": [
    "y_val_true = np.array([sentence['label'] for article in valid_data \n",
    "                                 for sentence in article['sentences']])\n",
    "\n",
    "y_val_preds = model.predict(X_val, batch_size=32)\n",
    "y_val_preds = np.argmax(y_val_preds, axis=1)\n",
    "\n",
    "print(classification_report(y_val_true, y_val_preds))\n",
    "with open(results_file, 'a') as f:\n",
    "    f.write(classification_report(y_val_true, y_val_preds))\n",
    "    f.write('\\n')"
   ]
  },
  {
   "cell_type": "code",
   "execution_count": 44,
   "metadata": {},
   "outputs": [
    {
     "data": {
      "text/plain": [
       "0.841467090480627"
      ]
     },
     "execution_count": 44,
     "metadata": {},
     "output_type": "execute_result"
    }
   ],
   "source": [
    "scikit_f1_score(y_val_true, y_val_preds,average='macro')"
   ]
  },
  {
   "cell_type": "markdown",
   "metadata": {},
   "source": [
    "##### Test"
   ]
  },
  {
   "cell_type": "code",
   "execution_count": 48,
   "metadata": {},
   "outputs": [],
   "source": [
    "y_preds = model.predict(X_test, batch_size=32)\n",
    "y_preds = np.argmax(y_preds, axis=1)"
   ]
  },
  {
   "cell_type": "code",
   "execution_count": 49,
   "metadata": {},
   "outputs": [
    {
     "name": "stdout",
     "output_type": "stream",
     "text": [
      "              precision    recall  f1-score   support\n",
      "\n",
      "           0       0.92      0.90      0.91       325\n",
      "           1       0.75      0.78      0.76       116\n",
      "\n",
      "   micro avg       0.87      0.87      0.87       441\n",
      "   macro avg       0.83      0.84      0.84       441\n",
      "weighted avg       0.88      0.87      0.87       441\n",
      "\n"
     ]
    }
   ],
   "source": [
    "### build_flat_model_1 results\n",
    "print(classification_report(y_test, y_preds))\n",
    "with open(results_file, 'a') as f:\n",
    "    f.write(classification_report(y_test, y_preds))\n",
    "    f.write('\\n')"
   ]
  },
  {
   "cell_type": "code",
   "execution_count": 50,
   "metadata": {},
   "outputs": [
    {
     "data": {
      "text/plain": [
       "0.8388746803069054"
      ]
     },
     "execution_count": 50,
     "metadata": {},
     "output_type": "execute_result"
    }
   ],
   "source": [
    "scikit_f1_score(y_test, y_preds, average='macro')"
   ]
  }
 ],
 "metadata": {
  "kernelspec": {
   "display_name": "Python 3",
   "language": "python",
   "name": "python3"
  },
  "language_info": {
   "codemirror_mode": {
    "name": "ipython",
    "version": 3
   },
   "file_extension": ".py",
   "mimetype": "text/x-python",
   "name": "python",
   "nbconvert_exporter": "python",
   "pygments_lexer": "ipython3",
   "version": "3.6.8"
  }
 },
 "nbformat": 4,
 "nbformat_minor": 2
}
