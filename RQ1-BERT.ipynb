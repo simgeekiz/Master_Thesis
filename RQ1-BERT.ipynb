{
 "cells": [
  {
   "cell_type": "markdown",
   "metadata": {},
   "source": [
    "# TODO:\n",
    "* Adapt PlotCurves() to work with tensorflow functions/methods\n",
    "* RQ2-Bert yap"
   ]
  },
  {
   "cell_type": "markdown",
   "metadata": {},
   "source": [
    "Following: https://github.com/strongio/keras-bert/blob/master/keras-bert.ipynb"
   ]
  },
  {
   "cell_type": "code",
   "execution_count": 1,
   "metadata": {},
   "outputs": [],
   "source": [
    "%load_ext autoreload\n",
    "%autoreload 2"
   ]
  },
  {
   "cell_type": "code",
   "execution_count": 2,
   "metadata": {},
   "outputs": [],
   "source": [
    "import numpy as np"
   ]
  },
  {
   "cell_type": "code",
   "execution_count": 3,
   "metadata": {},
   "outputs": [],
   "source": [
    "import tensorflow as tf\n",
    "from tensorflow.keras.layers import Input, Dense\n",
    "from tensorflow.keras.models import Model\n",
    "from tensorflow.keras.optimizers import RMSprop, Adam, SGD"
   ]
  },
  {
   "cell_type": "code",
   "execution_count": 4,
   "metadata": {},
   "outputs": [
    {
     "name": "stderr",
     "output_type": "stream",
     "text": [
      "Using TensorFlow backend.\n"
     ]
    }
   ],
   "source": [
    "from keras.utils import to_categorical"
   ]
  },
  {
   "cell_type": "code",
   "execution_count": 5,
   "metadata": {},
   "outputs": [
    {
     "name": "stderr",
     "output_type": "stream",
     "text": [
      "WARNING: Logging before flag parsing goes to stderr.\n",
      "W0901 23:56:22.360902 140486611460224 deprecation_wrapper.py:119] From /home/aorus/workspaces/simge/Master_Thesis/src/keras_bert.py:12: The name tf.Session is deprecated. Please use tf.compat.v1.Session instead.\n",
      "\n"
     ]
    }
   ],
   "source": [
    "from src.keras_bert import convert_text_to_examples, \\\n",
    "                           create_tokenizer_from_hub_module, \\\n",
    "                           convert_examples_to_features, \\\n",
    "                           initialize_vars, \\\n",
    "                           build_model, \\\n",
    "                           BertLayer"
   ]
  },
  {
   "cell_type": "code",
   "execution_count": 6,
   "metadata": {},
   "outputs": [],
   "source": [
    "from sklearn.metrics import classification_report\n",
    "from sklearn.metrics import f1_score as scikit_f1_score"
   ]
  },
  {
   "cell_type": "code",
   "execution_count": 7,
   "metadata": {},
   "outputs": [],
   "source": [
    "# Initialize session\n",
    "sess = tf.Session()"
   ]
  },
  {
   "cell_type": "markdown",
   "metadata": {},
   "source": [
    "#### Custom Functions"
   ]
  },
  {
   "cell_type": "code",
   "execution_count": 8,
   "metadata": {},
   "outputs": [],
   "source": [
    "from src.callbacks import PlotCurves\n",
    "from src.custom_functions import f1_micro, f1_macro\n",
    "from src.load_data import load_data"
   ]
  },
  {
   "cell_type": "markdown",
   "metadata": {},
   "source": [
    "### Load Data"
   ]
  },
  {
   "cell_type": "code",
   "execution_count": 9,
   "metadata": {},
   "outputs": [],
   "source": [
    "train_data, valid_data, test_data, metadata = load_data()"
   ]
  },
  {
   "cell_type": "code",
   "execution_count": 10,
   "metadata": {},
   "outputs": [
    {
     "data": {
      "text/plain": [
       "639"
      ]
     },
     "execution_count": 10,
     "metadata": {},
     "output_type": "execute_result"
    }
   ],
   "source": [
    "max([len(sentence['sentence']) \n",
    "     for article in (train_data + valid_data + test_data)\n",
    "     for sentence in article['sentences']])"
   ]
  },
  {
   "cell_type": "markdown",
   "metadata": {},
   "source": [
    "### Prepare data"
   ]
  },
  {
   "cell_type": "code",
   "execution_count": 1,
   "metadata": {},
   "outputs": [],
   "source": [
    "max_seq_length = 512\n",
    "if max_seq_length > 512:\n",
    "    print('!!!!!!! WARNING: BERT does not accept lenght > 512')\n",
    "    max_seq_length = 512"
   ]
  },
  {
   "cell_type": "code",
   "execution_count": 14,
   "metadata": {},
   "outputs": [],
   "source": [
    "bert_path = \"https://tfhub.dev/google/bert_uncased_L-12_H-768_A-12/1\""
   ]
  },
  {
   "cell_type": "code",
   "execution_count": 15,
   "metadata": {},
   "outputs": [],
   "source": [
    "def split_data(data_, max_seq_length, bert_path, to_categorize):\n",
    "    \n",
    "    tokenizer = create_tokenizer_from_hub_module(bert_path)\n",
    "    \n",
    "    # !!! For BERT input, each sentence should be in an array\n",
    "    X = np.array([[\" \".join(sentence['sentence'].replace('\\n', '').strip().split()[0:max_seq_length])]\n",
    "                  for article in data_ \n",
    "                  for sentence in article['sentences']], dtype=object)\n",
    "\n",
    "    y = [sentence['label'] \n",
    "                  for article in data_\n",
    "                  for sentence in article['sentences']]\n",
    "    \n",
    "    examples_ = convert_text_to_examples(X, y)\n",
    "    \n",
    "    (input_ids, input_masks, segment_ids, labels_) = \\\n",
    "            convert_examples_to_features(tokenizer, examples_, max_seq_length=max_seq_length)\n",
    "    \n",
    "    if to_categorize:\n",
    "        labels_ = to_categorical(labels_)\n",
    "    \n",
    "    return [input_ids, input_masks, segment_ids], labels_"
   ]
  },
  {
   "cell_type": "code",
   "execution_count": 16,
   "metadata": {},
   "outputs": [
    {
     "name": "stderr",
     "output_type": "stream",
     "text": [
      "W0901 23:56:44.645421 140486611460224 deprecation_wrapper.py:119] From /home/aorus/workspaces/simge/Master_Thesis/bert/tokenization.py:125: The name tf.gfile.GFile is deprecated. Please use tf.io.gfile.GFile instead.\n",
      "\n",
      "Converting examples to features: 100%|██████████| 3582/3582 [00:01<00:00, 2470.84it/s]\n",
      "Converting examples to features: 100%|██████████| 399/399 [00:00<00:00, 2543.04it/s]\n",
      "Converting examples to features: 100%|██████████| 441/441 [00:00<00:00, 2548.65it/s]\n"
     ]
    }
   ],
   "source": [
    "X_tra, y_tra = split_data(train_data, max_seq_length, bert_path, True)\n",
    "X_val, y_val = split_data(valid_data, max_seq_length, bert_path, True)\n",
    "X_test, y_test = split_data(test_data, max_seq_length, bert_path, False)"
   ]
  },
  {
   "cell_type": "markdown",
   "metadata": {},
   "source": [
    "## Build Model"
   ]
  },
  {
   "cell_type": "code",
   "execution_count": 17,
   "metadata": {},
   "outputs": [],
   "source": [
    "def build_flat_model_0(max_seq_length):\n",
    "    \n",
    "    in_id = Input(shape=(max_seq_length,), name=\"input_ids\")\n",
    "    in_mask = Input(shape=(max_seq_length,), name=\"input_masks\")\n",
    "    in_segment = Input(shape=(max_seq_length,), name=\"segment_ids\")\n",
    "    bert_inputs = [in_id, in_mask, in_segment]\n",
    "    \n",
    "    bert_output = BertLayer(n_fine_tune_layers=3,\n",
    "                            pooling='mean'\n",
    "                            bert_path=bert_path)(bert_inputs)\n",
    "    \n",
    "    dense = Dense(512, activation=\"relu\")(bert_output)\n",
    "    dense = Dense(256, activation=\"relu\")(dense)\n",
    "    \n",
    "    pred = Dense(2, activation=\"sigmoid\")(dense)\n",
    "\n",
    "    return Model(inputs=bert_inputs, outputs=pred)"
   ]
  },
  {
   "cell_type": "code",
   "execution_count": 18,
   "metadata": {},
   "outputs": [],
   "source": [
    "learningrate=0.001\n",
    "optimizer = Adam(lr=learningrate)\n",
    "optimizer_str = 'Adam'\n",
    "loss = 'binary_crossentropy'\n",
    "metrics = ['acc', f1_macro, f1_micro]"
   ]
  },
  {
   "cell_type": "code",
   "execution_count": 19,
   "metadata": {},
   "outputs": [
    {
     "name": "stderr",
     "output_type": "stream",
     "text": [
      "W0901 23:57:11.568778 140486611460224 deprecation.py:506] From /home/aorus/workspaces/simge/Master_Thesis/.env/lib/python3.6/site-packages/tensorflow/python/ops/init_ops.py:1251: calling VarianceScaling.__init__ (from tensorflow.python.ops.init_ops) with dtype is deprecated and will be removed in a future version.\n",
      "Instructions for updating:\n",
      "Call initializer instance with the dtype argument instead of passing it to the constructor\n"
     ]
    },
    {
     "name": "stdout",
     "output_type": "stream",
     "text": [
      "Model: \"model\"\n",
      "__________________________________________________________________________________________________\n",
      "Layer (type)                    Output Shape         Param #     Connected to                     \n",
      "==================================================================================================\n",
      "input_ids (InputLayer)          [(None, 512)]        0                                            \n",
      "__________________________________________________________________________________________________\n",
      "input_masks (InputLayer)        [(None, 512)]        0                                            \n",
      "__________________________________________________________________________________________________\n",
      "segment_ids (InputLayer)        [(None, 512)]        0                                            \n",
      "__________________________________________________________________________________________________\n",
      "bert_layer (BertLayer)          (None, 768)          110104890   input_ids[0][0]                  \n",
      "                                                                 input_masks[0][0]                \n",
      "                                                                 segment_ids[0][0]                \n",
      "__________________________________________________________________________________________________\n",
      "dense (Dense)                   (None, 512)          393728      bert_layer[0][0]                 \n",
      "__________________________________________________________________________________________________\n",
      "dense_1 (Dense)                 (None, 256)          131328      dense[0][0]                      \n",
      "__________________________________________________________________________________________________\n",
      "dense_2 (Dense)                 (None, 2)            514         dense_1[0][0]                    \n",
      "==================================================================================================\n",
      "Total params: 110,630,460\n",
      "Trainable params: 21,789,186\n",
      "Non-trainable params: 88,841,274\n",
      "__________________________________________________________________________________________________\n"
     ]
    }
   ],
   "source": [
    "model_name = 'RQ1_bert_flat_model_0_' + optimizer_str + '_lr_' + str(learningrate) + '_loss_' + loss # + '_with_learnin_rate_reduction'\n",
    "model = build_flat_model_0(max_seq_length)\n",
    "model.summary()\n",
    "\n",
    "model.compile(loss=loss, optimizer=optimizer, metrics=metrics)"
   ]
  },
  {
   "cell_type": "markdown",
   "metadata": {},
   "source": [
    "### Train"
   ]
  },
  {
   "cell_type": "code",
   "execution_count": 22,
   "metadata": {
    "scrolled": false
   },
   "outputs": [],
   "source": [
    "# Instantiate variables\n",
    "initialize_vars(sess)"
   ]
  },
  {
   "cell_type": "code",
   "execution_count": 23,
   "metadata": {},
   "outputs": [
    {
     "name": "stdout",
     "output_type": "stream",
     "text": [
      "Train on 3582 samples, validate on 399 samples\n",
      "3582/3582 [==============================] - 126s 35ms/sample - loss: 0.4220 - acc: 0.7997 - f1_macro: 0.7197 - f1_micro: 0.7925 - val_loss: 0.3110 - val_acc: 0.8596 - val_f1_macro: 0.8503 - val_f1_micro: 0.8654\n"
     ]
    },
    {
     "data": {
      "text/plain": [
       "<tensorflow.python.keras.callbacks.History at 0x7fc50aad74e0>"
      ]
     },
     "execution_count": 23,
     "metadata": {},
     "output_type": "execute_result"
    }
   ],
   "source": [
    "## Flat Model Fit\n",
    "model.fit(X_tra, y_tra, epochs=20, batch_size=32, validation_data=(X_val, y_val))\n",
    "#           callbacks=[PlotCurves(model_name=model_name)])"
   ]
  },
  {
   "cell_type": "markdown",
   "metadata": {},
   "source": [
    "### Validation Set\n"
   ]
  },
  {
   "cell_type": "code",
   "execution_count": 24,
   "metadata": {},
   "outputs": [
    {
     "data": {
      "text/plain": [
       "'RQ1_bert_flat_model_0_Adam_lr_0.001_loss_binary_crossentropy'"
      ]
     },
     "execution_count": 24,
     "metadata": {},
     "output_type": "execute_result"
    }
   ],
   "source": [
    "import os\n",
    "model_name"
   ]
  },
  {
   "cell_type": "code",
   "execution_count": 25,
   "metadata": {},
   "outputs": [],
   "source": [
    "results_file = os.path.join('Model/' + model_name, 'model_results_file.txt')\n",
    "        \n",
    "with open(results_file, 'w') as f:\n",
    "    f.write('\\n----------------\\n')"
   ]
  },
  {
   "cell_type": "code",
   "execution_count": 27,
   "metadata": {},
   "outputs": [
    {
     "name": "stdout",
     "output_type": "stream",
     "text": [
      "              precision    recall  f1-score   support\n",
      "\n",
      "           0       0.93      0.85      0.89       269\n",
      "           1       0.74      0.88      0.80       130\n",
      "\n",
      "   micro avg       0.86      0.86      0.86       399\n",
      "   macro avg       0.84      0.86      0.85       399\n",
      "weighted avg       0.87      0.86      0.86       399\n",
      "\n"
     ]
    }
   ],
   "source": [
    "y_val_true = np.array([sentence['label'] for article in valid_data \n",
    "                                 for sentence in article['sentences']])\n",
    "\n",
    "y_val_preds = model.predict(X_val, batch_size=32)\n",
    "y_val_preds = np.argmax(y_val_preds, axis=1)\n",
    "\n",
    "print(classification_report(y_val_true, y_val_preds))\n",
    "with open(results_file, 'a') as f:\n",
    "    f.write(classification_report(y_val_true, y_val_preds))\n",
    "    f.write('\\n')"
   ]
  },
  {
   "cell_type": "markdown",
   "metadata": {},
   "source": [
    "### Test"
   ]
  },
  {
   "cell_type": "code",
   "execution_count": 29,
   "metadata": {},
   "outputs": [],
   "source": [
    "y_preds = model.predict(X_test, batch_size=32)\n",
    "y_preds = np.argmax(y_preds, axis=1)"
   ]
  },
  {
   "cell_type": "code",
   "execution_count": 30,
   "metadata": {},
   "outputs": [
    {
     "name": "stdout",
     "output_type": "stream",
     "text": [
      "              precision    recall  f1-score   support\n",
      "\n",
      "           0       0.91      0.87      0.89       325\n",
      "           1       0.68      0.77      0.72       116\n",
      "\n",
      "   micro avg       0.84      0.84      0.84       441\n",
      "   macro avg       0.80      0.82      0.81       441\n",
      "weighted avg       0.85      0.84      0.85       441\n",
      "\n"
     ]
    }
   ],
   "source": [
    "### build_flat_model_1 results\n",
    "print(classification_report(y_test, y_preds))\n",
    "with open(results_file, 'a') as f:\n",
    "    f.write(classification_report(y_test, y_preds))\n",
    "    f.write('\\n')"
   ]
  },
  {
   "cell_type": "code",
   "execution_count": 31,
   "metadata": {},
   "outputs": [
    {
     "data": {
      "text/plain": [
       "0.8059931779782589"
      ]
     },
     "execution_count": 31,
     "metadata": {},
     "output_type": "execute_result"
    }
   ],
   "source": [
    "scikit_f1_score(y_test, y_preds,average='macro')"
   ]
  },
  {
   "cell_type": "markdown",
   "metadata": {},
   "source": [
    "# Oylesine birden alinan sonuclar"
   ]
  },
  {
   "cell_type": "markdown",
   "metadata": {},
   "source": [
    "##### Validation"
   ]
  },
  {
   "cell_type": "code",
   "execution_count": 41,
   "metadata": {},
   "outputs": [
    {
     "name": "stdout",
     "output_type": "stream",
     "text": [
      "              precision    recall  f1-score   support\n",
      "\n",
      "           0       0.93      0.85      0.89       269\n",
      "           1       0.73      0.87      0.80       130\n",
      "\n",
      "   micro avg       0.85      0.85      0.85       399\n",
      "   macro avg       0.83      0.86      0.84       399\n",
      "weighted avg       0.87      0.85      0.86       399\n",
      "\n"
     ]
    }
   ],
   "source": [
    "y_val_true = np.array([sentence['label'] for article in valid_data \n",
    "                                 for sentence in article['sentences']])\n",
    "\n",
    "y_val_preds = model.predict(X_val, batch_size=32)\n",
    "y_val_preds = np.argmax(y_val_preds, axis=1)\n",
    "\n",
    "print(classification_report(y_val_true, y_val_preds))\n",
    "with open(results_file, 'a') as f:\n",
    "    f.write(classification_report(y_val_true, y_val_preds))\n",
    "    f.write('\\n')"
   ]
  },
  {
   "cell_type": "code",
   "execution_count": 44,
   "metadata": {},
   "outputs": [
    {
     "data": {
      "text/plain": [
       "0.841467090480627"
      ]
     },
     "execution_count": 44,
     "metadata": {},
     "output_type": "execute_result"
    }
   ],
   "source": [
    "scikit_f1_score(y_val_true, y_val_preds,average='macro')"
   ]
  },
  {
   "cell_type": "markdown",
   "metadata": {},
   "source": [
    "##### Test"
   ]
  },
  {
   "cell_type": "code",
   "execution_count": 48,
   "metadata": {},
   "outputs": [],
   "source": [
    "y_preds = model.predict(X_test, batch_size=32)\n",
    "y_preds = np.argmax(y_preds, axis=1)"
   ]
  },
  {
   "cell_type": "code",
   "execution_count": 49,
   "metadata": {},
   "outputs": [
    {
     "name": "stdout",
     "output_type": "stream",
     "text": [
      "              precision    recall  f1-score   support\n",
      "\n",
      "           0       0.92      0.90      0.91       325\n",
      "           1       0.75      0.78      0.76       116\n",
      "\n",
      "   micro avg       0.87      0.87      0.87       441\n",
      "   macro avg       0.83      0.84      0.84       441\n",
      "weighted avg       0.88      0.87      0.87       441\n",
      "\n"
     ]
    }
   ],
   "source": [
    "### build_flat_model_1 results\n",
    "print(classification_report(y_test, y_preds))\n",
    "with open(results_file, 'a') as f:\n",
    "    f.write(classification_report(y_test, y_preds))\n",
    "    f.write('\\n')"
   ]
  },
  {
   "cell_type": "code",
   "execution_count": 50,
   "metadata": {},
   "outputs": [
    {
     "data": {
      "text/plain": [
       "0.8388746803069054"
      ]
     },
     "execution_count": 50,
     "metadata": {},
     "output_type": "execute_result"
    }
   ],
   "source": [
    "scikit_f1_score(y_test, y_preds, average='macro')"
   ]
  },
  {
   "cell_type": "code",
   "execution_count": null,
   "metadata": {},
   "outputs": [],
   "source": []
  }
 ],
 "metadata": {
  "kernelspec": {
   "display_name": "Python 3",
   "language": "python",
   "name": "python3"
  },
  "language_info": {
   "codemirror_mode": {
    "name": "ipython",
    "version": 3
   },
   "file_extension": ".py",
   "mimetype": "text/x-python",
   "name": "python",
   "nbconvert_exporter": "python",
   "pygments_lexer": "ipython3",
   "version": "3.6.8"
  }
 },
 "nbformat": 4,
 "nbformat_minor": 2
}
