{
 "cells": [
  {
   "cell_type": "code",
   "execution_count": 59,
   "metadata": {},
   "outputs": [],
   "source": [
    "import os\n",
    "import csv\n",
    "import json_lines\n",
    "from collections import Counter"
   ]
  },
  {
   "cell_type": "code",
   "execution_count": 78,
   "metadata": {},
   "outputs": [],
   "source": [
    "input_data_dir = '/home/aorus/workspaces/simge/sharedTask/output/Sentence/'\n",
    "train_path = os.path.join(input_data_dir, 'train_filled.json')\n",
    "dev_path = os.path.join(input_data_dir, 'dev_filled.json')\n",
    "test_path = os.path.join(input_data_dir, 'test_filled.json')"
   ]
  },
  {
   "cell_type": "raw",
   "metadata": {},
   "source": [
    "test_path = os.path.join(data_dir, 'test_filled.json')\n",
    "test_path_china = os.path.join(data_dir, 'test_china_filled.json')"
   ]
  },
  {
   "cell_type": "markdown",
   "metadata": {},
   "source": [
    "# Data Preparation"
   ]
  },
  {
   "cell_type": "markdown",
   "metadata": {},
   "source": [
    "### Train Data "
   ]
  },
  {
   "cell_type": "code",
   "execution_count": 89,
   "metadata": {},
   "outputs": [],
   "source": [
    "train_data = []\n",
    "with json_lines.open(train_path) as reader:\n",
    "    for obj in reader:\n",
    "        train_data.append(obj)"
   ]
  },
  {
   "cell_type": "code",
   "execution_count": 90,
   "metadata": {},
   "outputs": [
    {
     "data": {
      "text/plain": [
       "(5885, Counter({0: 4897, 1: 988}))"
      ]
     },
     "execution_count": 90,
     "metadata": {},
     "output_type": "execute_result"
    }
   ],
   "source": [
    "len(train_data), Counter([t['label'] for t in train_data])#, train_data[0]"
   ]
  },
  {
   "cell_type": "code",
   "execution_count": 91,
   "metadata": {},
   "outputs": [],
   "source": [
    "with open('./bert_input/train.tsv', 'wt') as out_file:\n",
    "    tsv_writer = csv.writer(out_file, delimiter='\\t')\n",
    "    for t_data in train_data:\n",
    "        t_data['sentence'] = t_data['sentence'].replace('\\n', '').strip()\n",
    "        tsv_writer.writerow([t_data['id'], t_data['label'], 'a', t_data['sentence']])"
   ]
  },
  {
   "cell_type": "code",
   "execution_count": 92,
   "metadata": {},
   "outputs": [],
   "source": [
    "del train_data"
   ]
  },
  {
   "cell_type": "markdown",
   "metadata": {},
   "source": [
    "### Validation Data"
   ]
  },
  {
   "cell_type": "code",
   "execution_count": 93,
   "metadata": {},
   "outputs": [],
   "source": [
    "dev_data = []\n",
    "with json_lines.open(dev_path) as reader:\n",
    "    for obj in reader:\n",
    "        dev_data.append(obj)"
   ]
  },
  {
   "cell_type": "code",
   "execution_count": 94,
   "metadata": {},
   "outputs": [
    {
     "data": {
      "text/plain": [
       "(663, Counter({1: 138, 0: 525}))"
      ]
     },
     "execution_count": 94,
     "metadata": {},
     "output_type": "execute_result"
    }
   ],
   "source": [
    "len(dev_data), Counter([t['label'] for t in dev_data])#, dev_data[0]"
   ]
  },
  {
   "cell_type": "code",
   "execution_count": 95,
   "metadata": {},
   "outputs": [],
   "source": [
    "with open('./bert_input/dev.tsv', 'wt') as out_file:\n",
    "    tsv_writer = csv.writer(out_file, delimiter='\\t')\n",
    "    for d_data in dev_data:\n",
    "        d_data['sentence'] = d_data['sentence'].replace('\\n', '').strip()\n",
    "        tsv_writer.writerow([d_data['id'], d_data['label'], 'a', d_data['sentence']])"
   ]
  },
  {
   "cell_type": "code",
   "execution_count": 96,
   "metadata": {},
   "outputs": [],
   "source": [
    "del dev_data"
   ]
  },
  {
   "cell_type": "markdown",
   "metadata": {},
   "source": [
    "### Test Data"
   ]
  },
  {
   "cell_type": "code",
   "execution_count": 97,
   "metadata": {},
   "outputs": [],
   "source": [
    "test_data = []\n",
    "with json_lines.open(test_path) as reader:\n",
    "    for obj in reader:\n",
    "        test_data.append(obj)"
   ]
  },
  {
   "cell_type": "code",
   "execution_count": 98,
   "metadata": {},
   "outputs": [
    {
     "data": {
      "text/plain": [
       "1107"
      ]
     },
     "execution_count": 98,
     "metadata": {},
     "output_type": "execute_result"
    }
   ],
   "source": [
    "len(test_data)"
   ]
  },
  {
   "cell_type": "code",
   "execution_count": 99,
   "metadata": {},
   "outputs": [],
   "source": [
    "with open('./bert_input/test.tsv', 'wt') as out_file:\n",
    "    tsv_writer = csv.writer(out_file, delimiter='\\t')\n",
    "    tsv_writer.writerow(['id', 'sentence'])\n",
    "    for te_data in test_data:\n",
    "        te_data['sentence'] = te_data['sentence'].replace('\\n', '').strip()\n",
    "        tsv_writer.writerow([te_data['id'], te_data['sentence']])"
   ]
  },
  {
   "cell_type": "markdown",
   "metadata": {},
   "source": [
    "# Run Command"
   ]
  },
  {
   "cell_type": "raw",
   "metadata": {},
   "source": [
    "python bert/run_classifier.py --task_name=cola --do_predict=true --data_dir=./bert_input --vocab_file=$BERT_BASE_DIR/vocab.txt --bert_config_file=$BERT_BASE_DIR/bert_config.json --init_checkpoint=$TRAINED_CLASSIFIER --max_seq_length=128 --output_dir=./bert_output/"
   ]
  }
 ],
 "metadata": {
  "kernelspec": {
   "display_name": "Python 3",
   "language": "python",
   "name": "python3"
  },
  "language_info": {
   "codemirror_mode": {
    "name": "ipython",
    "version": 3
   },
   "file_extension": ".py",
   "mimetype": "text/x-python",
   "name": "python",
   "nbconvert_exporter": "python",
   "pygments_lexer": "ipython3",
   "version": "3.6.8"
  }
 },
 "nbformat": 4,
 "nbformat_minor": 2
}
