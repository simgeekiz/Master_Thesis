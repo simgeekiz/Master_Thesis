{
 "cells": [
  {
   "cell_type": "code",
   "execution_count": 2,
   "metadata": {},
   "outputs": [],
   "source": [
    "import numpy as np\n",
    "import pandas as pd\n",
    "\n",
    "from sklearn.feature_selection import SelectPercentile, chi2\n",
    "from sklearn.pipeline import Pipeline\n",
    "from sklearn.feature_extraction.text import TfidfVectorizer\n",
    "\n",
    "from sklearn.model_selection import GridSearchCV, cross_val_predict\n",
    "from sklearn.metrics import classification_report\n",
    "\n",
    "from sklearn.model_selection import train_test_split\n",
    "\n",
    "import os\n",
    "import pickle"
   ]
  },
  {
   "cell_type": "code",
   "execution_count": 3,
   "metadata": {},
   "outputs": [],
   "source": [
    "import re\n",
    "import spacy"
   ]
  },
  {
   "cell_type": "code",
   "execution_count": 8,
   "metadata": {},
   "outputs": [],
   "source": [
    "import json_lines\n",
    "import json"
   ]
  },
  {
   "cell_type": "markdown",
   "metadata": {},
   "source": [
    "### Stopwords"
   ]
  },
  {
   "cell_type": "code",
   "execution_count": 3,
   "metadata": {},
   "outputs": [],
   "source": [
    "ordinals = ['1st', '2nd', '3rd', '4th']\n",
    "for i in range(5,31):\n",
    "    ordinals.append(str(i) + 'th')\n",
    "    ordinals.append('0' + str(i) + 'th') \n",
    "    "
   ]
  },
  {
   "cell_type": "code",
   "execution_count": 4,
   "metadata": {},
   "outputs": [],
   "source": [
    "number_stopwords = [str(i) for i in range(10001)] + ['0'+str(i) for i in range(100)] + ['000'] + ordinals"
   ]
  },
  {
   "cell_type": "code",
   "execution_count": 104,
   "metadata": {},
   "outputs": [],
   "source": [
    "df = pd.read_excel('Data/20181001-newindianexpress_sentence_classification_adjudicated_20181218.xlsx')"
   ]
  },
  {
   "cell_type": "code",
   "execution_count": 105,
   "metadata": {},
   "outputs": [],
   "source": [
    "df = df[np.logical_not(np.isnan(np.array(df['label'])))]"
   ]
  },
  {
   "cell_type": "code",
   "execution_count": 106,
   "metadata": {},
   "outputs": [
    {
     "data": {
      "text/plain": [
       "8337"
      ]
     },
     "execution_count": 106,
     "metadata": {},
     "output_type": "execute_result"
    }
   ],
   "source": [
    "len(df)"
   ]
  },
  {
   "cell_type": "code",
   "execution_count": 103,
   "metadata": {},
   "outputs": [],
   "source": [
    "for i, row in df.iterrows():\n",
    "    row['sentence'] = re.sub(\"http\\S*\\s\", \"\", row['sentence'])\n",
    "    row['sentence'] = re.sub(\"((url)*\\s*:\\s*)*http\\S*\", \"\", row['sentence'])\n",
    "    \n",
    "    if row['sentence'] == \"\":\n",
    "        df=df.drop([i])\n",
    "        "
   ]
  },
  {
   "cell_type": "code",
   "execution_count": 49,
   "metadata": {},
   "outputs": [
    {
     "data": {
      "text/plain": [
       "7796"
      ]
     },
     "execution_count": 49,
     "metadata": {},
     "output_type": "execute_result"
    }
   ],
   "source": [
    "len(df)"
   ]
  },
  {
   "cell_type": "code",
   "execution_count": 9,
   "metadata": {},
   "outputs": [],
   "source": [
    "df1_sents= df['sentence']\n",
    "df1_y= df['label']"
   ]
  },
  {
   "cell_type": "code",
   "execution_count": 10,
   "metadata": {},
   "outputs": [
    {
     "data": {
      "text/plain": [
       "7796"
      ]
     },
     "execution_count": 10,
     "metadata": {},
     "output_type": "execute_result"
    }
   ],
   "source": [
    "len(df1_sents)"
   ]
  },
  {
   "cell_type": "markdown",
   "metadata": {},
   "source": [
    "import pickle\n",
    "\n",
    "data_path = 'Data/first_data.pickle'\n",
    "\n"
   ]
  },
  {
   "cell_type": "markdown",
   "metadata": {},
   "source": [
    "prepared_first = {}\n",
    "\n",
    "prepared_first['X'] = np.array(df1_sents)\n",
    "prepared_first['y'] = np.array(df1_y)\n",
    "prepared_first['stopwords'] = np.array(number_stopwords)\n",
    "\n",
    "with open(data_path, 'wb') as file_:\n",
    "    pickle.dump(prepared_first, file_, protocol=pickle.HIGHEST_PROTOCOL)"
   ]
  },
  {
   "cell_type": "code",
   "execution_count": 11,
   "metadata": {},
   "outputs": [
    {
     "data": {
      "text/plain": [
       "(6236, 1560)"
      ]
     },
     "execution_count": 11,
     "metadata": {},
     "output_type": "execute_result"
    }
   ],
   "source": [
    "## Partition the data\n",
    "\n",
    "X_, X_test, y_, y_test = train_test_split(np.array(df1_sents), np.array(df1_y), test_size=0.20, random_state=42, stratify=np.array(df1_y))\n",
    "\n",
    "len(X_), len(X_test)\n",
    "\n",
    " "
   ]
  },
  {
   "cell_type": "code",
   "execution_count": 12,
   "metadata": {},
   "outputs": [],
   "source": [
    "X_tra, X_val, y_tra, y_val = train_test_split(X_, y_, test_size=0.20, random_state=42, stratify=y_)\n",
    "\n",
    "type(X_tra), len(X_val)\n",
    "\n",
    "data_path = 'Data/first_data_prepared.pickle'\n",
    "\n"
   ]
  },
  {
   "cell_type": "code",
   "execution_count": 13,
   "metadata": {},
   "outputs": [],
   "source": [
    "Data_ = {}\n",
    "\n",
    "Data_['X_tra'] = X_tra\n",
    "Data_['y_tra'] = y_tra\n",
    "Data_['X_val'] = X_val\n",
    "Data_['y_val'] = y_val\n",
    "Data_['X_test'] = X_test\n",
    "Data_['y_test'] = y_test\n",
    "Data_['stopwords'] = np.array(number_stopwords)\n",
    "\n",
    "with open(data_path, 'wb') as file_:\n",
    "    pickle.dump(Data_, file_, protocol=pickle.HIGHEST_PROTOCOL)"
   ]
  },
  {
   "cell_type": "code",
   "execution_count": null,
   "metadata": {},
   "outputs": [],
   "source": []
  },
  {
   "cell_type": "markdown",
   "metadata": {},
   "source": [
    "## Second Haf of the data"
   ]
  },
  {
   "cell_type": "code",
   "execution_count": 14,
   "metadata": {},
   "outputs": [],
   "source": [
    "df2 = pd.read_excel('Data/20181126_NewIndianExpress_3Classifier0_Baglan-Ezgi-Balacan-Eylem-Merged_AgreedByAll.xlsx')\n",
    "df2 = df2[np.logical_not(np.isnan(np.array(df2['label'])))]\n",
    "df2 = df2[(np.array(df2['label'] == 0))]"
   ]
  },
  {
   "cell_type": "code",
   "execution_count": 15,
   "metadata": {},
   "outputs": [],
   "source": [
    "nlp = spacy.load('en_core_web_lg')"
   ]
  },
  {
   "cell_type": "code",
   "execution_count": 16,
   "metadata": {},
   "outputs": [],
   "source": [
    "df2_sents = []\n",
    "df2_labels = []\n",
    "for i, row in df2.iterrows():\n",
    "    row['text'] = row['text'].replace('\\n', ' ')\n",
    "    row['text'] = row['text'].replace('&amp;', 'and')\n",
    "    row['text'] = row['text'].replace('\\xa0', ' ')\n",
    "    row['text'] = row['text'].replace('-', '')\n",
    "    row['text'] = row['text'].replace(\"\\'\", \"\")\n",
    "    row['text'] = row['text'].replace('\\\"', '')\n",
    "    row['text'] = row['text'].replace('\\“', '')\n",
    "    row['text'] = re.sub(\"((url)*\\s*:\\s*)*http\\S*\", \"\", row['text'])\n",
    "    row['text'] = row['text'].replace('  ', ' ')\n",
    "    doc = nlp(row['text'])\n",
    "    for sent in doc.sents:\n",
    "        df2_sents.append(sent.text) \n",
    "        df2_labels.append(0)\n"
   ]
  },
  {
   "cell_type": "code",
   "execution_count": 17,
   "metadata": {},
   "outputs": [
    {
     "data": {
      "text/plain": [
       "8743"
      ]
     },
     "execution_count": 17,
     "metadata": {},
     "output_type": "execute_result"
    }
   ],
   "source": [
    "len(df2_sents)"
   ]
  },
  {
   "cell_type": "code",
   "execution_count": 18,
   "metadata": {},
   "outputs": [
    {
     "data": {
      "text/plain": [
       "['Britains little prince gets a name 25th July 2013 08:51 AM',\n",
       " 'The little prince was in need of a name, and now, by George, hes got one.',\n",
       " 'The announcement Wednesday that Prince William and his wife, Kate, had selected a moniker steeped in British history came as royal officials said the new parents were seeking quiet family time away from the flashbulbs and frenzy that accompanied the birth of their first child.',\n",
       " 'While the news put to rest intense speculation over what name the couple would choose, the extreme interest around it illustrated how the 2dayold future heir is already on his way to a lifetime of fanfare and public glare.',\n",
       " 'Kensington Palace said William and Kate were delighted to announce their sons name, adding that the baby will be known as His Royal Highness Prince George of Cambridge.',\n",
       " 'The name George — borne by six kings — befits the boy now third in line to the British throne and was a favorite among British bookmakers, evoking the steadfastness of the queens father, George VI, who rallied the nation during World War II.',\n",
       " 'Alexander is a name shared by three medieval Scottish kings, and Louis could be a tribute to Lord Louis Mountbatten, uncle to the queens husband, Prince Philip, and the last British viceroy of India before it gained independence in 1947.',\n",
       " 'Williams father, Prince Charles, was close to Mountbatten, who was assassinated by the Irish Republican Army in 1979.',\n",
       " 'The announcement of the name, just two days after the babys birth, was quick by royal standards.',\n",
       " 'Queen Elizabeth II and Philip took a month before settling on the name Charles for the Prince of Wales.',\n",
       " 'Charles and Princess Diana took a week before settling on Williams four names.',\n",
       " 'While a king usually rules under his given name, precedent shows that the prince is not hidebound by George.',\n",
       " 'The first name of George VI was actually Albert, but he picked his fourth name to use as sovereign in honor of his father, George V.',\n",
       " 'For now, palace officials say, William and Kate are spending private and quiet time for them to get to know their son.',\n",
       " 'Some of their discussions may revolve around how to shield him from the media.',\n",
       " 'The young princes relationship with the media appeared to get off to a good start — an encouraging sign for a royal family that has had tense moments with the press.',\n",
       " 'The baby slept through his first photo op Tuesday outside Londons St. Marys Hospital, while his parents beamed as they chatted easily with reporters.',\n",
       " 'I thought, Is this an Oscarwinning performance? said Ingrid Seward, editorinchief of Majesty magazine.',\n",
       " 'But I think they were so genuinely overjoyed that they wanted to show off the baby.',\n",
       " 'After leaving the hospital, the couple introduced their son to his uncle, Prince Harry, and to greatgrandmother Queen Elizabeth II, who was keen to see the baby before she starts her annual summer vacation in Scotland later this week.',\n",
       " 'Then they headed to see Kates parents in their village near London — pretty much like any regular family.',\n",
       " 'There has been so much royal drama in the last few decades that its easy to forget William had, by royal standards, a relatively normal childhood.',\n",
       " 'His parents troubled marriage may have ended in divorce, but Charles and Diana were devoted parents who tried to spend as much time as possible with their children, albeit with an assist from nannies.',\n",
       " 'While the queen was sometimes away on official tours for months at a time when her children were young, Charles and Diana took William along on a tour to Australia when he was just 9 months old.',\n",
       " 'The queen was educated at home, in keeping with royal tradition.',\n",
       " 'But she sent her own children to boarding schools, and Charles and Diana did the same with William and Harry — choosing Eton, one of the most prestigious boys schools in the country.',\n",
       " 'Williams childhood was normal by uppermiddleclass standards — private schools, expensive holidays, McDonalds in a smart part of town as opposed to a grotty part of town, said royal historian Robert Lacey.',\n",
       " 'I think, really, one is going to see more of the same.',\n",
       " 'Lacey said Kates middleclass background will also help ensure her son gets a broader world view than some of his royal predecessors.',\n",
       " 'The babys maternal grandparents, Carole and Michael Middleton, are selfmade millionaires who run a partyplanning business from the village of Bucklebury, west of London.',\n",
       " 'From Buckingham Palace to Bucklebury — these are the two elements that will be in this childs upbringing, Lacey said.',\n",
       " 'Lacey noted that on Kates side the baby prince had a grandfather who started off dispatching aircraft from Heathrow Airport and a grandmother who started out as a flight attendant and grew up on a council estate, who came from coalmining stock in Durham in northern England.',\n",
       " 'That is all funneling through, he said.',\n",
       " 'Williams childhood normality was possible because the palace struck a deal with the media: privacy in exchange for a number of agreedupon photo opportunities at birthdays and during school holidays.',\n",
       " 'Seward said Kate and William will try to arrange a similar deal for their son.',\n",
       " 'When they have got time to think, they will have to do some kind of deal with the press, she said.',\n",
       " 'In return for some really beautiful photographs, they will be left alone.',\n",
       " 'British media adhered to the agreement while William and Harry were children.',\n",
       " 'But once they reached adulthood, all bets were off.',\n",
       " 'Photos soon appeared of Prince Harry on drunken nights out, or wearing a Nazi outfit to a costume party.',\n",
       " 'Tabloid reporters were also secretly hacking the mobile phone voice mails of royal aides to get scoops.',\n",
       " 'The revelation of the scale of that illegal eavesdropping — on celebrities, politicians and crime victims, as well as the royals — horrified the British public and chastened the rambunctious press, although that may be a temporary state of affairs.',\n",
       " 'Palace officials still have some sway over newspaper editors.',\n",
       " 'When they complained about photos of William and Kate walking on a beach near their home in Wales, British newspapers did not run them.',\n",
       " 'The foreign media is much harder to control, as the palace learned when an Italian magazine ran topless pictures of Kate taken during a holiday in France.',\n",
       " 'Still, Lacey points out, the media scrutiny can cut both ways.',\n",
       " 'This baby will be the first future monarch to grow up in the era of Twitter, Facebook and other social media, giving him an incredible insight into how the country and population he is supposed to represent live and breathe, Lacey said.',\n",
       " 'In the Middle Ages, we have legends of idealistic princes who would dress in ordinary clothes and go out into the streets of town after dark to see how their subjects lived.',\n",
       " 'The electronic media, for all their hazards, do offer this new dimension to an heir.',\n",
       " 'While Kate and William get to know little George away from the media frenzy that surrounded his birth, there is one royal appearance on the horizon:',\n",
       " 'The new parents are expected to soon choose a photographer for the babys first official portrait.',\n",
       " 'Our batting not good enough for the WC:',\n",
       " 'Ponting 20th March 2011',\n",
       " '11:01 AM Ricky Ponting of Australia leads his team from the field after their loss to Pakistan in the 2011 ICC World Cup Group A match.',\n",
       " '(Getty Images) COLOMBO:',\n",
       " 'Australian captain Ricky Ponting slammed the listless batting display by his side in their fourwicket loss to Pakistan here, saying that a similar performance in the quarterfinals could end their hopes for defending the title.',\n",
       " 'Australia were bowled out for 176 and Pakistan went on to win with nine overs to spare in their last Group A match.',\n",
       " 'The loss ended Australias 34game unbeaten streak in the World Cup since May 1999.',\n",
       " 'We have to learn quickly.',\n",
       " 'We have done all the talking about this World Cup game, but we found ourselves in some tough situations and we werent good enough to get out of it.',\n",
       " 'We have to learn from that and learn quickly, Ponting said at the postmatch press conference.',\n",
       " 'The way we batted was nowhere near good enough to win a World Cup game.',\n",
       " 'We have some thinking to do about the way we batted.',\n",
       " 'The efforts of that kind is not good enough to win World Cup matches, he said.',\n",
       " 'Australia finished third in Group A',\n",
       " 'and they will play the second place side in Group B, which will be the winner of the match between India and West Indies in Chennai.',\n",
       " 'If we play the same way against India (if they beat West Indies) in Ahmedabad, you can guarantee that the same situation is going to pop up again, Ponting said.',\n",
       " 'Despite defending 176 runs, Australia stretched Pakistan by taking six wickets and Ponting praised his bowlers for that.',\n",
       " 'I thought we fought our way back into the game with the ball and on the field.',\n",
       " 'We gave ourselves a good chance to win when we had them six down, just not good enough.',\n",
       " 'We needed to make 240.',\n",
       " 'Australia did not utilise the legspin of Steven Smith although Pakistan depended heavily on spin with the trio of Abdur Rehman, Shahid Afridi and Mohammad Hafeez sharing bulk of the bowling.',\n",
       " 'Ponting, however, defended his decision to stick to the seam bowlers.',\n",
       " 'I thought our fast bowlers were the most dangerous on that wicket.',\n",
       " 'I thought that wicket was up and down for the quicks.',\n",
       " 'I also thought Shaun Tait would make a breakthrough for us in those middle overs.',\n",
       " 'Brett Lee and Mitchell Johnson were dangerous.',\n",
       " 'Shane Watson bowled his quota of ten overs.',\n",
       " 'We could not bowl everyone tonight as the game could not go down to 50 overs.',\n",
       " 'I used the guys whom I thought were the most dangerous bowlers on that wicket, Ponting explained.',\n",
       " 'Pakistan coach Waqar Younis, meanwhile, expresses happiness with the effort of his team.',\n",
       " 'Its definitely an achievement.',\n",
       " 'Its not the easiest of pitches.',\n",
       " 'Its a used pitch and the ball was turning',\n",
       " 'and it was up and down.',\n",
       " '176 was definitely gettable, but the way we got it was not all that good probably, said Waqar.',\n",
       " 'Ashad Shafiq is becoming mature every day.',\n",
       " 'Hes very steady and picks up runs.',\n",
       " 'At number three he has done a superb job for us.',\n",
       " 'Suicide bid: Man jumps into lions enclosure 06th October 2012',\n",
       " '11:51 AM',\n",
       " 'A middle aged man made a bizarre attempt to end his life by jumping into a lion’s enclosure at Nandankanan Zoological Park here on Friday afternoon after he allegedly had a fight with his wife.',\n",
       " 'He survived, although with multiple injuries after a lioness pounced on him.',\n",
       " 'Surya Narayan Dash, a native of Khalliokote, scaled the walls of enclosure no.',\n",
       " '29 (B) of the Zoo taking the park management and visitors by surprise.',\n",
       " 'He apparently had a fight with his wife which prompted him to take the extreme step, police said.',\n",
       " 'He was reportedly in a state of intoxication.',\n",
       " 'Once he landed, a lioness jumped at him and grabbed him by the hand and then by the neck.',\n",
       " 'The big cat dragged Dash to a distance of about 60 ft even as its male partner watched from a distance which, on hindsight, proved lucky for the man on suicide mission.',\n",
       " 'While the incident led to commotion, the Nandankanan staff created noise to draw the attention of the lioness so that it does not kill the visitor and succeeded in doing that.']"
      ]
     },
     "execution_count": 18,
     "metadata": {},
     "output_type": "execute_result"
    }
   ],
   "source": [
    "df2_sents[:100]"
   ]
  },
  {
   "cell_type": "code",
   "execution_count": 19,
   "metadata": {},
   "outputs": [],
   "source": [
    "sents = df1_sents.tolist() + df2_sents\n",
    "y = df1_y.tolist() + df2_labels"
   ]
  },
  {
   "cell_type": "code",
   "execution_count": 18,
   "metadata": {},
   "outputs": [
    {
     "data": {
      "text/plain": [
       "16539"
      ]
     },
     "execution_count": 18,
     "metadata": {},
     "output_type": "execute_result"
    }
   ],
   "source": [
    "len(sents)"
   ]
  },
  {
   "cell_type": "code",
   "execution_count": 19,
   "metadata": {},
   "outputs": [],
   "source": [
    "import pickle"
   ]
  },
  {
   "cell_type": "code",
   "execution_count": 20,
   "metadata": {},
   "outputs": [],
   "source": [
    "data_path = 'Data/all_data2.pickle'"
   ]
  },
  {
   "cell_type": "code",
   "execution_count": 21,
   "metadata": {},
   "outputs": [],
   "source": [
    "Data_ = {}"
   ]
  },
  {
   "cell_type": "code",
   "execution_count": 22,
   "metadata": {},
   "outputs": [],
   "source": [
    "Data_['X'] = np.array(sents)\n",
    "Data_['y'] = np.array(y)\n",
    "Data_['stopwords'] = np.array(number_stopwords)"
   ]
  },
  {
   "cell_type": "code",
   "execution_count": 23,
   "metadata": {},
   "outputs": [],
   "source": [
    "with open(data_path, 'wb') as file_:\n",
    "    pickle.dump(Data_, file_, protocol=pickle.HIGHEST_PROTOCOL)"
   ]
  },
  {
   "cell_type": "code",
   "execution_count": null,
   "metadata": {},
   "outputs": [],
   "source": []
  },
  {
   "cell_type": "markdown",
   "metadata": {},
   "source": [
    "## Read pickle"
   ]
  },
  {
   "cell_type": "code",
   "execution_count": 24,
   "metadata": {},
   "outputs": [],
   "source": [
    "data_path = 'Data/all_data2.pickle'"
   ]
  },
  {
   "cell_type": "code",
   "execution_count": 25,
   "metadata": {},
   "outputs": [],
   "source": [
    "with open(data_path, 'rb') as file_:\n",
    "    data_ = pickle.load(file_)"
   ]
  },
  {
   "cell_type": "code",
   "execution_count": 26,
   "metadata": {},
   "outputs": [],
   "source": [
    "X = data_['X']\n",
    "y = data_['y']\n",
    "stopwords = data_['stopwords']"
   ]
  },
  {
   "cell_type": "code",
   "execution_count": 27,
   "metadata": {},
   "outputs": [
    {
     "data": {
      "text/plain": [
       "numpy.ndarray"
      ]
     },
     "execution_count": 27,
     "metadata": {},
     "output_type": "execute_result"
    }
   ],
   "source": [
    "type(y)"
   ]
  },
  {
   "cell_type": "code",
   "execution_count": null,
   "metadata": {},
   "outputs": [],
   "source": []
  },
  {
   "cell_type": "markdown",
   "metadata": {},
   "source": [
    "## Partition the data"
   ]
  },
  {
   "cell_type": "code",
   "execution_count": 28,
   "metadata": {},
   "outputs": [],
   "source": [
    " X_, X_test, y_, y_test = train_test_split(X, y, test_size=0.20, random_state=42, stratify=y)"
   ]
  },
  {
   "cell_type": "code",
   "execution_count": 29,
   "metadata": {},
   "outputs": [
    {
     "data": {
      "text/plain": [
       "(13231, 3308)"
      ]
     },
     "execution_count": 29,
     "metadata": {},
     "output_type": "execute_result"
    }
   ],
   "source": [
    "len(X_), len(X_test)"
   ]
  },
  {
   "cell_type": "code",
   "execution_count": 30,
   "metadata": {},
   "outputs": [],
   "source": [
    " X_tra, X_val, y_tra, y_val = train_test_split(X_, y_, test_size=0.20, random_state=42, stratify=y_)"
   ]
  },
  {
   "cell_type": "code",
   "execution_count": 31,
   "metadata": {},
   "outputs": [
    {
     "data": {
      "text/plain": [
       "(numpy.ndarray, 2647)"
      ]
     },
     "execution_count": 31,
     "metadata": {},
     "output_type": "execute_result"
    }
   ],
   "source": [
    "type(X_tra), len(X_val)"
   ]
  },
  {
   "cell_type": "code",
   "execution_count": 32,
   "metadata": {},
   "outputs": [],
   "source": [
    "data_path = 'Data/prepared_data.pickle'"
   ]
  },
  {
   "cell_type": "code",
   "execution_count": 33,
   "metadata": {},
   "outputs": [],
   "source": [
    "Data_ = {}"
   ]
  },
  {
   "cell_type": "code",
   "execution_count": 34,
   "metadata": {},
   "outputs": [],
   "source": [
    "Data_['X_tra'] = X_tra\n",
    "Data_['y_tra'] = y_tra\n",
    "Data_['X_val'] = X_val\n",
    "Data_['y_val'] = y_val\n",
    "Data_['X_test'] = X_test\n",
    "Data_['y_test'] = y_test\n",
    "Data_['stopwords'] = np.array(number_stopwords)"
   ]
  },
  {
   "cell_type": "code",
   "execution_count": 35,
   "metadata": {},
   "outputs": [],
   "source": [
    "with open(data_path, 'wb') as file_:\n",
    "    pickle.dump(Data_, file_, protocol=pickle.HIGHEST_PROTOCOL)"
   ]
  },
  {
   "cell_type": "code",
   "execution_count": null,
   "metadata": {},
   "outputs": [],
   "source": []
  },
  {
   "cell_type": "markdown",
   "metadata": {},
   "source": [
    "# New way"
   ]
  },
  {
   "cell_type": "markdown",
   "metadata": {},
   "source": [
    "df = pd.read_excel('Data/20181001-newindianexpress_sentence_classification_adjudicated_20181218.xlsx')\n",
    "\n",
    "df = df[np.logical_not(np.isnan(np.array(df['label'])))]\n",
    "\n",
    "len(df)"
   ]
  },
  {
   "cell_type": "markdown",
   "metadata": {},
   "source": [
    "for i, row in df.iterrows():\n",
    "    row['sentence'] = re.sub(\"http\\S*\\s\", \"\", row['sentence'])\n",
    "    row['sentence'] = re.sub(\"((url)*\\s*:\\s*)*http\\S*\", \"\", row['sentence'])\n",
    "    df['sentence'][i] = row['sentence']\n",
    "    if row['sentence'] == \"\":\n",
    "        df=df.drop([i])\n",
    "df.reset_index(drop=True)\n",
    "df.to_csv(r'Data/preprocessed.csv')\n",
    "\n",
    "df = df.drop(['Unnamed: 0', 'Unnamed: 0.1.1'], axis=1)\n",
    "df.to_csv(r'Data/preprocessed.csv')"
   ]
  },
  {
   "cell_type": "code",
   "execution_count": 4,
   "metadata": {},
   "outputs": [],
   "source": [
    "df = pd.read_csv(\"Data/preprocessed.csv\") "
   ]
  },
  {
   "cell_type": "code",
   "execution_count": 10,
   "metadata": {},
   "outputs": [
    {
     "data": {
      "text/html": [
       "<div>\n",
       "<style scoped>\n",
       "    .dataframe tbody tr th:only-of-type {\n",
       "        vertical-align: middle;\n",
       "    }\n",
       "\n",
       "    .dataframe tbody tr th {\n",
       "        vertical-align: top;\n",
       "    }\n",
       "\n",
       "    .dataframe thead th {\n",
       "        text-align: right;\n",
       "    }\n",
       "</style>\n",
       "<table border=\"1\" class=\"dataframe\">\n",
       "  <thead>\n",
       "    <tr style=\"text-align: right;\">\n",
       "      <th></th>\n",
       "      <th>Unnamed: 0</th>\n",
       "      <th>url</th>\n",
       "      <th>sent_num</th>\n",
       "      <th>sentence</th>\n",
       "      <th>text</th>\n",
       "      <th>label</th>\n",
       "    </tr>\n",
       "  </thead>\n",
       "  <tbody>\n",
       "    <tr>\n",
       "      <th>0</th>\n",
       "      <td>0</td>\n",
       "      <td>http://www.newindianexpress.com/states/andhra-...</td>\n",
       "      <td>1-1</td>\n",
       "      <td>Anantapur Lawyers to Revive Samaikya Agitation...</td>\n",
       "      <td>Anantapur Lawyers to Revive Samaikya Agitation...</td>\n",
       "      <td>2.0</td>\n",
       "    </tr>\n",
       "    <tr>\n",
       "      <th>1</th>\n",
       "      <td>1</td>\n",
       "      <td>http://www.newindianexpress.com/states/andhra-...</td>\n",
       "      <td>1-2</td>\n",
       "      <td>A meeting of lawyers was held in the town on S...</td>\n",
       "      <td>Anantapur Lawyers to Revive Samaikya Agitation...</td>\n",
       "      <td>0.0</td>\n",
       "    </tr>\n",
       "    <tr>\n",
       "      <th>2</th>\n",
       "      <td>2</td>\n",
       "      <td>http://www.newindianexpress.com/states/andhra-...</td>\n",
       "      <td>1-3</td>\n",
       "      <td>Speaking to reporters later, advocates’ leader...</td>\n",
       "      <td>Anantapur Lawyers to Revive Samaikya Agitation...</td>\n",
       "      <td>0.0</td>\n",
       "    </tr>\n",
       "    <tr>\n",
       "      <th>3</th>\n",
       "      <td>3</td>\n",
       "      <td>http://www.newindianexpress.com/states/andhra-...</td>\n",
       "      <td>1-4</td>\n",
       "      <td>“Bifurcation is being done without taking into...</td>\n",
       "      <td>Anantapur Lawyers to Revive Samaikya Agitation...</td>\n",
       "      <td>0.0</td>\n",
       "    </tr>\n",
       "    <tr>\n",
       "      <th>4</th>\n",
       "      <td>4</td>\n",
       "      <td>http://www.newindianexpress.com/states/andhra-...</td>\n",
       "      <td>1-5</td>\n",
       "      <td>The Bill did not contain any proposals for dev...</td>\n",
       "      <td>Anantapur Lawyers to Revive Samaikya Agitation...</td>\n",
       "      <td>0.0</td>\n",
       "    </tr>\n",
       "  </tbody>\n",
       "</table>\n",
       "</div>"
      ],
      "text/plain": [
       "   Unnamed: 0                                                url sent_num  \\\n",
       "0           0  http://www.newindianexpress.com/states/andhra-...      1-1   \n",
       "1           1  http://www.newindianexpress.com/states/andhra-...      1-2   \n",
       "2           2  http://www.newindianexpress.com/states/andhra-...      1-3   \n",
       "3           3  http://www.newindianexpress.com/states/andhra-...      1-4   \n",
       "4           4  http://www.newindianexpress.com/states/andhra-...      1-5   \n",
       "\n",
       "                                            sentence  \\\n",
       "0  Anantapur Lawyers to Revive Samaikya Agitation...   \n",
       "1  A meeting of lawyers was held in the town on S...   \n",
       "2  Speaking to reporters later, advocates’ leader...   \n",
       "3  “Bifurcation is being done without taking into...   \n",
       "4  The Bill did not contain any proposals for dev...   \n",
       "\n",
       "                                                text  label  \n",
       "0  Anantapur Lawyers to Revive Samaikya Agitation...    2.0  \n",
       "1  Anantapur Lawyers to Revive Samaikya Agitation...    0.0  \n",
       "2  Anantapur Lawyers to Revive Samaikya Agitation...    0.0  \n",
       "3  Anantapur Lawyers to Revive Samaikya Agitation...    0.0  \n",
       "4  Anantapur Lawyers to Revive Samaikya Agitation...    0.0  "
      ]
     },
     "execution_count": 10,
     "metadata": {},
     "output_type": "execute_result"
    }
   ],
   "source": [
    "df.head()"
   ]
  },
  {
   "cell_type": "code",
   "execution_count": 21,
   "metadata": {},
   "outputs": [],
   "source": [
    "doc_ids = set()\n",
    "doc_sents_last = {}\n",
    "for i, row in df.iterrows():\n",
    "    doc_num, sent_num = row['sent_num'].split('-')\n",
    "    doc_ids.add(doc_num)\n",
    "    doc_sents_last[doc_num] = sent_num"
   ]
  },
  {
   "cell_type": "code",
   "execution_count": 60,
   "metadata": {
    "scrolled": false
   },
   "outputs": [],
   "source": [
    "jslines=[]\n",
    "last_=False\n",
    "for i, row in df.iterrows():\n",
    "    doc_num, sent_num = row['sent_num'].split('-')\n",
    "    row['sentence'] = re.sub(\"http\\S*\\s\", \"\", row['sentence'])\n",
    "    sent = re.sub(\"((url)*\\s*:\\s*)*http\\S*\", \"\", row['sentence'])\n",
    "    last_= False\n",
    "    if not sent == \"\":\n",
    "        if sent_num == doc_sents_last[doc_num]:\n",
    "            last_=True\n",
    "#             print(doc_num, sent_num)\n",
    "        jslines.append({'id': str(doc_num)+'000'+str(sent_num),\n",
    "                        'sentence': sent,\n",
    "                        'label': int(row['label']),\n",
    "                        'last':last_})\n"
   ]
  },
  {
   "cell_type": "code",
   "execution_count": 61,
   "metadata": {},
   "outputs": [],
   "source": [
    "with open('Data/processedalldata.jsonl', 'w') as outfile:\n",
    "    for entry in jslines:\n",
    "        json.dump(entry, outfile)\n",
    "        outfile.write('\\n')"
   ]
  },
  {
   "cell_type": "code",
   "execution_count": 11,
   "metadata": {},
   "outputs": [],
   "source": [
    "v_data = []\n",
    "with json_lines.open('Data/processedalldata.jsonl') as reader:\n",
    "    for obj in reader:\n",
    "        v_data.append(obj)"
   ]
  },
  {
   "cell_type": "code",
   "execution_count": 12,
   "metadata": {},
   "outputs": [
    {
     "data": {
      "text/plain": [
       "7796"
      ]
     },
     "execution_count": 12,
     "metadata": {},
     "output_type": "execute_result"
    }
   ],
   "source": [
    "len(v_data)"
   ]
  },
  {
   "cell_type": "code",
   "execution_count": 55,
   "metadata": {},
   "outputs": [],
   "source": [
    "thesis_training_data = v_data[:5981]\n",
    "thesis_validation_data = v_data[5982:6654]\n",
    "thesis_test_data = v_data[6655:]"
   ]
  },
  {
   "cell_type": "code",
   "execution_count": 56,
   "metadata": {},
   "outputs": [],
   "source": [
    "with open('Data/thesis_training_data.jsonl', 'w') as outfile:\n",
    "    for entry in thesis_training_data:\n",
    "        json.dump(entry, outfile)\n",
    "        outfile.write('\\n')\n",
    "        \n",
    "with open('Data/thesis_validation_data.jsonl', 'w') as outfile:\n",
    "    for entry in thesis_validation_data:\n",
    "        json.dump(entry, outfile)\n",
    "        outfile.write('\\n')\n",
    "\n",
    "with open('Data/thesis_test_data.jsonl', 'w') as outfile:\n",
    "    for entry in thesis_test_data:\n",
    "        json.dump(entry, outfile)\n",
    "        outfile.write('\\n')"
   ]
  },
  {
   "cell_type": "code",
   "execution_count": 53,
   "metadata": {},
   "outputs": [
    {
     "data": {
      "text/plain": [
       "[{'id': '9480001',\n",
       "  'sentence': 'HC Warns Against Using Temple Issue for Political Mileage 26th February 2014 03:10 PM The Madras High Court today warned that it will take a serious view if the issue concerning a local temple was used for deriving political mileage.',\n",
       "  'label': 0,\n",
       "  'last': False},\n",
       " {'id': '9480002',\n",
       "  'sentence': \"The First Bench, comprising Acting Chief Justice Sathish K Agnihotri and Justice K Ravichandrabaabu, was hearing a contempt petition filed by social activist 'Traffic' Ramaswamy against authorities for not removing a temple at the gate of the court in spite of the High Court order.\",\n",
       "  'label': 0,\n",
       "  'last': False},\n",
       " {'id': '9480003',\n",
       "  'sentence': 'Some political organisations had reportedly distributed some posters and pamphlets describing Ramaswamy as anti-Hindu which were displayed by him in the open court.',\n",
       "  'label': 1,\n",
       "  'last': False},\n",
       " {'id': '9480004',\n",
       "  'sentence': 'Taking serious note of the matter, the Acting Chief Justice orally warned that if the temple issue is used for deriving political mileage, it will be viewed seriously and posted the matter for hearing after a week.',\n",
       "  'label': 0,\n",
       "  'last': True},\n",
       " {'id': '9490001',\n",
       "  'sentence': 'Demand For Separate Tamil Province in East Lanka 26th February 2016 07:24 PM COLOMBO: The Trincomalee-based Social Development and Research Organization (SDRO) has demanded the establishment of a separate province for Tamils in Eastern Sri Lanka in case it is not possible to re-unite the Northern and Eastern Provinces to form a single Tamil-majority North Eastern Province.',\n",
       "  'label': 0,\n",
       "  'last': False},\n",
       " {'id': '9490002',\n",
       "  'sentence': 'At meeting with the Public Representation Committee on the new constitution at Trincomalee on February 24, SDRO Executive Director A.',\n",
       "  'label': 0,\n",
       "  'last': False},\n",
       " {'id': '9490003',\n",
       "  'sentence': 'Jathindra said that it is necessary for the three communities in the Eastern Province, namely the Tamils, Muslims and Sinhalese, to have separate provinces.',\n",
       "  'label': 0,\n",
       "  'last': False},\n",
       " {'id': '9490004',\n",
       "  'sentence': 'He argued that the three communities, which have had a history of conflict, can strike fair deals with each other only when they interact as equals.',\n",
       "  'label': 0,\n",
       "  'last': False},\n",
       " {'id': '9490005',\n",
       "  'sentence': 'Territorial autonomy will assure equality.',\n",
       "  'label': 0,\n",
       "  'last': False},\n",
       " {'id': '9490006',\n",
       "  'sentence': 'The Northern and Eastern Provinces were merged following the India-Sri Lanka Accord of 1987 to form a single Tamil-majority province.',\n",
       "  'label': 0,\n",
       "  'last': False},\n",
       " {'id': '9490007',\n",
       "  'sentence': 'The Muslims opposed it on the grounds that they would lose power, but did not try to annul it.',\n",
       "  'label': 0,\n",
       "  'last': False},\n",
       " {'id': '9490008',\n",
       "  'sentence': 'However, a Sinhalese nationalist group filed a case in the Supreme Court against the merger.',\n",
       "  'label': 0,\n",
       "  'last': False},\n",
       " {'id': '9490009',\n",
       "  'sentence': 'In 2006, the court ordered de-linking on the grounds that the way the merger took effected was illegal.',\n",
       "  'label': 0,\n",
       "  'last': False},\n",
       " {'id': '94900010',\n",
       "  'sentence': 'In the separated Eastern Province, the Tamils see themselves as being disadvantaged because they can be marginalized if the Muslims and Sinhalese unite.',\n",
       "  'label': 0,\n",
       "  'last': False},\n",
       " {'id': '94900011',\n",
       "  'sentence': 'On the question whether the new constitution should be “federal” or “unitary”, the SDRO said that nomenclature is not important.',\n",
       "  'label': 0,\n",
       "  'last': False},\n",
       " {'id': '94900012',\n",
       "  'sentence': 'What is essential is to ensure that the powers devolved to the provinces are not taken away.',\n",
       "  'label': 0,\n",
       "  'last': False},\n",
       " {'id': '94900013',\n",
       "  'sentence': 'It stressed the importance of giving powers over land and added that the provinces must be given powers to get investors without going through Colombo.',\n",
       "  'label': 0,\n",
       "  'last': False},\n",
       " {'id': '94900014',\n",
       "  'sentence': 'While seeking police powers, the PDRO said that the Central government need not fear and quoted former President Chandrika Kumaratunga as saying that even at the height of Tamil militancy, no Tamil police or army man had defected to the rebels.',\n",
       "  'label': 0,\n",
       "  'last': False},\n",
       " {'id': '94900015',\n",
       "  'sentence': 'On the question of state religion, the PDRO said that it has no objection to primacy being accorded to Buddhism, but the constitution should explicitly say that it will protect the rights of other religions also.',\n",
       "  'label': 0,\n",
       "  'last': False},\n",
       " {'id': '94900016',\n",
       "  'sentence': 'At present, the government rushes to the help of a Buddhist temple if its lands are grabbed, but turns a blind eye to encroachments on Hindu temple lands.',\n",
       "  'label': 0,\n",
       "  'last': True},\n",
       " {'id': '9500001',\n",
       "  'sentence': \"HJC MLAs 'abstain' from Haryana trust vote 28th October 2009 05:37 PM CHANDIGARH: Keeping his political cards close to his chest, Haryana Janhit Congress (HJC) president Kuldeep Bishnoi Wednesday led party legislators in 'abstaining' from the vote of confidence of the Bhupinder Singh Hooda-led Congress government in the state.\",\n",
       "  'label': 0,\n",
       "  'last': False},\n",
       " {'id': '9500002',\n",
       "  'sentence': 'Six legislators of the HJC, including Bishnoi, left the Haryana assembly complex here after taking oath as legislators.',\n",
       "  'label': 0,\n",
       "  'last': False},\n",
       " {'id': '9500003',\n",
       "  'sentence': '\"We will abstain from the trust vote.',\n",
       "  'label': 0,\n",
       "  'last': False},\n",
       " {'id': '9500004',\n",
       "  'sentence': 'We are going to Delhi,\" Bishnoi had told the media before leaving.',\n",
       "  'label': 0,\n",
       "  'last': False},\n",
       " {'id': '9500005',\n",
       "  'sentence': 'The HJC legislators did not even wait for the first address of Haryana Governor Jagannath Pahadia.',\n",
       "  'label': 0,\n",
       "  'last': False},\n",
       " {'id': '9500006',\n",
       "  'sentence': 'The Congress required support of 45 legislators in the 89-member house -- which has total 90 seats but Indian National Lok Dal (INLD) leader Om Prakash Chautala was elected on two seats -- for simple majority and will now require only 42 votes in favour in the reduced 83-member house.',\n",
       "  'label': 0,\n",
       "  'last': False},\n",
       " {'id': '9500007',\n",
       "  'sentence': 'The Congress had emerged as the single largest party in the assembly with 40 legislators in the Oct 13 assembly poll.',\n",
       "  'label': 0,\n",
       "  'last': False},\n",
       " {'id': '9500008',\n",
       "  'sentence': 'It fell short of a simple majority by six seats in the 90-member house.',\n",
       "  'label': 0,\n",
       "  'last': False},\n",
       " {'id': '9500009',\n",
       "  'sentence': 'The Congress has already claimed support of all seven Independent legislators and the lone Bahujan Samaj Party (BSP) legislator in the assembly.',\n",
       "  'label': 0,\n",
       "  'last': False},\n",
       " {'id': '95000010',\n",
       "  'sentence': 'HJC sources said that Bishnoi, who had earlier announced that his party could support any government in the state, Wednesday altered his stance and decided to abstain.',\n",
       "  'label': 0,\n",
       "  'last': False},\n",
       " {'id': '95000011',\n",
       "  'sentence': \"This could be aimed at pressurizing the Congress to seek his party's support at his terms instead of giving it unconditionally.\",\n",
       "  'label': 0,\n",
       "  'last': False},\n",
       " {'id': '95000012',\n",
       "  'sentence': 'Most of the HJC leaders, including Bishnoi and his father and former chief minister Bhajan Lal, are former Congressmen.',\n",
       "  'label': 0,\n",
       "  'last': True},\n",
       " {'id': '9510001',\n",
       "  'sentence': 'Ex-transport staff never get pension on time 18th September 2010 02:46 AM CHENNAI: It is a long wait for K Karsan every month.',\n",
       "  'label': 0,\n",
       "  'last': False},\n",
       " {'id': '9510002',\n",
       "  'sentence': \"His pension is his family's sole income for survival.\",\n",
       "  'label': 0,\n",
       "  'last': False},\n",
       " {'id': '9510003',\n",
       "  'sentence': 'But the transport corporations do not mind it.',\n",
       "  'label': 0,\n",
       "  'last': False},\n",
       " {'id': '9510004',\n",
       "  'sentence': 'They disburse the money as per their convenience.',\n",
       "  'label': 0,\n",
       "  'last': False},\n",
       " {'id': '9510005',\n",
       "  'sentence': '\"We never get the pension on time,\" says Karsan (62), who retired in 2005 as Selection Grade Assistant after serving the Metropolitan Transport Corporation (MTC) for more than 30 years.',\n",
       "  'label': 0,\n",
       "  'last': False},\n",
       " {'id': '9510006',\n",
       "  'sentence': 'Also the general secretary of Retired Employee Welfare Association, he says there is a government order directing the disbursal of pension on the last working day of every month.',\n",
       "  'label': 0,\n",
       "  'last': False},\n",
       " {'id': '9510007',\n",
       "  'sentence': 'It is not only the pension that we have to fight for, even disbursal of post retirement benefits like gratuity, encashment of leave and Provident Fund are also delayed.',\n",
       "  'label': 0,\n",
       "  'last': False},\n",
       " {'id': '9510008',\n",
       "  'sentence': '\"Like me, several retired employees have not received their gratuity for months together,\" said S Krishanana, who retired in 2005 as Checking Inspector.',\n",
       "  'label': 0,\n",
       "  'last': False},\n",
       " {'id': '9510009',\n",
       "  'sentence': 'Retired employees are also agitated over the delay in the payment of the commuted value of pension.',\n",
       "  'label': 0,\n",
       "  'last': False},\n",
       " {'id': '95100010',\n",
       "  'sentence': 'Sources agreed that there was a backlog in this regard as the State Transport Undertakings were cashstrapped.',\n",
       "  'label': 0,\n",
       "  'last': False},\n",
       " {'id': '95100011',\n",
       "  'sentence': '\"Several pensioners, especially those who retired from the State Express Transport Corporation, are yet to get their commuted pension,\" says S Gajendran, general secretary of the MTC wing of All India Trade Union Congress.',\n",
       "  'label': 0,\n",
       "  'last': False},\n",
       " {'id': '95100012',\n",
       "  'sentence': 'Gajendran retired in 2006 from MTC as Selection Grade Senior Assistant after putting in a service of 37 years.',\n",
       "  'label': 0,\n",
       "  'last': False},\n",
       " {'id': '95100013',\n",
       "  'sentence': 'He says he received his commuted pension 15 months after retirement.',\n",
       "  'label': 0,\n",
       "  'last': False},\n",
       " {'id': '95100014',\n",
       "  'sentence': '\"Every retired person is supposed to get that in the first month of retirement,\" he notes.',\n",
       "  'label': 0,\n",
       "  'last': False},\n",
       " {'id': '95100015',\n",
       "  'sentence': 'His case is better as some of his former colleagues got the amount only after 36 months.',\n",
       "  'label': 0,\n",
       "  'last': False},\n",
       " {'id': '95100016',\n",
       "  'sentence': 'Trade unions have already insisted in a pension regulatory meeting that the government to take over the entire fund.',\n",
       "  'label': 0,\n",
       "  'last': False},\n",
       " {'id': '95100017',\n",
       "  'sentence': '\"We don\\'t want this trust and pension scheme.',\n",
       "  'label': 0,\n",
       "  'last': False},\n",
       " {'id': '95100018',\n",
       "  'sentence': 'We want the government to take the whole pension responsibility,\" says J Lakshmanan, general secretary of All India Trade Union Congress.',\n",
       "  'label': 0,\n",
       "  'last': False},\n",
       " {'id': '95100019',\n",
       "  'sentence': '\"If the government fails to meet the deficit, all the retired employees will be on the road.',\n",
       "  'label': 2,\n",
       "  'last': False},\n",
       " {'id': '95100020',\n",
       "  'sentence': 'We have been fighting for our pension for many years, but the government is not at all bothered,\" he adds.',\n",
       "  'label': 0,\n",
       "  'last': True},\n",
       " {'id': '9520001',\n",
       "  'sentence': 'Karzai admits rift with US, NATO over civilian casualties 05th February 2009 09:44 AM KABUL: In a clear sign of discord between Afghan government and its main backer, President Hamid Karzai said Wednesday that he has come under pressure from Washington for his criticism over civilian casualties caused by the US and NATO military troops.',\n",
       "  'label': 0,\n",
       "  'last': False},\n",
       " {'id': '9520002',\n",
       "  'sentence': \"'For a long time now we and the Americans have discord in our opinions regarding the civilian casualties, search of Afghan homes and the arrest of Afghans and, therefore, there are tensions in our relations,' Karzai told a joint press conference with visiting UN Secretary-General Ban Ki-moon.\",\n",
       "  'label': 0,\n",
       "  'last': False},\n",
       " {'id': '9520003',\n",
       "  'sentence': \"'Our demand is very clear: we want an end to search of Afghan homes, entering to Afghan homes and their arrests,' Karzai said.\",\n",
       "  'label': 0,\n",
       "  'last': False},\n",
       " {'id': '9520004',\n",
       "  'sentence': \"'But it is natural that they in return put pressure on us so that we keep quiet and retract our claims, which is not possible.\",\n",
       "  'label': 0,\n",
       "  'last': False},\n",
       " {'id': '9520005',\n",
       "  'sentence': \"' Thousands of Afghan civilians have been killed in the fight between the Taliban insurgents and Afghan and international forces since the ouster of Taliban regime in late 2001.\",\n",
       "  'label': 0,\n",
       "  'last': False},\n",
       " {'id': '9520006',\n",
       "  'sentence': 'More than 2,100 civilians were killed as a result of armed conflict in 2008, an increase of about 40 percent from 2007, according to the latest UN estimates.',\n",
       "  'label': 0,\n",
       "  'last': False},\n",
       " {'id': '9520007',\n",
       "  'sentence': \"Karzai's comments came amid increasing criticisms by disillusioned Western officials.\",\n",
       "  'label': 0,\n",
       "  'last': False},\n",
       " {'id': '9520008',\n",
       "  'sentence': 'Several US military and civilian officials have faulted Karzai for being unable to tackle the endemic corruption in his administration and the narcotics trade.',\n",
       "  'label': 0,\n",
       "  'last': False},\n",
       " {'id': '9520009',\n",
       "  'sentence': \"US Secretary of State Hillary Clinton described Afghanistan last month as a 'narcotics state' and its government highly 'corrupt'.\",\n",
       "  'label': 0,\n",
       "  'last': False},\n",
       " {'id': '95200010',\n",
       "  'sentence': \"Other senior US and other Western officials have also expressed their frustrations with Karzai and have repeatedly called him 'weak'.\",\n",
       "  'label': 0,\n",
       "  'last': False},\n",
       " {'id': '95200011',\n",
       "  'sentence': \"In an opinion piece published by The Washington Post last month, NATO Secretary General Jaap de Hoop Scheffer wrote, 'Afghans need a government that deserves their loyalty and trust'.\",\n",
       "  'label': 0,\n",
       "  'last': False},\n",
       " {'id': '95200012',\n",
       "  'sentence': 'But Karzai, who is facing re-election later this year, dismissed the criticism Wednesday as distractions by the US and NATO officials to counter his demands for ending the civilian deaths.',\n",
       "  'label': 0,\n",
       "  'last': False},\n",
       " {'id': '95200013',\n",
       "  'sentence': \"The president said he had been urging the alliance 'in a humble way to stop their oppression on our people' since 2006, 'but unfortunately in return they attacked us through their media'.\",\n",
       "  'label': 0,\n",
       "  'last': False},\n",
       " {'id': '95200014',\n",
       "  'sentence': \"'I hope instead of getting angry at us and putting pressure on us, they should sit down with us so that we could work together to reduce the civilian casualties,' he said.\",\n",
       "  'label': 0,\n",
       "  'last': False},\n",
       " {'id': '95200015',\n",
       "  'sentence': \"'Afghanistan and its people will not stop their demands.\",\n",
       "  'label': 0,\n",
       "  'last': False},\n",
       " {'id': '95200016',\n",
       "  'sentence': 'We want the civilian casualties, search of homes, and arrest of our people to be stopped.',\n",
       "  'label': 0,\n",
       "  'last': False},\n",
       " {'id': '95200017',\n",
       "  'sentence': \"' UN chief Ban also expressed his concern over civilian deaths, saying, 'I fully share the concerns and frustration President Karzai has endured because of many tragic incidents, where civilian people were killed in the course of military operations in fighting against terrorism.\",\n",
       "  'label': 0,\n",
       "  'last': False},\n",
       " {'id': '95200018',\n",
       "  'sentence': \"' Karzai's recent verbal attacks on NATO could strain relations between his government and his Western allies.\",\n",
       "  'label': 0,\n",
       "  'last': False},\n",
       " {'id': '95200019',\n",
       "  'sentence': 'A tough fight is expected in Afghanistan this spring as the US is planning to send up to 30,000 extra troops to join the already 70,000 international forces deployed to the country from 41 nations.',\n",
       "  'label': 0,\n",
       "  'last': False},\n",
       " {'id': '95200020',\n",
       "  'sentence': \"'There is one condition in every partnership, which is it has two sides, so we are one side of this partnership, therefore our points of view should also be taken into consideration,' Karzai added.\",\n",
       "  'label': 0,\n",
       "  'last': True},\n",
       " {'id': '9530001',\n",
       "  'sentence': 'Audiologist Held for Abuse of Diff-abled 06th September 2014 06:18 AM TIRUCHY: An audiologist working in the District Differently-abled Welfare office was arrested by the All Women Police after he was charged for sexually abusing three differently-abled school students who had approached him for getting certificates and hearing aid.',\n",
       "  'label': 0,\n",
       "  'last': False},\n",
       " {'id': '9530002',\n",
       "  'sentence': 'According to police, three girls from Lalgudi, Kuntur Burma Colony and Kuzhumani in Tiruchy district have been studying at a school for the deaf and dumb in Nagappattinam district and had approached the district differently- abled welfare office to renew their identity cards on September 3.',\n",
       "  'label': 0,\n",
       "  'last': False},\n",
       " {'id': '9530003',\n",
       "  'sentence': 'It is mandatory for every differently-abled candidate to have a National Identity Card and a Pass Book with Disability Certificate.',\n",
       "  'label': 0,\n",
       "  'last': False},\n",
       " {'id': '9530004',\n",
       "  'sentence': 'They should also update the identity cards so that they can take the plus two public exam.',\n",
       "  'label': 0,\n",
       "  'last': False},\n",
       " {'id': '9530005',\n",
       "  'sentence': 'Since the quarterly exams are approaching, the students were asked to get their id cards renewed.',\n",
       "  'label': 0,\n",
       "  'last': False},\n",
       " {'id': '9530006',\n",
       "  'sentence': 'Hence, the three girls visited the office where P Sellam (36), an audiologist, called the girls for the audition test.',\n",
       "  'label': 0,\n",
       "  'last': False},\n",
       " {'id': '9530007',\n",
       "  'sentence': 'After signing across their passport sized photos, he also provided them the hearing aids.',\n",
       "  'label': 0,\n",
       "  'last': False},\n",
       " {'id': '9530008',\n",
       "  'sentence': 'After reaching their respective houses, parents of the girls noticed something amiss.',\n",
       "  'label': 0,\n",
       "  'last': False},\n",
       " {'id': '9530009',\n",
       "  'sentence': 'After repeated queries, the girl hailing from Lalgudy revealed that the girls were molested by Sellem during the audition test.',\n",
       "  'label': 0,\n",
       "  'last': False},\n",
       " {'id': '95300010',\n",
       "  'sentence': 'When one of the victims spilled the beans, the families of the two others came to know that their daughters also faced the same fate.',\n",
       "  'label': 0,\n",
       "  'last': False},\n",
       " {'id': '95300011',\n",
       "  'sentence': 'The parents of three girls rushed to the All Women Police Station in Cantonment and lodged a complaint with the help of the functionaries of Tamil Nadu Association for the Rights of All Types of Differently Abled and Caregiver.',\n",
       "  'label': 0,\n",
       "  'last': False},\n",
       " {'id': '95300012',\n",
       "  'sentence': 'On the basis of the complaint lodged by a mother of a girl, the police arrested Sellam.',\n",
       "  'label': 0,\n",
       "  'last': True},\n",
       " {'id': '9540001',\n",
       "  'sentence': \"Osama killing: No takers to head Pakistan panel 31st May 2011 12:00 AM ISLAMABAD: Islamabad has run into difficulty finding someone of repute to head the commission that would probe Osama bin Laden's killing as no one was willing to take up its offer, a media report said on Tuesday.\",\n",
       "  'label': 0,\n",
       "  'last': False},\n",
       " {'id': '9540002',\n",
       "  'sentence': \"Osama was gunned down May 2 by US commandos who stormed the Al Qaeda leader's high-walled hideout in Abbottabad city, barely 120 km from Pakistan's capital of Islamabad.\",\n",
       "  'label': 0,\n",
       "  'last': False},\n",
       " {'id': '9540003',\n",
       "  'sentence': \"A joint session of parliament May 13 recommended setting up of the panel to look into Osama's killing.\",\n",
       "  'label': 0,\n",
       "  'last': False},\n",
       " {'id': '9540004',\n",
       "  'sentence': 'Information Minister Firdous Ashiq said the government was looking for an individual who is nationally and internationally accepted, reported the daily Dawn.',\n",
       "  'label': 0,\n",
       "  'last': False},\n",
       " {'id': '9540005',\n",
       "  'sentence': 'Sources said that the government was looking for some non-controversial name but so far has failed in it search.',\n",
       "  'label': 0,\n",
       "  'last': False},\n",
       " {'id': '9540006',\n",
       "  'sentence': 'The Pakistan Muslim League-Nawaz has sought a session of the National Assembly to discuss what it calls a \"deliberate delay by the government in announcing formation of the commission\".',\n",
       "  'label': 0,\n",
       "  'last': False},\n",
       " {'id': '9540007',\n",
       "  'sentence': 'A top government official told the Dawn that nobody was willing to take up a responsibility that would attract media glare.',\n",
       "  'label': 0,\n",
       "  'last': False},\n",
       " {'id': '9540008',\n",
       "  'sentence': 'The task was also difficult since the terms of references for the job would include fixing responsibility at the top military level, the official said.',\n",
       "  'label': 0,\n",
       "  'last': True},\n",
       " {'id': '9550001',\n",
       "  'sentence': \"Srinagar Flooded, Internet Connectivity Snaps 08th September 2014 05:20 PM SRINAGAR: Flood waters Monday inundated most of Srinagar's residential and commercial areas as people scrambled to save whatever they could from the muddy, swirling waters.\",\n",
       "  'label': 0,\n",
       "  'last': False},\n",
       " {'id': '9550002',\n",
       "  'sentence': 'Mobile coverage was patchy across the summer capital of Jammu and Kashmir while there was no internet connectivity.',\n",
       "  'label': 0,\n",
       "  'last': False},\n",
       " {'id': '9550003',\n",
       "  'sentence': 'An estimated 70 percent of Srinagar was inundated for a second day Monday.',\n",
       "  'label': 0,\n",
       "  'last': False},\n",
       " {'id': '9550004',\n",
       "  'sentence': 'Water entered shops in the main business hub of Lal Chowk and Residency.',\n",
       "  'label': 0,\n",
       "  'last': False},\n",
       " {'id': '9550005',\n",
       "  'sentence': 'Desperate shopkeepers tried to retrieve their goods from the flooded shops.',\n",
       "  'label': 0,\n",
       "  'last': False},\n",
       " {'id': '9550006',\n",
       "  'sentence': 'The death toll in the worst floods in Jammu and Kashmir in over 50 years is said to have crossed 150.',\n",
       "  'label': 0,\n",
       "  'last': False},\n",
       " {'id': '9550007',\n",
       "  'sentence': 'However, information is patchy from remote areas now made inaccessible by the flood waters.',\n",
       "  'label': 0,\n",
       "  'last': False},\n",
       " {'id': '9550008',\n",
       "  'sentence': 'The radio and television stations were shut Sunday after flood waters entered the installations.',\n",
       "  'label': 0,\n",
       "  'last': False},\n",
       " {'id': '9550009',\n",
       "  'sentence': 'The authorities appeared ill equipped to battle the terrible calamity but did all they could in the circumstances.',\n",
       "  'label': 0,\n",
       "  'last': False},\n",
       " {'id': '95500010',\n",
       "  'sentence': 'Mobiles went on the blink as private telecom service providers said their towers were badly damaged.',\n",
       "  'label': 0,\n",
       "  'last': False},\n",
       " {'id': '95500011',\n",
       "  'sentence': 'Waters entered the Bharat Sanchar Nigam Ltd (BSNL) headquarters on Maulana Azad Road, forcing its closure.',\n",
       "  'label': 0,\n",
       "  'last': False},\n",
       " {'id': '95500012',\n",
       "  'sentence': 'There was no internet connectivity in the Kashmir Valley.',\n",
       "  'label': 0,\n",
       "  'last': False},\n",
       " {'id': '95500013',\n",
       "  'sentence': 'The only communication tool still up and running is the police wireless system.',\n",
       "  'label': 0,\n",
       "  'last': False},\n",
       " {'id': '95500014',\n",
       "  'sentence': \"Except for inter-district connectivity between Srinagar and north Kashmir's Ganderbal district, all other districts of the valley including Anantnag, Pulwama, Kulgam, Shopian, Badgam, Baramulla and Bandipora were cut off.\",\n",
       "  'label': 0,\n",
       "  'last': False},\n",
       " {'id': '95500015',\n",
       "  'sentence': 'The air force Monday airlifted 70 boats as seven teams of the National Disaster Response Force struggled to save the flood victims.',\n",
       "  'label': 0,\n",
       "  'last': False}]"
      ]
     },
     "execution_count": 53,
     "metadata": {},
     "output_type": "execute_result"
    }
   ],
   "source": [
    "v_data[7053:7160]"
   ]
  },
  {
   "cell_type": "code",
   "execution_count": 52,
   "metadata": {},
   "outputs": [
    {
     "name": "stdout",
     "output_type": "stream",
     "text": [
      "7053 {'id': '9480001', 'sentence': 'HC Warns Against Using Temple Issue for Political Mileage 26th February 2014 03:10 PM The Madras High Court today warned that it will take a serious view if the issue concerning a local temple was used for deriving political mileage.', 'label': 0, 'last': False}\n"
     ]
    }
   ],
   "source": [
    "text = 'HC Warns'\n",
    "for i,v in enumerate(v_data):\n",
    "    if text in v['sentence']:\n",
    "        print(i, v)"
   ]
  },
  {
   "cell_type": "code",
   "execution_count": null,
   "metadata": {},
   "outputs": [],
   "source": [
    "5982 valis data ilk\n",
    "{'id': '8570001', \n",
    " 'sentence': 'Crowd tries to attack US consulate in Pakistan 11th January \n",
    " 2009 11:56 PM Thousands of supporters of Pakistanis participate in a rally to condemn\n",
    " Israeli military attacks in Karachi.', 'label': 1, 'last': False}\n",
    " \n",
    " \n",
    "6654valid data last\n",
    "{'id': '91600011',\n",
    " 'sentence': 'The war of words also came on a day when BJP questioned the \"silence\" of \n",
    " Congress President Sonia Gandhi and Rahul Gandhi on the issue of Robert Vadra\\'s land deals \n",
    " and said it is only adding to the suspicion that the \"family\" has something to avoid answering.',\n",
    " 'label': 0,\n",
    " 'last': True}\n",
    " \n",
    " \n",
    " test data ilk 6665\n",
    " \n",
    " test data son 7795"
   ]
  },
  {
   "cell_type": "markdown",
   "metadata": {},
   "source": [
    "c2 = 0\n",
    "for i, stest in enumerate(shared_test_data):\n",
    "    if stest['last']:\n",
    "        for j, test in enumerate(test_data):\n",
    "            if i>1131 or j>1131:\n",
    "                    pass\n",
    "            else:\n",
    "                if test['last']:\n",
    "                    if test_data[j]['sentence'][:20] in shared_test_data[i]['sentence']:\n",
    "                        print(test_data[j]['sentence'])\n",
    "                        print('\\n')\n",
    "                        c2 = c2 +1\n",
    "                        pass"
   ]
  },
  {
   "cell_type": "code",
   "execution_count": 41,
   "metadata": {},
   "outputs": [],
   "source": [
    "input_data_dir = '/home/aorus/workspaces/simge/sharedTask/output/Sentence/'\n",
    "train_path = os.path.join(input_data_dir, 'train_filled.json')\n",
    "dev_path = os.path.join(input_data_dir, 'dev_filled.json')\n",
    "test_path = os.path.join(input_data_dir, 'test_filled.json')\n",
    "\n",
    "shared_test_data = []\n",
    "with json_lines.open(test_path) as reader:\n",
    "    for obj in reader:\n",
    "        shared_test_data.append(obj)\n"
   ]
  },
  {
   "cell_type": "code",
   "execution_count": 42,
   "metadata": {},
   "outputs": [],
   "source": [
    "text = 'Taliban claims'\n",
    "for i,v in enumerate(shared_test_data):\n",
    "    if text in v['sentence']:\n",
    "        print(i, v)"
   ]
  },
  {
   "cell_type": "code",
   "execution_count": null,
   "metadata": {},
   "outputs": [],
   "source": [
    "\n",
    "# shared_X_test = []\n",
    "# for te_data in shared_test_data:\n",
    "#     shared_X_test.append(te_data['sentence'].replace('\\n', '').strip())\n"
   ]
  },
  {
   "cell_type": "code",
   "execution_count": null,
   "metadata": {},
   "outputs": [],
   "source": []
  },
  {
   "cell_type": "code",
   "execution_count": null,
   "metadata": {},
   "outputs": [],
   "source": []
  }
 ],
 "metadata": {
  "kernelspec": {
   "display_name": "Python 3",
   "language": "python",
   "name": "python3"
  },
  "language_info": {
   "codemirror_mode": {
    "name": "ipython",
    "version": 3
   },
   "file_extension": ".py",
   "mimetype": "text/x-python",
   "name": "python",
   "nbconvert_exporter": "python",
   "pygments_lexer": "ipython3",
   "version": "3.6.8"
  }
 },
 "nbformat": 4,
 "nbformat_minor": 2
}
