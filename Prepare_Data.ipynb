{
 "cells": [
  {
   "cell_type": "code",
   "execution_count": 2,
   "metadata": {},
   "outputs": [],
   "source": [
    "import numpy as np\n",
    "import pandas as pd\n",
    "\n",
    "from sklearn.feature_selection import SelectPercentile, chi2\n",
    "from sklearn.pipeline import Pipeline\n",
    "from sklearn.feature_extraction.text import TfidfVectorizer\n",
    "\n",
    "from sklearn.model_selection import GridSearchCV, cross_val_predict\n",
    "from sklearn.metrics import classification_report\n",
    "\n",
    "from sklearn.model_selection import train_test_split\n",
    "\n",
    "import os\n",
    "import pickle"
   ]
  },
  {
   "cell_type": "code",
   "execution_count": 3,
   "metadata": {},
   "outputs": [],
   "source": [
    "import re\n",
    "import spacy"
   ]
  },
  {
   "cell_type": "markdown",
   "metadata": {},
   "source": [
    "### Stopwords"
   ]
  },
  {
   "cell_type": "code",
   "execution_count": 16,
   "metadata": {},
   "outputs": [],
   "source": [
    "ordinals = ['1st', '2nd', '3rd', '4th']\n",
    "for i in range(5,31):\n",
    "    ordinals.append(str(i) + 'th')\n",
    "    ordinals.append('0' + str(i) + 'th') \n",
    "    "
   ]
  },
  {
   "cell_type": "code",
   "execution_count": 17,
   "metadata": {},
   "outputs": [],
   "source": [
    "number_stopwords = [str(i) for i in range(10001)] + ['0'+str(i) for i in range(100)] + ['000'] + ordinals"
   ]
  },
  {
   "cell_type": "code",
   "execution_count": 4,
   "metadata": {},
   "outputs": [],
   "source": [
    "df = pd.read_excel('Data/20181001-newindianexpress_sentence_classification_adjudicated_20181218.xlsx')"
   ]
  },
  {
   "cell_type": "code",
   "execution_count": 5,
   "metadata": {},
   "outputs": [],
   "source": [
    "df = df[np.logical_not(np.isnan(np.array(df['label'])))]"
   ]
  },
  {
   "cell_type": "code",
   "execution_count": 6,
   "metadata": {},
   "outputs": [
    {
     "data": {
      "text/plain": [
       "8337"
      ]
     },
     "execution_count": 6,
     "metadata": {},
     "output_type": "execute_result"
    }
   ],
   "source": [
    "len(df)"
   ]
  },
  {
   "cell_type": "code",
   "execution_count": 7,
   "metadata": {},
   "outputs": [],
   "source": [
    "for i, row in df.iterrows():\n",
    "    row['sentence'] = re.sub(\"http\\S*\\s\", \"\", row['sentence'])\n",
    "    row['sentence'] = re.sub(\"((url)*\\s*:\\s*)*http\\S*\", \"\", row['sentence'])\n",
    "    \n",
    "    if row['sentence'] == \"\":\n",
    "        df=df.drop([i])\n",
    "        "
   ]
  },
  {
   "cell_type": "code",
   "execution_count": 8,
   "metadata": {},
   "outputs": [],
   "source": [
    "df1_sents= df['sentence']\n",
    "df1_y= df['label']"
   ]
  },
  {
   "cell_type": "code",
   "execution_count": 9,
   "metadata": {},
   "outputs": [
    {
     "data": {
      "text/plain": [
       "7796"
      ]
     },
     "execution_count": 9,
     "metadata": {},
     "output_type": "execute_result"
    }
   ],
   "source": [
    "len(df1_sents)"
   ]
  },
  {
   "cell_type": "markdown",
   "metadata": {},
   "source": [
    "import pickle\n",
    "\n",
    "data_path = 'Data/first_data.pickle'\n",
    "\n"
   ]
  },
  {
   "cell_type": "markdown",
   "metadata": {},
   "source": [
    "prepared_first = {}\n",
    "\n",
    "prepared_first['X'] = np.array(df1_sents)\n",
    "prepared_first['y'] = np.array(df1_y)\n",
    "prepared_first['stopwords'] = np.array(number_stopwords)\n",
    "\n",
    "with open(data_path, 'wb') as file_:\n",
    "    pickle.dump(prepared_first, file_, protocol=pickle.HIGHEST_PROTOCOL)"
   ]
  },
  {
   "cell_type": "code",
   "execution_count": 20,
   "metadata": {},
   "outputs": [
    {
     "data": {
      "text/plain": [
       "(6236, 1560)"
      ]
     },
     "execution_count": 20,
     "metadata": {},
     "output_type": "execute_result"
    }
   ],
   "source": [
    "## Partition the data\n",
    "\n",
    "X_, X_test, y_, y_test = train_test_split(np.array(df1_sents), np.array(df1_y), test_size=0.20, random_state=42, stratify=np.array(df1_y))\n",
    "\n",
    "len(X_), len(X_test)\n",
    "\n",
    " "
   ]
  },
  {
   "cell_type": "code",
   "execution_count": 21,
   "metadata": {},
   "outputs": [],
   "source": [
    "X_tra, X_val, y_tra, y_val = train_test_split(X_, y_, test_size=0.20, random_state=42, stratify=y_)\n",
    "\n",
    "type(X_tra), len(X_val)\n",
    "\n",
    "data_path = 'Data/first_data_prepared.pickle'\n",
    "\n"
   ]
  },
  {
   "cell_type": "code",
   "execution_count": 22,
   "metadata": {},
   "outputs": [],
   "source": [
    "Data_ = {}\n",
    "\n",
    "Data_['X_tra'] = X_tra\n",
    "Data_['y_tra'] = y_tra\n",
    "Data_['X_val'] = X_val\n",
    "Data_['y_val'] = y_val\n",
    "Data_['X_test'] = X_test\n",
    "Data_['y_test'] = y_test\n",
    "Data_['stopwords'] = np.array(number_stopwords)\n",
    "\n",
    "with open(data_path, 'wb') as file_:\n",
    "    pickle.dump(Data_, file_, protocol=pickle.HIGHEST_PROTOCOL)"
   ]
  },
  {
   "cell_type": "code",
   "execution_count": null,
   "metadata": {},
   "outputs": [],
   "source": []
  },
  {
   "cell_type": "markdown",
   "metadata": {},
   "source": [
    "## Second Haf of the data"
   ]
  },
  {
   "cell_type": "code",
   "execution_count": 10,
   "metadata": {},
   "outputs": [],
   "source": [
    "df2 = pd.read_excel('Data/20181126_NewIndianExpress_3Classifier0_Baglan-Ezgi-Balacan-Eylem-Merged_AgreedByAll.xlsx')\n",
    "df2 = df2[np.logical_not(np.isnan(np.array(df2['label'])))]\n",
    "df2 = df2[(np.array(df2['label'] == 0))]"
   ]
  },
  {
   "cell_type": "code",
   "execution_count": 11,
   "metadata": {},
   "outputs": [],
   "source": [
    "nlp = spacy.load('en_core_web_lg')"
   ]
  },
  {
   "cell_type": "code",
   "execution_count": 12,
   "metadata": {},
   "outputs": [],
   "source": [
    "df2_sents = []\n",
    "df2_labels = []\n",
    "for i, row in df2.iterrows():\n",
    "    row['text'] = row['text'].replace('\\n', ' ')\n",
    "    row['text'] = row['text'].replace('&amp;', 'and')\n",
    "    row['text'] = row['text'].replace('\\xa0', ' ')\n",
    "    row['text'] = row['text'].replace('-', '')\n",
    "    row['text'] = row['text'].replace(\"\\'\", \"\")\n",
    "    row['text'] = row['text'].replace('\\\"', '')\n",
    "    row['text'] = row['text'].replace('\\“', '')\n",
    "    row['text'] = re.sub(\"((url)*\\s*:\\s*)*http\\S*\", \"\", row['text'])\n",
    "    row['text'] = row['text'].replace('  ', ' ')\n",
    "    doc = nlp(row['text'])\n",
    "    for sent in doc.sents:\n",
    "        df2_sents.append(sent.text) \n",
    "        df2_labels.append(0)\n"
   ]
  },
  {
   "cell_type": "code",
   "execution_count": 13,
   "metadata": {},
   "outputs": [
    {
     "data": {
      "text/plain": [
       "8743"
      ]
     },
     "execution_count": 13,
     "metadata": {},
     "output_type": "execute_result"
    }
   ],
   "source": [
    "len(df2_sents)"
   ]
  },
  {
   "cell_type": "code",
   "execution_count": 14,
   "metadata": {},
   "outputs": [
    {
     "data": {
      "text/plain": [
       "['Britains little prince gets a name 25th July 2013 08:51 AM',\n",
       " 'The little prince was in need of a name, and now, by George, hes got one.',\n",
       " 'The announcement Wednesday that Prince William and his wife, Kate, had selected a moniker steeped in British history came as royal officials said the new parents were seeking quiet family time away from the flashbulbs and frenzy that accompanied the birth of their first child.',\n",
       " 'While the news put to rest intense speculation over what name the couple would choose, the extreme interest around it illustrated how the 2dayold future heir is already on his way to a lifetime of fanfare and public glare.',\n",
       " 'Kensington Palace said William and Kate were delighted to announce their sons name, adding that the baby will be known as His Royal Highness Prince George of Cambridge.',\n",
       " 'The name George — borne by six kings — befits the boy now third in line to the British throne and was a favorite among British bookmakers, evoking the steadfastness of the queens father, George VI, who rallied the nation during World War II.',\n",
       " 'Alexander is a name shared by three medieval Scottish kings, and Louis could be a tribute to Lord Louis Mountbatten, uncle to the queens husband, Prince Philip, and the last British viceroy of India before it gained independence in 1947.',\n",
       " 'Williams father, Prince Charles, was close to Mountbatten, who was assassinated by the Irish Republican Army in 1979.',\n",
       " 'The announcement of the name, just two days after the babys birth, was quick by royal standards.',\n",
       " 'Queen Elizabeth II and Philip took a month before settling on the name Charles for the Prince of Wales.',\n",
       " 'Charles and Princess Diana took a week before settling on Williams four names.',\n",
       " 'While a king usually rules under his given name, precedent shows that the prince is not hidebound by George.',\n",
       " 'The first name of George VI was actually Albert, but he picked his fourth name to use as sovereign in honor of his father, George V.',\n",
       " 'For now, palace officials say, William and Kate are spending private and quiet time for them to get to know their son.',\n",
       " 'Some of their discussions may revolve around how to shield him from the media.',\n",
       " 'The young princes relationship with the media appeared to get off to a good start — an encouraging sign for a royal family that has had tense moments with the press.',\n",
       " 'The baby slept through his first photo op Tuesday outside Londons St. Marys Hospital, while his parents beamed as they chatted easily with reporters.',\n",
       " 'I thought, Is this an Oscarwinning performance? said Ingrid Seward, editorinchief of Majesty magazine.',\n",
       " 'But I think they were so genuinely overjoyed that they wanted to show off the baby.',\n",
       " 'After leaving the hospital, the couple introduced their son to his uncle, Prince Harry, and to greatgrandmother Queen Elizabeth II, who was keen to see the baby before she starts her annual summer vacation in Scotland later this week.',\n",
       " 'Then they headed to see Kates parents in their village near London — pretty much like any regular family.',\n",
       " 'There has been so much royal drama in the last few decades that its easy to forget William had, by royal standards, a relatively normal childhood.',\n",
       " 'His parents troubled marriage may have ended in divorce, but Charles and Diana were devoted parents who tried to spend as much time as possible with their children, albeit with an assist from nannies.',\n",
       " 'While the queen was sometimes away on official tours for months at a time when her children were young, Charles and Diana took William along on a tour to Australia when he was just 9 months old.',\n",
       " 'The queen was educated at home, in keeping with royal tradition.',\n",
       " 'But she sent her own children to boarding schools, and Charles and Diana did the same with William and Harry — choosing Eton, one of the most prestigious boys schools in the country.',\n",
       " 'Williams childhood was normal by uppermiddleclass standards — private schools, expensive holidays, McDonalds in a smart part of town as opposed to a grotty part of town, said royal historian Robert Lacey.',\n",
       " 'I think, really, one is going to see more of the same.',\n",
       " 'Lacey said Kates middleclass background will also help ensure her son gets a broader world view than some of his royal predecessors.',\n",
       " 'The babys maternal grandparents, Carole and Michael Middleton, are selfmade millionaires who run a partyplanning business from the village of Bucklebury, west of London.',\n",
       " 'From Buckingham Palace to Bucklebury — these are the two elements that will be in this childs upbringing, Lacey said.',\n",
       " 'Lacey noted that on Kates side the baby prince had a grandfather who started off dispatching aircraft from Heathrow Airport and a grandmother who started out as a flight attendant and grew up on a council estate, who came from coalmining stock in Durham in northern England.',\n",
       " 'That is all funneling through, he said.',\n",
       " 'Williams childhood normality was possible because the palace struck a deal with the media: privacy in exchange for a number of agreedupon photo opportunities at birthdays and during school holidays.',\n",
       " 'Seward said Kate and William will try to arrange a similar deal for their son.',\n",
       " 'When they have got time to think, they will have to do some kind of deal with the press, she said.',\n",
       " 'In return for some really beautiful photographs, they will be left alone.',\n",
       " 'British media adhered to the agreement while William and Harry were children.',\n",
       " 'But once they reached adulthood, all bets were off.',\n",
       " 'Photos soon appeared of Prince Harry on drunken nights out, or wearing a Nazi outfit to a costume party.',\n",
       " 'Tabloid reporters were also secretly hacking the mobile phone voice mails of royal aides to get scoops.',\n",
       " 'The revelation of the scale of that illegal eavesdropping — on celebrities, politicians and crime victims, as well as the royals — horrified the British public and chastened the rambunctious press, although that may be a temporary state of affairs.',\n",
       " 'Palace officials still have some sway over newspaper editors.',\n",
       " 'When they complained about photos of William and Kate walking on a beach near their home in Wales, British newspapers did not run them.',\n",
       " 'The foreign media is much harder to control, as the palace learned when an Italian magazine ran topless pictures of Kate taken during a holiday in France.',\n",
       " 'Still, Lacey points out, the media scrutiny can cut both ways.',\n",
       " 'This baby will be the first future monarch to grow up in the era of Twitter, Facebook and other social media, giving him an incredible insight into how the country and population he is supposed to represent live and breathe, Lacey said.',\n",
       " 'In the Middle Ages, we have legends of idealistic princes who would dress in ordinary clothes and go out into the streets of town after dark to see how their subjects lived.',\n",
       " 'The electronic media, for all their hazards, do offer this new dimension to an heir.',\n",
       " 'While Kate and William get to know little George away from the media frenzy that surrounded his birth, there is one royal appearance on the horizon:',\n",
       " 'The new parents are expected to soon choose a photographer for the babys first official portrait.',\n",
       " 'Our batting not good enough for the WC:',\n",
       " 'Ponting 20th March 2011',\n",
       " '11:01 AM Ricky Ponting of Australia leads his team from the field after their loss to Pakistan in the 2011 ICC World Cup Group A match.',\n",
       " '(Getty Images) COLOMBO:',\n",
       " 'Australian captain Ricky Ponting slammed the listless batting display by his side in their fourwicket loss to Pakistan here, saying that a similar performance in the quarterfinals could end their hopes for defending the title.',\n",
       " 'Australia were bowled out for 176 and Pakistan went on to win with nine overs to spare in their last Group A match.',\n",
       " 'The loss ended Australias 34game unbeaten streak in the World Cup since May 1999.',\n",
       " 'We have to learn quickly.',\n",
       " 'We have done all the talking about this World Cup game, but we found ourselves in some tough situations and we werent good enough to get out of it.',\n",
       " 'We have to learn from that and learn quickly, Ponting said at the postmatch press conference.',\n",
       " 'The way we batted was nowhere near good enough to win a World Cup game.',\n",
       " 'We have some thinking to do about the way we batted.',\n",
       " 'The efforts of that kind is not good enough to win World Cup matches, he said.',\n",
       " 'Australia finished third in Group A',\n",
       " 'and they will play the second place side in Group B, which will be the winner of the match between India and West Indies in Chennai.',\n",
       " 'If we play the same way against India (if they beat West Indies) in Ahmedabad, you can guarantee that the same situation is going to pop up again, Ponting said.',\n",
       " 'Despite defending 176 runs, Australia stretched Pakistan by taking six wickets and Ponting praised his bowlers for that.',\n",
       " 'I thought we fought our way back into the game with the ball and on the field.',\n",
       " 'We gave ourselves a good chance to win when we had them six down, just not good enough.',\n",
       " 'We needed to make 240.',\n",
       " 'Australia did not utilise the legspin of Steven Smith although Pakistan depended heavily on spin with the trio of Abdur Rehman, Shahid Afridi and Mohammad Hafeez sharing bulk of the bowling.',\n",
       " 'Ponting, however, defended his decision to stick to the seam bowlers.',\n",
       " 'I thought our fast bowlers were the most dangerous on that wicket.',\n",
       " 'I thought that wicket was up and down for the quicks.',\n",
       " 'I also thought Shaun Tait would make a breakthrough for us in those middle overs.',\n",
       " 'Brett Lee and Mitchell Johnson were dangerous.',\n",
       " 'Shane Watson bowled his quota of ten overs.',\n",
       " 'We could not bowl everyone tonight as the game could not go down to 50 overs.',\n",
       " 'I used the guys whom I thought were the most dangerous bowlers on that wicket, Ponting explained.',\n",
       " 'Pakistan coach Waqar Younis, meanwhile, expresses happiness with the effort of his team.',\n",
       " 'Its definitely an achievement.',\n",
       " 'Its not the easiest of pitches.',\n",
       " 'Its a used pitch and the ball was turning',\n",
       " 'and it was up and down.',\n",
       " '176 was definitely gettable, but the way we got it was not all that good probably, said Waqar.',\n",
       " 'Ashad Shafiq is becoming mature every day.',\n",
       " 'Hes very steady and picks up runs.',\n",
       " 'At number three he has done a superb job for us.',\n",
       " 'Suicide bid: Man jumps into lions enclosure 06th October 2012',\n",
       " '11:51 AM',\n",
       " 'A middle aged man made a bizarre attempt to end his life by jumping into a lion’s enclosure at Nandankanan Zoological Park here on Friday afternoon after he allegedly had a fight with his wife.',\n",
       " 'He survived, although with multiple injuries after a lioness pounced on him.',\n",
       " 'Surya Narayan Dash, a native of Khalliokote, scaled the walls of enclosure no.',\n",
       " '29 (B) of the Zoo taking the park management and visitors by surprise.',\n",
       " 'He apparently had a fight with his wife which prompted him to take the extreme step, police said.',\n",
       " 'He was reportedly in a state of intoxication.',\n",
       " 'Once he landed, a lioness jumped at him and grabbed him by the hand and then by the neck.',\n",
       " 'The big cat dragged Dash to a distance of about 60 ft even as its male partner watched from a distance which, on hindsight, proved lucky for the man on suicide mission.',\n",
       " 'While the incident led to commotion, the Nandankanan staff created noise to draw the attention of the lioness so that it does not kill the visitor and succeeded in doing that.']"
      ]
     },
     "execution_count": 14,
     "metadata": {},
     "output_type": "execute_result"
    }
   ],
   "source": [
    "df2_sents[:100]"
   ]
  },
  {
   "cell_type": "code",
   "execution_count": 17,
   "metadata": {},
   "outputs": [],
   "source": [
    "sents = df1_sents.tolist() + df2_sents\n",
    "y = df1_y.tolist() + df2_labels"
   ]
  },
  {
   "cell_type": "code",
   "execution_count": 18,
   "metadata": {},
   "outputs": [
    {
     "data": {
      "text/plain": [
       "16539"
      ]
     },
     "execution_count": 18,
     "metadata": {},
     "output_type": "execute_result"
    }
   ],
   "source": [
    "len(sents)"
   ]
  },
  {
   "cell_type": "code",
   "execution_count": 19,
   "metadata": {},
   "outputs": [],
   "source": [
    "import pickle"
   ]
  },
  {
   "cell_type": "code",
   "execution_count": 20,
   "metadata": {},
   "outputs": [],
   "source": [
    "data_path = 'Data/all_data2.pickle'"
   ]
  },
  {
   "cell_type": "code",
   "execution_count": 21,
   "metadata": {},
   "outputs": [],
   "source": [
    "Data_ = {}"
   ]
  },
  {
   "cell_type": "code",
   "execution_count": 22,
   "metadata": {},
   "outputs": [],
   "source": [
    "Data_['X'] = np.array(sents)\n",
    "Data_['y'] = np.array(y)\n",
    "Data_['stopwords'] = np.array(number_stopwords)"
   ]
  },
  {
   "cell_type": "code",
   "execution_count": 23,
   "metadata": {},
   "outputs": [],
   "source": [
    "with open(data_path, 'wb') as file_:\n",
    "    pickle.dump(Data_, file_, protocol=pickle.HIGHEST_PROTOCOL)"
   ]
  },
  {
   "cell_type": "code",
   "execution_count": null,
   "metadata": {},
   "outputs": [],
   "source": []
  },
  {
   "cell_type": "markdown",
   "metadata": {},
   "source": [
    "## Read pickle"
   ]
  },
  {
   "cell_type": "code",
   "execution_count": 24,
   "metadata": {},
   "outputs": [],
   "source": [
    "data_path = 'Data/all_data2.pickle'"
   ]
  },
  {
   "cell_type": "code",
   "execution_count": 25,
   "metadata": {},
   "outputs": [],
   "source": [
    "with open(data_path, 'rb') as file_:\n",
    "    data_ = pickle.load(file_)"
   ]
  },
  {
   "cell_type": "code",
   "execution_count": 26,
   "metadata": {},
   "outputs": [],
   "source": [
    "X = data_['X']\n",
    "y = data_['y']\n",
    "stopwords = data_['stopwords']"
   ]
  },
  {
   "cell_type": "code",
   "execution_count": 27,
   "metadata": {},
   "outputs": [
    {
     "data": {
      "text/plain": [
       "numpy.ndarray"
      ]
     },
     "execution_count": 27,
     "metadata": {},
     "output_type": "execute_result"
    }
   ],
   "source": [
    "type(y)"
   ]
  },
  {
   "cell_type": "code",
   "execution_count": null,
   "metadata": {},
   "outputs": [],
   "source": []
  },
  {
   "cell_type": "markdown",
   "metadata": {},
   "source": [
    "## Partition the data"
   ]
  },
  {
   "cell_type": "code",
   "execution_count": 28,
   "metadata": {},
   "outputs": [],
   "source": [
    " X_, X_test, y_, y_test = train_test_split(X, y, test_size=0.20, random_state=42, stratify=y)"
   ]
  },
  {
   "cell_type": "code",
   "execution_count": 29,
   "metadata": {},
   "outputs": [
    {
     "data": {
      "text/plain": [
       "(13231, 3308)"
      ]
     },
     "execution_count": 29,
     "metadata": {},
     "output_type": "execute_result"
    }
   ],
   "source": [
    "len(X_), len(X_test)"
   ]
  },
  {
   "cell_type": "code",
   "execution_count": 30,
   "metadata": {},
   "outputs": [],
   "source": [
    " X_tra, X_val, y_tra, y_val = train_test_split(X_, y_, test_size=0.20, random_state=42, stratify=y_)"
   ]
  },
  {
   "cell_type": "code",
   "execution_count": 31,
   "metadata": {},
   "outputs": [
    {
     "data": {
      "text/plain": [
       "(numpy.ndarray, 2647)"
      ]
     },
     "execution_count": 31,
     "metadata": {},
     "output_type": "execute_result"
    }
   ],
   "source": [
    "type(X_tra), len(X_val)"
   ]
  },
  {
   "cell_type": "code",
   "execution_count": 32,
   "metadata": {},
   "outputs": [],
   "source": [
    "data_path = 'Data/prepared_data.pickle'"
   ]
  },
  {
   "cell_type": "code",
   "execution_count": 33,
   "metadata": {},
   "outputs": [],
   "source": [
    "Data_ = {}"
   ]
  },
  {
   "cell_type": "code",
   "execution_count": 34,
   "metadata": {},
   "outputs": [],
   "source": [
    "Data_['X_tra'] = X_tra\n",
    "Data_['y_tra'] = y_tra\n",
    "Data_['X_val'] = X_val\n",
    "Data_['y_val'] = y_val\n",
    "Data_['X_test'] = X_test\n",
    "Data_['y_test'] = y_test\n",
    "Data_['stopwords'] = np.array(number_stopwords)"
   ]
  },
  {
   "cell_type": "code",
   "execution_count": 35,
   "metadata": {},
   "outputs": [],
   "source": [
    "with open(data_path, 'wb') as file_:\n",
    "    pickle.dump(Data_, file_, protocol=pickle.HIGHEST_PROTOCOL)"
   ]
  },
  {
   "cell_type": "code",
   "execution_count": null,
   "metadata": {},
   "outputs": [],
   "source": []
  }
 ],
 "metadata": {
  "kernelspec": {
   "display_name": "Python 3",
   "language": "python",
   "name": "python3"
  },
  "language_info": {
   "codemirror_mode": {
    "name": "ipython",
    "version": 3
   },
   "file_extension": ".py",
   "mimetype": "text/x-python",
   "name": "python",
   "nbconvert_exporter": "python",
   "pygments_lexer": "ipython3",
   "version": "3.6.8"
  }
 },
 "nbformat": 4,
 "nbformat_minor": 2
}
