{
 "cells": [
  {
   "cell_type": "code",
   "execution_count": 1,
   "metadata": {},
   "outputs": [],
   "source": [
    "import os\n",
    "import csv\n",
    "import json_lines\n",
    "from collections import Counter"
   ]
  },
  {
   "cell_type": "code",
   "execution_count": 2,
   "metadata": {},
   "outputs": [],
   "source": [
    "import re\n",
    "import spacy\n",
    "import random\n",
    "import json_lines\n",
    "import json"
   ]
  },
  {
   "cell_type": "code",
   "execution_count": 3,
   "metadata": {},
   "outputs": [],
   "source": [
    "import pandas as pd\n",
    "import matplotlib.pyplot as plt\n",
    "plt.style.use(\"ggplot\")"
   ]
  },
  {
   "cell_type": "code",
   "execution_count": 4,
   "metadata": {},
   "outputs": [],
   "source": [
    "input_data_dir = '/home/aorus/workspaces/simge/corpus/Sentence/Newindianexpress/'\n",
    "all_data_path = os.path.join(input_data_dir,\n",
    "                             '20181001-newindianexpress_sentence_classification_adjudicated_20181218.json')"
   ]
  },
  {
   "cell_type": "code",
   "execution_count": 5,
   "metadata": {},
   "outputs": [
    {
     "name": "stdout",
     "output_type": "stream",
     "text": [
      "Number of total sentences: 8337\n"
     ]
    }
   ],
   "source": [
    "all_data = []\n",
    "with json_lines.open(all_data_path) as reader:\n",
    "    for obj in reader:\n",
    "        all_data.append(obj)\n",
    "        \n",
    "print('Number of total sentences:', len(all_data))"
   ]
  },
  {
   "cell_type": "code",
   "execution_count": 6,
   "metadata": {},
   "outputs": [
    {
     "name": "stdout",
     "output_type": "stream",
     "text": [
      "Number of articles: 587\n"
     ]
    }
   ],
   "source": [
    "index_dict = {}\n",
    "for row in all_data:\n",
    "    \n",
    "    doc_num, sent_num = row['sent_num'].split('-')\n",
    "    \n",
    "    sent_text = re.sub(\"http\\S*\\s\", \"\", row['sentence'])\n",
    "    sent_text = re.sub(\"((url)*\\s*:\\s*)*http\\S*\", \"\", sent_text)\n",
    "    \n",
    "    if not sent_text == \"\":\n",
    "        \n",
    "        sent = {'url': row['url'],\n",
    "                'sent_num': row['sent_num'],\n",
    "                'sentence': sent_text,\n",
    "                'label': int(row['label'])}\n",
    "\n",
    "        if doc_num not in index_dict:\n",
    "            index_dict[doc_num] = {}\n",
    "\n",
    "        index_dict[doc_num][sent_num] = sent\n",
    "\n",
    "print('Number of articles:', len(index_dict.keys()))"
   ]
  },
  {
   "cell_type": "code",
   "execution_count": 7,
   "metadata": {},
   "outputs": [
    {
     "name": "stdout",
     "output_type": "stream",
     "text": [
      "Number of articles: 587\n"
     ]
    }
   ],
   "source": [
    "articles = []\n",
    "\n",
    "for k, v in index_dict.items():\n",
    "    \n",
    "    article = {'id': 'a.' + k,\n",
    "               'url' : v['1']['url'],\n",
    "               'sentences': []}\n",
    "    \n",
    "    for _, sent in v.items():\n",
    "        \n",
    "        sent = {'sent_num': sent['sent_num'],\n",
    "                'sentence': sent['sentence'],\n",
    "                'label': sent['label']}\n",
    "        \n",
    "        article['sentences'].append(sent) \n",
    "    \n",
    "    articles.append(article)\n",
    "\n",
    "print('Number of articles:', len(articles))"
   ]
  },
  {
   "cell_type": "code",
   "execution_count": 8,
   "metadata": {},
   "outputs": [],
   "source": [
    "for article in articles:\n",
    "    article['label_set'] = list({sent['label'] for sent in article['sentences']})"
   ]
  },
  {
   "cell_type": "code",
   "execution_count": 11,
   "metadata": {
    "scrolled": true
   },
   "outputs": [
    {
     "name": "stdout",
     "output_type": "stream",
     "text": [
      "Articles with only {0,2}: 43\n"
     ]
    }
   ],
   "source": [
    "i = 0\n",
    "for article in articles:\n",
    "    if 2 in article['label_set'] and 1 not in article['label_set']:\n",
    "        i += 1\n",
    "print('Articles with only {0,2}:', i)"
   ]
  },
  {
   "cell_type": "code",
   "execution_count": 13,
   "metadata": {
    "scrolled": false
   },
   "outputs": [
    {
     "name": "stdout",
     "output_type": "stream",
     "text": [
      "Articles with at least 1 in label set: 315\n"
     ]
    }
   ],
   "source": [
    "i = 0\n",
    "for article in articles:\n",
    "    if 1 not in article['label_set']:\n",
    "        i += 1\n",
    "print('Articles with at least 1 in label set:', len(articles) - i)"
   ]
  },
  {
   "cell_type": "code",
   "execution_count": 300,
   "metadata": {},
   "outputs": [
    {
     "name": "stdout",
     "output_type": "stream",
     "text": [
      "Number of articles: 315\n"
     ]
    }
   ],
   "source": [
    "# Remove articles that does not contain any label '1'\n",
    "articles = [article for article in articles if 1 in article['label_set']]\n",
    "print('Number of articles:', len(articles))"
   ]
  },
  {
   "cell_type": "code",
   "execution_count": 307,
   "metadata": {},
   "outputs": [],
   "source": [
    "random.shuffle(articles)"
   ]
  },
  {
   "cell_type": "code",
   "execution_count": 308,
   "metadata": {},
   "outputs": [],
   "source": [
    "# Split rates\n",
    "test = 64\n",
    "valid = 32\n",
    "train = len(articles) - 64 - 32"
   ]
  },
  {
   "cell_type": "code",
   "execution_count": 309,
   "metadata": {},
   "outputs": [
    {
     "name": "stdout",
     "output_type": "stream",
     "text": [
      "Number of articles; \n",
      "Train\t: 219 \n",
      "Valid\t: 32 \n",
      "Test\t: 64\n"
     ]
    }
   ],
   "source": [
    "thesis_train_data = articles[:train]\n",
    "thesis_valid_data = articles[train:train+valid]\n",
    "thesis_test_data = articles[train+valid:]\n",
    "\n",
    "print('Number of articles;',\n",
    "      '\\nTrain\\t:', len(thesis_train_data),\n",
    "      '\\nValid\\t:', len(thesis_valid_data),\n",
    "      '\\nTest\\t:',len(thesis_test_data))"
   ]
  },
  {
   "cell_type": "code",
   "execution_count": 310,
   "metadata": {},
   "outputs": [
    {
     "name": "stdout",
     "output_type": "stream",
     "text": [
      "Number of sentences; \n",
      "Train\t: 4802 \n",
      "Valid\t: 1467 \n",
      "Test\t: 1527\n"
     ]
    }
   ],
   "source": [
    "thesis_train_label_list = [sent['label'] for art in thesis_train_data for sent in art['sentences']]\n",
    "thesis_valid_label_list = [sent['label'] for art in thesis_valid_data for sent in art['sentences']]\n",
    "thesis_test_label_list = [sent['label'] for art in thesis_test_data for sent in art['sentences']]\n",
    "\n",
    "print('Number of sentences;',\n",
    "      '\\nTrain\\t:', len(thesis_train_sent_list),\n",
    "      '\\nValid\\t:', len(thesis_valid_sent_list),\n",
    "      '\\nTest\\t:',len(thesis_test_sent_list))"
   ]
  },
  {
   "cell_type": "code",
   "execution_count": 311,
   "metadata": {},
   "outputs": [],
   "source": [
    "tr_c = Counter(thesis_train_label_list)\n",
    "va_c = Counter(thesis_valid_label_list)\n",
    "te_c = Counter(thesis_test_label_list)"
   ]
  },
  {
   "cell_type": "code",
   "execution_count": 312,
   "metadata": {},
   "outputs": [
    {
     "name": "stdout",
     "output_type": "stream",
     "text": [
      "Sentence label distributions\n",
      "\n",
      "-- Label:  0 -- \n",
      "Train\t: 2094 \n",
      "Valid\t: 362 \n",
      "Test\t: 604\n",
      "\n",
      "-- Label:  1 -- \n",
      "Train\t: 955 \n",
      "Valid\t: 138 \n",
      "Test\t: 206\n",
      "\n",
      "-- Label:  2 -- \n",
      "Train\t: 45 \n",
      "Valid\t: 6 \n",
      "Test\t: 12\n"
     ]
    }
   ],
   "source": [
    "print('Sentence label distributions')\n",
    "\n",
    "for v in [0, 1, 2]:\n",
    "    \n",
    "    print('\\n-- Label: ', v, '--',    \n",
    "          '\\nTrain\\t:', tr_c[v],\n",
    "          '\\nValid\\t:', va_c[v],\n",
    "          '\\nTest\\t:', te_c[v])"
   ]
  },
  {
   "cell_type": "code",
   "execution_count": 313,
   "metadata": {},
   "outputs": [],
   "source": [
    "with open('Data/thesis_train_data.jsonl', 'w') as outfile:\n",
    "    for article in thesis_train_data:\n",
    "        json.dump(article, outfile)\n",
    "        outfile.write('\\n')\n",
    "        \n",
    "with open('Data/thesis_valid_data.jsonl', 'w') as outfile:\n",
    "    for article in thesis_valid_data:\n",
    "        json.dump(article, outfile)\n",
    "        outfile.write('\\n')\n",
    "        \n",
    "with open('Data/thesis_test_data.jsonl', 'w') as outfile:\n",
    "    for article in thesis_test_data:\n",
    "        json.dump(article, outfile)\n",
    "        outfile.write('\\n')"
   ]
  },
  {
   "cell_type": "code",
   "execution_count": null,
   "metadata": {},
   "outputs": [],
   "source": []
  }
 ],
 "metadata": {
  "kernelspec": {
   "display_name": "Python 3",
   "language": "python",
   "name": "python3"
  },
  "language_info": {
   "codemirror_mode": {
    "name": "ipython",
    "version": 3
   },
   "file_extension": ".py",
   "mimetype": "text/x-python",
   "name": "python",
   "nbconvert_exporter": "python",
   "pygments_lexer": "ipython3",
   "version": "3.6.8"
  }
 },
 "nbformat": 4,
 "nbformat_minor": 2
}
