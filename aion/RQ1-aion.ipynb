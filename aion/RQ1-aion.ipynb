{
 "cells": [
  {
   "cell_type": "markdown",
   "metadata": {},
   "source": [
    "#### This notebook is based on this link:https://github.com/makcedward/nlp/blob/master/sample/nlp-embeddings-sentence-elmo.ipynb"
   ]
  },
  {
   "cell_type": "code",
   "execution_count": 1,
   "metadata": {},
   "outputs": [],
   "source": [
    "%load_ext autoreload\n",
    "%autoreload 2"
   ]
  },
  {
   "cell_type": "code",
   "execution_count": 2,
   "metadata": {},
   "outputs": [],
   "source": [
    "import os\n",
    "import numpy as np"
   ]
  },
  {
   "cell_type": "code",
   "execution_count": 3,
   "metadata": {},
   "outputs": [],
   "source": [
    "import tensorflow as tf\n",
    "import tensorflow_hub as hub\n",
    "\n",
    "import numpy as np\n",
    "from sklearn.datasets import fetch_20newsgroups\n",
    "from sklearn.model_selection import train_test_split"
   ]
  },
  {
   "cell_type": "code",
   "execution_count": 14,
   "metadata": {},
   "outputs": [],
   "source": [
    "from keras import backend as K\n",
    "from keras.models import Model, Input, load_model\n",
    "from keras.layers import Input, Dense, Embedding, BatchNormalization, \\\n",
    "                Concatenate, LSTM, Lambda,  Activation, \\\n",
    "                Conv1D, MaxPooling1D, Flatten, Reshape, Dropout, CuDNNLSTM\n",
    "from keras.optimizers import RMSprop, Adam, Adamax, SGD\n",
    "from keras.callbacks import ReduceLROnPlateau, EarlyStopping\n",
    "from keras.regularizers import l2\n",
    "from keras.layers.merge import add\n",
    "from keras.utils import to_categorical"
   ]
  },
  {
   "cell_type": "code",
   "execution_count": 5,
   "metadata": {},
   "outputs": [],
   "source": [
    "from sklearn.metrics import classification_report\n",
    "from sklearn.metrics import f1_score as scikit_f1_score"
   ]
  },
  {
   "cell_type": "markdown",
   "metadata": {},
   "source": [
    "#### Custom Functions"
   ]
  },
  {
   "cell_type": "code",
   "execution_count": 6,
   "metadata": {},
   "outputs": [],
   "source": [
    "from src.callbacks import PlotCurves\n",
    "from src.eval_metrics import f1_macro, f1_micro \n",
    "from src.load_data import load_data"
   ]
  },
  {
   "cell_type": "markdown",
   "metadata": {},
   "source": [
    "### Load Data"
   ]
  },
  {
   "cell_type": "code",
   "execution_count": 7,
   "metadata": {},
   "outputs": [],
   "source": [
    "train_data, valid_data, test_data, metadata = load_data()"
   ]
  },
  {
   "cell_type": "markdown",
   "metadata": {},
   "source": [
    "### Prepare data"
   ]
  },
  {
   "cell_type": "code",
   "execution_count": 8,
   "metadata": {},
   "outputs": [],
   "source": [
    "n_tags = 2\n",
    "batch_size = 32"
   ]
  },
  {
   "cell_type": "code",
   "execution_count": 9,
   "metadata": {},
   "outputs": [],
   "source": [
    "def get_input(data_, n_tags, is_test=False):\n",
    "    \n",
    "    X = np.array([sentence['sentence'].replace('\\n', '').strip().lower() \n",
    "                  for article in data_ \n",
    "                  for sentence in article['sentences']])\n",
    "\n",
    "    y = np.array([sentence['label'] \n",
    "                  for article in data_\n",
    "                  for sentence in article['sentences']])\n",
    "\n",
    "    if not is_test:\n",
    "        y = to_categorical(y, num_classes=n_tags)\n",
    "    \n",
    "    return X, y"
   ]
  },
  {
   "cell_type": "code",
   "execution_count": 10,
   "metadata": {},
   "outputs": [],
   "source": [
    "X_tra, y_tra = get_input(train_data, n_tags, False)\n",
    "X_val, y_val = get_input(valid_data, n_tags, False)\n",
    "X_test, y_test = get_input(test_data, n_tags, True)"
   ]
  },
  {
   "cell_type": "code",
   "execution_count": 11,
   "metadata": {},
   "outputs": [
    {
     "data": {
      "text/plain": [
       "((3582,), (3582, 2))"
      ]
     },
     "execution_count": 11,
     "metadata": {},
     "output_type": "execute_result"
    }
   ],
   "source": [
    "X_tra.shape, y_tra.shape"
   ]
  },
  {
   "cell_type": "markdown",
   "metadata": {},
   "source": [
    "X_tra_val = np.concatenate((X_tra, X_val))\n",
    "\n",
    "vocab = set()\n",
    "for sentence in X_tra_val:\n",
    "    tokens = sentence.split(' ')\n",
    "    for token in tokens:\n",
    "        vocab.add(token)\n",
    "\n",
    "vocab_size = len(vocab)\n",
    "print('Vocab Size: %d' % (vocab_size))"
   ]
  },
  {
   "cell_type": "markdown",
   "metadata": {},
   "source": [
    "max_sentence_length = 100\n",
    "word2Idx = {'<padding>': 0, '<unknown>': 1}\n",
    "idx2word = {0: '<padding>', 1: '<unknown>'}\n",
    "\n",
    "def preprocess(text, word2Idx, idx2word, training=False):\n",
    "    if training:\n",
    "        for sentence in text:\n",
    "            tokens = sentence.split(' ')\n",
    "\n",
    "            for token in tokens:\n",
    "                if token not in word2Idx:\n",
    "                    word2Idx[token] = len(word2Idx)\n",
    "                    idx2word[len(word2Idx)-1] = token\n",
    "\n",
    "\n",
    "    word_vectors = np.zeros((len(text), max_sentence_length))\n",
    "    sentence_vectors = []\n",
    "    \n",
    "    for i, sentence in enumerate(text):\n",
    "        ids = []\n",
    "        words = []\n",
    "        tokens = sentence.split(' ')\n",
    "        for token in tokens:\n",
    "            if token in word2Idx:\n",
    "                ids.append(word2Idx[token])\n",
    "                words.append(token)\n",
    "            else:\n",
    "                ids.append(word2Idx['<unknown>'])\n",
    "                words.append('<unknown>')\n",
    "                \n",
    "            if len(ids) >= max_sentence_length:\n",
    "                break\n",
    "\n",
    "        for i in range(max_sentence_length - len(ids)):\n",
    "            ids.append(word2Idx['<padding>'])\n",
    "            words.append('<padding>')\n",
    "\n",
    "        word_vectors[i] = np.asarray(ids)\n",
    "        sentence_vectors.append(' '.join(words))\n",
    "\n",
    "    sentence_vectors = np.asarray(sentence_vectors)\n",
    "    \n",
    "    return word2Idx, idx2word, word_vectors, sentence_vectors\n",
    "\n"
   ]
  },
  {
   "cell_type": "markdown",
   "metadata": {},
   "source": [
    "word2Idx, idx2word, x_train_words, x_train_sentences = preprocess(\n",
    "    text=X_tra, word2Idx=word2Idx, idx2word=idx2word, training=True)\n",
    "print('x_train_words.shape:', x_train_words.shape)\n",
    "\n",
    "word2Idx, idx2word, x_val_words, x_val_sentences = preprocess(\n",
    "    text=X_val, word2Idx=word2Idx, idx2word=idx2word, training=False)\n",
    "print('x_train_words.shape:', x_val_words.shape)\n",
    "\n",
    "word2Idx, idx2word, x_test_words, x_test_sentences = preprocess(\n",
    "    text=X_test, word2Idx=word2Idx, idx2word=idx2word, training=False)\n",
    "print('x_test_words.shape:', x_test_words.shape)"
   ]
  },
  {
   "cell_type": "markdown",
   "metadata": {},
   "source": [
    "### Load ELMo"
   ]
  },
  {
   "cell_type": "code",
   "execution_count": 12,
   "metadata": {},
   "outputs": [],
   "source": [
    "sess = tf.Session()\n",
    "K.set_session(sess)\n",
    "\n",
    "elmo = hub.Module(\"https://tfhub.dev/google/elmo/2\", trainable=True)\n",
    "\n",
    "def ELMoEmbedding(x):\n",
    "    return elmo(tf.squeeze(tf.cast(x, tf.string)), signature=\"default\", as_dict=True)[\"elmo\"]"
   ]
  },
  {
   "cell_type": "markdown",
   "metadata": {},
   "source": [
    "def ELMoEmbedding(x):\n",
    "    return elmo(tf.squeeze(tf.cast(x, tf.string)), signature=\"default\", as_dict=True)[\"default\"]\n",
    "\n",
    "def build_model_19(n_tags):\n",
    "    elmo_input_layer = Input(shape=(1,), dtype=\"string\")\n",
    "    x = Lambda(ELMoEmbedding, output_shape=(1024,))(elmo_input_layer)\n",
    "    x = Dense(256, activation='relu')(x)\n",
    "    x = Dense(2, activation='sigmoid')(x)\n",
    "\n",
    "    return Model(inputs=elmo_input_layer, outputs=x)"
   ]
  },
  {
   "cell_type": "code",
   "execution_count": 13,
   "metadata": {},
   "outputs": [],
   "source": [
    "def build_model_20(n_tags):\n",
    "    \n",
    "    word_input_layer = Input(shape=(None, ), dtype='int32')\n",
    "    elmo_input_layer = Input(shape=(None, ), dtype=\"string\")\n",
    "\n",
    "    word_output_layer = Embedding(\n",
    "        input_dim=vocab_size, output_dim=256)(word_input_layer)\n",
    "\n",
    "    elmo_output_layer = Lambda(ELMoEmbedding, output_shape=(None, 1024))(elmo_input_layer)\n",
    "\n",
    "    output_layer = Concatenate()(\n",
    "        [word_output_layer, elmo_output_layer])\n",
    "\n",
    "    output_layer = BatchNormalization()(output_layer)\n",
    "\n",
    "    output_layer = LSTM(256, dropout=0.2, recurrent_dropout=0.2)(output_layer)\n",
    "    output_layer = Dense(2, activation='sigmoid')(output_layer)\n",
    "\n",
    "    return Model(inputs=[word_input_layer, elmo_input_layer], outputs=output_layer)"
   ]
  },
  {
   "cell_type": "code",
   "execution_count": 17,
   "metadata": {},
   "outputs": [],
   "source": [
    "def build_model_24(n_tags):\n",
    "    \n",
    "    elmo_input_layer = Input(shape=(None, ), dtype=\"string\")\n",
    "    x = Lambda(ELMoEmbedding, output_shape=(None, 1024))(elmo_input_layer)\n",
    "    x = LSTM(256)(x)\n",
    "    x = Dense(128, activation='relu')(x)\n",
    "    x = Dense(2, activation='sigmoid')(x)\n",
    "\n",
    "    return Model(inputs=elmo_input_layer, outputs=x)"
   ]
  },
  {
   "cell_type": "code",
   "execution_count": 19,
   "metadata": {},
   "outputs": [],
   "source": [
    "def build_model_26(n_tags):\n",
    "    \n",
    "    elmo_input_layer = Input(shape=(None, ), dtype=\"string\")\n",
    "    x = Lambda(ELMoEmbedding, output_shape=(None, 1024))(elmo_input_layer)\n",
    "    x = LSTM(512, dropout=0.2, recurrent_dropout=0.2)(x)\n",
    "    x = Dense(128, activation='relu')(x)\n",
    "    x = Dense(2, activation='sigmoid')(x)\n",
    "\n",
    "    return Model(inputs=elmo_input_layer, outputs=x)"
   ]
  },
  {
   "cell_type": "code",
   "execution_count": 20,
   "metadata": {},
   "outputs": [],
   "source": [
    "def build_model_27(n_tags):\n",
    "    \n",
    "    elmo_input_layer = Input(shape=(None, ), dtype=\"string\")\n",
    "    x = Lambda(ELMoEmbedding, output_shape=(None, 1024))(elmo_input_layer)\n",
    "    x = LSTM(512)(x)\n",
    "    x = Dense(128, activation='relu')(x)\n",
    "    x = Dense(2, activation='sigmoid')(x)\n",
    "\n",
    "    return Model(inputs=elmo_input_layer, outputs=x)"
   ]
  },
  {
   "cell_type": "code",
   "execution_count": 21,
   "metadata": {},
   "outputs": [],
   "source": [
    "def build_model_28(n_tags):\n",
    "    \n",
    "    elmo_input_layer = Input(shape=(None, ), dtype=\"string\")\n",
    "    x = Lambda(ELMoEmbedding, output_shape=(None, 1024))(elmo_input_layer)\n",
    "    x = BatchNormalization()(x)\n",
    "    x = LSTM(512, dropout=0.2, recurrent_dropout=0.2)(x)\n",
    "    x = Dense(256, activation='relu')(x)\n",
    "    x = Dense(2, activation='sigmoid')(x)\n",
    "\n",
    "    return Model(inputs=elmo_input_layer, outputs=x)"
   ]
  },
  {
   "cell_type": "code",
   "execution_count": null,
   "metadata": {},
   "outputs": [],
   "source": [
    "def build_model_38(n_tags):\n",
    "    \n",
    "    elmo_input_layer = Input(shape=(None, ), dtype=\"string\")\n",
    "    x = Lambda(ELMoEmbedding, output_shape=(None, 1024))(elmo_input_layer)\n",
    "    x = CuDNNLSTM(512, return_sequences=True)(x)\n",
    "    x = CuDNNLSTM(256)(x)\n",
    "    x = Dense(128, activation='relu')(x)\n",
    "    x = Dense(2, activation='sigmoid')(x)\n",
    "\n",
    "    return Model(inputs=elmo_input_layer, outputs=x)"
   ]
  },
  {
   "cell_type": "code",
   "execution_count": null,
   "metadata": {},
   "outputs": [],
   "source": [
    "def build_model_39(n_tags):\n",
    "    \n",
    "    elmo_input_layer = Input(shape=(None, ), dtype=\"string\")\n",
    "    x = Lambda(ELMoEmbedding, output_shape=(None, 1024))(elmo_input_layer)\n",
    "    x = CuDNNLSTM(256, return_sequences=True)(x)\n",
    "    x = CuDNNLSTM(128)(x)\n",
    "    x = Dense(64, activation='relu')(x)\n",
    "    x = Dense(2, activation='sigmoid')(x)\n",
    "\n",
    "    return Model(inputs=elmo_input_layer, outputs=x)"
   ]
  },
  {
   "cell_type": "code",
   "execution_count": 31,
   "metadata": {},
   "outputs": [],
   "source": [
    "learningrate=0.01\n",
    "optimizer = Adam(lr=learningrate)\n",
    "optimizer_str = 'adam'\n",
    "loss = 'binary_crossentropy'\n",
    "metrics = ['acc', f1_macro, f1_micro]\n"
   ]
  },
  {
   "cell_type": "code",
   "execution_count": 32,
   "metadata": {},
   "outputs": [
    {
     "name": "stderr",
     "output_type": "stream",
     "text": [
      "WARNING: Logging before flag parsing goes to stderr.\n",
      "W0915 22:07:48.266646 140141978374272 deprecation_wrapper.py:119] From /home/aorus/workspaces/simge/Master_Thesis/.env/lib/python3.6/site-packages/keras/backend/tensorflow_backend.py:74: The name tf.get_default_graph is deprecated. Please use tf.compat.v1.get_default_graph instead.\n",
      "\n",
      "W0915 22:07:48.267500 140141978374272 deprecation_wrapper.py:119] From /home/aorus/workspaces/simge/Master_Thesis/.env/lib/python3.6/site-packages/keras/backend/tensorflow_backend.py:517: The name tf.placeholder is deprecated. Please use tf.compat.v1.placeholder instead.\n",
      "\n",
      "W0915 22:07:48.531036 140141978374272 deprecation_wrapper.py:119] From /home/aorus/workspaces/simge/Master_Thesis/.env/lib/python3.6/site-packages/keras/backend/tensorflow_backend.py:4138: The name tf.random_uniform is deprecated. Please use tf.random.uniform instead.\n",
      "\n",
      "W0915 22:07:48.685752 140141978374272 deprecation_wrapper.py:119] From /home/aorus/workspaces/simge/Master_Thesis/.env/lib/python3.6/site-packages/keras/optimizers.py:790: The name tf.train.Optimizer is deprecated. Please use tf.compat.v1.train.Optimizer instead.\n",
      "\n",
      "W0915 22:07:48.689203 140141978374272 deprecation_wrapper.py:119] From /home/aorus/workspaces/simge/Master_Thesis/.env/lib/python3.6/site-packages/keras/backend/tensorflow_backend.py:3376: The name tf.log is deprecated. Please use tf.math.log instead.\n",
      "\n",
      "W0915 22:07:48.690918 140141978374272 deprecation_wrapper.py:119] From /home/aorus/workspaces/simge/Master_Thesis/.env/lib/python3.6/site-packages/keras/backend/tensorflow_backend.py:3378: The name tf.nn.sigmoid_cross_entropy_with_logits is deprecated. Please use tf.nn.sigmoid_cross_entropy_with_logits instead.\n",
      "\n"
     ]
    },
    {
     "name": "stdout",
     "output_type": "stream",
     "text": [
      "_________________________________________________________________\n",
      "Layer (type)                 Output Shape              Param #   \n",
      "=================================================================\n",
      "input_1 (InputLayer)         (None, None)              0         \n",
      "_________________________________________________________________\n",
      "lambda_1 (Lambda)            (None, None, 1024)        0         \n",
      "_________________________________________________________________\n",
      "lstm_1 (LSTM)                (None, 128)               590336    \n",
      "_________________________________________________________________\n",
      "dense_1 (Dense)              (None, 2)                 258       \n",
      "=================================================================\n",
      "Total params: 590,594\n",
      "Trainable params: 590,594\n",
      "Non-trainable params: 0\n",
      "_________________________________________________________________\n"
     ]
    }
   ],
   "source": [
    "model = build_model_36(n_tags)\n",
    "model.summary()\n",
    "\n",
    "model.compile(loss=loss, optimizer=optimizer, metrics=metrics)"
   ]
  },
  {
   "cell_type": "code",
   "execution_count": 33,
   "metadata": {},
   "outputs": [],
   "source": [
    "model_name = 'RQ1_aion_elmo_model_36' + \\\n",
    "             '_' + optimizer_str +  \\\n",
    "             '_lr_' + str(learningrate) +  \\\n",
    "             '_lrreduction' + \\\n",
    "             '_loss_' + loss\n",
    "\n",
    "model_main = './Model/' + model_name.split('model')[0] + 'model/'\n",
    "model_dir = os.path.join(model_main, model_name)\n",
    "score_file = os.path.join(model_main, 'model_performances.csv')\n",
    "results_file = os.path.join(model_dir, 'model_results_file.txt')"
   ]
  },
  {
   "cell_type": "code",
   "execution_count": 34,
   "metadata": {},
   "outputs": [
    {
     "data": {
      "image/png": "[encoded data removed]",
      "text/plain": [
       "<Figure size 720x360 with 1 Axes>"
      ]
     },
     "metadata": {
      "needs_background": "light"
     },
     "output_type": "display_data"
    },
    {
     "data": {
      "text/plain": [
       "<keras.callbacks.History at 0x7f743c450a20>"
      ]
     },
     "execution_count": 34,
     "metadata": {},
     "output_type": "execute_result"
    }
   ],
   "source": [
    "# [x_train_words, x_train_sentences]\n",
    "# [x_val_words, x_val_sentences]\n",
    "model.fit(X_tra, y_tra, \n",
    "          epochs=50, \n",
    "          batch_size=batch_size, \n",
    "          validation_data=(X_val, y_val), \n",
    "          callbacks=[\n",
    "              PlotCurves(model_name=model_name, model_dir=model_dir, jnote=True),\n",
    "              ReduceLROnPlateau(monitor='val_f1_macro', patience=3, \n",
    "                                factor=0.1, min_lr=0.00001),\n",
    "              EarlyStopping(monitor='val_f1_macro', min_delta=0, patience=10, mode='max')\n",
    "          ])"
   ]
  },
  {
   "cell_type": "markdown",
   "metadata": {},
   "source": [
    "#### Load Best Model"
   ]
  },
  {
   "cell_type": "code",
   "execution_count": 35,
   "metadata": {},
   "outputs": [
    {
     "data": {
      "text/plain": [
       "'RQ1_aion_elmo_model_36_adam_lr_0.01_lrreduction_loss_binary_crossentropy'"
      ]
     },
     "execution_count": 35,
     "metadata": {},
     "output_type": "execute_result"
    }
   ],
   "source": [
    "model_name"
   ]
  },
  {
   "cell_type": "code",
   "execution_count": 45,
   "metadata": {},
   "outputs": [],
   "source": [
    "best_model = load_model(os.path.join(model_dir, model_name + '_best_f1_macro_model.h5'), \n",
    "                        custom_objects={'elmo':elmo, 'tf':tf, 'f1_macro':f1_macro, 'f1_micro':f1_micro})"
   ]
  },
  {
   "cell_type": "markdown",
   "metadata": {},
   "source": [
    "### Evaluation"
   ]
  },
  {
   "cell_type": "code",
   "execution_count": 48,
   "metadata": {},
   "outputs": [],
   "source": [
    "#[x_val_words, x_val_sentences]\n",
    "y_preds = best_model.predict(X_val, batch_size=batch_size)\n",
    "y_preds = np.argmax(y_preds, axis=1)"
   ]
  },
  {
   "cell_type": "markdown",
   "metadata": {},
   "source": [
    "y_val = np.argmax(y_val, axis=1)"
   ]
  },
  {
   "cell_type": "code",
   "execution_count": 49,
   "metadata": {},
   "outputs": [
    {
     "name": "stdout",
     "output_type": "stream",
     "text": [
      "              precision    recall  f1-score   support\n",
      "\n",
      "           0       0.91      0.91      0.91       269\n",
      "           1       0.81      0.81      0.81       130\n",
      "\n",
      "   micro avg       0.87      0.87      0.87       399\n",
      "   macro avg       0.86      0.86      0.86       399\n",
      "weighted avg       0.87      0.87      0.87       399\n",
      "\n",
      "\n",
      "Scikit_F1_Macro: 0.857377752359165\n"
     ]
    }
   ],
   "source": [
    "clsrpt_val = classification_report(y_val, y_preds)\n",
    "sfm_val = scikit_f1_score(y_val, y_preds, average='macro')\n",
    "    \n",
    "print(clsrpt_val)\n",
    "print('\\nScikit_F1_Macro:', sfm_val)\n",
    "\n",
    "with open(results_file, 'w') as f:\n",
    "    f.write('\\n---------------- Validation ----------------\\n')\n",
    "\n",
    "with open(results_file, 'a') as f:\n",
    "    f.write('\\n' + clsrpt_val + '\\n' + str(sfm_val) + '\\n\\n')"
   ]
  },
  {
   "cell_type": "code",
   "execution_count": 50,
   "metadata": {},
   "outputs": [],
   "source": [
    "# X, y = get_input(data_, n_tags, True)\n",
    "# [x_test_words, x_test_sentences]\n",
    "y_preds = best_model.predict(X_test, batch_size=batch_size)\n",
    "y_preds = np.argmax(y_preds, axis=1)"
   ]
  },
  {
   "cell_type": "code",
   "execution_count": 51,
   "metadata": {},
   "outputs": [
    {
     "name": "stdout",
     "output_type": "stream",
     "text": [
      "              precision    recall  f1-score   support\n",
      "\n",
      "           0       0.84      0.94      0.89       325\n",
      "           1       0.74      0.49      0.59       116\n",
      "\n",
      "   micro avg       0.82      0.82      0.82       441\n",
      "   macro avg       0.79      0.71      0.74       441\n",
      "weighted avg       0.81      0.82      0.81       441\n",
      "\n",
      "\n",
      "Scikit_F1_Macro: 0.7380073245749266\n"
     ]
    }
   ],
   "source": [
    "clsrpt_test = classification_report(y_test, y_preds)\n",
    "sfm_test = scikit_f1_score(y_test, y_preds, average='macro')\n",
    "    \n",
    "print(clsrpt_test)\n",
    "print('\\nScikit_F1_Macro:', sfm_test)\n",
    "\n",
    "with open(results_file, 'a') as f:\n",
    "    f.write('\\n---------------- Test ----------------\\n')\n",
    "\n",
    "with open(results_file, 'a') as f:\n",
    "    f.write('\\n' + clsrpt_test + '\\n' + str(sfm_test) + '\\n\\n')"
   ]
  },
  {
   "cell_type": "code",
   "execution_count": 52,
   "metadata": {},
   "outputs": [],
   "source": [
    "if not os.path.exists(score_file):\n",
    "    with open(score_file, 'w') as scrf:\n",
    "        scrf.write(\"model_name,val_f1_macro,test_f1_macro\\n\")\n",
    "\n",
    "with open(score_file, 'a') as scrf:\n",
    "    scrf.write(\n",
    "        '\\n' + \\\n",
    "        model_name + ',' + \\\n",
    "        str(sfm_val) + ',' + \\\n",
    "        str(sfm_test) + '\\n'\n",
    "    )"
   ]
  },
  {
   "cell_type": "code",
   "execution_count": null,
   "metadata": {},
   "outputs": [],
   "source": []
  },
  {
   "cell_type": "code",
   "execution_count": null,
   "metadata": {},
   "outputs": [],
   "source": []
  }
 ],
 "metadata": {
  "kernelspec": {
   "display_name": "Python 3",
   "language": "python",
   "name": "python3"
  },
  "language_info": {
   "codemirror_mode": {
    "name": "ipython",
    "version": 3
   },
   "file_extension": ".py",
   "mimetype": "text/x-python",
   "name": "python",
   "nbconvert_exporter": "python",
   "pygments_lexer": "ipython3",
   "version": "3.6.8"
  }
 },
 "nbformat": 4,
 "nbformat_minor": 2
}
