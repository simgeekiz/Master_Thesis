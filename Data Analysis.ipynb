{
 "cells": [
  {
   "cell_type": "code",
   "execution_count": 1,
   "metadata": {},
   "outputs": [],
   "source": [
    "%load_ext autoreload\n",
    "%autoreload 2"
   ]
  },
  {
   "cell_type": "code",
   "execution_count": 2,
   "metadata": {},
   "outputs": [],
   "source": [
    "import numpy as np"
   ]
  },
  {
   "cell_type": "code",
   "execution_count": 3,
   "metadata": {},
   "outputs": [],
   "source": [
    "import matplotlib.pyplot as plt"
   ]
  },
  {
   "cell_type": "code",
   "execution_count": 4,
   "metadata": {},
   "outputs": [],
   "source": [
    "from sklearn.metrics import classification_report"
   ]
  },
  {
   "cell_type": "code",
   "execution_count": 5,
   "metadata": {},
   "outputs": [],
   "source": [
    "from src.load_data import load_data"
   ]
  },
  {
   "cell_type": "code",
   "execution_count": 6,
   "metadata": {},
   "outputs": [],
   "source": [
    "def plot_figures(sets, title=None):\n",
    "    plt.figure(figsize=(15, 3))\n",
    "    if title:\n",
    "        plt.suptitle(title, fontsize=16, y=1.08)\n",
    "    plt.subplot(131)\n",
    "    plt.hist(sets[0], bins=50)\n",
    "    plt.title('Train')\n",
    "    plt.subplot(132)\n",
    "    plt.hist(sets[1], bins=50)\n",
    "    plt.title('Valid')\n",
    "    plt.subplot(133)\n",
    "    plt.hist(sets[2], bins=50)\n",
    "    plt.title('Test')\n",
    "    plt.show()"
   ]
  },
  {
   "cell_type": "markdown",
   "metadata": {},
   "source": [
    "### Load Data\n"
   ]
  },
  {
   "cell_type": "code",
   "execution_count": 7,
   "metadata": {},
   "outputs": [],
   "source": [
    "train_data, valid_data, test_data, metadata = load_data()"
   ]
  },
  {
   "cell_type": "markdown",
   "metadata": {},
   "source": [
    "#### Lower-bound Performances"
   ]
  },
  {
   "cell_type": "code",
   "execution_count": 8,
   "metadata": {},
   "outputs": [],
   "source": [
    "y_true = [sentence['label'] for article in test_data\n",
    "          for sentence in article['sentences']]"
   ]
  },
  {
   "cell_type": "code",
   "execution_count": 9,
   "metadata": {},
   "outputs": [],
   "source": [
    "y_preds_0 = [0]*len(y_true) # if all preds are 0\n",
    "y_preds_1 = [1]*len(y_true) # if all preds are 1"
   ]
  },
  {
   "cell_type": "code",
   "execution_count": 11,
   "metadata": {},
   "outputs": [
    {
     "name": "stdout",
     "output_type": "stream",
     "text": [
      "When classifiers predict as all '0'\n",
      "\n",
      "              precision    recall  f1-score   support\n",
      "\n",
      "           0       0.74      1.00      0.85       325\n",
      "           1       0.00      0.00      0.00       116\n",
      "\n",
      "   micro avg       0.74      0.74      0.74       441\n",
      "   macro avg       0.37      0.50      0.42       441\n",
      "weighted avg       0.54      0.74      0.63       441\n",
      "\n"
     ]
    }
   ],
   "source": [
    "print(\"When classifiers predict as all '0'\\n\")\n",
    "print(classification_report(y_true, y_preds_0))"
   ]
  },
  {
   "cell_type": "code",
   "execution_count": 12,
   "metadata": {},
   "outputs": [
    {
     "name": "stdout",
     "output_type": "stream",
     "text": [
      "When classifiers predict as all '1'\n",
      "\n",
      "              precision    recall  f1-score   support\n",
      "\n",
      "           0       0.00      0.00      0.00       325\n",
      "           1       0.26      1.00      0.42       116\n",
      "\n",
      "   micro avg       0.26      0.26      0.26       441\n",
      "   macro avg       0.13      0.50      0.21       441\n",
      "weighted avg       0.07      0.26      0.11       441\n",
      "\n"
     ]
    }
   ],
   "source": [
    "print(\"When classifiers predict as all '1'\\n\")\n",
    "print(classification_report(y_true, y_preds_1))"
   ]
  },
  {
   "cell_type": "markdown",
   "metadata": {},
   "source": [
    "#### Number of Sentences"
   ]
  },
  {
   "cell_type": "code",
   "execution_count": null,
   "metadata": {},
   "outputs": [],
   "source": [
    "def get_num_sents(data_):\n",
    "    return [len(article['sentences']) for article in data_]"
   ]
  },
  {
   "cell_type": "code",
   "execution_count": 13,
   "metadata": {},
   "outputs": [
    {
     "name": "stdout",
     "output_type": "stream",
     "text": [
      "Max number of sentences in an article: 58\n"
     ]
    }
   ],
   "source": [
    "print('Max number of sentences in an article:',\n",
    "      max([len(article['sentences']) for article in (train_data + valid_data + test_data)]))"
   ]
  },
  {
   "cell_type": "code",
   "execution_count": 14,
   "metadata": {},
   "outputs": [
    {
     "data": {
      "image/png": "[encoded data removed]",
      "text/plain": [
       "<Figure size 1080x216 with 3 Axes>"
      ]
     },
     "metadata": {
      "needs_background": "light"
     },
     "output_type": "display_data"
    }
   ],
   "source": [
    "plot_figures([\n",
    "    get_num_sents(train_data),\n",
    "    get_num_sents(valid_data),\n",
    "    get_num_sents(test_data)\n",
    "], 'Number of Sentences per Article')"
   ]
  },
  {
   "cell_type": "markdown",
   "metadata": {},
   "source": [
    "#### Sentence Lengths based on Chars"
   ]
  },
  {
   "cell_type": "code",
   "execution_count": 44,
   "metadata": {},
   "outputs": [
    {
     "name": "stdout",
     "output_type": "stream",
     "text": [
      "Char-based length of the longest sentence: 639\n"
     ]
    }
   ],
   "source": [
    "print(\"Char-based length of the longest sentence:\", \n",
    "      max([len(sentence['sentence']) \n",
    "           for article in (train_data + valid_data + test_data)\n",
    "           for sentence in article['sentences']]))"
   ]
  },
  {
   "cell_type": "code",
   "execution_count": 16,
   "metadata": {},
   "outputs": [
    {
     "data": {
      "image/png": "[encoded data removed]",
      "text/plain": [
       "<Figure size 1080x216 with 3 Axes>"
      ]
     },
     "metadata": {
      "needs_background": "light"
     },
     "output_type": "display_data"
    }
   ],
   "source": [
    "plot_figures([\n",
    "    [len(sent['sentence']) for article in train_data for sent in article['sentences']],\n",
    "    [len(sent['sentence']) for article in valid_data for sent in article['sentences']],\n",
    "    [len(sent['sentence']) for article in test_data for sent in article['sentences']]\n",
    "], 'Number of Sentences based on Chars')"
   ]
  },
  {
   "cell_type": "markdown",
   "metadata": {},
   "source": [
    "#### Sentence Lengths based on Tokens"
   ]
  },
  {
   "cell_type": "code",
   "execution_count": 46,
   "metadata": {},
   "outputs": [
    {
     "name": "stdout",
     "output_type": "stream",
     "text": [
      "Token-based length of the longest sentence: 105\n"
     ]
    }
   ],
   "source": [
    "print(\"Token-based length of the longest sentence:\", \n",
    "      max([len(sentence['sentence'].split()) \n",
    "           for article in (train_data + valid_data + test_data)\n",
    "           for sentence in article['sentences']]))"
   ]
  },
  {
   "cell_type": "code",
   "execution_count": 15,
   "metadata": {},
   "outputs": [
    {
     "data": {
      "image/png": "[encoded data removed]",
      "text/plain": [
       "<Figure size 1080x216 with 3 Axes>"
      ]
     },
     "metadata": {
      "needs_background": "light"
     },
     "output_type": "display_data"
    }
   ],
   "source": [
    "plot_figures([\n",
    "    [len(sent['sentence'].split()) for article in train_data for sent in article['sentences']],\n",
    "    [len(sent['sentence'].split()) for article in valid_data for sent in article['sentences']],\n",
    "    [len(sent['sentence'].split()) for article in test_data for sent in article['sentences']]\n",
    "], 'Number of Sentences based on Tokens')"
   ]
  },
  {
   "cell_type": "markdown",
   "metadata": {},
   "source": [
    "# Result Analysis"
   ]
  },
  {
   "cell_type": "code",
   "execution_count": 2,
   "metadata": {},
   "outputs": [],
   "source": [
    "import pandas as pd"
   ]
  },
  {
   "cell_type": "markdown",
   "metadata": {},
   "source": [
    "#### Elmo"
   ]
  },
  {
   "cell_type": "code",
   "execution_count": 17,
   "metadata": {},
   "outputs": [],
   "source": [
    "runs = []\n",
    "with open('/home/aorus/workspaces/simge/Master_Thesis/Model/Optimized_RQ1_elmo_model/model_performances.csv', 'r') as f:\n",
    "    for line in f.readlines():\n",
    "        \n",
    "        if line != '\\n' and 'f1' not in line:\n",
    "            line = line.strip()\n",
    "            line_list = line.split('_')\n",
    "            scores = line_list[-1].split(',')\n",
    "                      \n",
    "            run = {\n",
    "                'research_question': line_list[1],\n",
    "                'transformer': line_list[2],\n",
    "                'model': line_list[4],\n",
    "                'optimizer': line_list[5],\n",
    "                'learning_rate': line_list[7],\n",
    "                'lrreduction': True if line_list[8] == 'lrreduction' else False,\n",
    "                'loss': 'binary_crossentropy',\n",
    "                'val_f1_macro': scores[1],\n",
    "                'test_f1_macro': scores[2],\n",
    "            }\n",
    "\n",
    "            runs.append(run)"
   ]
  },
  {
   "cell_type": "code",
   "execution_count": 42,
   "metadata": {},
   "outputs": [
    {
     "name": "stdout",
     "output_type": "stream",
     "text": [
      "0.738378460602373\n",
      "0.7454796502071142\n",
      "0.7806455178512214\n",
      "0.7454796502071142\n",
      "0.7952461799660442\n",
      "0.7483641483567378\n",
      "0.792939431262206\n",
      "0.7711145996860282\n",
      "0.7403532608695651\n",
      "0.7572886297376094\n",
      "0.7679721367964727\n",
      "0.7483641483567378\n",
      "0.7688410017472336\n",
      "0.7783219394496466\n",
      "0.7493957463574302\n",
      "0.6429444811632519\n",
      "0.7295971549451223\n",
      "0.6009400395343729\n",
      "0.6533245987553226\n",
      "0.7184158415841584\n",
      "0.42428198433420367\n",
      "0.7431172971978661\n",
      "0.7375363819431422\n",
      "0.7023076923076923\n",
      "0.7302665464846767\n",
      "0.7542815249266862\n",
      "0.7347578347578347\n",
      "0.7342880978865406\n",
      "0.7376093294460642\n",
      "0.7231682977079578\n",
      "0.7363572260714943\n",
      "0.7483641483567378\n",
      "0.7411012235817576\n",
      "0.7531071548538797\n",
      "0.7316702160024338\n",
      "0.738378460602373\n",
      "0.7336956521739131\n",
      "0.7531941031941032\n",
      "0.7488911532006712\n"
     ]
    }
   ],
   "source": [
    "runs2 = [r for r in runs\n",
    "#          if r['optimizer'] == 'rmsprop']\n",
    "          if r['learning_rate'] == '0.01']\n",
    "\n",
    "for run in runs2:\n",
    "    \n",
    "#      print('_'.join([run['model'], run['optimizer'], run['learning_rate']]))\n",
    "#      print(run['val_f1_macro'])\n",
    "     print(run['test_f1_macro'])"
   ]
  },
  {
   "cell_type": "markdown",
   "metadata": {},
   "source": [
    "#### Bert"
   ]
  },
  {
   "cell_type": "code",
   "execution_count": 10,
   "metadata": {},
   "outputs": [],
   "source": [
    "runs = []\n",
    "with open('/home/aorus/workspaces/simge/Master_Thesis/Model/Optimized_RQ1_bert_model/model_performances.csv', 'r') as f:\n",
    "    for line in f.readlines():\n",
    "        \n",
    "        if line != '\\n' and 'f1' not in line:\n",
    "            line = line.strip()\n",
    "            line_list = line.split('_')\n",
    "            scores = line_list[-1].split(',')\n",
    "            \n",
    "#             print(line_list)\n",
    "            \n",
    "            run = {\n",
    "                'research_question': line_list[1],\n",
    "                'transformer': line_list[2],\n",
    "                'model': line_list[4],\n",
    "                'n_fine_tuned_layers': line_list[6],\n",
    "                'optimizer': line_list[7],\n",
    "                'learning_rate': line_list[9],\n",
    "                'epoch': line_list[11],\n",
    "                'loss': 'binary_crossentropy',\n",
    "                'val_f1_macro': scores[1],\n",
    "                'test_f1_macro': scores[2],\n",
    "            }\n",
    "            \n",
    "            if run['learning_rate'] != '4e-05' and run['epoch'] not in ['3', '4', '5']:\n",
    "                runs.append(run)"
   ]
  },
  {
   "cell_type": "code",
   "execution_count": 8,
   "metadata": {},
   "outputs": [],
   "source": [
    "runs2 = [r for r in runs \n",
    "         if r['epoch'] == '1' \n",
    "#          and r['optimizer'] == 'adam' \n",
    "         and r['learning_rate'] != '0.001']\n",
    "\n",
    "for run in runs2:\n",
    "    \n",
    "#     print('_'.join([run['model'], run['optimizer'], run['learning_rate']]))\n",
    "    print(run['val_f1_macro'])"
   ]
  },
  {
   "cell_type": "code",
   "execution_count": null,
   "metadata": {},
   "outputs": [],
   "source": []
  }
 ],
 "metadata": {
  "kernelspec": {
   "display_name": "Python 3",
   "language": "python",
   "name": "python3"
  },
  "language_info": {
   "codemirror_mode": {
    "name": "ipython",
    "version": 3
   },
   "file_extension": ".py",
   "mimetype": "text/x-python",
   "name": "python",
   "nbconvert_exporter": "python",
   "pygments_lexer": "ipython3",
   "version": "3.6.8"
  }
 },
 "nbformat": 4,
 "nbformat_minor": 2
}
