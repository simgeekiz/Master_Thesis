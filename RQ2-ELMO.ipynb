{
 "cells": [
  {
   "cell_type": "markdown",
   "metadata": {},
   "source": [
    "Next: https://github.com/arunarn2/HierarchicalAttentionNetworks/blob/master/HierarchicalAttn.py"
   ]
  },
  {
   "cell_type": "code",
   "execution_count": 1,
   "metadata": {},
   "outputs": [],
   "source": [
    "%load_ext autoreload\n",
    "%autoreload 2"
   ]
  },
  {
   "cell_type": "code",
   "execution_count": 2,
   "metadata": {},
   "outputs": [],
   "source": [
    "import os\n",
    "import numpy as np"
   ]
  },
  {
   "cell_type": "code",
   "execution_count": 3,
   "metadata": {},
   "outputs": [],
   "source": [
    "import tensorflow as tf\n",
    "import tensorflow_hub as hub"
   ]
  },
  {
   "cell_type": "code",
   "execution_count": 4,
   "metadata": {},
   "outputs": [
    {
     "name": "stderr",
     "output_type": "stream",
     "text": [
      "Using TensorFlow backend.\n"
     ]
    }
   ],
   "source": [
    "from keras import backend as K\n",
    "from keras.models import Model, Input, load_model\n",
    "from keras.layers import LSTM, Dense, TimeDistributed, Bidirectional, Lambda, \\\n",
    "                         Activation, CuDNNLSTM, SpatialDropout1D, Dropout, BatchNormalization,\\\n",
    "                         GlobalAveragePooling1D, GlobalMaxPooling1D\n",
    "from keras.optimizers import RMSprop, Adam, Adamax, SGD\n",
    "from keras.callbacks import ReduceLROnPlateau, EarlyStopping\n",
    "from keras.regularizers import l2\n",
    "from keras.layers.merge import add, Concatenate, concatenate\n",
    "from keras.utils import to_categorical\n",
    "from keras.preprocessing.sequence import pad_sequences"
   ]
  },
  {
   "cell_type": "code",
   "execution_count": 5,
   "metadata": {},
   "outputs": [],
   "source": [
    "from sklearn.metrics import classification_report\n",
    "from sklearn.metrics import f1_score as scikit_f1_score"
   ]
  },
  {
   "cell_type": "markdown",
   "metadata": {},
   "source": [
    "#### Custom Functions"
   ]
  },
  {
   "cell_type": "code",
   "execution_count": 6,
   "metadata": {},
   "outputs": [],
   "source": [
    "from src.callbacks import PlotCurves\n",
    "from src.eval_metrics_seq import f1_macro, f1_micro\n",
    "from src.load_data import load_data"
   ]
  },
  {
   "cell_type": "markdown",
   "metadata": {},
   "source": [
    "### Load Data"
   ]
  },
  {
   "cell_type": "code",
   "execution_count": 7,
   "metadata": {},
   "outputs": [],
   "source": [
    "train_data, valid_data, test_data, metadata = load_data()"
   ]
  },
  {
   "cell_type": "markdown",
   "metadata": {},
   "source": [
    "### Prepare data"
   ]
  },
  {
   "cell_type": "code",
   "execution_count": 8,
   "metadata": {},
   "outputs": [],
   "source": [
    "max_len = 58\n",
    "n_tags = 2\n",
    "batch_size = 2"
   ]
  },
  {
   "cell_type": "code",
   "execution_count": 9,
   "metadata": {},
   "outputs": [],
   "source": [
    "def get_input(data_, max_len, n_tags, batch_size, is_test=False, limit=None):\n",
    "    \n",
    "    def normalize(text):\n",
    "        return text.replace('\\n', '').strip()\n",
    "    \n",
    "    # limit data if not an even number when batch_size=2\n",
    "    if not limit:\n",
    "        limit = len(data_) if len(data_)%batch_size == 0 else len(data_)-len(data_)%batch_size\n",
    "\n",
    "    data_ = data_[:limit]\n",
    "    \n",
    "    X = []\n",
    "    for article in data_:\n",
    "        new_seq = []\n",
    "        for i in range(max_len):\n",
    "            try:\n",
    "                new_seq.append(normalize(article['sentences'][i]['sentence']))\n",
    "            except:\n",
    "                new_seq.append(\"ENDPAD\")\n",
    "        X.append(new_seq)\n",
    "    \n",
    "    if not is_test: \n",
    "        y = [[sent['label'] for sent in article['sentences']] for article in data_]\n",
    "        y = pad_sequences(maxlen=max_len, sequences=y, padding=\"post\", value=0)\n",
    "        y = [[to_categorical(lab, num_classes=n_tags) for lab in sent] for sent in y]\n",
    "    else:\n",
    "        y = [sent['label'] for article in data_ for sent in article['sentences']]\n",
    "\n",
    "    return np.array(X), np.array(y)"
   ]
  },
  {
   "cell_type": "code",
   "execution_count": 10,
   "metadata": {},
   "outputs": [],
   "source": [
    "X_tra, y_tra = get_input(train_data, max_len, n_tags, batch_size, False)\n",
    "X_val, y_val = get_input(valid_data, max_len, n_tags, batch_size, False)\n",
    "X_test, y_test = get_input(test_data, max_len, n_tags, batch_size, True)"
   ]
  },
  {
   "cell_type": "code",
   "execution_count": 11,
   "metadata": {},
   "outputs": [
    {
     "data": {
      "text/plain": [
       "((250, 58), (32, 58), (32, 58))"
      ]
     },
     "execution_count": 11,
     "metadata": {},
     "output_type": "execute_result"
    }
   ],
   "source": [
    "X_tra.shape, X_val.shape, X_test.shape"
   ]
  },
  {
   "cell_type": "code",
   "execution_count": 12,
   "metadata": {},
   "outputs": [
    {
     "data": {
      "text/plain": [
       "((250, 58, 2), (32, 58, 2), (441,))"
      ]
     },
     "execution_count": 12,
     "metadata": {},
     "output_type": "execute_result"
    }
   ],
   "source": [
    "y_tra.shape, y_val.shape, y_test.shape"
   ]
  },
  {
   "cell_type": "markdown",
   "metadata": {},
   "source": [
    "### Load ELMo"
   ]
  },
  {
   "cell_type": "code",
   "execution_count": 13,
   "metadata": {},
   "outputs": [],
   "source": [
    "sess = tf.Session()\n",
    "K.set_session(sess)"
   ]
  },
  {
   "cell_type": "code",
   "execution_count": 14,
   "metadata": {},
   "outputs": [],
   "source": [
    "elmo = hub.Module(\"https://tfhub.dev/google/elmo/2\", trainable=True)"
   ]
  },
  {
   "cell_type": "markdown",
   "metadata": {},
   "source": [
    "## Build Model"
   ]
  },
  {
   "cell_type": "code",
   "execution_count": 24,
   "metadata": {},
   "outputs": [],
   "source": [
    "def ELMoEmbeddingStack(x):\n",
    "    \"\"\"\n",
    "    ELMo takes list of sentences (as strings) and returns list of vectors.\n",
    "    Thus when an article is given to elmo(), it returns a vector for each sentence.\n",
    "    \n",
    "    >> elmo(['I saw a cat.', 'There was also a dog.'])\n",
    "    [<1024>, <1024>]\n",
    "    \n",
    "    \"\"\"\n",
    "    embeds = []\n",
    "    for art in tf.unstack(tf.transpose(x, (1, 0))):\n",
    "        embeds.append(elmo(tf.squeeze(tf.cast(art, tf.string)), signature=\"default\", as_dict=True)[\"default\"])\n",
    "    return tf.stack(embeds, 1)"
   ]
  },
  {
   "cell_type": "markdown",
   "metadata": {},
   "source": [
    "###### Network fikirleri\n",
    "- 2 seri bilstm\n",
    "- 3 seri bilstm\n",
    "- 2 residual bilstm (2 kere residual cagirarak)\n",
    "- Son layer CRF\n",
    "- bilstm-dropout kombinasyonlari"
   ]
  },
  {
   "cell_type": "code",
   "execution_count": 16,
   "metadata": {},
   "outputs": [],
   "source": [
    "def build_model_0(max_len, n_tags):\n",
    "    \n",
    "    input_text = Input(shape=(max_len,), dtype=\"string\")\n",
    "    \n",
    "    embedding = Lambda(ELMoEmbeddingStack, output_shape=(None, None, max_len, 1024))(input_text)\n",
    "    \n",
    "    x = Bidirectional(CuDNNLSTM(units=256, return_sequences=True))(embedding)\n",
    "                      \n",
    "    pred = TimeDistributed(Dense(n_tags, activation=\"sigmoid\"))(x)\n",
    "\n",
    "    return Model(inputs=[input_text], outputs=pred)"
   ]
  },
  {
   "cell_type": "code",
   "execution_count": 17,
   "metadata": {},
   "outputs": [],
   "source": [
    "def build_model_1(max_len, n_tags):\n",
    "    \n",
    "    input_text = Input(shape=(max_len,), dtype=\"string\")\n",
    "    \n",
    "    embedding = Lambda(ELMoEmbeddingStack, output_shape=(None, None, max_len, 1024))(input_text)\n",
    "    \n",
    "    x = Bidirectional(CuDNNLSTM(units=128, return_sequences=True))(embedding)\n",
    "\n",
    "    pred = TimeDistributed(Dense(n_tags, activation=\"sigmoid\"))(x)\n",
    "\n",
    "    return Model(inputs=[input_text], outputs=pred)"
   ]
  },
  {
   "cell_type": "code",
   "execution_count": null,
   "metadata": {},
   "outputs": [],
   "source": [
    "def build_model_2(max_len, n_tags):\n",
    "    \n",
    "    input_text = Input(shape=(max_len,), dtype=\"string\")\n",
    "    \n",
    "    embedding = Lambda(ELMoEmbeddingStack, output_shape=(None, None, max_len, 1024))(input_text)\n",
    "    \n",
    "    x = Bidirectional(CuDNNLSTM(units=256, return_sequences=True))(embedding)\n",
    "    x = Dropout(0.2)(x)\n",
    "                      \n",
    "    pred = TimeDistributed(Dense(n_tags, activation=\"sigmoid\"))(x)\n",
    "\n",
    "    return Model(inputs=[input_text], outputs=pred)"
   ]
  },
  {
   "cell_type": "code",
   "execution_count": 18,
   "metadata": {},
   "outputs": [],
   "source": [
    "def build_model_3(max_len, n_tags):\n",
    "    \n",
    "    input_text = Input(shape=(max_len,), dtype=\"string\")\n",
    "    \n",
    "    embedding = Lambda(ELMoEmbeddingStack, output_shape=(None, None, max_len, 1024))(input_text)\n",
    "    \n",
    "    x = Dense(256, kernel_regularizer=l2(0.001))(embedding)\n",
    "    x = Activation('relu')(x)\n",
    "    \n",
    "    x = Bidirectional(LSTM(units=128, return_sequences=True))(x)\n",
    "\n",
    "    pred = TimeDistributed(Dense(n_tags, activation=\"sigmoid\"))(x)\n",
    "\n",
    "    return Model(inputs=[input_text], outputs=pred)"
   ]
  },
  {
   "cell_type": "code",
   "execution_count": 19,
   "metadata": {},
   "outputs": [],
   "source": [
    "def build_model_4(max_len, n_tags):\n",
    "    \n",
    "    input_text = Input(shape=(max_len,), dtype=\"string\")\n",
    "    \n",
    "    embedding = Lambda(ELMoEmbeddingStack, output_shape=(None, None, max_len, 1024))(input_text)\n",
    "    \n",
    "    x = Dense(256, kernel_regularizer=l2(0.001))(embedding)\n",
    "    x = Activation('relu')(x)\n",
    "    \n",
    "    x = Bidirectional(LSTM(units=128, return_sequences=True, recurrent_dropout=0.2, dropout=0.2))(x)\n",
    "\n",
    "    pred = TimeDistributed(Dense(n_tags, activation=\"sigmoid\"))(x)\n",
    "\n",
    "    return Model(inputs=[input_text], outputs=pred)"
   ]
  },
  {
   "cell_type": "code",
   "execution_count": null,
   "metadata": {},
   "outputs": [],
   "source": [
    "def build_model_5(max_len, n_tags):\n",
    "    \n",
    "    input_text = Input(shape=(max_len,), dtype=\"string\")\n",
    "    \n",
    "    embedding = Lambda(ELMoEmbeddingStack, output_shape=(None, None, max_len, 1024))(input_text)\n",
    "    \n",
    "    x = Bidirectional(CuDNNLSTM(units=128, return_sequences=True))(embedding)\n",
    "    x = Bidirectional(CuDNNLSTM(units=128, return_sequences=True))(x)\n",
    "    x = Dropout(0.4)(x)\n",
    "    \n",
    "    pred = TimeDistributed(Dense(n_tags, activation=\"sigmoid\"))(x)\n",
    "\n",
    "    return Model(inputs=[input_text], outputs=pred)\n"
   ]
  },
  {
   "cell_type": "code",
   "execution_count": 21,
   "metadata": {},
   "outputs": [],
   "source": [
    "\n",
    "def build_model_6(max_len, n_tags):\n",
    "    \n",
    "    input_text = Input(shape=(max_len,), dtype=\"string\")\n",
    "    \n",
    "    embedding = Lambda(ELMoEmbeddingStack, output_shape=(None, None, max_len, 1024))(input_text)\n",
    "    \n",
    "    x = Bidirectional(CuDNNLSTM(units=256, return_sequences=True))(embedding)\n",
    "    x = Bidirectional(CuDNNLSTM(units=128, return_sequences=True))(x)\n",
    "    x = Dropout(0.4)(x)\n",
    "    \n",
    "    pred = TimeDistributed(Dense(n_tags, activation=\"sigmoid\"))(x)\n",
    "\n",
    "    return Model(inputs=[input_text], outputs=pred)"
   ]
  },
  {
   "cell_type": "code",
   "execution_count": 22,
   "metadata": {},
   "outputs": [],
   "source": [
    "def build_model_7(max_len, n_tags):\n",
    "    \n",
    "    input_text = Input(shape=(max_len,), dtype=\"string\")\n",
    "    \n",
    "    embedding = Lambda(ELMoEmbeddingStack, output_shape=(None, None, max_len, 1024))(input_text)\n",
    "    \n",
    "    x = Bidirectional(CuDNNLSTM(units=128, return_sequences=True))(embedding)\n",
    "    x = Bidirectional(CuDNNLSTM(units=128, return_sequences=True))(x)\n",
    "    \n",
    "    pred = TimeDistributed(Dense(n_tags, activation=\"sigmoid\"))(x)\n",
    "\n",
    "    return Model(inputs=[input_text], outputs=pred)"
   ]
  },
  {
   "cell_type": "code",
   "execution_count": null,
   "metadata": {},
   "outputs": [],
   "source": [
    "def build_model_8(max_len, n_tags):\n",
    "    \n",
    "    def residual(x):\n",
    "        x_res = x\n",
    "        \n",
    "        x = Bidirectional(CuDNNLSTM(units=128, return_sequences=True))(x)\n",
    "        x = add([x, x_res])\n",
    "        return x\n",
    "    \n",
    "    input_text = Input(shape=(max_len,), dtype=\"string\")\n",
    "    \n",
    "    embedding = Lambda(ELMoEmbeddingStack, output_shape=(None, None, max_len, 1024))(input_text)\n",
    "    \n",
    "    x = Bidirectional(CuDNNLSTM(units=128, return_sequences=True))(embedding)\n",
    "    x = residual(x)\n",
    "\n",
    "    pred = TimeDistributed(Dense(n_tags, activation=\"sigmoid\"))(x)\n",
    "\n",
    "    return Model(inputs=[input_text], outputs=pred)\n",
    "\n",
    "def build_model_9(max_len, n_tags):\n",
    "    \n",
    "    def residual(x):\n",
    "        x_res = x\n",
    "        \n",
    "        x = Bidirectional(CuDNNLSTM(units=256, return_sequences=True))(x)\n",
    "        x = add([x, x_res])\n",
    "        return x\n",
    "    \n",
    "    input_text = Input(shape=(max_len,), dtype=\"string\")\n",
    "    embedding = Lambda(ELMoEmbeddingStack, output_shape=(None, None, max_len, 1024))(input_text)\n",
    "    \n",
    "    x = Bidirectional(CuDNNLSTM(units=256, return_sequences=True))(embedding)\n",
    "    x = residual(x)\n",
    "\n",
    "    pred = TimeDistributed(Dense(n_tags, activation=\"sigmoid\"))(x)\n",
    "\n",
    "    return Model(inputs=[input_text], outputs=pred)\n",
    "\n",
    "def build_model_10(max_len, n_tags):\n",
    "    \n",
    "    def residual(x):\n",
    "        x_res = x\n",
    "        \n",
    "        x = Bidirectional(CuDNNLSTM(units=256, return_sequences=True))(x)\n",
    "        x = add([x, x_res])\n",
    "        return x\n",
    "    \n",
    "    input_text = Input(shape=(max_len,), dtype=\"string\")\n",
    "    embedding = Lambda(ELMoEmbeddingStack, output_shape=(None, None, max_len, 1024))(input_text)\n",
    "    \n",
    "    x = Bidirectional(CuDNNLSTM(units=256, return_sequences=True))(embedding)\n",
    "    x = residual(x)\n",
    "    x = Dropout(0.4)(x)\n",
    "\n",
    "    pred = TimeDistributed(Dense(n_tags, activation=\"sigmoid\"))(x)\n",
    "\n",
    "    return Model(inputs=[input_text], outputs=pred)\n",
    "\n",
    "\n",
    "def build_model_11(max_len, n_tags):\n",
    "    \n",
    "    def residual(x):\n",
    "        x_res = x\n",
    "        \n",
    "        x = Bidirectional(CuDNNLSTM(units=128, return_sequences=True))(x)\n",
    "        x = add([x, x_res])\n",
    "        return x\n",
    "    \n",
    "    input_text = Input(shape=(max_len,), dtype=\"string\")\n",
    "\n",
    "    embedding = Lambda(ELMoEmbeddingStack, output_shape=(None, None, max_len, 1024))(input_text)\n",
    "    \n",
    "    x = Dense(256, kernel_regularizer=l2(0.001))(embedding)\n",
    "    x = Activation('relu')(x)\n",
    "\n",
    "    x = Bidirectional(CuDNNLSTM(units=128, return_sequences=True))(embedding)\n",
    "    x = residual(x)\n",
    "\n",
    "    pred = TimeDistributed(Dense(n_tags, activation=\"sigmoid\"))(x)\n",
    "\n",
    "    return Model(inputs=[input_text], outputs=pred)\n",
    "\n",
    "\n",
    "\n",
    "def build_model_12(max_len, n_tags):\n",
    "    \n",
    "    def residual(x):\n",
    "        x_res = x\n",
    "\n",
    "        x = Bidirectional(CuDNNLSTM(units=256, return_sequences=True))(x)\n",
    "        x = add([x, x_res])\n",
    "        return x\n",
    "\n",
    "    input_text = Input(shape=(max_len,), dtype=\"string\")\n",
    "    embedding = Lambda(ELMoEmbeddingStack, output_shape=(None, None, max_len, 1024))(input_text)\n",
    "    \n",
    "    x = Dense(256, kernel_regularizer=l2(0.001))(embedding)\n",
    "    x = Activation('relu')(x)\n",
    "                                \n",
    "    x = Bidirectional(CuDNNLSTM(units=256, return_sequences=True))(x)\n",
    "    x = residual(x)\n",
    "\n",
    "    pred = TimeDistributed(Dense(n_tags, activation=\"sigmoid\"))(x)\n",
    "\n",
    "    return Model(inputs=[input_text], outputs=pred)\n",
    "\n",
    "def build_model_13(max_len, n_tags):\n",
    "    \n",
    "    def residual(x):\n",
    "        x_res = x\n",
    "        \n",
    "        x = Bidirectional(LSTM(units=128, return_sequences=True,\n",
    "                           recurrent_dropout=0.2, dropout=0.2))(x)\n",
    "\n",
    "        x = add([x, x_res])\n",
    "        return x\n",
    "    \n",
    "    input_text = Input(shape=(max_len,), dtype=\"string\")\n",
    "    embedding = Lambda(ELMoEmbeddingStack, output_shape=(None, None, max_len, 1024))(input_text)\n",
    "    \n",
    "    x = Dense(256, activation='relu')(embedding)\n",
    "    x = Bidirectional(LSTM(units=128, return_sequences=True,\n",
    "                           recurrent_dropout=0.2, dropout=0.2))(x)\n",
    "\n",
    "    x = residual(x)\n",
    "\n",
    "    pred = TimeDistributed(Dense(n_tags, activation=\"sigmoid\"))(x)\n",
    "    \n",
    "    return Model(inputs=[input_text], outputs=pred)"
   ]
  },
  {
   "cell_type": "code",
   "execution_count": 29,
   "metadata": {},
   "outputs": [],
   "source": []
  },
  {
   "cell_type": "raw",
   "metadata": {},
   "source": [
    "#https://www.kaggle.com/tanreinama/simple-lstm-using-identity-parameters-solution/\n",
    "def build_model_6(max_len,n_tags):\n",
    "    # Returns assertion error\n",
    "    input_text = Input(shape=(max_len,), dtype=\"string\")\n",
    "    embedding = Lambda(ELMoEmbeddingStack, output_shape=(None, None, max_len, 1024))(input_text)\n",
    "    \n",
    "    x = SpatialDropout1D(0.3)(embedding)\n",
    "    \n",
    "    x = Bidirectional(CuDNNLSTM(128, return_sequences=True))(x)\n",
    "    x_stab = Bidirectional(CuDNNLSTM(128, return_sequences=True))(x)\n",
    "\n",
    "    gmp = GlobalMaxPooling1D()(x_stab)\n",
    "    gap = GlobalAveragePooling1D()(x_stab)\n",
    "    \n",
    "    x = concatenate([gmp, gap])\n",
    "    \n",
    "    dns = Dense(512, activation='relu')(x)\n",
    "    \n",
    "    x = add([x, dns])\n",
    "    \n",
    "    dns = Dense(512, activation='relu')(x)\n",
    "    \n",
    "    x = add([x, dns])\n",
    "    \n",
    "    pred = TimeDistributed(Dense(n_tags, activation=\"sigmoid\"))(x)\n",
    "    \n",
    "    return model\n",
    "\n",
    "#create model from that link"
   ]
  },
  {
   "cell_type": "code",
   "execution_count": 18,
   "metadata": {},
   "outputs": [],
   "source": [
    "learningrate=0.001\n",
    "optimizer = Adam(lr=learningrate)\n",
    "optimizer_str = 'adam'\n",
    "loss = 'binary_crossentropy'\n",
    "metrics = ['acc', f1_macro, f1_micro]"
   ]
  },
  {
   "cell_type": "code",
   "execution_count": 25,
   "metadata": {},
   "outputs": [
    {
     "name": "stdout",
     "output_type": "stream",
     "text": [
      "Tensor(\"lambda_3/stack:0\", shape=(?, 58, 1024), dtype=float32)\n",
      "_________________________________________________________________\n",
      "Layer (type)                 Output Shape              Param #   \n",
      "=================================================================\n",
      "input_3 (InputLayer)         (None, 58)                0         \n",
      "_________________________________________________________________\n",
      "lambda_3 (Lambda)            (None, None, None, 58, 10 0         \n",
      "_________________________________________________________________\n",
      "bidirectional_2 (Bidirection (None, None, 512)         2625536   \n",
      "_________________________________________________________________\n",
      "time_distributed_2 (TimeDist (None, None, 2)           1026      \n",
      "=================================================================\n",
      "Total params: 2,626,562\n",
      "Trainable params: 2,626,562\n",
      "Non-trainable params: 0\n",
      "_________________________________________________________________\n"
     ]
    }
   ],
   "source": [
    "model = build_model_0(max_len, n_tags)\n",
    "model.summary()\n",
    "\n",
    "model.compile(loss=loss, optimizer=optimizer, metrics=metrics)"
   ]
  },
  {
   "cell_type": "code",
   "execution_count": null,
   "metadata": {},
   "outputs": [],
   "source": [
    "model_name = 'RQ2_elmo_model_0' + \\\n",
    "             '_maxlen_' + str(max_len) + \\\n",
    "             '_' + optimizer_str + \\\n",
    "             '_lr_' + str(learningrate) + \\\n",
    "             '_lrreduction' + \\\n",
    "             '_loss_' + loss\n",
    "\n",
    "model_dir = './Model/' + model_name.split('model')[0] + 'model/' + model_name\n",
    "results_file = os.path.join(model_dir, 'model_results_file.txt')"
   ]
  },
  {
   "cell_type": "markdown",
   "metadata": {},
   "source": [
    "### Train Model"
   ]
  },
  {
   "cell_type": "code",
   "execution_count": null,
   "metadata": {
    "scrolled": false
   },
   "outputs": [],
   "source": [
    "model.fit(X_tra, y_tra, \n",
    "          epochs=50, \n",
    "          batch_size=batch_size, \n",
    "          validation_data=(X_val, y_val), \n",
    "          callbacks=[\n",
    "              PlotCurves(model_name=model_name, model_dir=model_dir, jnote=True),\n",
    "              ReduceLROnPlateau(monitor='val_f1_macro', patience=3, \n",
    "                                factor=0.1, min_lr=0.00001, verbose=1),\n",
    "              EarlyStopping(monitor='val_f1_macro', min_delta=0, patience=5, mode='max')\n",
    "          ])"
   ]
  },
  {
   "cell_type": "markdown",
   "metadata": {},
   "source": [
    "### Load the best Model"
   ]
  },
  {
   "cell_type": "code",
   "execution_count": 34,
   "metadata": {},
   "outputs": [
    {
     "data": {
      "text/plain": [
       "'RQ2_elmo_model_10_maxlen_60_adam_lr_0.0001_lrreduction_loss_binary_crossentropy'"
      ]
     },
     "execution_count": 34,
     "metadata": {},
     "output_type": "execute_result"
    }
   ],
   "source": [
    "model_name"
   ]
  },
  {
   "cell_type": "code",
   "execution_count": 35,
   "metadata": {},
   "outputs": [],
   "source": [
    "best_model = load_model(os.path.join(model_dir, model_name + '_best_f1_macro_model.h5'), \n",
    "                        custom_objects={'elmo':elmo, 'tf':tf, 'f1_macro':f1_macro, 'f1_micro':f1_micro})"
   ]
  },
  {
   "cell_type": "markdown",
   "metadata": {},
   "source": [
    "### Evaluation"
   ]
  },
  {
   "cell_type": "code",
   "execution_count": 45,
   "metadata": {},
   "outputs": [],
   "source": [
    "def get_scores(model, data_, batch_size, max_len, n_tags, results_file, print_out=False):\n",
    "    \n",
    "    def unpad(X, y_preds):\n",
    "        y_unpad = []\n",
    "        for ai, art in enumerate(X):\n",
    "            for si, sent in enumerate(art):\n",
    "                if sent != 'ENDPAD':\n",
    "                    y_unpad.append(y_preds[ai][si])\n",
    "        return y_unpad\n",
    "    \n",
    "    X, y = get_input(data_, max_len, n_tags, batch_size, is_test=True, limit=None)\n",
    "    \n",
    "    y_preds = model.predict(X, batch_size=batch_size)\n",
    "    y_preds = unpad(X, y_preds)\n",
    "    y_preds = np.argmax(y_preds, axis=1)\n",
    "    \n",
    "    clsrpt = classification_report(y, y_preds)\n",
    "    sfm = scikit_f1_score(y, y_preds, average='macro')\n",
    "    \n",
    "    if print_out:\n",
    "        print(clsrpt)\n",
    "        print('\\nScikit_F1_Macro:', sfm)\n",
    "\n",
    "    if results_file:\n",
    "        with open(results_file, 'a') as f:\n",
    "            f.write('\\n' + clsrpt + '\\n' + str(sfm) + '\\n')\n",
    "            \n",
    "    return sfm"
   ]
  },
  {
   "cell_type": "markdown",
   "metadata": {},
   "source": [
    "#### Validation Set"
   ]
  },
  {
   "cell_type": "code",
   "execution_count": 44,
   "metadata": {},
   "outputs": [
    {
     "name": "stdout",
     "output_type": "stream",
     "text": [
      "(32, 60) (399,)\n",
      "(399,)\n",
      "              precision    recall  f1-score   support\n",
      "\n",
      "           0       0.86      0.86      0.86       269\n",
      "           1       0.71      0.71      0.71       130\n",
      "\n",
      "   micro avg       0.81      0.81      0.81       399\n",
      "   macro avg       0.79      0.79      0.79       399\n",
      "weighted avg       0.81      0.81      0.81       399\n",
      "\n",
      "\n",
      "Scikit_F1_Macro: 0.7856390713533571\n"
     ]
    }
   ],
   "source": [
    "with open(results_file, 'w') as f:\n",
    "    f.write('\\n---------------- Validation ----------------\\n')\n",
    "val_f1 = get_scores(best_model, valid_data, batch_size, max_len, n_tags, results_file, print_out=True)"
   ]
  },
  {
   "cell_type": "markdown",
   "metadata": {},
   "source": [
    "#### Test Set"
   ]
  },
  {
   "cell_type": "code",
   "execution_count": 46,
   "metadata": {},
   "outputs": [
    {
     "name": "stdout",
     "output_type": "stream",
     "text": [
      "              precision    recall  f1-score   support\n",
      "\n",
      "           0       0.85      0.94      0.89       325\n",
      "           1       0.76      0.52      0.62       116\n",
      "\n",
      "   micro avg       0.83      0.83      0.83       441\n",
      "   macro avg       0.80      0.73      0.75       441\n",
      "weighted avg       0.82      0.83      0.82       441\n",
      "\n",
      "\n",
      "Scikit_F1_Macro: 0.7531071548538797\n"
     ]
    }
   ],
   "source": [
    "with open(results_file, 'a') as f:\n",
    "    f.write('\\n---------------- Test ----------------\\n')\n",
    "test_f1 = get_scores(best_model, test_data, batch_size, max_len, n_tags, results_file, print_out=True)"
   ]
  },
  {
   "cell_type": "code",
   "execution_count": null,
   "metadata": {},
   "outputs": [],
   "source": []
  },
  {
   "cell_type": "code",
   "execution_count": null,
   "metadata": {},
   "outputs": [],
   "source": []
  }
 ],
 "metadata": {
  "kernelspec": {
   "display_name": "Python 3",
   "language": "python",
   "name": "python3"
  },
  "language_info": {
   "codemirror_mode": {
    "name": "ipython",
    "version": 3
   },
   "file_extension": ".py",
   "mimetype": "text/x-python",
   "name": "python",
   "nbconvert_exporter": "python",
   "pygments_lexer": "ipython3",
   "version": "3.6.8"
  }
 },
 "nbformat": 4,
 "nbformat_minor": 2
}
