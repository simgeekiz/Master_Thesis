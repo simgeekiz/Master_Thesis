{
 "cells": [
  {
   "cell_type": "markdown",
   "metadata": {},
   "source": [
    "Next: https://github.com/arunarn2/HierarchicalAttentionNetworks/blob/master/HierarchicalAttn.py"
   ]
  },
  {
   "cell_type": "code",
   "execution_count": 2,
   "metadata": {},
   "outputs": [],
   "source": [
    "%load_ext autoreload\n",
    "%autoreload 2"
   ]
  },
  {
   "cell_type": "code",
   "execution_count": 2,
   "metadata": {},
   "outputs": [],
   "source": [
    "import os\n",
    "import numpy as np"
   ]
  },
  {
   "cell_type": "code",
   "execution_count": 51,
   "metadata": {},
   "outputs": [],
   "source": [
    "from sklearn.metrics import classification_report\n",
    "from sklearn.metrics import f1_score as scikit_f1_score"
   ]
  },
  {
   "cell_type": "code",
   "execution_count": 5,
   "metadata": {},
   "outputs": [],
   "source": [
    "import tensorflow as tf\n",
    "import tensorflow_hub as hub"
   ]
  },
  {
   "cell_type": "code",
   "execution_count": 6,
   "metadata": {},
   "outputs": [],
   "source": [
    "from keras import backend as K\n",
    "\n",
    "from keras.models import Model, Input\n",
    "from keras.layers.merge import add\n",
    "from keras.layers import LSTM, Embedding, Dense, TimeDistributed, Bidirectional, Lambda\n",
    "from keras.regularizers import l2\n",
    "\n",
    "from keras.callbacks import ReduceLROnPlateau\n",
    "from keras.optimizers import RMSprop, Adam, SGD, Adamax\n",
    "from keras.models import load_model\n",
    "\n",
    "from keras.utils import to_categorical\n",
    "from keras.preprocessing.sequence import pad_sequences"
   ]
  },
  {
   "cell_type": "markdown",
   "metadata": {},
   "source": [
    "#### Custom Functions"
   ]
  },
  {
   "cell_type": "code",
   "execution_count": 7,
   "metadata": {},
   "outputs": [],
   "source": [
    "from src.load_data import load_data\n",
    "from src.callbacks import PlotCurves\n",
    "from src.eval_metrics_seq import f1_macro, f1_micro"
   ]
  },
  {
   "cell_type": "markdown",
   "metadata": {},
   "source": [
    "### Load Data"
   ]
  },
  {
   "cell_type": "code",
   "execution_count": 8,
   "metadata": {},
   "outputs": [],
   "source": [
    "train_data, valid_data, test_data, metadata = load_data()"
   ]
  },
  {
   "cell_type": "markdown",
   "metadata": {},
   "source": [
    "### Prepare data"
   ]
  },
  {
   "cell_type": "code",
   "execution_count": 9,
   "metadata": {},
   "outputs": [],
   "source": [
    "max_len = 60\n",
    "n_tags = 2\n",
    "batch_size = 2"
   ]
  },
  {
   "cell_type": "code",
   "execution_count": 10,
   "metadata": {},
   "outputs": [],
   "source": [
    "def get_input(data_, max_len, n_tags, is_test=False, limit=None):\n",
    "    \n",
    "    X = []\n",
    "    for article in data_:\n",
    "        new_seq = []\n",
    "        for i in range(max_len):\n",
    "            try:\n",
    "                new_seq.append(article['sentences'][i]['sentence'].replace('\\n', '').strip().lower())\n",
    "            except:\n",
    "                new_seq.append(\"ENDPAD\")\n",
    "        X.append(new_seq)\n",
    "    \n",
    "    if not is_test: \n",
    "        y = [[sent['label'] for sent in article['sentences']] for article in data_]\n",
    "        y = pad_sequences(maxlen=max_len, sequences=y, padding=\"post\", value=0)\n",
    "        y = [[to_categorical(lab, num_classes=n_tags) for lab in sent] for sent in y]\n",
    "    else:\n",
    "        y = [sent['label'] for article in data_ for sent in article['sentences']]\n",
    "    \n",
    "    if not limit:\n",
    "        limit = len(X) if len(X)%2 == 0 else len(X)-1\n",
    "\n",
    "    return np.array(X)[:limit], np.array(y)[:limit]"
   ]
  },
  {
   "cell_type": "code",
   "execution_count": 11,
   "metadata": {},
   "outputs": [],
   "source": [
    "X_tra, y_tra = get_input(train_data, max_len, n_tags, False)\n",
    "X_val, y_val = get_input(valid_data, max_len, n_tags, False)\n",
    "X_test, y_test = get_input(test_data, max_len, n_tags, True)"
   ]
  },
  {
   "cell_type": "code",
   "execution_count": 12,
   "metadata": {},
   "outputs": [
    {
     "data": {
      "text/plain": [
       "((251, 60, 2), (32, 60, 2), (441,))"
      ]
     },
     "execution_count": 12,
     "metadata": {},
     "output_type": "execute_result"
    }
   ],
   "source": [
    "X_tra.shape, X_val.shape, X_test.shape"
   ]
  },
  {
   "cell_type": "markdown",
   "metadata": {},
   "source": [
    "### Load ELMo"
   ]
  },
  {
   "cell_type": "code",
   "execution_count": 18,
   "metadata": {},
   "outputs": [],
   "source": [
    "sess = tf.Session()\n",
    "K.set_session(sess)"
   ]
  },
  {
   "cell_type": "code",
   "execution_count": 19,
   "metadata": {},
   "outputs": [],
   "source": [
    "elmo = hub.Module(\"https://tfhub.dev/google/elmo/2\", trainable=True)"
   ]
  },
  {
   "cell_type": "markdown",
   "metadata": {},
   "source": [
    "## Build Model"
   ]
  },
  {
   "cell_type": "code",
   "execution_count": 20,
   "metadata": {},
   "outputs": [],
   "source": [
    "def ELMoEmbedding(x):\n",
    "    embeds = []\n",
    "    for art in tf.unstack(tf.transpose(x, (1, 0))):\n",
    "        embeds.append(elmo(tf.squeeze(tf.cast(art, tf.string)), signature=\"default\", as_dict=True)[\"default\"])\n",
    "    return tf.stack(embeds, 1)"
   ]
  },
  {
   "cell_type": "code",
   "execution_count": 21,
   "metadata": {},
   "outputs": [],
   "source": [
    "def build_lstm_model(max_len, n_tags):\n",
    "    \n",
    "    input_text = Input(shape=(max_len,), dtype=\"string\")\n",
    "    \n",
    "    embedding = Lambda(ELMoEmbedding, output_shape=(None, None, max_len, 1024))(input_text)\n",
    "    \n",
    "    dns = Dense(512, activation='relu')(embedding)\n",
    "    \n",
    "    dns = Dense(256, activation='relu')(dns)\n",
    "    \n",
    "    x = Bidirectional(LSTM(units=128, return_sequences=True,\n",
    "                           recurrent_dropout=0.2, dropout=0.2))(dns)\n",
    "\n",
    "    x_rnn = Bidirectional(LSTM(units=128, return_sequences=True,\n",
    "                               recurrent_dropout=0.2, dropout=0.2))(x)\n",
    "\n",
    "    x = add([x, x_rnn])  # residual connection to the first biLSTM\n",
    "\n",
    "    out = TimeDistributed(Dense(n_tags, activation=\"softmax\"))(x)\n",
    "    \n",
    "    return Model(input_text, outputs=out)"
   ]
  },
  {
   "cell_type": "code",
   "execution_count": 22,
   "metadata": {},
   "outputs": [],
   "source": [
    "learningrate=0.001\n",
    "optimizer = Adam(lr=learningrate)\n",
    "optimizer_str = 'Adam'\n",
    "loss = 'binary_crossentropy'\n",
    "metrics = ['acc', f1_macro, f1_micro]"
   ]
  },
  {
   "cell_type": "code",
   "execution_count": 23,
   "metadata": {},
   "outputs": [],
   "source": [
    "model = build_lstm_model(max_len, n_tags)\n",
    "model.summary()\n",
    "\n",
    "model.compile(loss=loss, optimizer=optimizer, metrics=metrics)"
   ]
  },
  {
   "cell_type": "code",
   "execution_count": 30,
   "metadata": {},
   "outputs": [
    {
     "data": {
      "text/plain": [
       "('RQ2_elmo_model_0_maxlen_60_Adam_lr_0.001_loss_binary_crossentropy',\n",
       " './Model/RQ2_elmo_model/RQ2_elmo_model_0_maxlen_60_Adam_lr_0.001_loss_binary_crossentropy')"
      ]
     },
     "execution_count": 30,
     "metadata": {},
     "output_type": "execute_result"
    }
   ],
   "source": [
    "model_name = 'RQ2_elmo_model_0' + \\\n",
    "             '_maxlen_' + str(max_len) + \\\n",
    "             '_' + optimizer_str + \\\n",
    "             '_lr_' + str(learningrate) + \\\n",
    "             '_loss_' + loss\n",
    "#              '_with_learnin_rate_reduction'\n",
    "\n",
    "model_dir = './Model/' + model_name.split('model')[0] + 'model/' + model_name\n",
    "results_file = os.path.join(model_dir, 'model_results_file.txt')"
   ]
  },
  {
   "cell_type": "markdown",
   "metadata": {},
   "source": [
    "### Train Model"
   ]
  },
  {
   "cell_type": "code",
   "execution_count": 24,
   "metadata": {
    "scrolled": false
   },
   "outputs": [
    {
     "data": {
      "image/png": "[encoded data removed]",
      "text/plain": [
       "<Figure size 720x360 with 1 Axes>"
      ]
     },
     "metadata": {
      "needs_background": "light"
     },
     "output_type": "display_data"
    },
    {
     "data": {
      "text/plain": [
       "<keras.callbacks.History at 0x7f5db47f8be0>"
      ]
     },
     "execution_count": 24,
     "metadata": {},
     "output_type": "execute_result"
    }
   ],
   "source": [
    "## Sequential Model\n",
    "model.fit(X_tra, y_tra, \n",
    "          epochs=20, \n",
    "          batch_size=batch_size, \n",
    "          validation_data=(X_val, y_val),\n",
    "          callbacks=[\n",
    "              PlotCurves(model_name=model_name)\n",
    "          ])"
   ]
  },
  {
   "cell_type": "markdown",
   "metadata": {},
   "source": [
    "### Load the best Model"
   ]
  },
  {
   "cell_type": "code",
   "execution_count": 32,
   "metadata": {},
   "outputs": [
    {
     "data": {
      "text/plain": [
       "'RQ2_elmo_model_0_maxlen_60_Adam_lr_0.001_loss_binary_crossentropy'"
      ]
     },
     "execution_count": 32,
     "metadata": {},
     "output_type": "execute_result"
    }
   ],
   "source": [
    "model_name"
   ]
  },
  {
   "cell_type": "code",
   "execution_count": 33,
   "metadata": {},
   "outputs": [],
   "source": [
    "best_model = load_model(os.path.join(model_dir, model_name + '_best_f1_macro_model.h5'), \n",
    "                        custom_objects={'elmo':elmo, 'tf':tf, 'f1_macro':f1_macro, 'f1_micro':f1_micro})"
   ]
  },
  {
   "cell_type": "markdown",
   "metadata": {},
   "source": [
    "### Evaluation"
   ]
  },
  {
   "cell_type": "code",
   "execution_count": 3,
   "metadata": {},
   "outputs": [],
   "source": [
    "def get_scores(model, data_, batch_size, max_len, n_tags, results_file):\n",
    "    \n",
    "    X, y = get_input(data_, max_len, n_tags, True)\n",
    "    \n",
    "    def unpad(X, y):\n",
    "        y_unpad = []\n",
    "        for ai, art in enumerate(X):\n",
    "            for si, sent in enumerate(art):\n",
    "                if sent != 'ENDPAD':\n",
    "                    y_unpad.append(y[ai][si])\n",
    "        return y_unpad\n",
    "    \n",
    "    y_preds = model.predict(X, batch_size=batch_size)\n",
    "    y_preds = [[np.argmax(y) for y in art] for art in y_preds]\n",
    "    y_preds = unpad(X, y_preds)\n",
    "    \n",
    "    clsrpt = classification_report(y, y_preds)\n",
    "    sfm = scikit_f1_score(y, y_preds, average='macro')\n",
    "    \n",
    "    print(clsrpt)\n",
    "    print('\\nScikit_F1_Macro:', sfm)\n",
    "\n",
    "    if results_file:\n",
    "        with open(results_file, 'a') as f:\n",
    "            f.write('\\n' + clsrpt + '\\n' + str(sfm) + '\\n')"
   ]
  },
  {
   "cell_type": "markdown",
   "metadata": {},
   "source": [
    "#### Validation Set"
   ]
  },
  {
   "cell_type": "code",
   "execution_count": null,
   "metadata": {},
   "outputs": [],
   "source": [
    "with open(results_file, 'w') as f:\n",
    "    f.write('\\n---------------- Validation ----------------\\n')"
   ]
  },
  {
   "cell_type": "code",
   "execution_count": null,
   "metadata": {},
   "outputs": [],
   "source": [
    "get_scores(best_model, valid_data, batch_size, max_len, n_tags, results_file)"
   ]
  },
  {
   "cell_type": "markdown",
   "metadata": {},
   "source": [
    "#### Test Set"
   ]
  },
  {
   "cell_type": "code",
   "execution_count": null,
   "metadata": {},
   "outputs": [],
   "source": [
    "with open(results_file, 'a') as f:\n",
    "    f.write('\\n---------------- Test ----------------\\n')"
   ]
  },
  {
   "cell_type": "code",
   "execution_count": 65,
   "metadata": {},
   "outputs": [
    {
     "name": "stdout",
     "output_type": "stream",
     "text": [
      "              precision    recall  f1-score   support\n",
      "\n",
      "           0       0.89      0.78      0.83       325\n",
      "           1       0.54      0.72      0.62       116\n",
      "\n",
      "   micro avg       0.76      0.76      0.76       441\n",
      "   macro avg       0.71      0.75      0.72       441\n",
      "weighted avg       0.80      0.76      0.77       441\n",
      "\n",
      "\n",
      "Scikit_F1_Macro: 0.7235776277724204\n"
     ]
    }
   ],
   "source": [
    "get_scores(best_model, test_data, batch_size, max_len, n_tags, results_file)"
   ]
  },
  {
   "cell_type": "code",
   "execution_count": null,
   "metadata": {},
   "outputs": [],
   "source": []
  }
 ],
 "metadata": {
  "kernelspec": {
   "display_name": "Python 3",
   "language": "python",
   "name": "python3"
  },
  "language_info": {
   "codemirror_mode": {
    "name": "ipython",
    "version": 3
   },
   "file_extension": ".py",
   "mimetype": "text/x-python",
   "name": "python",
   "nbconvert_exporter": "python",
   "pygments_lexer": "ipython3",
   "version": "3.6.8"
  }
 },
 "nbformat": 4,
 "nbformat_minor": 2
}
