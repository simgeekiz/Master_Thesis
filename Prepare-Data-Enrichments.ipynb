{
 "cells": [
  {
   "cell_type": "code",
   "execution_count": 1,
   "metadata": {},
   "outputs": [],
   "source": [
    "import os\n",
    "import csv\n",
    "import jsonlines\n",
    "from collections import Counter"
   ]
  },
  {
   "cell_type": "code",
   "execution_count": 2,
   "metadata": {},
   "outputs": [],
   "source": [
    "import re\n",
    "import spacy\n",
    "import random\n",
    "import json"
   ]
  },
  {
   "cell_type": "code",
   "execution_count": 8,
   "metadata": {},
   "outputs": [],
   "source": [
    "import pandas as pd\n",
    "import matplotlib.pyplot as plt\n",
    "plt.style.use(\"ggplot\")"
   ]
  },
  {
   "cell_type": "code",
   "execution_count": 7,
   "metadata": {},
   "outputs": [],
   "source": [
    "nlp = spacy.load(\"en_core_web_lg\")"
   ]
  },
  {
   "cell_type": "code",
   "execution_count": 29,
   "metadata": {},
   "outputs": [],
   "source": [
    "project_folder='./../Master_Thesis' \n",
    "shuffle_num=1\n",
    "\n",
    "data_path = os.path.join(project_folder, 'Data/thesis_data_shuffle-' + str(shuffle_num) + '_.json')\n",
    "with open(data_path) as reader:\n",
    "    data_ = json.load(reader)"
   ]
  },
  {
   "cell_type": "code",
   "execution_count": 32,
   "metadata": {},
   "outputs": [],
   "source": [
    "data_['metadata']['enrichments'] = {\n",
    "    'tokenization': {\n",
    "        'tool': 'spaCy',\n",
    "        'version': spacy.__version__,\n",
    "        'key': 'token.text'        \n",
    "    },\n",
    "    'part-of-speech': {\n",
    "        'tool': 'spaCy',\n",
    "        'version': spacy.__version__,\n",
    "        'key': 'token.tag_'\n",
    "    },\n",
    "    'named-entities': {\n",
    "        'tool': 'spaCy',\n",
    "        'version': spacy.__version__,\n",
    "        'key': 'token.ent_type_'\n",
    "    }\n",
    "}"
   ]
  },
  {
   "cell_type": "code",
   "execution_count": 33,
   "metadata": {},
   "outputs": [
    {
     "name": "stdout",
     "output_type": "stream",
     "text": [
      "{'article_nums': {'test': 32, 'train': 251, 'valid': 32},\n",
      " 'enrichments': {'named-entities': {'key': 'token.ent_type_',\n",
      "                                    'tool': 'spaCy',\n",
      "                                    'version': '2.0.12'},\n",
      "                 'part-of-speech': {'key': 'token.tag_',\n",
      "                                    'tool': 'spaCy',\n",
      "                                    'version': '2.0.12'},\n",
      "                 'tokenization': {'key': 'token.text',\n",
      "                                  'tool': 'spaCy',\n",
      "                                  'version': '2.0.12'}},\n",
      " 'label_nums': {'test': {'0': 320, '1': 116, '2': 5},\n",
      "                'train': {'0': 2472, '1': 1053, '2': 57},\n",
      "                'valid': {'0': 268, '1': 130, '2': 1}},\n",
      " 'raw_data_path': '/home/aorus/workspaces/simge/corpus/Sentence/Newindianexpress/20181001-newindianexpress_sentence_classification_adjudicated_20181218.json',\n",
      " 'sentence_nums': {'test': 441, 'train': 3582, 'valid': 399},\n",
      " 'split_ratio': {'test': 10, 'train': 80, 'valid': 10}}\n"
     ]
    }
   ],
   "source": [
    "from pprint import pprint\n",
    "pprint(data_['metadata'])"
   ]
  },
  {
   "cell_type": "code",
   "execution_count": 34,
   "metadata": {},
   "outputs": [],
   "source": [
    "for key, articles in data_['data'].items():\n",
    "    for article in articles:\n",
    "        for sent_ind, sentence in enumerate(article['sentences']):\n",
    "            \n",
    "            doc = nlp(sentence['sentence'])\n",
    "\n",
    "            article['sentences'][sent_ind]['tokens'] = [token.text for token in doc] \n",
    "            article['sentences'][sent_ind]['pos'] = [token.tag_ for token in doc] \n",
    "            article['sentences'][sent_ind]['ner'] = [token.ent_type_ if token.ent_iob_ != 'O' else 'O' \n",
    "                                                     for token in doc]\n",
    "        "
   ]
  },
  {
   "cell_type": "code",
   "execution_count": 35,
   "metadata": {},
   "outputs": [],
   "source": [
    "with open('Data/thesis_data_shuffle-' + str(shuffle_num) + '_enriched_.json', 'w') as outfile:\n",
    "    json.dump(data_, outfile)"
   ]
  },
  {
   "cell_type": "code",
   "execution_count": 39,
   "metadata": {},
   "outputs": [],
   "source": [
    "from wikipedia2vec import Wikipedia2Vec"
   ]
  },
  {
   "cell_type": "code",
   "execution_count": null,
   "metadata": {},
   "outputs": [],
   "source": [
    "MODEL_FILE=''"
   ]
  },
  {
   "cell_type": "code",
   "execution_count": null,
   "metadata": {},
   "outputs": [],
   "source": [
    "wiki2vec = Wikipedia2Vec.load(MODEL_FILE)"
   ]
  },
  {
   "cell_type": "markdown",
   "metadata": {},
   "source": [
    "## CHECK "
   ]
  },
  {
   "cell_type": "code",
   "execution_count": 44,
   "metadata": {},
   "outputs": [],
   "source": [
    "import pickle\n",
    "opt_results_path = 'Scikit-Experiments/Results/results_070919_tfidf_only_mindf_001_maxdf_0_12_numberstoplwords.pickle'"
   ]
  },
  {
   "cell_type": "code",
   "execution_count": 45,
   "metadata": {},
   "outputs": [],
   "source": [
    "with open(opt_results_path, 'rb') as file_:\n",
    "    opt_results = pickle.load(file_)"
   ]
  },
  {
   "cell_type": "code",
   "execution_count": 46,
   "metadata": {},
   "outputs": [
    {
     "data": {
      "text/plain": [
       "dict_keys(['DecisionTree'])"
      ]
     },
     "execution_count": 46,
     "metadata": {},
     "output_type": "execute_result"
    }
   ],
   "source": [
    "opt_results.keys()"
   ]
  },
  {
   "cell_type": "markdown",
   "metadata": {},
   "source": [
    "## Heidel Time"
   ]
  },
  {
   "cell_type": "code",
   "execution_count": null,
   "metadata": {},
   "outputs": [],
   "source": []
  }
 ],
 "metadata": {
  "kernelspec": {
   "display_name": "Python 3",
   "language": "python",
   "name": "python3"
  },
  "language_info": {
   "codemirror_mode": {
    "name": "ipython",
    "version": 3
   },
   "file_extension": ".py",
   "mimetype": "text/x-python",
   "name": "python",
   "nbconvert_exporter": "python",
   "pygments_lexer": "ipython3",
   "version": "3.5.5"
  }
 },
 "nbformat": 4,
 "nbformat_minor": 2
}
